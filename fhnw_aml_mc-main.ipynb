{
  "cells": [
    {
      "cell_type": "markdown",
      "source": "# AML Mini-Challenge - Credit Card Affinity Modelling\n\nDominik Filliger & Noah Leuenberger\n\n\n# Task\n\nThe task can be found [here](https://spaces.technik.fhnw.ch/storage/uploads/spaces/82/exercises/20240218__AML_Trainingscenter_MiniChallenge_Kreditkarten_Aufgabenstellung-1708412668.pdf).\n\n# Setup",
      "metadata": {
        "deepnote_app_block_visible": true,
        "cell_id": "4366d59ebb934e458257bbcf3850ed3a",
        "deepnote_cell_type": "markdown"
      },
      "block_group": "d474c6c491654df981433d9dc4ae30be"
    },
    {
      "cell_type": "code",
      "source": "import pandas as pd\nfrom datetime import datetime\n\nimport numpy as np\n\nimport matplotlib.pyplot as plt\nimport seaborn as sns\nsns.set_theme()",
      "metadata": {
        "ExecuteTime": {
          "end_time": "2024-02-23T10:53:25.191755Z",
          "start_time": "2024-02-23T10:53:25.176326Z"
        },
        "source_hash": null,
        "execution_start": 1708692058098,
        "execution_millis": 1919,
        "deepnote_to_be_reexecuted": false,
        "deepnote_app_block_visible": true,
        "cell_id": "8d7220ad267f4822a669bce481bc2c0f",
        "deepnote_cell_type": "code"
      },
      "outputs": [],
      "outputs_reference": null,
      "execution_count": null,
      "block_group": "452b6df2d063400d82152db5185fef5f"
    },
    {
      "cell_type": "markdown",
      "source": "# Data Import & Preprocessing\n\n## Accounts",
      "metadata": {
        "collapsed": false,
        "deepnote_app_block_visible": true,
        "cell_id": "da801b505a294c35b5f4b6a4561fada5",
        "deepnote_cell_type": "markdown"
      },
      "block_group": "9caae79034d3421f82f2e26b877f4c41"
    },
    {
      "cell_type": "code",
      "source": "accounts = pd.read_csv(\"data/account.csv\", sep=\";\")\naccounts['frequency'] = accounts['frequency'].map({\n    \"POPLATEK MESICNE\": \"MONTHLY ISSUANCE\",\n    \"POPLATEK TYDNE\": \"WEEKLY ISSUANCE\",\n    \"POPLATEK PO OBRATU\": \"ISSUANCE AFTER TRANSACTION\"\n})\naccounts['date'] = pd.to_datetime(accounts['date'], format='%y%m%d')\naccounts['frequency'] = accounts['frequency'].astype('category')\n\naccounts.rename(columns={'date': 'account_created', \n                         'frequency': 'account_frequency'}, inplace=True)\n\ndisplay(accounts.head(), accounts.info())",
      "metadata": {
        "collapsed": false,
        "ExecuteTime": {
          "end_time": "2024-02-23T12:20:16.887117Z",
          "start_time": "2024-02-23T12:20:16.877124Z"
        },
        "source_hash": null,
        "execution_start": 1708692060018,
        "execution_millis": 226,
        "deepnote_to_be_reexecuted": false,
        "deepnote_app_block_visible": true,
        "cell_id": "f2f3f75877994b69b6503bf1cb1a6d5d",
        "deepnote_cell_type": "code"
      },
      "outputs": [
        {
          "name": "stdout",
          "text": "<class 'pandas.core.frame.DataFrame'>\nRangeIndex: 4500 entries, 0 to 4499\nData columns (total 4 columns):\n #   Column             Non-Null Count  Dtype         \n---  ------             --------------  -----         \n 0   account_id         4500 non-null   int64         \n 1   district_id        4500 non-null   int64         \n 2   account_frequency  4500 non-null   category      \n 3   account_created    4500 non-null   datetime64[ns]\ndtypes: category(1), datetime64[ns](1), int64(2)\nmemory usage: 110.1 KB\n",
          "output_type": "stream"
        },
        {
          "data": {
            "application/vnd.deepnote.dataframe.v3+json": {
              "column_count": 4,
              "row_count": 5,
              "columns": [
                {
                  "name": "account_id",
                  "dtype": "int64",
                  "stats": {
                    "unique_count": 5,
                    "nan_count": 0,
                    "min": "576",
                    "max": "3818",
                    "histogram": [
                      {
                        "bin_start": 576,
                        "bin_end": 900.2,
                        "count": 2
                      },
                      {
                        "bin_start": 900.2,
                        "bin_end": 1224.4,
                        "count": 0
                      },
                      {
                        "bin_start": 1224.4,
                        "bin_end": 1548.6,
                        "count": 0
                      },
                      {
                        "bin_start": 1548.6,
                        "bin_end": 1872.8,
                        "count": 0
                      },
                      {
                        "bin_start": 1872.8,
                        "bin_end": 2197,
                        "count": 0
                      },
                      {
                        "bin_start": 2197,
                        "bin_end": 2521.2,
                        "count": 1
                      },
                      {
                        "bin_start": 2521.2,
                        "bin_end": 2845.4,
                        "count": 1
                      },
                      {
                        "bin_start": 2845.4,
                        "bin_end": 3169.6,
                        "count": 0
                      },
                      {
                        "bin_start": 3169.6,
                        "bin_end": 3493.7999999999997,
                        "count": 0
                      },
                      {
                        "bin_start": 3493.7999999999997,
                        "bin_end": 3818,
                        "count": 1
                      }
                    ]
                  }
                },
                {
                  "name": "district_id",
                  "dtype": "int64",
                  "stats": {
                    "unique_count": 4,
                    "nan_count": 0,
                    "min": "16",
                    "max": "74",
                    "histogram": [
                      {
                        "bin_start": 16,
                        "bin_end": 21.8,
                        "count": 1
                      },
                      {
                        "bin_start": 21.8,
                        "bin_end": 27.6,
                        "count": 1
                      },
                      {
                        "bin_start": 27.6,
                        "bin_end": 33.4,
                        "count": 0
                      },
                      {
                        "bin_start": 33.4,
                        "bin_end": 39.2,
                        "count": 0
                      },
                      {
                        "bin_start": 39.2,
                        "bin_end": 45,
                        "count": 0
                      },
                      {
                        "bin_start": 45,
                        "bin_end": 50.8,
                        "count": 0
                      },
                      {
                        "bin_start": 50.8,
                        "bin_end": 56.6,
                        "count": 2
                      },
                      {
                        "bin_start": 56.6,
                        "bin_end": 62.4,
                        "count": 0
                      },
                      {
                        "bin_start": 62.4,
                        "bin_end": 68.19999999999999,
                        "count": 0
                      },
                      {
                        "bin_start": 68.19999999999999,
                        "bin_end": 74,
                        "count": 1
                      }
                    ]
                  }
                },
                {
                  "name": "account_frequency",
                  "dtype": "category",
                  "stats": {
                    "unique_count": 1,
                    "nan_count": 0,
                    "categories": [
                      {
                        "name": "MONTHLY ISSUANCE",
                        "count": 5
                      }
                    ]
                  }
                },
                {
                  "name": "account_created",
                  "dtype": "datetime64[ns]",
                  "stats": {
                    "unique_count": 2,
                    "nan_count": 0,
                    "min": "1993-01-01 00:00:00",
                    "max": "1993-01-02 00:00:00",
                    "histogram": [
                      {
                        "bin_start": 725846400000000000,
                        "bin_end": 725855040000000000,
                        "count": 4
                      },
                      {
                        "bin_start": 725855040000000000,
                        "bin_end": 725863680000000000,
                        "count": 0
                      },
                      {
                        "bin_start": 725863680000000000,
                        "bin_end": 725872320000000000,
                        "count": 0
                      },
                      {
                        "bin_start": 725872320000000000,
                        "bin_end": 725880960000000000,
                        "count": 0
                      },
                      {
                        "bin_start": 725880960000000000,
                        "bin_end": 725889600000000000,
                        "count": 0
                      },
                      {
                        "bin_start": 725889600000000000,
                        "bin_end": 725898240000000000,
                        "count": 0
                      },
                      {
                        "bin_start": 725898240000000000,
                        "bin_end": 725906880000000000,
                        "count": 0
                      },
                      {
                        "bin_start": 725906880000000000,
                        "bin_end": 725915520000000000,
                        "count": 0
                      },
                      {
                        "bin_start": 725915520000000000,
                        "bin_end": 725924160000000000,
                        "count": 0
                      },
                      {
                        "bin_start": 725924160000000000,
                        "bin_end": 725932800000000000,
                        "count": 1
                      }
                    ]
                  }
                },
                {
                  "name": "_deepnote_index_column",
                  "dtype": "int64"
                }
              ],
              "rows": [
                {
                  "account_id": 576,
                  "district_id": 55,
                  "account_frequency": "MONTHLY ISSUANCE",
                  "account_created": "1993-01-01 00:00:00",
                  "_deepnote_index_column": 0
                },
                {
                  "account_id": 3818,
                  "district_id": 74,
                  "account_frequency": "MONTHLY ISSUANCE",
                  "account_created": "1993-01-01 00:00:00",
                  "_deepnote_index_column": 1
                },
                {
                  "account_id": 704,
                  "district_id": 55,
                  "account_frequency": "MONTHLY ISSUANCE",
                  "account_created": "1993-01-01 00:00:00",
                  "_deepnote_index_column": 2
                },
                {
                  "account_id": 2378,
                  "district_id": 16,
                  "account_frequency": "MONTHLY ISSUANCE",
                  "account_created": "1993-01-01 00:00:00",
                  "_deepnote_index_column": 3
                },
                {
                  "account_id": 2632,
                  "district_id": 24,
                  "account_frequency": "MONTHLY ISSUANCE",
                  "account_created": "1993-01-02 00:00:00",
                  "_deepnote_index_column": 4
                }
              ]
            },
            "text/plain": "   account_id  district_id account_frequency account_created\n0         576           55  MONTHLY ISSUANCE      1993-01-01\n1        3818           74  MONTHLY ISSUANCE      1993-01-01\n2         704           55  MONTHLY ISSUANCE      1993-01-01\n3        2378           16  MONTHLY ISSUANCE      1993-01-01\n4        2632           24  MONTHLY ISSUANCE      1993-01-02",
            "text/html": "<div>\n<style scoped>\n    .dataframe tbody tr th:only-of-type {\n        vertical-align: middle;\n    }\n\n    .dataframe tbody tr th {\n        vertical-align: top;\n    }\n\n    .dataframe thead th {\n        text-align: right;\n    }\n</style>\n<table border=\"1\" class=\"dataframe\">\n  <thead>\n    <tr style=\"text-align: right;\">\n      <th></th>\n      <th>account_id</th>\n      <th>district_id</th>\n      <th>account_frequency</th>\n      <th>account_created</th>\n    </tr>\n  </thead>\n  <tbody>\n    <tr>\n      <th>0</th>\n      <td>576</td>\n      <td>55</td>\n      <td>MONTHLY ISSUANCE</td>\n      <td>1993-01-01</td>\n    </tr>\n    <tr>\n      <th>1</th>\n      <td>3818</td>\n      <td>74</td>\n      <td>MONTHLY ISSUANCE</td>\n      <td>1993-01-01</td>\n    </tr>\n    <tr>\n      <th>2</th>\n      <td>704</td>\n      <td>55</td>\n      <td>MONTHLY ISSUANCE</td>\n      <td>1993-01-01</td>\n    </tr>\n    <tr>\n      <th>3</th>\n      <td>2378</td>\n      <td>16</td>\n      <td>MONTHLY ISSUANCE</td>\n      <td>1993-01-01</td>\n    </tr>\n    <tr>\n      <th>4</th>\n      <td>2632</td>\n      <td>24</td>\n      <td>MONTHLY ISSUANCE</td>\n      <td>1993-01-02</td>\n    </tr>\n  </tbody>\n</table>\n</div>"
          },
          "metadata": {},
          "output_type": "display_data"
        },
        {
          "data": {
            "text/plain": "None"
          },
          "metadata": {},
          "output_type": "display_data"
        }
      ],
      "outputs_reference": null,
      "execution_count": null,
      "block_group": "d6806e17a7e64f1cbb9f857513ebccbc"
    },
    {
      "cell_type": "markdown",
      "source": "## Clients",
      "metadata": {
        "collapsed": false,
        "deepnote_app_block_visible": true,
        "cell_id": "08b5fe0377884855a1f5b4fb87253162",
        "deepnote_cell_type": "markdown"
      },
      "block_group": "4d8c065d11fc4a87acf308c139fad228"
    },
    {
      "cell_type": "code",
      "source": "clients = pd.read_csv(\"data/client.csv\", sep=\";\")\n\ndef parse_birth_number(birth_number):\n    birth_number_str = str(birth_number)\n    \n    # Extract year, month, and day from birth number from string\n    # according to https://sorry.vse.cz/~berka/challenge/PAST/index.html\n    year = int(birth_number_str[:2])\n    month = int(birth_number_str[2:4])\n    day = int(birth_number_str[4:6])\n\n    # Determine sex based on month and adjust month for female clients\n    # according to https://sorry.vse.cz/~berka/challenge/PAST/index.html\n    if month > 50:\n        sex = \"Female\"\n        month -= 50\n    else:\n        sex = \"Male\"\n\n    # Validate date\n    assert 1 <= month <= 12\n    assert 1 <= day <= 31\n    assert 0 <= year <= 99\n    \n    if month in [4, 6, 9, 11]:\n        assert 1 <= day <= 30\n    elif month == 2:\n        assert 1 <= day <= 29\n    else:\n        assert 1 <= day <= 31\n\n    # Assuming all dates are in the 1900s\n    birth_date = datetime(1900 + year, month, day)\n    return pd.Series([sex, birth_date])\n\nclients[['client_sex', 'birth_date']] = clients['birth_number'].apply(parse_birth_number)\n\n# Calculate 'age' assuming the reference year is 1999\nclients['age'] = clients['birth_date'].apply(lambda x: 1999 - x.year)\n\n# Drop 'birth_number' column as it is no longer needed\nclients = clients.drop(columns=['birth_number'])\n\nclients.head()",
      "metadata": {
        "collapsed": false,
        "ExecuteTime": {
          "end_time": "2024-02-23T10:53:25.352369Z",
          "start_time": "2024-02-23T10:53:25.205916Z"
        },
        "source_hash": null,
        "execution_start": 1708692060248,
        "execution_millis": 563,
        "deepnote_to_be_reexecuted": false,
        "deepnote_app_block_visible": true,
        "cell_id": "1631f732c36447238e6c5b296cc0edeb",
        "deepnote_cell_type": "code"
      },
      "outputs": [
        {
          "output_type": "execute_result",
          "execution_count": 3,
          "data": {
            "application/vnd.deepnote.dataframe.v3+json": {
              "column_count": 5,
              "row_count": 5,
              "columns": [
                {
                  "name": "client_id",
                  "dtype": "int64",
                  "stats": {
                    "unique_count": 5,
                    "nan_count": 0,
                    "min": "1",
                    "max": "5",
                    "histogram": [
                      {
                        "bin_start": 1,
                        "bin_end": 1.4,
                        "count": 1
                      },
                      {
                        "bin_start": 1.4,
                        "bin_end": 1.8,
                        "count": 0
                      },
                      {
                        "bin_start": 1.8,
                        "bin_end": 2.2,
                        "count": 1
                      },
                      {
                        "bin_start": 2.2,
                        "bin_end": 2.6,
                        "count": 0
                      },
                      {
                        "bin_start": 2.6,
                        "bin_end": 3,
                        "count": 0
                      },
                      {
                        "bin_start": 3,
                        "bin_end": 3.4000000000000004,
                        "count": 1
                      },
                      {
                        "bin_start": 3.4000000000000004,
                        "bin_end": 3.8000000000000003,
                        "count": 0
                      },
                      {
                        "bin_start": 3.8000000000000003,
                        "bin_end": 4.2,
                        "count": 1
                      },
                      {
                        "bin_start": 4.2,
                        "bin_end": 4.6,
                        "count": 0
                      },
                      {
                        "bin_start": 4.6,
                        "bin_end": 5,
                        "count": 1
                      }
                    ]
                  }
                },
                {
                  "name": "district_id",
                  "dtype": "int64",
                  "stats": {
                    "unique_count": 3,
                    "nan_count": 0,
                    "min": "1",
                    "max": "18",
                    "histogram": [
                      {
                        "bin_start": 1,
                        "bin_end": 2.7,
                        "count": 2
                      },
                      {
                        "bin_start": 2.7,
                        "bin_end": 4.4,
                        "count": 0
                      },
                      {
                        "bin_start": 4.4,
                        "bin_end": 6.1,
                        "count": 2
                      },
                      {
                        "bin_start": 6.1,
                        "bin_end": 7.8,
                        "count": 0
                      },
                      {
                        "bin_start": 7.8,
                        "bin_end": 9.5,
                        "count": 0
                      },
                      {
                        "bin_start": 9.5,
                        "bin_end": 11.2,
                        "count": 0
                      },
                      {
                        "bin_start": 11.2,
                        "bin_end": 12.9,
                        "count": 0
                      },
                      {
                        "bin_start": 12.9,
                        "bin_end": 14.6,
                        "count": 0
                      },
                      {
                        "bin_start": 14.6,
                        "bin_end": 16.299999999999997,
                        "count": 0
                      },
                      {
                        "bin_start": 16.299999999999997,
                        "bin_end": 18,
                        "count": 1
                      }
                    ]
                  }
                },
                {
                  "name": "client_sex",
                  "dtype": "object",
                  "stats": {
                    "unique_count": 2,
                    "nan_count": 0,
                    "categories": [
                      {
                        "name": "Female",
                        "count": 3
                      },
                      {
                        "name": "Male",
                        "count": 2
                      }
                    ]
                  }
                },
                {
                  "name": "birth_date",
                  "dtype": "datetime64[ns]",
                  "stats": {
                    "unique_count": 5,
                    "nan_count": 0,
                    "min": "1940-10-09 00:00:00",
                    "max": "1970-12-13 00:00:00",
                    "histogram": [
                      {
                        "bin_start": -922406400000000000,
                        "bin_end": -827176320000000000,
                        "count": 1
                      },
                      {
                        "bin_start": -827176320000000000,
                        "bin_end": -731946240000000000,
                        "count": 1
                      },
                      {
                        "bin_start": -731946240000000000,
                        "bin_end": -636716160000000000,
                        "count": 0
                      },
                      {
                        "bin_start": -636716160000000000,
                        "bin_end": -541486080000000000,
                        "count": 0
                      },
                      {
                        "bin_start": -541486080000000000,
                        "bin_end": -446256000000000000,
                        "count": 0
                      },
                      {
                        "bin_start": -446256000000000000,
                        "bin_end": -351025920000000000,
                        "count": 1
                      },
                      {
                        "bin_start": -351025920000000000,
                        "bin_end": -255795840000000000,
                        "count": 1
                      },
                      {
                        "bin_start": -255795840000000000,
                        "bin_end": -160565760000000000,
                        "count": 0
                      },
                      {
                        "bin_start": -160565760000000000,
                        "bin_end": -65335680000000000,
                        "count": 0
                      },
                      {
                        "bin_start": -65335680000000000,
                        "bin_end": 29894400000000000,
                        "count": 1
                      }
                    ]
                  }
                },
                {
                  "name": "age",
                  "dtype": "int64",
                  "stats": {
                    "unique_count": 5,
                    "nan_count": 0,
                    "min": "29",
                    "max": "59",
                    "histogram": [
                      {
                        "bin_start": 29,
                        "bin_end": 32,
                        "count": 1
                      },
                      {
                        "bin_start": 32,
                        "bin_end": 35,
                        "count": 0
                      },
                      {
                        "bin_start": 35,
                        "bin_end": 38,
                        "count": 0
                      },
                      {
                        "bin_start": 38,
                        "bin_end": 41,
                        "count": 1
                      },
                      {
                        "bin_start": 41,
                        "bin_end": 44,
                        "count": 1
                      },
                      {
                        "bin_start": 44,
                        "bin_end": 47,
                        "count": 0
                      },
                      {
                        "bin_start": 47,
                        "bin_end": 50,
                        "count": 0
                      },
                      {
                        "bin_start": 50,
                        "bin_end": 53,
                        "count": 0
                      },
                      {
                        "bin_start": 53,
                        "bin_end": 56,
                        "count": 1
                      },
                      {
                        "bin_start": 56,
                        "bin_end": 59,
                        "count": 1
                      }
                    ]
                  }
                },
                {
                  "name": "_deepnote_index_column",
                  "dtype": "int64"
                }
              ],
              "rows": [
                {
                  "client_id": 1,
                  "district_id": 18,
                  "client_sex": "Female",
                  "birth_date": "1970-12-13 00:00:00",
                  "age": 29,
                  "_deepnote_index_column": 0
                },
                {
                  "client_id": 2,
                  "district_id": 1,
                  "client_sex": "Male",
                  "birth_date": "1945-02-04 00:00:00",
                  "age": 54,
                  "_deepnote_index_column": 1
                },
                {
                  "client_id": 3,
                  "district_id": 1,
                  "client_sex": "Female",
                  "birth_date": "1940-10-09 00:00:00",
                  "age": 59,
                  "_deepnote_index_column": 2
                },
                {
                  "client_id": 4,
                  "district_id": 5,
                  "client_sex": "Male",
                  "birth_date": "1956-12-01 00:00:00",
                  "age": 43,
                  "_deepnote_index_column": 3
                },
                {
                  "client_id": 5,
                  "district_id": 5,
                  "client_sex": "Female",
                  "birth_date": "1960-07-03 00:00:00",
                  "age": 39,
                  "_deepnote_index_column": 4
                }
              ]
            },
            "text/plain": "   client_id  district_id client_sex birth_date  age\n0          1           18     Female 1970-12-13   29\n1          2            1       Male 1945-02-04   54\n2          3            1     Female 1940-10-09   59\n3          4            5       Male 1956-12-01   43\n4          5            5     Female 1960-07-03   39",
            "text/html": "<div>\n<style scoped>\n    .dataframe tbody tr th:only-of-type {\n        vertical-align: middle;\n    }\n\n    .dataframe tbody tr th {\n        vertical-align: top;\n    }\n\n    .dataframe thead th {\n        text-align: right;\n    }\n</style>\n<table border=\"1\" class=\"dataframe\">\n  <thead>\n    <tr style=\"text-align: right;\">\n      <th></th>\n      <th>client_id</th>\n      <th>district_id</th>\n      <th>client_sex</th>\n      <th>birth_date</th>\n      <th>age</th>\n    </tr>\n  </thead>\n  <tbody>\n    <tr>\n      <th>0</th>\n      <td>1</td>\n      <td>18</td>\n      <td>Female</td>\n      <td>1970-12-13</td>\n      <td>29</td>\n    </tr>\n    <tr>\n      <th>1</th>\n      <td>2</td>\n      <td>1</td>\n      <td>Male</td>\n      <td>1945-02-04</td>\n      <td>54</td>\n    </tr>\n    <tr>\n      <th>2</th>\n      <td>3</td>\n      <td>1</td>\n      <td>Female</td>\n      <td>1940-10-09</td>\n      <td>59</td>\n    </tr>\n    <tr>\n      <th>3</th>\n      <td>4</td>\n      <td>5</td>\n      <td>Male</td>\n      <td>1956-12-01</td>\n      <td>43</td>\n    </tr>\n    <tr>\n      <th>4</th>\n      <td>5</td>\n      <td>5</td>\n      <td>Female</td>\n      <td>1960-07-03</td>\n      <td>39</td>\n    </tr>\n  </tbody>\n</table>\n</div>"
          },
          "metadata": {}
        }
      ],
      "outputs_reference": null,
      "execution_count": null,
      "block_group": "4a97366105df45ff99659c8e668a28ab"
    },
    {
      "cell_type": "markdown",
      "source": "## Dispositions",
      "metadata": {
        "collapsed": false,
        "deepnote_app_block_visible": true,
        "cell_id": "95aa59e5572d497a8f7d9e75096c7f9a",
        "deepnote_cell_type": "markdown"
      },
      "block_group": "a4776d34093a4842a18d4e2fafa5e65d"
    },
    {
      "cell_type": "code",
      "source": "dispositions = pd.read_csv(\"data/disp.csv\", sep=\";\")\ndispositions['type'] = dispositions['type'].astype('category')\n\nbefore = len(dispositions)\ndispositions = dispositions[dispositions['type'] == \"OWNER\"]\nafter = len(dispositions)\nprint(f\"Dropped {before - after} dispositions that are not of type 'OWNER'.\")\n\nif len(dispositions['type'].unique()) == 1:\n    dispositions = dispositions.drop(columns=['type'])\n    \ndispositions.head()",
      "metadata": {
        "collapsed": false,
        "ExecuteTime": {
          "end_time": "2024-02-23T10:53:25.358130Z",
          "start_time": "2024-02-23T10:53:25.348879Z"
        },
        "source_hash": null,
        "execution_start": 1708692060812,
        "execution_millis": 216,
        "deepnote_to_be_reexecuted": false,
        "deepnote_app_block_visible": true,
        "cell_id": "07f209dcbf7545c6a713868f1edf879e",
        "deepnote_cell_type": "code"
      },
      "outputs": [
        {
          "name": "stdout",
          "text": "Dropped 869 dispositions that are not of type 'OWNER'.\n",
          "output_type": "stream"
        },
        {
          "output_type": "execute_result",
          "execution_count": 4,
          "data": {
            "application/vnd.deepnote.dataframe.v3+json": {
              "column_count": 3,
              "row_count": 5,
              "columns": [
                {
                  "name": "disp_id",
                  "dtype": "int64",
                  "stats": {
                    "unique_count": 5,
                    "nan_count": 0,
                    "min": "1",
                    "max": "7",
                    "histogram": [
                      {
                        "bin_start": 1,
                        "bin_end": 1.6,
                        "count": 1
                      },
                      {
                        "bin_start": 1.6,
                        "bin_end": 2.2,
                        "count": 1
                      },
                      {
                        "bin_start": 2.2,
                        "bin_end": 2.8,
                        "count": 0
                      },
                      {
                        "bin_start": 2.8,
                        "bin_end": 3.4,
                        "count": 0
                      },
                      {
                        "bin_start": 3.4,
                        "bin_end": 4,
                        "count": 0
                      },
                      {
                        "bin_start": 4,
                        "bin_end": 4.6,
                        "count": 1
                      },
                      {
                        "bin_start": 4.6,
                        "bin_end": 5.2,
                        "count": 0
                      },
                      {
                        "bin_start": 5.2,
                        "bin_end": 5.8,
                        "count": 0
                      },
                      {
                        "bin_start": 5.8,
                        "bin_end": 6.3999999999999995,
                        "count": 1
                      },
                      {
                        "bin_start": 6.3999999999999995,
                        "bin_end": 7,
                        "count": 1
                      }
                    ]
                  }
                },
                {
                  "name": "client_id",
                  "dtype": "int64",
                  "stats": {
                    "unique_count": 5,
                    "nan_count": 0,
                    "min": "1",
                    "max": "7",
                    "histogram": [
                      {
                        "bin_start": 1,
                        "bin_end": 1.6,
                        "count": 1
                      },
                      {
                        "bin_start": 1.6,
                        "bin_end": 2.2,
                        "count": 1
                      },
                      {
                        "bin_start": 2.2,
                        "bin_end": 2.8,
                        "count": 0
                      },
                      {
                        "bin_start": 2.8,
                        "bin_end": 3.4,
                        "count": 0
                      },
                      {
                        "bin_start": 3.4,
                        "bin_end": 4,
                        "count": 0
                      },
                      {
                        "bin_start": 4,
                        "bin_end": 4.6,
                        "count": 1
                      },
                      {
                        "bin_start": 4.6,
                        "bin_end": 5.2,
                        "count": 0
                      },
                      {
                        "bin_start": 5.2,
                        "bin_end": 5.8,
                        "count": 0
                      },
                      {
                        "bin_start": 5.8,
                        "bin_end": 6.3999999999999995,
                        "count": 1
                      },
                      {
                        "bin_start": 6.3999999999999995,
                        "bin_end": 7,
                        "count": 1
                      }
                    ]
                  }
                },
                {
                  "name": "account_id",
                  "dtype": "int64",
                  "stats": {
                    "unique_count": 5,
                    "nan_count": 0,
                    "min": "1",
                    "max": "5",
                    "histogram": [
                      {
                        "bin_start": 1,
                        "bin_end": 1.4,
                        "count": 1
                      },
                      {
                        "bin_start": 1.4,
                        "bin_end": 1.8,
                        "count": 0
                      },
                      {
                        "bin_start": 1.8,
                        "bin_end": 2.2,
                        "count": 1
                      },
                      {
                        "bin_start": 2.2,
                        "bin_end": 2.6,
                        "count": 0
                      },
                      {
                        "bin_start": 2.6,
                        "bin_end": 3,
                        "count": 0
                      },
                      {
                        "bin_start": 3,
                        "bin_end": 3.4000000000000004,
                        "count": 1
                      },
                      {
                        "bin_start": 3.4000000000000004,
                        "bin_end": 3.8000000000000003,
                        "count": 0
                      },
                      {
                        "bin_start": 3.8000000000000003,
                        "bin_end": 4.2,
                        "count": 1
                      },
                      {
                        "bin_start": 4.2,
                        "bin_end": 4.6,
                        "count": 0
                      },
                      {
                        "bin_start": 4.6,
                        "bin_end": 5,
                        "count": 1
                      }
                    ]
                  }
                },
                {
                  "name": "_deepnote_index_column",
                  "dtype": "int64"
                }
              ],
              "rows": [
                {
                  "disp_id": 1,
                  "client_id": 1,
                  "account_id": 1,
                  "_deepnote_index_column": 0
                },
                {
                  "disp_id": 2,
                  "client_id": 2,
                  "account_id": 2,
                  "_deepnote_index_column": 1
                },
                {
                  "disp_id": 4,
                  "client_id": 4,
                  "account_id": 3,
                  "_deepnote_index_column": 3
                },
                {
                  "disp_id": 6,
                  "client_id": 6,
                  "account_id": 4,
                  "_deepnote_index_column": 5
                },
                {
                  "disp_id": 7,
                  "client_id": 7,
                  "account_id": 5,
                  "_deepnote_index_column": 6
                }
              ]
            },
            "text/plain": "   disp_id  client_id  account_id\n0        1          1           1\n1        2          2           2\n3        4          4           3\n5        6          6           4\n6        7          7           5",
            "text/html": "<div>\n<style scoped>\n    .dataframe tbody tr th:only-of-type {\n        vertical-align: middle;\n    }\n\n    .dataframe tbody tr th {\n        vertical-align: top;\n    }\n\n    .dataframe thead th {\n        text-align: right;\n    }\n</style>\n<table border=\"1\" class=\"dataframe\">\n  <thead>\n    <tr style=\"text-align: right;\">\n      <th></th>\n      <th>disp_id</th>\n      <th>client_id</th>\n      <th>account_id</th>\n    </tr>\n  </thead>\n  <tbody>\n    <tr>\n      <th>0</th>\n      <td>1</td>\n      <td>1</td>\n      <td>1</td>\n    </tr>\n    <tr>\n      <th>1</th>\n      <td>2</td>\n      <td>2</td>\n      <td>2</td>\n    </tr>\n    <tr>\n      <th>3</th>\n      <td>4</td>\n      <td>4</td>\n      <td>3</td>\n    </tr>\n    <tr>\n      <th>5</th>\n      <td>6</td>\n      <td>6</td>\n      <td>4</td>\n    </tr>\n    <tr>\n      <th>6</th>\n      <td>7</td>\n      <td>7</td>\n      <td>5</td>\n    </tr>\n  </tbody>\n</table>\n</div>"
          },
          "metadata": {}
        }
      ],
      "outputs_reference": null,
      "execution_count": null,
      "block_group": "ef1adbef649d427da9c26f23ca9ac0d5"
    },
    {
      "cell_type": "markdown",
      "source": "## Orders",
      "metadata": {
        "collapsed": false,
        "deepnote_app_block_visible": true,
        "cell_id": "35f4e99c49514d57964102d8b9de0971",
        "deepnote_cell_type": "markdown"
      },
      "block_group": "77c0539eae844cbb84819a94ce4f02fc"
    },
    {
      "cell_type": "code",
      "source": "orders = pd.read_csv(\"data/order.csv\", sep=\";\")\n\n# Translated from Czech to English\n# according to https://sorry.vse.cz/~berka/challenge/PAST/index.html\norders['k_symbol'] = orders['k_symbol'].map({\n    \"POJISTNE\": \"Insurance_Payment\",\n    \"SIPO\": \"Household\",\n    \"LEASING\": \"Leasing\",\n    \"UVER\": \"Loan_Payment\"\n})\n\norders['k_symbol'] = orders['k_symbol'].astype('category')\norders['bank_to'] = orders['bank_to'].astype('category')\n\norders = orders.rename(columns={'amount': 'debited_amount'})\n\norders.head()",
      "metadata": {
        "collapsed": false,
        "ExecuteTime": {
          "end_time": "2024-02-23T10:53:25.369756Z",
          "start_time": "2024-02-23T10:53:25.357250Z"
        },
        "source_hash": null,
        "execution_start": 1708692061034,
        "execution_millis": 205,
        "deepnote_to_be_reexecuted": false,
        "deepnote_app_block_visible": true,
        "cell_id": "cf3840f41bf640889cc4b3b1e72a371a",
        "deepnote_cell_type": "code"
      },
      "outputs": [
        {
          "output_type": "execute_result",
          "execution_count": 5,
          "data": {
            "application/vnd.deepnote.dataframe.v3+json": {
              "column_count": 6,
              "row_count": 5,
              "columns": [
                {
                  "name": "order_id",
                  "dtype": "int64",
                  "stats": {
                    "unique_count": 5,
                    "nan_count": 0,
                    "min": "29401",
                    "max": "29405",
                    "histogram": [
                      {
                        "bin_start": 29401,
                        "bin_end": 29401.4,
                        "count": 1
                      },
                      {
                        "bin_start": 29401.4,
                        "bin_end": 29401.8,
                        "count": 0
                      },
                      {
                        "bin_start": 29401.8,
                        "bin_end": 29402.2,
                        "count": 1
                      },
                      {
                        "bin_start": 29402.2,
                        "bin_end": 29402.6,
                        "count": 0
                      },
                      {
                        "bin_start": 29402.6,
                        "bin_end": 29403,
                        "count": 0
                      },
                      {
                        "bin_start": 29403,
                        "bin_end": 29403.4,
                        "count": 1
                      },
                      {
                        "bin_start": 29403.4,
                        "bin_end": 29403.8,
                        "count": 0
                      },
                      {
                        "bin_start": 29403.8,
                        "bin_end": 29404.2,
                        "count": 1
                      },
                      {
                        "bin_start": 29404.2,
                        "bin_end": 29404.6,
                        "count": 0
                      },
                      {
                        "bin_start": 29404.6,
                        "bin_end": 29405,
                        "count": 1
                      }
                    ]
                  }
                },
                {
                  "name": "account_id",
                  "dtype": "int64",
                  "stats": {
                    "unique_count": 3,
                    "nan_count": 0,
                    "min": "1",
                    "max": "3",
                    "histogram": [
                      {
                        "bin_start": 1,
                        "bin_end": 1.2,
                        "count": 1
                      },
                      {
                        "bin_start": 1.2,
                        "bin_end": 1.4,
                        "count": 0
                      },
                      {
                        "bin_start": 1.4,
                        "bin_end": 1.6,
                        "count": 0
                      },
                      {
                        "bin_start": 1.6,
                        "bin_end": 1.8,
                        "count": 0
                      },
                      {
                        "bin_start": 1.8,
                        "bin_end": 2,
                        "count": 0
                      },
                      {
                        "bin_start": 2,
                        "bin_end": 2.2,
                        "count": 2
                      },
                      {
                        "bin_start": 2.2,
                        "bin_end": 2.4000000000000004,
                        "count": 0
                      },
                      {
                        "bin_start": 2.4000000000000004,
                        "bin_end": 2.6,
                        "count": 0
                      },
                      {
                        "bin_start": 2.6,
                        "bin_end": 2.8,
                        "count": 0
                      },
                      {
                        "bin_start": 2.8,
                        "bin_end": 3,
                        "count": 2
                      }
                    ]
                  }
                },
                {
                  "name": "bank_to",
                  "dtype": "category",
                  "stats": {
                    "unique_count": 5,
                    "nan_count": 0,
                    "categories": [
                      {
                        "name": "YZ",
                        "count": 1
                      },
                      {
                        "name": "ST",
                        "count": 1
                      },
                      {
                        "name": "3 others",
                        "count": 3
                      }
                    ]
                  }
                },
                {
                  "name": "account_to",
                  "dtype": "int64",
                  "stats": {
                    "unique_count": 5,
                    "nan_count": 0,
                    "min": "13943797",
                    "max": "89597016",
                    "histogram": [
                      {
                        "bin_start": 13943797,
                        "bin_end": 21509118.9,
                        "count": 1
                      },
                      {
                        "bin_start": 21509118.9,
                        "bin_end": 29074440.8,
                        "count": 1
                      },
                      {
                        "bin_start": 29074440.8,
                        "bin_end": 36639762.7,
                        "count": 0
                      },
                      {
                        "bin_start": 36639762.7,
                        "bin_end": 44205084.6,
                        "count": 0
                      },
                      {
                        "bin_start": 44205084.6,
                        "bin_end": 51770406.5,
                        "count": 0
                      },
                      {
                        "bin_start": 51770406.5,
                        "bin_end": 59335728.400000006,
                        "count": 0
                      },
                      {
                        "bin_start": 59335728.400000006,
                        "bin_end": 66901050.300000004,
                        "count": 0
                      },
                      {
                        "bin_start": 66901050.300000004,
                        "bin_end": 74466372.2,
                        "count": 0
                      },
                      {
                        "bin_start": 74466372.2,
                        "bin_end": 82031694.10000001,
                        "count": 0
                      },
                      {
                        "bin_start": 82031694.10000001,
                        "bin_end": 89597016,
                        "count": 3
                      }
                    ]
                  }
                },
                {
                  "name": "debited_amount",
                  "dtype": "float64",
                  "stats": {
                    "unique_count": 5,
                    "nan_count": 0,
                    "min": "327.0",
                    "max": "7266.0",
                    "histogram": [
                      {
                        "bin_start": 327,
                        "bin_end": 1020.9,
                        "count": 1
                      },
                      {
                        "bin_start": 1020.9,
                        "bin_end": 1714.8,
                        "count": 1
                      },
                      {
                        "bin_start": 1714.8,
                        "bin_end": 2408.7,
                        "count": 0
                      },
                      {
                        "bin_start": 2408.7,
                        "bin_end": 3102.6,
                        "count": 1
                      },
                      {
                        "bin_start": 3102.6,
                        "bin_end": 3796.5,
                        "count": 1
                      },
                      {
                        "bin_start": 3796.5,
                        "bin_end": 4490.4,
                        "count": 0
                      },
                      {
                        "bin_start": 4490.4,
                        "bin_end": 5184.3,
                        "count": 0
                      },
                      {
                        "bin_start": 5184.3,
                        "bin_end": 5878.2,
                        "count": 0
                      },
                      {
                        "bin_start": 5878.2,
                        "bin_end": 6572.099999999999,
                        "count": 0
                      },
                      {
                        "bin_start": 6572.099999999999,
                        "bin_end": 7266,
                        "count": 1
                      }
                    ]
                  }
                },
                {
                  "name": "k_symbol",
                  "dtype": "category",
                  "stats": {
                    "unique_count": 2,
                    "nan_count": 1,
                    "categories": [
                      {
                        "name": "Household",
                        "count": 3
                      },
                      {
                        "name": "Loan_Payment",
                        "count": 1
                      },
                      {
                        "name": "Missing",
                        "count": 1
                      }
                    ]
                  }
                },
                {
                  "name": "_deepnote_index_column",
                  "dtype": "int64"
                }
              ],
              "rows": [
                {
                  "order_id": 29401,
                  "account_id": 1,
                  "bank_to": "YZ",
                  "account_to": 87144583,
                  "debited_amount": 2452,
                  "k_symbol": "Household",
                  "_deepnote_index_column": 0
                },
                {
                  "order_id": 29402,
                  "account_id": 2,
                  "bank_to": "ST",
                  "account_to": 89597016,
                  "debited_amount": 3372.7,
                  "k_symbol": "Loan_Payment",
                  "_deepnote_index_column": 1
                },
                {
                  "order_id": 29403,
                  "account_id": 2,
                  "bank_to": "QR",
                  "account_to": 13943797,
                  "debited_amount": 7266,
                  "k_symbol": "Household",
                  "_deepnote_index_column": 2
                },
                {
                  "order_id": 29404,
                  "account_id": 3,
                  "bank_to": "WX",
                  "account_to": 83084338,
                  "debited_amount": 1135,
                  "k_symbol": "Household",
                  "_deepnote_index_column": 3
                },
                {
                  "order_id": 29405,
                  "account_id": 3,
                  "bank_to": "CD",
                  "account_to": 24485939,
                  "debited_amount": 327,
                  "k_symbol": "nan",
                  "_deepnote_index_column": 4
                }
              ]
            },
            "text/plain": "   order_id  account_id bank_to  account_to  debited_amount      k_symbol\n0     29401           1      YZ    87144583          2452.0     Household\n1     29402           2      ST    89597016          3372.7  Loan_Payment\n2     29403           2      QR    13943797          7266.0     Household\n3     29404           3      WX    83084338          1135.0     Household\n4     29405           3      CD    24485939           327.0           NaN",
            "text/html": "<div>\n<style scoped>\n    .dataframe tbody tr th:only-of-type {\n        vertical-align: middle;\n    }\n\n    .dataframe tbody tr th {\n        vertical-align: top;\n    }\n\n    .dataframe thead th {\n        text-align: right;\n    }\n</style>\n<table border=\"1\" class=\"dataframe\">\n  <thead>\n    <tr style=\"text-align: right;\">\n      <th></th>\n      <th>order_id</th>\n      <th>account_id</th>\n      <th>bank_to</th>\n      <th>account_to</th>\n      <th>debited_amount</th>\n      <th>k_symbol</th>\n    </tr>\n  </thead>\n  <tbody>\n    <tr>\n      <th>0</th>\n      <td>29401</td>\n      <td>1</td>\n      <td>YZ</td>\n      <td>87144583</td>\n      <td>2452.0</td>\n      <td>Household</td>\n    </tr>\n    <tr>\n      <th>1</th>\n      <td>29402</td>\n      <td>2</td>\n      <td>ST</td>\n      <td>89597016</td>\n      <td>3372.7</td>\n      <td>Loan_Payment</td>\n    </tr>\n    <tr>\n      <th>2</th>\n      <td>29403</td>\n      <td>2</td>\n      <td>QR</td>\n      <td>13943797</td>\n      <td>7266.0</td>\n      <td>Household</td>\n    </tr>\n    <tr>\n      <th>3</th>\n      <td>29404</td>\n      <td>3</td>\n      <td>WX</td>\n      <td>83084338</td>\n      <td>1135.0</td>\n      <td>Household</td>\n    </tr>\n    <tr>\n      <th>4</th>\n      <td>29405</td>\n      <td>3</td>\n      <td>CD</td>\n      <td>24485939</td>\n      <td>327.0</td>\n      <td>NaN</td>\n    </tr>\n  </tbody>\n</table>\n</div>"
          },
          "metadata": {}
        }
      ],
      "outputs_reference": null,
      "execution_count": null,
      "block_group": "b750a4beb1d345b18a88eb7aff3548fb"
    },
    {
      "cell_type": "markdown",
      "source": "## Transactions",
      "metadata": {
        "collapsed": false,
        "deepnote_app_block_visible": true,
        "cell_id": "ff3b67ccf93a4423912430854458476a",
        "deepnote_cell_type": "markdown"
      },
      "block_group": "0a0d5efe640543f6b9acaa696298c8b5"
    },
    {
      "cell_type": "code",
      "source": "# column 8 is the 'bank' column which contains NaNs and must be read as string\ntransactions = pd.read_csv(\"data/trans.csv\", sep=\";\", dtype={8: str})\n\ntransactions['date'] = pd.to_datetime(transactions['date'], format='%y%m%d')\n\n# Translated type from Czech to English\n# according to https://sorry.vse.cz/~berka/challenge/PAST/index.html\ntransactions['type'] = transactions['type'].map({\n    \"VYBER\": \"VYDAJ\",\n    \"PRIJEM\": \"Credit\",\n    \"VYDAJ\": \"Withdrawal\"\n})\n\n# Translated operations from Czech to English\n# according to https://sorry.vse.cz/~berka/challenge/PAST/index.html\ntransactions['operation'] = transactions['operation'].map({\n    \"VYBER KARTOU\": \"Credit Card Withdrawal\",\n    \"VKLAD\": \"Credit in Cash\",\n    \"PREVOD Z UCTU\": \"Collection from Another Bank\",\n    \"VYBER\": \"Withdrawal in Cash\",\n    \"PREVOD NA UCET\": \"Remittance to Another Bank\"\n})\n\n# Translated characteristics from Czech to English\n# according to https://sorry.vse.cz/~berka/challenge/PAST/index.html\ntransactions['k_symbol'] = transactions['k_symbol'].map({\n    \"POJISTNE\": \"Insurance Payment\",\n    \"SLUZBY\": \"Payment on Statement\",\n    \"UROK\": \"Interest Credited\",\n    \"SANKC. UROK\": \"Sanction Interest\",\n    \"SIPO\": \"Household\",\n    \"DUCHOD\": \"Old-age Pension\",\n    \"UVER\": \"Loan Payment\"\n})\n\ntransactions['bank'] = transactions['bank'].replace('', np.nan)\n\ntransactions['amount'] = np.where(transactions['type'] == \"Credit\", transactions['amount'], -transactions['amount'])\ntransactions.rename(columns={'type': 'transaction_type'}, inplace=True)\n\ntransactions.head(500)",
      "metadata": {
        "collapsed": false,
        "ExecuteTime": {
          "end_time": "2024-02-23T10:53:26.139445Z",
          "start_time": "2024-02-23T10:53:25.367823Z"
        },
        "source_hash": null,
        "execution_start": 1708692061240,
        "execution_millis": 1631,
        "deepnote_to_be_reexecuted": false,
        "deepnote_app_block_visible": true,
        "cell_id": "82fccbdb6e864bffb187217ea812845e",
        "deepnote_cell_type": "code"
      },
      "outputs": [
        {
          "output_type": "execute_result",
          "execution_count": 6,
          "data": {
            "application/vnd.deepnote.dataframe.v3+json": {
              "column_count": 10,
              "row_count": 500,
              "columns": [
                {
                  "name": "trans_id",
                  "dtype": "int64",
                  "stats": {
                    "unique_count": 500,
                    "nan_count": 0,
                    "min": "276",
                    "max": "3673340",
                    "histogram": [
                      {
                        "bin_start": 276,
                        "bin_end": 367582.4,
                        "count": 118
                      },
                      {
                        "bin_start": 367582.4,
                        "bin_end": 734888.8,
                        "count": 146
                      },
                      {
                        "bin_start": 734888.8,
                        "bin_end": 1102195.2000000002,
                        "count": 82
                      },
                      {
                        "bin_start": 1102195.2000000002,
                        "bin_end": 1469501.6,
                        "count": 36
                      },
                      {
                        "bin_start": 1469501.6,
                        "bin_end": 1836808,
                        "count": 15
                      },
                      {
                        "bin_start": 1836808,
                        "bin_end": 2204114.4000000004,
                        "count": 4
                      },
                      {
                        "bin_start": 2204114.4000000004,
                        "bin_end": 2571420.8000000003,
                        "count": 5
                      },
                      {
                        "bin_start": 2571420.8000000003,
                        "bin_end": 2938727.2,
                        "count": 10
                      },
                      {
                        "bin_start": 2938727.2,
                        "bin_end": 3306033.6,
                        "count": 3
                      },
                      {
                        "bin_start": 3306033.6,
                        "bin_end": 3673340,
                        "count": 81
                      }
                    ]
                  }
                },
                {
                  "name": "account_id",
                  "dtype": "int64",
                  "stats": {
                    "unique_count": 194,
                    "nan_count": 0,
                    "min": "2",
                    "max": "11295",
                    "histogram": [
                      {
                        "bin_start": 2,
                        "bin_end": 1131.3,
                        "count": 127
                      },
                      {
                        "bin_start": 1131.3,
                        "bin_end": 2260.6,
                        "count": 137
                      },
                      {
                        "bin_start": 2260.6,
                        "bin_end": 3389.8999999999996,
                        "count": 106
                      },
                      {
                        "bin_start": 3389.8999999999996,
                        "bin_end": 4519.2,
                        "count": 74
                      },
                      {
                        "bin_start": 4519.2,
                        "bin_end": 5648.5,
                        "count": 13
                      },
                      {
                        "bin_start": 5648.5,
                        "bin_end": 6777.799999999999,
                        "count": 11
                      },
                      {
                        "bin_start": 6777.799999999999,
                        "bin_end": 7907.099999999999,
                        "count": 4
                      },
                      {
                        "bin_start": 7907.099999999999,
                        "bin_end": 9036.4,
                        "count": 1
                      },
                      {
                        "bin_start": 9036.4,
                        "bin_end": 10165.699999999999,
                        "count": 15
                      },
                      {
                        "bin_start": 10165.699999999999,
                        "bin_end": 11295,
                        "count": 12
                      }
                    ]
                  }
                },
                {
                  "name": "date",
                  "dtype": "datetime64[ns]",
                  "stats": {
                    "unique_count": 59,
                    "nan_count": 0,
                    "min": "1993-01-01 00:00:00",
                    "max": "1993-02-28 00:00:00",
                    "histogram": [
                      {
                        "bin_start": 725846400000000000,
                        "bin_end": 726347520000000000,
                        "count": 21
                      },
                      {
                        "bin_start": 726347520000000000,
                        "bin_end": 726848640000000000,
                        "count": 40
                      },
                      {
                        "bin_start": 726848640000000000,
                        "bin_end": 727349760000000000,
                        "count": 24
                      },
                      {
                        "bin_start": 727349760000000000,
                        "bin_end": 727850880000000000,
                        "count": 25
                      },
                      {
                        "bin_start": 727850880000000000,
                        "bin_end": 728352000000000000,
                        "count": 23
                      },
                      {
                        "bin_start": 728352000000000000,
                        "bin_end": 728853120000000000,
                        "count": 67
                      },
                      {
                        "bin_start": 728853120000000000,
                        "bin_end": 729354240000000000,
                        "count": 100
                      },
                      {
                        "bin_start": 729354240000000000,
                        "bin_end": 729855360000000000,
                        "count": 76
                      },
                      {
                        "bin_start": 729855360000000000,
                        "bin_end": 730356480000000000,
                        "count": 42
                      },
                      {
                        "bin_start": 730356480000000000,
                        "bin_end": 730857600000000000,
                        "count": 82
                      }
                    ]
                  }
                },
                {
                  "name": "transaction_type",
                  "dtype": "object",
                  "stats": {
                    "unique_count": 2,
                    "nan_count": 0,
                    "categories": [
                      {
                        "name": "Credit",
                        "count": 476
                      },
                      {
                        "name": "Withdrawal",
                        "count": 24
                      }
                    ]
                  }
                },
                {
                  "name": "operation",
                  "dtype": "object",
                  "stats": {
                    "unique_count": 4,
                    "nan_count": 74,
                    "categories": [
                      {
                        "name": "Credit in Cash",
                        "count": 341
                      },
                      {
                        "name": "3 others",
                        "count": 85
                      },
                      {
                        "name": "Missing",
                        "count": 74
                      }
                    ]
                  }
                },
                {
                  "name": "amount",
                  "dtype": "float64",
                  "stats": {
                    "unique_count": 277,
                    "nan_count": 0,
                    "min": "-62100.0",
                    "max": "49752.0",
                    "histogram": [
                      {
                        "bin_start": -62100,
                        "bin_end": -50914.8,
                        "count": 1
                      },
                      {
                        "bin_start": -50914.8,
                        "bin_end": -39729.6,
                        "count": 0
                      },
                      {
                        "bin_start": -39729.6,
                        "bin_end": -28544.399999999994,
                        "count": 3
                      },
                      {
                        "bin_start": -28544.399999999994,
                        "bin_end": -17359.199999999997,
                        "count": 2
                      },
                      {
                        "bin_start": -17359.199999999997,
                        "bin_end": -6174,
                        "count": 7
                      },
                      {
                        "bin_start": -6174,
                        "bin_end": 5011.200000000012,
                        "count": 326
                      },
                      {
                        "bin_start": 5011.200000000012,
                        "bin_end": 16196.400000000009,
                        "count": 99
                      },
                      {
                        "bin_start": 16196.400000000009,
                        "bin_end": 27381.600000000006,
                        "count": 35
                      },
                      {
                        "bin_start": 27381.600000000006,
                        "bin_end": 38566.8,
                        "count": 13
                      },
                      {
                        "bin_start": 38566.8,
                        "bin_end": 49752,
                        "count": 14
                      }
                    ]
                  }
                },
                {
                  "name": "balance",
                  "dtype": "float64",
                  "stats": {
                    "unique_count": 316,
                    "nan_count": 0,
                    "min": "200.0",
                    "max": "111071.7",
                    "histogram": [
                      {
                        "bin_start": 200,
                        "bin_end": 11287.17,
                        "count": 281
                      },
                      {
                        "bin_start": 11287.17,
                        "bin_end": 22374.34,
                        "count": 103
                      },
                      {
                        "bin_start": 22374.34,
                        "bin_end": 33461.51,
                        "count": 58
                      },
                      {
                        "bin_start": 33461.51,
                        "bin_end": 44548.68,
                        "count": 22
                      },
                      {
                        "bin_start": 44548.68,
                        "bin_end": 55635.85,
                        "count": 17
                      },
                      {
                        "bin_start": 55635.85,
                        "bin_end": 66723.02,
                        "count": 4
                      },
                      {
                        "bin_start": 66723.02,
                        "bin_end": 77810.19,
                        "count": 5
                      },
                      {
                        "bin_start": 77810.19,
                        "bin_end": 88897.36,
                        "count": 4
                      },
                      {
                        "bin_start": 88897.36,
                        "bin_end": 99984.53,
                        "count": 3
                      },
                      {
                        "bin_start": 99984.53,
                        "bin_end": 111071.7,
                        "count": 3
                      }
                    ]
                  }
                },
                {
                  "name": "k_symbol",
                  "dtype": "object",
                  "stats": {
                    "unique_count": 4,
                    "nan_count": 390,
                    "categories": [
                      {
                        "name": "Interest Credited",
                        "count": 74
                      },
                      {
                        "name": "3 others",
                        "count": 36
                      },
                      {
                        "name": "Missing",
                        "count": 390
                      }
                    ]
                  }
                },
                {
                  "name": "bank",
                  "dtype": "object",
                  "stats": {
                    "unique_count": 13,
                    "nan_count": 438,
                    "categories": [
                      {
                        "name": "UV",
                        "count": 10
                      },
                      {
                        "name": "12 others",
                        "count": 52
                      },
                      {
                        "name": "Missing",
                        "count": 438
                      }
                    ]
                  }
                },
                {
                  "name": "account",
                  "dtype": "float64",
                  "stats": {
                    "unique_count": 50,
                    "nan_count": 438,
                    "min": "1222903.0",
                    "max": "95670407.0",
                    "histogram": [
                      {
                        "bin_start": 1222903,
                        "bin_end": 10667653.4,
                        "count": 8
                      },
                      {
                        "bin_start": 10667653.4,
                        "bin_end": 20112403.8,
                        "count": 9
                      },
                      {
                        "bin_start": 20112403.8,
                        "bin_end": 29557154.200000003,
                        "count": 4
                      },
                      {
                        "bin_start": 29557154.200000003,
                        "bin_end": 39001904.6,
                        "count": 10
                      },
                      {
                        "bin_start": 39001904.6,
                        "bin_end": 48446655,
                        "count": 6
                      },
                      {
                        "bin_start": 48446655,
                        "bin_end": 57891405.400000006,
                        "count": 5
                      },
                      {
                        "bin_start": 57891405.400000006,
                        "bin_end": 67336155.80000001,
                        "count": 4
                      },
                      {
                        "bin_start": 67336155.80000001,
                        "bin_end": 76780906.2,
                        "count": 8
                      },
                      {
                        "bin_start": 76780906.2,
                        "bin_end": 86225656.60000001,
                        "count": 3
                      },
                      {
                        "bin_start": 86225656.60000001,
                        "bin_end": 95670407,
                        "count": 5
                      }
                    ]
                  }
                },
                {
                  "name": "_deepnote_index_column",
                  "dtype": "int64"
                }
              ],
              "rows": [
                {
                  "trans_id": 695247,
                  "account_id": 2378,
                  "date": "1993-01-01 00:00:00",
                  "transaction_type": "Credit",
                  "operation": "Credit in Cash",
                  "amount": 700,
                  "balance": 700,
                  "k_symbol": "nan",
                  "bank": "nan",
                  "account": "nan",
                  "_deepnote_index_column": 0
                },
                {
                  "trans_id": 171812,
                  "account_id": 576,
                  "date": "1993-01-01 00:00:00",
                  "transaction_type": "Credit",
                  "operation": "Credit in Cash",
                  "amount": 900,
                  "balance": 900,
                  "k_symbol": "nan",
                  "bank": "nan",
                  "account": "nan",
                  "_deepnote_index_column": 1
                },
                {
                  "trans_id": 207264,
                  "account_id": 704,
                  "date": "1993-01-01 00:00:00",
                  "transaction_type": "Credit",
                  "operation": "Credit in Cash",
                  "amount": 1000,
                  "balance": 1000,
                  "k_symbol": "nan",
                  "bank": "nan",
                  "account": "nan",
                  "_deepnote_index_column": 2
                },
                {
                  "trans_id": 1117247,
                  "account_id": 3818,
                  "date": "1993-01-01 00:00:00",
                  "transaction_type": "Credit",
                  "operation": "Credit in Cash",
                  "amount": 600,
                  "balance": 600,
                  "k_symbol": "nan",
                  "bank": "nan",
                  "account": "nan",
                  "_deepnote_index_column": 3
                },
                {
                  "trans_id": 579373,
                  "account_id": 1972,
                  "date": "1993-01-02 00:00:00",
                  "transaction_type": "Credit",
                  "operation": "Credit in Cash",
                  "amount": 400,
                  "balance": 400,
                  "k_symbol": "nan",
                  "bank": "nan",
                  "account": "nan",
                  "_deepnote_index_column": 4
                },
                {
                  "trans_id": 771035,
                  "account_id": 2632,
                  "date": "1993-01-02 00:00:00",
                  "transaction_type": "Credit",
                  "operation": "Credit in Cash",
                  "amount": 1100,
                  "balance": 1100,
                  "k_symbol": "nan",
                  "bank": "nan",
                  "account": "nan",
                  "_deepnote_index_column": 5
                },
                {
                  "trans_id": 452728,
                  "account_id": 1539,
                  "date": "1993-01-03 00:00:00",
                  "transaction_type": "Credit",
                  "operation": "Credit in Cash",
                  "amount": 600,
                  "balance": 600,
                  "k_symbol": "nan",
                  "bank": "nan",
                  "account": "nan",
                  "_deepnote_index_column": 6
                },
                {
                  "trans_id": 725751,
                  "account_id": 2484,
                  "date": "1993-01-03 00:00:00",
                  "transaction_type": "Credit",
                  "operation": "Credit in Cash",
                  "amount": 1100,
                  "balance": 1100,
                  "k_symbol": "nan",
                  "bank": "nan",
                  "account": "nan",
                  "_deepnote_index_column": 7
                },
                {
                  "trans_id": 497211,
                  "account_id": 1695,
                  "date": "1993-01-03 00:00:00",
                  "transaction_type": "Credit",
                  "operation": "Credit in Cash",
                  "amount": 200,
                  "balance": 200,
                  "k_symbol": "nan",
                  "bank": "nan",
                  "account": "nan",
                  "_deepnote_index_column": 8
                },
                {
                  "trans_id": 232960,
                  "account_id": 793,
                  "date": "1993-01-03 00:00:00",
                  "transaction_type": "Credit",
                  "operation": "Credit in Cash",
                  "amount": 800,
                  "balance": 800,
                  "k_symbol": "nan",
                  "bank": "nan",
                  "account": "nan",
                  "_deepnote_index_column": 9
                }
              ]
            },
            "text/plain": "     trans_id  account_id       date transaction_type       operation  amount  \\\n0      695247        2378 1993-01-01           Credit  Credit in Cash   700.0   \n1      171812         576 1993-01-01           Credit  Credit in Cash   900.0   \n2      207264         704 1993-01-01           Credit  Credit in Cash  1000.0   \n3     1117247        3818 1993-01-01           Credit  Credit in Cash   600.0   \n4      579373        1972 1993-01-02           Credit  Credit in Cash   400.0   \n..        ...         ...        ...              ...             ...     ...   \n495   3629868        3007 1993-02-28           Credit             NaN    72.7   \n496   3585453        1675 1993-02-28           Credit             NaN    13.7   \n497   3583849        1628 1993-02-28           Credit             NaN    20.7   \n498   3584202        1637 1993-02-28           Credit             NaN    25.9   \n499   3589600        1801 1993-02-28           Credit             NaN     2.9   \n\n     balance           k_symbol bank  account  \n0      700.0                NaN  NaN      NaN  \n1      900.0                NaN  NaN      NaN  \n2     1000.0                NaN  NaN      NaN  \n3      600.0                NaN  NaN      NaN  \n4      400.0                NaN  NaN      NaN  \n..       ...                ...  ...      ...  \n495  23324.7  Interest Credited  NaN      NaN  \n496   5440.7  Interest Credited  NaN      NaN  \n497   9286.1  Interest Credited  NaN      NaN  \n498  11977.8  Interest Credited  NaN      NaN  \n499    702.9  Interest Credited  NaN      NaN  \n\n[500 rows x 10 columns]",
            "text/html": "<div>\n<style scoped>\n    .dataframe tbody tr th:only-of-type {\n        vertical-align: middle;\n    }\n\n    .dataframe tbody tr th {\n        vertical-align: top;\n    }\n\n    .dataframe thead th {\n        text-align: right;\n    }\n</style>\n<table border=\"1\" class=\"dataframe\">\n  <thead>\n    <tr style=\"text-align: right;\">\n      <th></th>\n      <th>trans_id</th>\n      <th>account_id</th>\n      <th>date</th>\n      <th>transaction_type</th>\n      <th>operation</th>\n      <th>amount</th>\n      <th>balance</th>\n      <th>k_symbol</th>\n      <th>bank</th>\n      <th>account</th>\n    </tr>\n  </thead>\n  <tbody>\n    <tr>\n      <th>0</th>\n      <td>695247</td>\n      <td>2378</td>\n      <td>1993-01-01</td>\n      <td>Credit</td>\n      <td>Credit in Cash</td>\n      <td>700.0</td>\n      <td>700.0</td>\n      <td>NaN</td>\n      <td>NaN</td>\n      <td>NaN</td>\n    </tr>\n    <tr>\n      <th>1</th>\n      <td>171812</td>\n      <td>576</td>\n      <td>1993-01-01</td>\n      <td>Credit</td>\n      <td>Credit in Cash</td>\n      <td>900.0</td>\n      <td>900.0</td>\n      <td>NaN</td>\n      <td>NaN</td>\n      <td>NaN</td>\n    </tr>\n    <tr>\n      <th>2</th>\n      <td>207264</td>\n      <td>704</td>\n      <td>1993-01-01</td>\n      <td>Credit</td>\n      <td>Credit in Cash</td>\n      <td>1000.0</td>\n      <td>1000.0</td>\n      <td>NaN</td>\n      <td>NaN</td>\n      <td>NaN</td>\n    </tr>\n    <tr>\n      <th>3</th>\n      <td>1117247</td>\n      <td>3818</td>\n      <td>1993-01-01</td>\n      <td>Credit</td>\n      <td>Credit in Cash</td>\n      <td>600.0</td>\n      <td>600.0</td>\n      <td>NaN</td>\n      <td>NaN</td>\n      <td>NaN</td>\n    </tr>\n    <tr>\n      <th>4</th>\n      <td>579373</td>\n      <td>1972</td>\n      <td>1993-01-02</td>\n      <td>Credit</td>\n      <td>Credit in Cash</td>\n      <td>400.0</td>\n      <td>400.0</td>\n      <td>NaN</td>\n      <td>NaN</td>\n      <td>NaN</td>\n    </tr>\n    <tr>\n      <th>...</th>\n      <td>...</td>\n      <td>...</td>\n      <td>...</td>\n      <td>...</td>\n      <td>...</td>\n      <td>...</td>\n      <td>...</td>\n      <td>...</td>\n      <td>...</td>\n      <td>...</td>\n    </tr>\n    <tr>\n      <th>495</th>\n      <td>3629868</td>\n      <td>3007</td>\n      <td>1993-02-28</td>\n      <td>Credit</td>\n      <td>NaN</td>\n      <td>72.7</td>\n      <td>23324.7</td>\n      <td>Interest Credited</td>\n      <td>NaN</td>\n      <td>NaN</td>\n    </tr>\n    <tr>\n      <th>496</th>\n      <td>3585453</td>\n      <td>1675</td>\n      <td>1993-02-28</td>\n      <td>Credit</td>\n      <td>NaN</td>\n      <td>13.7</td>\n      <td>5440.7</td>\n      <td>Interest Credited</td>\n      <td>NaN</td>\n      <td>NaN</td>\n    </tr>\n    <tr>\n      <th>497</th>\n      <td>3583849</td>\n      <td>1628</td>\n      <td>1993-02-28</td>\n      <td>Credit</td>\n      <td>NaN</td>\n      <td>20.7</td>\n      <td>9286.1</td>\n      <td>Interest Credited</td>\n      <td>NaN</td>\n      <td>NaN</td>\n    </tr>\n    <tr>\n      <th>498</th>\n      <td>3584202</td>\n      <td>1637</td>\n      <td>1993-02-28</td>\n      <td>Credit</td>\n      <td>NaN</td>\n      <td>25.9</td>\n      <td>11977.8</td>\n      <td>Interest Credited</td>\n      <td>NaN</td>\n      <td>NaN</td>\n    </tr>\n    <tr>\n      <th>499</th>\n      <td>3589600</td>\n      <td>1801</td>\n      <td>1993-02-28</td>\n      <td>Credit</td>\n      <td>NaN</td>\n      <td>2.9</td>\n      <td>702.9</td>\n      <td>Interest Credited</td>\n      <td>NaN</td>\n      <td>NaN</td>\n    </tr>\n  </tbody>\n</table>\n<p>500 rows × 10 columns</p>\n</div>"
          },
          "metadata": {}
        }
      ],
      "outputs_reference": null,
      "execution_count": null,
      "block_group": "6b00d5a1f3de4cdba8341a4448ff1d6d"
    },
    {
      "cell_type": "markdown",
      "source": "## Loans",
      "metadata": {
        "collapsed": false,
        "deepnote_app_block_visible": true,
        "cell_id": "b02413e62715494cafd0689ecc411ce9",
        "deepnote_cell_type": "markdown"
      },
      "block_group": "0bb5cbc99039482dbde9eab3865b3ea9"
    },
    {
      "cell_type": "code",
      "source": "loans = pd.read_csv(\"data/loan.csv\", sep=\";\")\n\nloans['date'] = pd.to_datetime(loans['date'], format='%y%m%d')\n\nloans['status'] = loans['status'].map({\n    \"A\": \"Contract finished, no problems\",\n    \"B\": \"Contract finished, loan not payed\",\n    \"C\": \"Contract running, OK thus-far\",\n    \"D\": \"Contract running, client in debt\"\n})\n\n# Rename columns\n# according to https://sorry.vse.cz/~berka/challenge/PAST/index.html\nloans.rename(columns={\n    'date': 'loan_granted_date',\n    'amount': 'loan_amount',\n    'duration': 'loan_duration',\n    'payments': 'loan_monthly_payments',\n    'status': 'loan_status'\n}, inplace=True)\n\nloans.head()",
      "metadata": {
        "collapsed": false,
        "ExecuteTime": {
          "end_time": "2024-02-23T10:53:26.148743Z",
          "start_time": "2024-02-23T10:53:26.140684Z"
        },
        "source_hash": null,
        "execution_start": 1708692062879,
        "execution_millis": 246,
        "deepnote_to_be_reexecuted": false,
        "deepnote_app_block_visible": true,
        "cell_id": "10ad619ad8cb433e9b6de19fbb51f76e",
        "deepnote_cell_type": "code"
      },
      "outputs": [
        {
          "output_type": "execute_result",
          "execution_count": 7,
          "data": {
            "application/vnd.deepnote.dataframe.v3+json": {
              "column_count": 7,
              "row_count": 5,
              "columns": [
                {
                  "name": "loan_id",
                  "dtype": "int64",
                  "stats": {
                    "unique_count": 5,
                    "nan_count": 0,
                    "min": "5314",
                    "max": "7240",
                    "histogram": [
                      {
                        "bin_start": 5314,
                        "bin_end": 5506.6,
                        "count": 3
                      },
                      {
                        "bin_start": 5506.6,
                        "bin_end": 5699.2,
                        "count": 0
                      },
                      {
                        "bin_start": 5699.2,
                        "bin_end": 5891.8,
                        "count": 0
                      },
                      {
                        "bin_start": 5891.8,
                        "bin_end": 6084.4,
                        "count": 0
                      },
                      {
                        "bin_start": 6084.4,
                        "bin_end": 6277,
                        "count": 0
                      },
                      {
                        "bin_start": 6277,
                        "bin_end": 6469.6,
                        "count": 0
                      },
                      {
                        "bin_start": 6469.6,
                        "bin_end": 6662.2,
                        "count": 0
                      },
                      {
                        "bin_start": 6662.2,
                        "bin_end": 6854.8,
                        "count": 0
                      },
                      {
                        "bin_start": 6854.8,
                        "bin_end": 7047.4,
                        "count": 1
                      },
                      {
                        "bin_start": 7047.4,
                        "bin_end": 7240,
                        "count": 1
                      }
                    ]
                  }
                },
                {
                  "name": "account_id",
                  "dtype": "int64",
                  "stats": {
                    "unique_count": 5,
                    "nan_count": 0,
                    "min": "1787",
                    "max": "11013",
                    "histogram": [
                      {
                        "bin_start": 1787,
                        "bin_end": 2709.6,
                        "count": 3
                      },
                      {
                        "bin_start": 2709.6,
                        "bin_end": 3632.2,
                        "count": 0
                      },
                      {
                        "bin_start": 3632.2,
                        "bin_end": 4554.8,
                        "count": 0
                      },
                      {
                        "bin_start": 4554.8,
                        "bin_end": 5477.4,
                        "count": 0
                      },
                      {
                        "bin_start": 5477.4,
                        "bin_end": 6400,
                        "count": 0
                      },
                      {
                        "bin_start": 6400,
                        "bin_end": 7322.6,
                        "count": 0
                      },
                      {
                        "bin_start": 7322.6,
                        "bin_end": 8245.2,
                        "count": 0
                      },
                      {
                        "bin_start": 8245.2,
                        "bin_end": 9167.8,
                        "count": 0
                      },
                      {
                        "bin_start": 9167.8,
                        "bin_end": 10090.4,
                        "count": 1
                      },
                      {
                        "bin_start": 10090.4,
                        "bin_end": 11013,
                        "count": 1
                      }
                    ]
                  }
                },
                {
                  "name": "loan_granted_date",
                  "dtype": "datetime64[ns]",
                  "stats": {
                    "unique_count": 5,
                    "nan_count": 0,
                    "min": "1993-07-05 00:00:00",
                    "max": "1993-09-06 00:00:00",
                    "histogram": [
                      {
                        "bin_start": 741830400000000000,
                        "bin_end": 742374720000000000,
                        "count": 2
                      },
                      {
                        "bin_start": 742374720000000000,
                        "bin_end": 742919040000000000,
                        "count": 0
                      },
                      {
                        "bin_start": 742919040000000000,
                        "bin_end": 743463360000000000,
                        "count": 0
                      },
                      {
                        "bin_start": 743463360000000000,
                        "bin_end": 744007680000000000,
                        "count": 1
                      },
                      {
                        "bin_start": 744007680000000000,
                        "bin_end": 744552000000000000,
                        "count": 1
                      },
                      {
                        "bin_start": 744552000000000000,
                        "bin_end": 745096320000000000,
                        "count": 0
                      },
                      {
                        "bin_start": 745096320000000000,
                        "bin_end": 745640640000000000,
                        "count": 0
                      },
                      {
                        "bin_start": 745640640000000000,
                        "bin_end": 746184960000000000,
                        "count": 0
                      },
                      {
                        "bin_start": 746184960000000000,
                        "bin_end": 746729280000000000,
                        "count": 0
                      },
                      {
                        "bin_start": 746729280000000000,
                        "bin_end": 747273600000000000,
                        "count": 1
                      }
                    ]
                  }
                },
                {
                  "name": "loan_amount",
                  "dtype": "int64",
                  "stats": {
                    "unique_count": 5,
                    "nan_count": 0,
                    "min": "96396",
                    "max": "274740",
                    "histogram": [
                      {
                        "bin_start": 96396,
                        "bin_end": 114230.4,
                        "count": 2
                      },
                      {
                        "bin_start": 114230.4,
                        "bin_end": 132064.8,
                        "count": 1
                      },
                      {
                        "bin_start": 132064.8,
                        "bin_end": 149899.2,
                        "count": 0
                      },
                      {
                        "bin_start": 149899.2,
                        "bin_end": 167733.6,
                        "count": 1
                      },
                      {
                        "bin_start": 167733.6,
                        "bin_end": 185568,
                        "count": 0
                      },
                      {
                        "bin_start": 185568,
                        "bin_end": 203402.40000000002,
                        "count": 0
                      },
                      {
                        "bin_start": 203402.40000000002,
                        "bin_end": 221236.80000000002,
                        "count": 0
                      },
                      {
                        "bin_start": 221236.80000000002,
                        "bin_end": 239071.2,
                        "count": 0
                      },
                      {
                        "bin_start": 239071.2,
                        "bin_end": 256905.6,
                        "count": 0
                      },
                      {
                        "bin_start": 256905.6,
                        "bin_end": 274740,
                        "count": 1
                      }
                    ]
                  }
                },
                {
                  "name": "loan_duration",
                  "dtype": "int64",
                  "stats": {
                    "unique_count": 3,
                    "nan_count": 0,
                    "min": "12",
                    "max": "60",
                    "histogram": [
                      {
                        "bin_start": 12,
                        "bin_end": 16.8,
                        "count": 1
                      },
                      {
                        "bin_start": 16.8,
                        "bin_end": 21.6,
                        "count": 0
                      },
                      {
                        "bin_start": 21.6,
                        "bin_end": 26.4,
                        "count": 0
                      },
                      {
                        "bin_start": 26.4,
                        "bin_end": 31.2,
                        "count": 0
                      },
                      {
                        "bin_start": 31.2,
                        "bin_end": 36,
                        "count": 0
                      },
                      {
                        "bin_start": 36,
                        "bin_end": 40.8,
                        "count": 2
                      },
                      {
                        "bin_start": 40.8,
                        "bin_end": 45.6,
                        "count": 0
                      },
                      {
                        "bin_start": 45.6,
                        "bin_end": 50.4,
                        "count": 0
                      },
                      {
                        "bin_start": 50.4,
                        "bin_end": 55.199999999999996,
                        "count": 0
                      },
                      {
                        "bin_start": 55.199999999999996,
                        "bin_end": 60,
                        "count": 2
                      }
                    ]
                  }
                },
                {
                  "name": "loan_monthly_payments",
                  "dtype": "float64",
                  "stats": {
                    "unique_count": 5,
                    "nan_count": 0,
                    "min": "2118.0",
                    "max": "8033.0",
                    "histogram": [
                      {
                        "bin_start": 2118,
                        "bin_end": 2709.5,
                        "count": 1
                      },
                      {
                        "bin_start": 2709.5,
                        "bin_end": 3301,
                        "count": 1
                      },
                      {
                        "bin_start": 3301,
                        "bin_end": 3892.5,
                        "count": 0
                      },
                      {
                        "bin_start": 3892.5,
                        "bin_end": 4484,
                        "count": 0
                      },
                      {
                        "bin_start": 4484,
                        "bin_end": 5075.5,
                        "count": 2
                      },
                      {
                        "bin_start": 5075.5,
                        "bin_end": 5667,
                        "count": 0
                      },
                      {
                        "bin_start": 5667,
                        "bin_end": 6258.5,
                        "count": 0
                      },
                      {
                        "bin_start": 6258.5,
                        "bin_end": 6850,
                        "count": 0
                      },
                      {
                        "bin_start": 6850,
                        "bin_end": 7441.5,
                        "count": 0
                      },
                      {
                        "bin_start": 7441.5,
                        "bin_end": 8033,
                        "count": 1
                      }
                    ]
                  }
                },
                {
                  "name": "loan_status",
                  "dtype": "object",
                  "stats": {
                    "unique_count": 2,
                    "nan_count": 0,
                    "categories": [
                      {
                        "name": "Contract finished, no problems",
                        "count": 4
                      },
                      {
                        "name": "Contract finished, loan not payed",
                        "count": 1
                      }
                    ]
                  }
                },
                {
                  "name": "_deepnote_index_column",
                  "dtype": "int64"
                }
              ],
              "rows": [
                {
                  "loan_id": 5314,
                  "account_id": 1787,
                  "loan_granted_date": "1993-07-05 00:00:00",
                  "loan_amount": 96396,
                  "loan_duration": 12,
                  "loan_monthly_payments": 8033,
                  "loan_status": "Contract finished, loan not payed",
                  "_deepnote_index_column": 0
                },
                {
                  "loan_id": 5316,
                  "account_id": 1801,
                  "loan_granted_date": "1993-07-11 00:00:00",
                  "loan_amount": 165960,
                  "loan_duration": 36,
                  "loan_monthly_payments": 4610,
                  "loan_status": "Contract finished, no problems",
                  "_deepnote_index_column": 1
                },
                {
                  "loan_id": 6863,
                  "account_id": 9188,
                  "loan_granted_date": "1993-07-28 00:00:00",
                  "loan_amount": 127080,
                  "loan_duration": 60,
                  "loan_monthly_payments": 2118,
                  "loan_status": "Contract finished, no problems",
                  "_deepnote_index_column": 2
                },
                {
                  "loan_id": 5325,
                  "account_id": 1843,
                  "loan_granted_date": "1993-08-03 00:00:00",
                  "loan_amount": 105804,
                  "loan_duration": 36,
                  "loan_monthly_payments": 2939,
                  "loan_status": "Contract finished, no problems",
                  "_deepnote_index_column": 3
                },
                {
                  "loan_id": 7240,
                  "account_id": 11013,
                  "loan_granted_date": "1993-09-06 00:00:00",
                  "loan_amount": 274740,
                  "loan_duration": 60,
                  "loan_monthly_payments": 4579,
                  "loan_status": "Contract finished, no problems",
                  "_deepnote_index_column": 4
                }
              ]
            },
            "text/plain": "   loan_id  account_id loan_granted_date  loan_amount  loan_duration  \\\n0     5314        1787        1993-07-05        96396             12   \n1     5316        1801        1993-07-11       165960             36   \n2     6863        9188        1993-07-28       127080             60   \n3     5325        1843        1993-08-03       105804             36   \n4     7240       11013        1993-09-06       274740             60   \n\n   loan_monthly_payments                        loan_status  \n0                 8033.0  Contract finished, loan not payed  \n1                 4610.0     Contract finished, no problems  \n2                 2118.0     Contract finished, no problems  \n3                 2939.0     Contract finished, no problems  \n4                 4579.0     Contract finished, no problems  ",
            "text/html": "<div>\n<style scoped>\n    .dataframe tbody tr th:only-of-type {\n        vertical-align: middle;\n    }\n\n    .dataframe tbody tr th {\n        vertical-align: top;\n    }\n\n    .dataframe thead th {\n        text-align: right;\n    }\n</style>\n<table border=\"1\" class=\"dataframe\">\n  <thead>\n    <tr style=\"text-align: right;\">\n      <th></th>\n      <th>loan_id</th>\n      <th>account_id</th>\n      <th>loan_granted_date</th>\n      <th>loan_amount</th>\n      <th>loan_duration</th>\n      <th>loan_monthly_payments</th>\n      <th>loan_status</th>\n    </tr>\n  </thead>\n  <tbody>\n    <tr>\n      <th>0</th>\n      <td>5314</td>\n      <td>1787</td>\n      <td>1993-07-05</td>\n      <td>96396</td>\n      <td>12</td>\n      <td>8033.0</td>\n      <td>Contract finished, loan not payed</td>\n    </tr>\n    <tr>\n      <th>1</th>\n      <td>5316</td>\n      <td>1801</td>\n      <td>1993-07-11</td>\n      <td>165960</td>\n      <td>36</td>\n      <td>4610.0</td>\n      <td>Contract finished, no problems</td>\n    </tr>\n    <tr>\n      <th>2</th>\n      <td>6863</td>\n      <td>9188</td>\n      <td>1993-07-28</td>\n      <td>127080</td>\n      <td>60</td>\n      <td>2118.0</td>\n      <td>Contract finished, no problems</td>\n    </tr>\n    <tr>\n      <th>3</th>\n      <td>5325</td>\n      <td>1843</td>\n      <td>1993-08-03</td>\n      <td>105804</td>\n      <td>36</td>\n      <td>2939.0</td>\n      <td>Contract finished, no problems</td>\n    </tr>\n    <tr>\n      <th>4</th>\n      <td>7240</td>\n      <td>11013</td>\n      <td>1993-09-06</td>\n      <td>274740</td>\n      <td>60</td>\n      <td>4579.0</td>\n      <td>Contract finished, no problems</td>\n    </tr>\n  </tbody>\n</table>\n</div>"
          },
          "metadata": {}
        }
      ],
      "outputs_reference": null,
      "execution_count": null,
      "block_group": "e35d47ae622a41f08e467ed9b43a71d2"
    },
    {
      "cell_type": "markdown",
      "source": "## Credit Cards",
      "metadata": {
        "collapsed": false,
        "deepnote_app_block_visible": true,
        "cell_id": "49e554a625e741c5940cd3bfa94c6209",
        "deepnote_cell_type": "markdown"
      },
      "block_group": "b6ed8cd221234bd081e5c3ac9af260dc"
    },
    {
      "cell_type": "code",
      "source": "cards = pd.read_csv(\"data/card.csv\", sep=\";\")\ncards['type'] = cards['type'].astype('category')\n\ncards['issued'] = pd.to_datetime(cards['issued'], format='%y%m%d %H:%M:%S').dt.date\ncards.rename(columns={'type': 'card_type', \n                      'issued': 'card_issued'}, inplace=True)\n\ncards.head()",
      "metadata": {
        "collapsed": false,
        "ExecuteTime": {
          "end_time": "2024-02-23T10:53:26.157378Z",
          "start_time": "2024-02-23T10:53:26.148711Z"
        },
        "source_hash": null,
        "execution_start": 1708692063165,
        "execution_millis": 241,
        "deepnote_to_be_reexecuted": false,
        "deepnote_app_block_visible": true,
        "cell_id": "9174c131aa4e4e34a7f8d8ae4cdf957c",
        "deepnote_cell_type": "code"
      },
      "outputs": [
        {
          "output_type": "execute_result",
          "execution_count": 8,
          "data": {
            "application/vnd.deepnote.dataframe.v3+json": {
              "column_count": 4,
              "row_count": 5,
              "columns": [
                {
                  "name": "card_id",
                  "dtype": "int64",
                  "stats": {
                    "unique_count": 5,
                    "nan_count": 0,
                    "min": "70",
                    "max": "1005",
                    "histogram": [
                      {
                        "bin_start": 70,
                        "bin_end": 163.5,
                        "count": 2
                      },
                      {
                        "bin_start": 163.5,
                        "bin_end": 257,
                        "count": 0
                      },
                      {
                        "bin_start": 257,
                        "bin_end": 350.5,
                        "count": 0
                      },
                      {
                        "bin_start": 350.5,
                        "bin_end": 444,
                        "count": 0
                      },
                      {
                        "bin_start": 444,
                        "bin_end": 537.5,
                        "count": 0
                      },
                      {
                        "bin_start": 537.5,
                        "bin_end": 631,
                        "count": 1
                      },
                      {
                        "bin_start": 631,
                        "bin_end": 724.5,
                        "count": 0
                      },
                      {
                        "bin_start": 724.5,
                        "bin_end": 818,
                        "count": 1
                      },
                      {
                        "bin_start": 818,
                        "bin_end": 911.5,
                        "count": 0
                      },
                      {
                        "bin_start": 911.5,
                        "bin_end": 1005,
                        "count": 1
                      }
                    ]
                  }
                },
                {
                  "name": "disp_id",
                  "dtype": "int64",
                  "stats": {
                    "unique_count": 5,
                    "nan_count": 0,
                    "min": "439",
                    "max": "9285",
                    "histogram": [
                      {
                        "bin_start": 439,
                        "bin_end": 1323.6,
                        "count": 2
                      },
                      {
                        "bin_start": 1323.6,
                        "bin_end": 2208.2,
                        "count": 0
                      },
                      {
                        "bin_start": 2208.2,
                        "bin_end": 3092.8,
                        "count": 0
                      },
                      {
                        "bin_start": 3092.8,
                        "bin_end": 3977.4,
                        "count": 1
                      },
                      {
                        "bin_start": 3977.4,
                        "bin_end": 4862,
                        "count": 0
                      },
                      {
                        "bin_start": 4862,
                        "bin_end": 5746.6,
                        "count": 1
                      },
                      {
                        "bin_start": 5746.6,
                        "bin_end": 6631.2,
                        "count": 0
                      },
                      {
                        "bin_start": 6631.2,
                        "bin_end": 7515.8,
                        "count": 0
                      },
                      {
                        "bin_start": 7515.8,
                        "bin_end": 8400.400000000001,
                        "count": 0
                      },
                      {
                        "bin_start": 8400.400000000001,
                        "bin_end": 9285,
                        "count": 1
                      }
                    ]
                  }
                },
                {
                  "name": "card_type",
                  "dtype": "category",
                  "stats": {
                    "unique_count": 1,
                    "nan_count": 0,
                    "categories": [
                      {
                        "name": "classic",
                        "count": 5
                      }
                    ]
                  }
                },
                {
                  "name": "card_issued",
                  "dtype": "object",
                  "stats": {
                    "unique_count": 5,
                    "nan_count": 0,
                    "categories": [
                      {
                        "name": "1993-11-07",
                        "count": 1
                      },
                      {
                        "name": "1994-01-19",
                        "count": 1
                      },
                      {
                        "name": "3 others",
                        "count": 3
                      }
                    ]
                  }
                },
                {
                  "name": "_deepnote_index_column",
                  "dtype": "int64"
                }
              ],
              "rows": [
                {
                  "card_id": 1005,
                  "disp_id": 9285,
                  "card_type": "classic",
                  "card_issued": "1993-11-07",
                  "_deepnote_index_column": 0
                },
                {
                  "card_id": 104,
                  "disp_id": 588,
                  "card_type": "classic",
                  "card_issued": "1994-01-19",
                  "_deepnote_index_column": 1
                },
                {
                  "card_id": 747,
                  "disp_id": 4915,
                  "card_type": "classic",
                  "card_issued": "1994-02-05",
                  "_deepnote_index_column": 2
                },
                {
                  "card_id": 70,
                  "disp_id": 439,
                  "card_type": "classic",
                  "card_issued": "1994-02-08",
                  "_deepnote_index_column": 3
                },
                {
                  "card_id": 577,
                  "disp_id": 3687,
                  "card_type": "classic",
                  "card_issued": "1994-02-15",
                  "_deepnote_index_column": 4
                }
              ]
            },
            "text/plain": "   card_id  disp_id card_type card_issued\n0     1005     9285   classic  1993-11-07\n1      104      588   classic  1994-01-19\n2      747     4915   classic  1994-02-05\n3       70      439   classic  1994-02-08\n4      577     3687   classic  1994-02-15",
            "text/html": "<div>\n<style scoped>\n    .dataframe tbody tr th:only-of-type {\n        vertical-align: middle;\n    }\n\n    .dataframe tbody tr th {\n        vertical-align: top;\n    }\n\n    .dataframe thead th {\n        text-align: right;\n    }\n</style>\n<table border=\"1\" class=\"dataframe\">\n  <thead>\n    <tr style=\"text-align: right;\">\n      <th></th>\n      <th>card_id</th>\n      <th>disp_id</th>\n      <th>card_type</th>\n      <th>card_issued</th>\n    </tr>\n  </thead>\n  <tbody>\n    <tr>\n      <th>0</th>\n      <td>1005</td>\n      <td>9285</td>\n      <td>classic</td>\n      <td>1993-11-07</td>\n    </tr>\n    <tr>\n      <th>1</th>\n      <td>104</td>\n      <td>588</td>\n      <td>classic</td>\n      <td>1994-01-19</td>\n    </tr>\n    <tr>\n      <th>2</th>\n      <td>747</td>\n      <td>4915</td>\n      <td>classic</td>\n      <td>1994-02-05</td>\n    </tr>\n    <tr>\n      <th>3</th>\n      <td>70</td>\n      <td>439</td>\n      <td>classic</td>\n      <td>1994-02-08</td>\n    </tr>\n    <tr>\n      <th>4</th>\n      <td>577</td>\n      <td>3687</td>\n      <td>classic</td>\n      <td>1994-02-15</td>\n    </tr>\n  </tbody>\n</table>\n</div>"
          },
          "metadata": {}
        }
      ],
      "outputs_reference": null,
      "execution_count": null,
      "block_group": "328f92b25e3244cd9674cad84bc1ffe0"
    },
    {
      "cell_type": "markdown",
      "source": "## Demographic data",
      "metadata": {
        "collapsed": false,
        "deepnote_app_block_visible": true,
        "cell_id": "c3a8dc8e699f4087abb6f949e6554d36",
        "deepnote_cell_type": "markdown"
      },
      "block_group": "2646bd0674b545378508a71d5fcc4aae"
    },
    {
      "cell_type": "code",
      "source": "districts = pd.read_csv(\"data/district.csv\", sep=\";\")\n\n# Rename columns\n# according to https://sorry.vse.cz/~berka/challenge/PAST/index.html\ndistricts.rename(columns={\n    'A1': 'district_id',\n    'A2': 'district_name',\n    'A3': 'region',\n    'A4': 'inhabitants',\n    'A5': 'small_municipalities',\n    'A6': 'medium_municipalities',\n    'A7': 'large_municipalities',\n    'A8': 'huge_municipalities',\n    'A9': 'cities',\n    'A10': 'ratio_urban_inhabitants',\n    'A11': 'average_salary',\n    'A12': 'unemployment_rate_1995',\n    'A13': 'unemployment_rate_1996',\n    'A14': 'entrepreneurs_per_1000_inhabitants',\n    'A15': 'crimes_committed_1995',\n    'A16': 'crimes_committed_1996'\n}, inplace=True)\n\nfor col in ['unemployment_rate_1995', 'unemployment_rate_1996', 'crimes_committed_1995', 'crimes_committed_1996']:\n    districts[col] = pd.to_numeric(districts[col], errors='coerce')\n\ndistricts = districts.astype({'region': 'category', \n                              'district_name': 'category'})\n\ndistricts.head()",
      "metadata": {
        "collapsed": false,
        "ExecuteTime": {
          "end_time": "2024-02-23T11:04:45.623758Z",
          "start_time": "2024-02-23T11:04:45.614224Z"
        },
        "source_hash": null,
        "execution_start": 1708692075071,
        "execution_millis": 264,
        "deepnote_to_be_reexecuted": false,
        "deepnote_app_block_visible": true,
        "cell_id": "343ec6a8bd1d4de99568bb474f3bc680",
        "deepnote_cell_type": "code"
      },
      "outputs": [
        {
          "output_type": "execute_result",
          "execution_count": 10,
          "data": {
            "application/vnd.deepnote.dataframe.v3+json": {
              "column_count": 16,
              "row_count": 5,
              "columns": [
                {
                  "name": "district_id",
                  "dtype": "int64",
                  "stats": {
                    "unique_count": 5,
                    "nan_count": 0,
                    "min": "1",
                    "max": "5",
                    "histogram": [
                      {
                        "bin_start": 1,
                        "bin_end": 1.4,
                        "count": 1
                      },
                      {
                        "bin_start": 1.4,
                        "bin_end": 1.8,
                        "count": 0
                      },
                      {
                        "bin_start": 1.8,
                        "bin_end": 2.2,
                        "count": 1
                      },
                      {
                        "bin_start": 2.2,
                        "bin_end": 2.6,
                        "count": 0
                      },
                      {
                        "bin_start": 2.6,
                        "bin_end": 3,
                        "count": 0
                      },
                      {
                        "bin_start": 3,
                        "bin_end": 3.4000000000000004,
                        "count": 1
                      },
                      {
                        "bin_start": 3.4000000000000004,
                        "bin_end": 3.8000000000000003,
                        "count": 0
                      },
                      {
                        "bin_start": 3.8000000000000003,
                        "bin_end": 4.2,
                        "count": 1
                      },
                      {
                        "bin_start": 4.2,
                        "bin_end": 4.6,
                        "count": 0
                      },
                      {
                        "bin_start": 4.6,
                        "bin_end": 5,
                        "count": 1
                      }
                    ]
                  }
                },
                {
                  "name": "district_name",
                  "dtype": "category",
                  "stats": {
                    "unique_count": 5,
                    "nan_count": 0,
                    "categories": [
                      {
                        "name": "Hl.m. Praha",
                        "count": 1
                      },
                      {
                        "name": "Benesov",
                        "count": 1
                      },
                      {
                        "name": "3 others",
                        "count": 3
                      }
                    ]
                  }
                },
                {
                  "name": "region",
                  "dtype": "category",
                  "stats": {
                    "unique_count": 2,
                    "nan_count": 0,
                    "categories": [
                      {
                        "name": "central Bohemia",
                        "count": 4
                      },
                      {
                        "name": "Prague",
                        "count": 1
                      }
                    ]
                  }
                },
                {
                  "name": "inhabitants",
                  "dtype": "int64",
                  "stats": {
                    "unique_count": 5,
                    "nan_count": 0,
                    "min": "75232",
                    "max": "1204953",
                    "histogram": [
                      {
                        "bin_start": 75232,
                        "bin_end": 188204.1,
                        "count": 4
                      },
                      {
                        "bin_start": 188204.1,
                        "bin_end": 301176.2,
                        "count": 0
                      },
                      {
                        "bin_start": 301176.2,
                        "bin_end": 414148.30000000005,
                        "count": 0
                      },
                      {
                        "bin_start": 414148.30000000005,
                        "bin_end": 527120.4,
                        "count": 0
                      },
                      {
                        "bin_start": 527120.4,
                        "bin_end": 640092.5,
                        "count": 0
                      },
                      {
                        "bin_start": 640092.5,
                        "bin_end": 753064.6000000001,
                        "count": 0
                      },
                      {
                        "bin_start": 753064.6000000001,
                        "bin_end": 866036.7000000001,
                        "count": 0
                      },
                      {
                        "bin_start": 866036.7000000001,
                        "bin_end": 979008.8,
                        "count": 0
                      },
                      {
                        "bin_start": 979008.8,
                        "bin_end": 1091980.9,
                        "count": 0
                      },
                      {
                        "bin_start": 1091980.9,
                        "bin_end": 1204953,
                        "count": 1
                      }
                    ]
                  }
                },
                {
                  "name": "small_municipalities",
                  "dtype": "int64",
                  "stats": {
                    "unique_count": 5,
                    "nan_count": 0,
                    "min": "0",
                    "max": "80",
                    "histogram": [
                      {
                        "bin_start": 0,
                        "bin_end": 8,
                        "count": 1
                      },
                      {
                        "bin_start": 8,
                        "bin_end": 16,
                        "count": 0
                      },
                      {
                        "bin_start": 16,
                        "bin_end": 24,
                        "count": 0
                      },
                      {
                        "bin_start": 24,
                        "bin_end": 32,
                        "count": 0
                      },
                      {
                        "bin_start": 32,
                        "bin_end": 40,
                        "count": 0
                      },
                      {
                        "bin_start": 40,
                        "bin_end": 48,
                        "count": 0
                      },
                      {
                        "bin_start": 48,
                        "bin_end": 56,
                        "count": 1
                      },
                      {
                        "bin_start": 56,
                        "bin_end": 64,
                        "count": 1
                      },
                      {
                        "bin_start": 64,
                        "bin_end": 72,
                        "count": 1
                      },
                      {
                        "bin_start": 72,
                        "bin_end": 80,
                        "count": 1
                      }
                    ]
                  }
                },
                {
                  "name": "medium_municipalities",
                  "dtype": "int64",
                  "stats": {
                    "unique_count": 4,
                    "nan_count": 0,
                    "min": "0",
                    "max": "30",
                    "histogram": [
                      {
                        "bin_start": 0,
                        "bin_end": 3,
                        "count": 1
                      },
                      {
                        "bin_start": 3,
                        "bin_end": 6,
                        "count": 0
                      },
                      {
                        "bin_start": 6,
                        "bin_end": 9,
                        "count": 0
                      },
                      {
                        "bin_start": 9,
                        "bin_end": 12,
                        "count": 0
                      },
                      {
                        "bin_start": 12,
                        "bin_end": 15,
                        "count": 0
                      },
                      {
                        "bin_start": 15,
                        "bin_end": 18,
                        "count": 0
                      },
                      {
                        "bin_start": 18,
                        "bin_end": 21,
                        "count": 0
                      },
                      {
                        "bin_start": 21,
                        "bin_end": 24,
                        "count": 0
                      },
                      {
                        "bin_start": 24,
                        "bin_end": 27,
                        "count": 2
                      },
                      {
                        "bin_start": 27,
                        "bin_end": 30,
                        "count": 2
                      }
                    ]
                  }
                },
                {
                  "name": "large_municipalities",
                  "dtype": "int64",
                  "stats": {
                    "unique_count": 3,
                    "nan_count": 0,
                    "min": "0",
                    "max": "6",
                    "histogram": [
                      {
                        "bin_start": 0,
                        "bin_end": 0.6,
                        "count": 1
                      },
                      {
                        "bin_start": 0.6,
                        "bin_end": 1.2,
                        "count": 0
                      },
                      {
                        "bin_start": 1.2,
                        "bin_end": 1.7999999999999998,
                        "count": 0
                      },
                      {
                        "bin_start": 1.7999999999999998,
                        "bin_end": 2.4,
                        "count": 0
                      },
                      {
                        "bin_start": 2.4,
                        "bin_end": 3,
                        "count": 0
                      },
                      {
                        "bin_start": 3,
                        "bin_end": 3.5999999999999996,
                        "count": 0
                      },
                      {
                        "bin_start": 3.5999999999999996,
                        "bin_end": 4.2,
                        "count": 2
                      },
                      {
                        "bin_start": 4.2,
                        "bin_end": 4.8,
                        "count": 0
                      },
                      {
                        "bin_start": 4.8,
                        "bin_end": 5.3999999999999995,
                        "count": 0
                      },
                      {
                        "bin_start": 5.3999999999999995,
                        "bin_end": 6,
                        "count": 2
                      }
                    ]
                  }
                },
                {
                  "name": "huge_municipalities",
                  "dtype": "int64",
                  "stats": {
                    "unique_count": 2,
                    "nan_count": 0,
                    "min": "1",
                    "max": "2",
                    "histogram": [
                      {
                        "bin_start": 1,
                        "bin_end": 1.1,
                        "count": 3
                      },
                      {
                        "bin_start": 1.1,
                        "bin_end": 1.2,
                        "count": 0
                      },
                      {
                        "bin_start": 1.2,
                        "bin_end": 1.3,
                        "count": 0
                      },
                      {
                        "bin_start": 1.3,
                        "bin_end": 1.4,
                        "count": 0
                      },
                      {
                        "bin_start": 1.4,
                        "bin_end": 1.5,
                        "count": 0
                      },
                      {
                        "bin_start": 1.5,
                        "bin_end": 1.6,
                        "count": 0
                      },
                      {
                        "bin_start": 1.6,
                        "bin_end": 1.7000000000000002,
                        "count": 0
                      },
                      {
                        "bin_start": 1.7000000000000002,
                        "bin_end": 1.8,
                        "count": 0
                      },
                      {
                        "bin_start": 1.8,
                        "bin_end": 1.9,
                        "count": 0
                      },
                      {
                        "bin_start": 1.9,
                        "bin_end": 2,
                        "count": 2
                      }
                    ]
                  }
                },
                {
                  "name": "cities",
                  "dtype": "int64",
                  "stats": {
                    "unique_count": 3,
                    "nan_count": 0,
                    "min": "1",
                    "max": "6",
                    "histogram": [
                      {
                        "bin_start": 1,
                        "bin_end": 1.5,
                        "count": 1
                      },
                      {
                        "bin_start": 1.5,
                        "bin_end": 2,
                        "count": 0
                      },
                      {
                        "bin_start": 2,
                        "bin_end": 2.5,
                        "count": 0
                      },
                      {
                        "bin_start": 2.5,
                        "bin_end": 3,
                        "count": 0
                      },
                      {
                        "bin_start": 3,
                        "bin_end": 3.5,
                        "count": 0
                      },
                      {
                        "bin_start": 3.5,
                        "bin_end": 4,
                        "count": 0
                      },
                      {
                        "bin_start": 4,
                        "bin_end": 4.5,
                        "count": 0
                      },
                      {
                        "bin_start": 4.5,
                        "bin_end": 5,
                        "count": 0
                      },
                      {
                        "bin_start": 5,
                        "bin_end": 5.5,
                        "count": 2
                      },
                      {
                        "bin_start": 5.5,
                        "bin_end": 6,
                        "count": 2
                      }
                    ]
                  }
                },
                {
                  "name": "ratio_urban_inhabitants",
                  "dtype": "float64",
                  "stats": {
                    "unique_count": 5,
                    "nan_count": 0,
                    "min": "41.7",
                    "max": "100.0",
                    "histogram": [
                      {
                        "bin_start": 41.7,
                        "bin_end": 47.53,
                        "count": 2
                      },
                      {
                        "bin_start": 47.53,
                        "bin_end": 53.36,
                        "count": 1
                      },
                      {
                        "bin_start": 53.36,
                        "bin_end": 59.190000000000005,
                        "count": 0
                      },
                      {
                        "bin_start": 59.190000000000005,
                        "bin_end": 65.02000000000001,
                        "count": 0
                      },
                      {
                        "bin_start": 65.02000000000001,
                        "bin_end": 70.85,
                        "count": 1
                      },
                      {
                        "bin_start": 70.85,
                        "bin_end": 76.68,
                        "count": 0
                      },
                      {
                        "bin_start": 76.68,
                        "bin_end": 82.51,
                        "count": 0
                      },
                      {
                        "bin_start": 82.51,
                        "bin_end": 88.34,
                        "count": 0
                      },
                      {
                        "bin_start": 88.34,
                        "bin_end": 94.17,
                        "count": 0
                      },
                      {
                        "bin_start": 94.17,
                        "bin_end": 100,
                        "count": 1
                      }
                    ]
                  }
                },
                {
                  "name": "average_salary",
                  "dtype": "int64",
                  "stats": {
                    "unique_count": 5,
                    "nan_count": 0,
                    "min": "8507",
                    "max": "12541",
                    "histogram": [
                      {
                        "bin_start": 8507,
                        "bin_end": 8910.4,
                        "count": 1
                      },
                      {
                        "bin_start": 8910.4,
                        "bin_end": 9313.8,
                        "count": 2
                      },
                      {
                        "bin_start": 9313.8,
                        "bin_end": 9717.2,
                        "count": 0
                      },
                      {
                        "bin_start": 9717.2,
                        "bin_end": 10120.6,
                        "count": 1
                      },
                      {
                        "bin_start": 10120.6,
                        "bin_end": 10524,
                        "count": 0
                      },
                      {
                        "bin_start": 10524,
                        "bin_end": 10927.4,
                        "count": 0
                      },
                      {
                        "bin_start": 10927.4,
                        "bin_end": 11330.8,
                        "count": 0
                      },
                      {
                        "bin_start": 11330.8,
                        "bin_end": 11734.2,
                        "count": 0
                      },
                      {
                        "bin_start": 11734.2,
                        "bin_end": 12137.6,
                        "count": 0
                      },
                      {
                        "bin_start": 12137.6,
                        "bin_end": 12541,
                        "count": 1
                      }
                    ]
                  }
                },
                {
                  "name": "unemployment_rate_1995",
                  "dtype": "float64",
                  "stats": {
                    "unique_count": 5,
                    "nan_count": 0,
                    "min": "0.29",
                    "max": "4.64",
                    "histogram": [
                      {
                        "bin_start": 0.29,
                        "bin_end": 0.7249999999999999,
                        "count": 1
                      },
                      {
                        "bin_start": 0.7249999999999999,
                        "bin_end": 1.16,
                        "count": 0
                      },
                      {
                        "bin_start": 1.16,
                        "bin_end": 1.5949999999999998,
                        "count": 0
                      },
                      {
                        "bin_start": 1.5949999999999998,
                        "bin_end": 2.03,
                        "count": 2
                      },
                      {
                        "bin_start": 2.03,
                        "bin_end": 2.465,
                        "count": 0
                      },
                      {
                        "bin_start": 2.465,
                        "bin_end": 2.8999999999999995,
                        "count": 0
                      },
                      {
                        "bin_start": 2.8999999999999995,
                        "bin_end": 3.3349999999999995,
                        "count": 0
                      },
                      {
                        "bin_start": 3.3349999999999995,
                        "bin_end": 3.7699999999999996,
                        "count": 0
                      },
                      {
                        "bin_start": 3.7699999999999996,
                        "bin_end": 4.204999999999999,
                        "count": 1
                      },
                      {
                        "bin_start": 4.204999999999999,
                        "bin_end": 4.64,
                        "count": 1
                      }
                    ]
                  }
                },
                {
                  "name": "unemployment_rate_1996",
                  "dtype": "float64",
                  "stats": {
                    "unique_count": 5,
                    "nan_count": 0,
                    "min": "0.43",
                    "max": "5.05",
                    "histogram": [
                      {
                        "bin_start": 0.43,
                        "bin_end": 0.892,
                        "count": 1
                      },
                      {
                        "bin_start": 0.892,
                        "bin_end": 1.354,
                        "count": 0
                      },
                      {
                        "bin_start": 1.354,
                        "bin_end": 1.816,
                        "count": 0
                      },
                      {
                        "bin_start": 1.816,
                        "bin_end": 2.278,
                        "count": 2
                      },
                      {
                        "bin_start": 2.278,
                        "bin_end": 2.74,
                        "count": 0
                      },
                      {
                        "bin_start": 2.74,
                        "bin_end": 3.2020000000000004,
                        "count": 0
                      },
                      {
                        "bin_start": 3.2020000000000004,
                        "bin_end": 3.664,
                        "count": 0
                      },
                      {
                        "bin_start": 3.664,
                        "bin_end": 4.126,
                        "count": 0
                      },
                      {
                        "bin_start": 4.126,
                        "bin_end": 4.588,
                        "count": 1
                      },
                      {
                        "bin_start": 4.588,
                        "bin_end": 5.05,
                        "count": 1
                      }
                    ]
                  }
                },
                {
                  "name": "entrepreneurs_per_1000_inhabitants",
                  "dtype": "int64",
                  "stats": {
                    "unique_count": 5,
                    "nan_count": 0,
                    "min": "109",
                    "max": "167",
                    "histogram": [
                      {
                        "bin_start": 109,
                        "bin_end": 114.8,
                        "count": 2
                      },
                      {
                        "bin_start": 114.8,
                        "bin_end": 120.6,
                        "count": 1
                      },
                      {
                        "bin_start": 120.6,
                        "bin_end": 126.4,
                        "count": 0
                      },
                      {
                        "bin_start": 126.4,
                        "bin_end": 132.2,
                        "count": 1
                      },
                      {
                        "bin_start": 132.2,
                        "bin_end": 138,
                        "count": 0
                      },
                      {
                        "bin_start": 138,
                        "bin_end": 143.8,
                        "count": 0
                      },
                      {
                        "bin_start": 143.8,
                        "bin_end": 149.6,
                        "count": 0
                      },
                      {
                        "bin_start": 149.6,
                        "bin_end": 155.4,
                        "count": 0
                      },
                      {
                        "bin_start": 155.4,
                        "bin_end": 161.2,
                        "count": 0
                      },
                      {
                        "bin_start": 161.2,
                        "bin_end": 167,
                        "count": 1
                      }
                    ]
                  }
                },
                {
                  "name": "crimes_committed_1995",
                  "dtype": "float64",
                  "stats": {
                    "unique_count": 5,
                    "nan_count": 0,
                    "min": "2159.0",
                    "max": "85677.0",
                    "histogram": [
                      {
                        "bin_start": 2159,
                        "bin_end": 10510.8,
                        "count": 4
                      },
                      {
                        "bin_start": 10510.8,
                        "bin_end": 18862.6,
                        "count": 0
                      },
                      {
                        "bin_start": 18862.6,
                        "bin_end": 27214.399999999998,
                        "count": 0
                      },
                      {
                        "bin_start": 27214.399999999998,
                        "bin_end": 35566.2,
                        "count": 0
                      },
                      {
                        "bin_start": 35566.2,
                        "bin_end": 43918,
                        "count": 0
                      },
                      {
                        "bin_start": 43918,
                        "bin_end": 52269.799999999996,
                        "count": 0
                      },
                      {
                        "bin_start": 52269.799999999996,
                        "bin_end": 60621.59999999999,
                        "count": 0
                      },
                      {
                        "bin_start": 60621.59999999999,
                        "bin_end": 68973.4,
                        "count": 0
                      },
                      {
                        "bin_start": 68973.4,
                        "bin_end": 77325.2,
                        "count": 0
                      },
                      {
                        "bin_start": 77325.2,
                        "bin_end": 85677,
                        "count": 1
                      }
                    ]
                  }
                },
                {
                  "name": "crimes_committed_1996",
                  "dtype": "int64",
                  "stats": {
                    "unique_count": 5,
                    "nan_count": 0,
                    "min": "2674",
                    "max": "99107",
                    "histogram": [
                      {
                        "bin_start": 2674,
                        "bin_end": 12317.3,
                        "count": 4
                      },
                      {
                        "bin_start": 12317.3,
                        "bin_end": 21960.6,
                        "count": 0
                      },
                      {
                        "bin_start": 21960.6,
                        "bin_end": 31603.899999999998,
                        "count": 0
                      },
                      {
                        "bin_start": 31603.899999999998,
                        "bin_end": 41247.2,
                        "count": 0
                      },
                      {
                        "bin_start": 41247.2,
                        "bin_end": 50890.5,
                        "count": 0
                      },
                      {
                        "bin_start": 50890.5,
                        "bin_end": 60533.799999999996,
                        "count": 0
                      },
                      {
                        "bin_start": 60533.799999999996,
                        "bin_end": 70177.09999999999,
                        "count": 0
                      },
                      {
                        "bin_start": 70177.09999999999,
                        "bin_end": 79820.4,
                        "count": 0
                      },
                      {
                        "bin_start": 79820.4,
                        "bin_end": 89463.7,
                        "count": 0
                      },
                      {
                        "bin_start": 89463.7,
                        "bin_end": 99107,
                        "count": 1
                      }
                    ]
                  }
                },
                {
                  "name": "_deepnote_index_column",
                  "dtype": "int64"
                }
              ],
              "rows": [
                {
                  "district_id": 1,
                  "district_name": "Hl.m. Praha",
                  "region": "Prague",
                  "inhabitants": 1204953,
                  "small_municipalities": 0,
                  "medium_municipalities": 0,
                  "large_municipalities": 0,
                  "huge_municipalities": 1,
                  "cities": 1,
                  "ratio_urban_inhabitants": 100,
                  "average_salary": 12541,
                  "unemployment_rate_1995": 0.29,
                  "unemployment_rate_1996": 0.43,
                  "entrepreneurs_per_1000_inhabitants": 167,
                  "crimes_committed_1995": 85677,
                  "crimes_committed_1996": 99107,
                  "_deepnote_index_column": 0
                },
                {
                  "district_id": 2,
                  "district_name": "Benesov",
                  "region": "central Bohemia",
                  "inhabitants": 88884,
                  "small_municipalities": 80,
                  "medium_municipalities": 26,
                  "large_municipalities": 6,
                  "huge_municipalities": 2,
                  "cities": 5,
                  "ratio_urban_inhabitants": 46.7,
                  "average_salary": 8507,
                  "unemployment_rate_1995": 1.67,
                  "unemployment_rate_1996": 1.85,
                  "entrepreneurs_per_1000_inhabitants": 132,
                  "crimes_committed_1995": 2159,
                  "crimes_committed_1996": 2674,
                  "_deepnote_index_column": 1
                },
                {
                  "district_id": 3,
                  "district_name": "Beroun",
                  "region": "central Bohemia",
                  "inhabitants": 75232,
                  "small_municipalities": 55,
                  "medium_municipalities": 26,
                  "large_municipalities": 4,
                  "huge_municipalities": 1,
                  "cities": 5,
                  "ratio_urban_inhabitants": 41.7,
                  "average_salary": 8980,
                  "unemployment_rate_1995": 1.95,
                  "unemployment_rate_1996": 2.21,
                  "entrepreneurs_per_1000_inhabitants": 111,
                  "crimes_committed_1995": 2824,
                  "crimes_committed_1996": 2813,
                  "_deepnote_index_column": 2
                },
                {
                  "district_id": 4,
                  "district_name": "Kladno",
                  "region": "central Bohemia",
                  "inhabitants": 149893,
                  "small_municipalities": 63,
                  "medium_municipalities": 29,
                  "large_municipalities": 6,
                  "huge_municipalities": 2,
                  "cities": 6,
                  "ratio_urban_inhabitants": 67.4,
                  "average_salary": 9753,
                  "unemployment_rate_1995": 4.64,
                  "unemployment_rate_1996": 5.05,
                  "entrepreneurs_per_1000_inhabitants": 109,
                  "crimes_committed_1995": 5244,
                  "crimes_committed_1996": 5892,
                  "_deepnote_index_column": 3
                },
                {
                  "district_id": 5,
                  "district_name": "Kolin",
                  "region": "central Bohemia",
                  "inhabitants": 95616,
                  "small_municipalities": 65,
                  "medium_municipalities": 30,
                  "large_municipalities": 4,
                  "huge_municipalities": 1,
                  "cities": 6,
                  "ratio_urban_inhabitants": 51.4,
                  "average_salary": 9307,
                  "unemployment_rate_1995": 3.85,
                  "unemployment_rate_1996": 4.43,
                  "entrepreneurs_per_1000_inhabitants": 118,
                  "crimes_committed_1995": 2616,
                  "crimes_committed_1996": 3040,
                  "_deepnote_index_column": 4
                }
              ]
            },
            "text/plain": "   district_id district_name           region  inhabitants  \\\n0            1   Hl.m. Praha           Prague      1204953   \n1            2       Benesov  central Bohemia        88884   \n2            3        Beroun  central Bohemia        75232   \n3            4        Kladno  central Bohemia       149893   \n4            5         Kolin  central Bohemia        95616   \n\n   small_municipalities  medium_municipalities  large_municipalities  \\\n0                     0                      0                     0   \n1                    80                     26                     6   \n2                    55                     26                     4   \n3                    63                     29                     6   \n4                    65                     30                     4   \n\n   huge_municipalities  cities  ratio_urban_inhabitants  average_salary  \\\n0                    1       1                    100.0           12541   \n1                    2       5                     46.7            8507   \n2                    1       5                     41.7            8980   \n3                    2       6                     67.4            9753   \n4                    1       6                     51.4            9307   \n\n   unemployment_rate_1995  unemployment_rate_1996  \\\n0                    0.29                    0.43   \n1                    1.67                    1.85   \n2                    1.95                    2.21   \n3                    4.64                    5.05   \n4                    3.85                    4.43   \n\n   entrepreneurs_per_1000_inhabitants  crimes_committed_1995  \\\n0                                 167                85677.0   \n1                                 132                 2159.0   \n2                                 111                 2824.0   \n3                                 109                 5244.0   \n4                                 118                 2616.0   \n\n   crimes_committed_1996  \n0                  99107  \n1                   2674  \n2                   2813  \n3                   5892  \n4                   3040  ",
            "text/html": "<div>\n<style scoped>\n    .dataframe tbody tr th:only-of-type {\n        vertical-align: middle;\n    }\n\n    .dataframe tbody tr th {\n        vertical-align: top;\n    }\n\n    .dataframe thead th {\n        text-align: right;\n    }\n</style>\n<table border=\"1\" class=\"dataframe\">\n  <thead>\n    <tr style=\"text-align: right;\">\n      <th></th>\n      <th>district_id</th>\n      <th>district_name</th>\n      <th>region</th>\n      <th>inhabitants</th>\n      <th>small_municipalities</th>\n      <th>medium_municipalities</th>\n      <th>large_municipalities</th>\n      <th>huge_municipalities</th>\n      <th>cities</th>\n      <th>ratio_urban_inhabitants</th>\n      <th>average_salary</th>\n      <th>unemployment_rate_1995</th>\n      <th>unemployment_rate_1996</th>\n      <th>entrepreneurs_per_1000_inhabitants</th>\n      <th>crimes_committed_1995</th>\n      <th>crimes_committed_1996</th>\n    </tr>\n  </thead>\n  <tbody>\n    <tr>\n      <th>0</th>\n      <td>1</td>\n      <td>Hl.m. Praha</td>\n      <td>Prague</td>\n      <td>1204953</td>\n      <td>0</td>\n      <td>0</td>\n      <td>0</td>\n      <td>1</td>\n      <td>1</td>\n      <td>100.0</td>\n      <td>12541</td>\n      <td>0.29</td>\n      <td>0.43</td>\n      <td>167</td>\n      <td>85677.0</td>\n      <td>99107</td>\n    </tr>\n    <tr>\n      <th>1</th>\n      <td>2</td>\n      <td>Benesov</td>\n      <td>central Bohemia</td>\n      <td>88884</td>\n      <td>80</td>\n      <td>26</td>\n      <td>6</td>\n      <td>2</td>\n      <td>5</td>\n      <td>46.7</td>\n      <td>8507</td>\n      <td>1.67</td>\n      <td>1.85</td>\n      <td>132</td>\n      <td>2159.0</td>\n      <td>2674</td>\n    </tr>\n    <tr>\n      <th>2</th>\n      <td>3</td>\n      <td>Beroun</td>\n      <td>central Bohemia</td>\n      <td>75232</td>\n      <td>55</td>\n      <td>26</td>\n      <td>4</td>\n      <td>1</td>\n      <td>5</td>\n      <td>41.7</td>\n      <td>8980</td>\n      <td>1.95</td>\n      <td>2.21</td>\n      <td>111</td>\n      <td>2824.0</td>\n      <td>2813</td>\n    </tr>\n    <tr>\n      <th>3</th>\n      <td>4</td>\n      <td>Kladno</td>\n      <td>central Bohemia</td>\n      <td>149893</td>\n      <td>63</td>\n      <td>29</td>\n      <td>6</td>\n      <td>2</td>\n      <td>6</td>\n      <td>67.4</td>\n      <td>9753</td>\n      <td>4.64</td>\n      <td>5.05</td>\n      <td>109</td>\n      <td>5244.0</td>\n      <td>5892</td>\n    </tr>\n    <tr>\n      <th>4</th>\n      <td>5</td>\n      <td>Kolin</td>\n      <td>central Bohemia</td>\n      <td>95616</td>\n      <td>65</td>\n      <td>30</td>\n      <td>4</td>\n      <td>1</td>\n      <td>6</td>\n      <td>51.4</td>\n      <td>9307</td>\n      <td>3.85</td>\n      <td>4.43</td>\n      <td>118</td>\n      <td>2616.0</td>\n      <td>3040</td>\n    </tr>\n  </tbody>\n</table>\n</div>"
          },
          "metadata": {}
        }
      ],
      "outputs_reference": null,
      "execution_count": null,
      "block_group": "7c73ae94f72f4fdbb6bc457694c8bc39"
    },
    {
      "cell_type": "markdown",
      "source": "## Merge Data",
      "metadata": {
        "collapsed": false,
        "deepnote_app_block_visible": true,
        "cell_id": "62014f1301114fc5876f68eca21069d3",
        "deepnote_cell_type": "markdown"
      },
      "block_group": "772f4a5e81bb44d99cbd9c72a3869eca"
    },
    {
      "cell_type": "code",
      "source": "",
      "metadata": {
        "collapsed": false,
        "source_hash": null,
        "execution_start": 1708692063521,
        "execution_millis": 260,
        "deepnote_to_be_reexecuted": false,
        "deepnote_app_block_visible": true,
        "cell_id": "7985d15a3bc24f99a08f21f232012173",
        "deepnote_cell_type": "code"
      },
      "outputs": [],
      "outputs_reference": null,
      "execution_count": null,
      "block_group": "1f59f4a36ed44cf4a763aa1f2da24d27"
    },
    {
      "cell_type": "markdown",
      "source": "# Model Construction",
      "metadata": {
        "collapsed": false,
        "deepnote_app_block_visible": true,
        "cell_id": "b24a489b767844ef836fd1cdfa1b0f01",
        "deepnote_cell_type": "markdown"
      },
      "block_group": "9e7c7ebe286b4072a4a847cb4b9a3ca3"
    },
    {
      "cell_type": "markdown",
      "source": "# Feature Engineering",
      "metadata": {
        "collapsed": false,
        "deepnote_app_block_visible": true,
        "cell_id": "e17f12d4fb6c4d229254c6643a32b03f",
        "deepnote_cell_type": "markdown"
      },
      "block_group": "e374362f5e424ba2960cc73e371c80fb"
    },
    {
      "cell_type": "markdown",
      "source": "# Model Engineering",
      "metadata": {
        "collapsed": false,
        "deepnote_app_block_visible": true,
        "cell_id": "4ba58e15b16d44b0a7c66a47cf498bbf",
        "deepnote_cell_type": "markdown"
      },
      "block_group": "9b651bd42a6f4807b1c79965f9bfd495"
    },
    {
      "cell_type": "markdown",
      "source": "# Model Comparison & Selection",
      "metadata": {
        "collapsed": false,
        "deepnote_app_block_visible": true,
        "cell_id": "a203aa44aad04b7ca6e4f774e2cf2c59",
        "deepnote_cell_type": "markdown"
      },
      "block_group": "5eb9a9a5e13045f0bf1f1ae01e99ff81"
    },
    {
      "cell_type": "markdown",
      "source": "<a style='text-decoration:none;line-height:16px;display:flex;color:#5B5B62;padding:10px;justify-content:end;' href='https://deepnote.com?utm_source=created-in-deepnote-cell&projectId=7d865ccc-7b5c-4f8d-b4e6-4e008791345d' target=\"_blank\">\n<img alt='Created in deepnote.com' style='display:inline;max-height:16px;margin:0px;margin-right:7.5px;' src='data:image/svg+xml;base64,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' > </img>\nCreated in <span style='font-weight:600;margin-left:4px;'>Deepnote</span></a>",
      "metadata": {
        "created_in_deepnote_cell": true,
        "deepnote_cell_type": "markdown"
      }
    }
  ],
  "nbformat": 4,
  "nbformat_minor": 0,
  "metadata": {
    "deepnote_app_layout": "powerful-article",
    "deepnote_app_reactivity_enabled": true,
    "deepnote_notebook_id": "2ef3858b0ef64bcd97d256cee39e7aba",
    "deepnote_execution_queue": []
  }
}