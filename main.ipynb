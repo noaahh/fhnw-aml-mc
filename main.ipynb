{
 "cells": [
  {
   "cell_type": "markdown",
   "metadata": {
    "cell_id": "4366d59ebb934e458257bbcf3850ed3a",
    "deepnote_app_block_visible": true,
    "deepnote_cell_type": "markdown"
   },
   "source": [
    "# AML Mini-Challenge - Credit Card Affinity Modelling\n",
    "\n",
    "Dominik Filliger & Noah Leuenberger\n",
    "\n",
    "\n",
    "# Task\n",
    "\n",
    "The task can be found [here](https://spaces.technik.fhnw.ch/storage/uploads/spaces/82/exercises/20240218__AML_Trainingscenter_MiniChallenge_Kreditkarten_Aufgabenstellung-1708412668.pdf).\n",
    "\n",
    "# Setup"
   ]
  },
  {
   "cell_type": "code",
   "execution_count": null,
   "metadata": {
    "cell_id": "8d7220ad267f4822a669bce481bc2c0f",
    "deepnote_app_block_visible": true,
    "deepnote_cell_type": "code",
    "deepnote_to_be_reexecuted": false,
    "execution_millis": 743,
    "execution_start": 1708795441516,
    "source_hash": "e4480d88"
   },
   "outputs": [],
   "source": [
    "from datetime import datetime\n",
    "\n",
    "import numpy as np\n",
    "import pandas as pd\n",
    "import seaborn as sns\n",
    "\n",
    "sns.set_theme()"
   ]
  },
  {
   "cell_type": "markdown",
   "metadata": {
    "cell_id": "da801b505a294c35b5f4b6a4561fada5",
    "collapsed": false,
    "deepnote_app_block_visible": true,
    "deepnote_cell_type": "markdown"
   },
   "source": [
    "# Data Import & Preprocessing\n",
    "\n",
    "## Accounts"
   ]
  },
  {
   "cell_type": "code",
   "execution_count": null,
   "metadata": {
    "cell_id": "f2f3f75877994b69b6503bf1cb1a6d5d",
    "collapsed": false,
    "deepnote_app_block_visible": true,
    "deepnote_cell_type": "code",
    "deepnote_to_be_reexecuted": false,
    "execution_millis": 263,
    "execution_start": 1708795442263,
    "source_hash": "3bf97a7"
   },
   "outputs": [],
   "source": [
    "accounts = pd.read_csv(\"data/account.csv\", sep=\";\")\n",
    "\n",
    "# Translated frequency from Czech to English\n",
    "# according to https://sorry.vse.cz/~berka/challenge/PAST/index.html\n",
    "accounts['frequency'] = accounts['frequency'].map({\n",
    "    \"POPLATEK MESICNE\": \"MONTHLY_ISSUANCE\",\n",
    "    \"POPLATEK TYDNE\": \"WEEKLY_ISSUANCE\",\n",
    "    \"POPLATEK PO OBRATU\": \"ISSUANCE_AFTER_TRANSACTION\"\n",
    "})\n",
    "\n",
    "accounts['date'] = pd.to_datetime(accounts['date'], format='%y%m%d')\n",
    "accounts['frequency'] = accounts['frequency'].astype('category')\n",
    "\n",
    "accounts.rename(columns={'date': 'account_created',\n",
    "                         'frequency': 'account_frequency'}, inplace=True)\n",
    "\n",
    "display(accounts.head(), accounts.info())"
   ]
  },
  {
   "cell_type": "markdown",
   "metadata": {
    "cell_id": "08b5fe0377884855a1f5b4fb87253162",
    "collapsed": false,
    "deepnote_app_block_visible": true,
    "deepnote_cell_type": "markdown"
   },
   "source": [
    "## Clients"
   ]
  },
  {
   "cell_type": "code",
   "execution_count": null,
   "metadata": {
    "cell_id": "1631f732c36447238e6c5b296cc0edeb",
    "collapsed": false,
    "deepnote_app_block_visible": true,
    "deepnote_cell_type": "code",
    "deepnote_to_be_reexecuted": false,
    "execution_millis": 614,
    "execution_start": 1708795442527,
    "source_hash": "a71d85b1"
   },
   "outputs": [],
   "source": [
    "clients = pd.read_csv(\"data/client.csv\", sep=\";\")\n",
    "\n",
    "\n",
    "def parse_birth_number(birth_number):\n",
    "    birth_number_str = str(birth_number)\n",
    "\n",
    "    # Extract year, month, and day from birth number from string\n",
    "    # according to https://sorry.vse.cz/~berka/challenge/PAST/index.html\n",
    "    year = int(birth_number_str[:2])\n",
    "    month = int(birth_number_str[2:4])\n",
    "    day = int(birth_number_str[4:6])\n",
    "\n",
    "    # Determine sex based on month and adjust month for female clients\n",
    "    # according to https://sorry.vse.cz/~berka/challenge/PAST/index.html\n",
    "    if month > 50:\n",
    "        sex = \"Female\"\n",
    "        month -= 50\n",
    "    else:\n",
    "        sex = \"Male\"\n",
    "\n",
    "    # Validate date\n",
    "    assert 1 <= month <= 12\n",
    "    assert 1 <= day <= 31\n",
    "    assert 0 <= year <= 99\n",
    "\n",
    "    if month in [4, 6, 9, 11]:\n",
    "        assert 1 <= day <= 30\n",
    "    elif month == 2:\n",
    "        assert 1 <= day <= 29\n",
    "    else:\n",
    "        assert 1 <= day <= 31\n",
    "\n",
    "    # Assuming all dates are in the 1900s\n",
    "    birth_date = datetime(1900 + year, month, day)\n",
    "    return pd.Series([sex, birth_date])\n",
    "\n",
    "\n",
    "clients[['client_sex', 'birth_date']] = clients['birth_number'].apply(parse_birth_number)\n",
    "\n",
    "# Calculate 'age' assuming the reference year is 1999\n",
    "clients['age'] = clients['birth_date'].apply(lambda x: 1999 - x.year)\n",
    "\n",
    "# Drop 'birth_number' column as it is no longer needed\n",
    "clients = clients.drop(columns=['birth_number'])\n",
    "\n",
    "clients.head()"
   ]
  },
  {
   "cell_type": "markdown",
   "metadata": {
    "cell_id": "95aa59e5572d497a8f7d9e75096c7f9a",
    "collapsed": false,
    "deepnote_app_block_visible": true,
    "deepnote_cell_type": "markdown"
   },
   "source": [
    "## Dispositions"
   ]
  },
  {
   "cell_type": "code",
   "execution_count": null,
   "metadata": {
    "cell_id": "07f209dcbf7545c6a713868f1edf879e",
    "collapsed": false,
    "deepnote_app_block_visible": true,
    "deepnote_cell_type": "code",
    "deepnote_to_be_reexecuted": false,
    "execution_millis": 236,
    "execution_start": 1708795443143,
    "source_hash": "19cf2474"
   },
   "outputs": [],
   "source": [
    "dispositions = pd.read_csv(\"data/disp.csv\", sep=\";\")\n",
    "dispositions['type'] = dispositions['type'].astype('category')\n",
    "\n",
    "dispositions.head()"
   ]
  },
  {
   "cell_type": "markdown",
   "metadata": {
    "cell_id": "35f4e99c49514d57964102d8b9de0971",
    "collapsed": false,
    "deepnote_app_block_visible": true,
    "deepnote_cell_type": "markdown"
   },
   "source": [
    "## Orders"
   ]
  },
  {
   "cell_type": "code",
   "execution_count": null,
   "metadata": {
    "cell_id": "cf3840f41bf640889cc4b3b1e72a371a",
    "collapsed": false,
    "deepnote_app_block_visible": true,
    "deepnote_cell_type": "code",
    "deepnote_to_be_reexecuted": false,
    "execution_millis": 230,
    "execution_start": 1708795443352,
    "source_hash": "415bd45c"
   },
   "outputs": [],
   "source": [
    "orders = pd.read_csv(\"data/order.csv\", sep=\";\")\n",
    "\n",
    "# Translated from Czech to English\n",
    "# according to https://sorry.vse.cz/~berka/challenge/PAST/index.html\n",
    "orders['k_symbol'] = orders['k_symbol'].map({\n",
    "    \"POJISTNE\": \"Insurance_Payment\",\n",
    "    \"SIPO\": \"Household\",\n",
    "    \"LEASING\": \"Leasing\",\n",
    "    \"UVER\": \"Loan_Payment\"\n",
    "})\n",
    "\n",
    "orders['k_symbol'] = orders['k_symbol'].astype('category')\n",
    "orders['bank_to'] = orders['bank_to'].astype('category')\n",
    "\n",
    "orders = orders.rename(columns={'amount': 'debited_amount'})\n",
    "\n",
    "orders.head()"
   ]
  },
  {
   "cell_type": "markdown",
   "metadata": {
    "cell_id": "ff3b67ccf93a4423912430854458476a",
    "collapsed": false,
    "deepnote_app_block_visible": true,
    "deepnote_cell_type": "markdown"
   },
   "source": [
    "## Transactions"
   ]
  },
  {
   "cell_type": "code",
   "execution_count": null,
   "metadata": {
    "cell_id": "82fccbdb6e864bffb187217ea812845e",
    "collapsed": false,
    "deepnote_app_block_visible": true,
    "deepnote_cell_type": "code",
    "deepnote_to_be_reexecuted": false,
    "execution_millis": 1420,
    "execution_start": 1708795443596,
    "source_hash": "79ef4779"
   },
   "outputs": [],
   "source": [
    "# column 8 is the 'bank' column which contains NaNs and must be read as string\n",
    "transactions = pd.read_csv(\"data/trans.csv\", sep=\";\", dtype={8: str})\n",
    "\n",
    "transactions['date'] = pd.to_datetime(transactions['date'], format='%y%m%d')\n",
    "\n",
    "# Translated type, operations and characteristics from Czech to English\n",
    "# according to https://sorry.vse.cz/~berka/challenge/PAST/index.html\n",
    "transactions['type'] = transactions['type'].map({\n",
    "    \"VYBER\": \"VYDAJ\",\n",
    "    \"PRIJEM\": \"Credit\",\n",
    "    \"VYDAJ\": \"Withdrawal\"\n",
    "})\n",
    "\n",
    "transactions['operation'] = transactions['operation'].map({\n",
    "    \"VYBER KARTOU\": \"Credit Card Withdrawal\",\n",
    "    \"VKLAD\": \"Credit in Cash\",\n",
    "    \"PREVOD Z UCTU\": \"Collection from Another Bank\",\n",
    "    \"VYBER\": \"Withdrawal in Cash\",\n",
    "    \"PREVOD NA UCET\": \"Remittance to Another Bank\"\n",
    "})\n",
    "\n",
    "transactions['k_symbol'] = transactions['k_symbol'].map({\n",
    "    \"POJISTNE\": \"Insurance Payment\",\n",
    "    \"SLUZBY\": \"Payment on Statement\",\n",
    "    \"UROK\": \"Interest Credited\",\n",
    "    \"SANKC. UROK\": \"Sanction Interest\",\n",
    "    \"SIPO\": \"Household\",\n",
    "    \"DUCHOD\": \"Old-age Pension\",\n",
    "    \"UVER\": \"Loan Payment\"\n",
    "})\n",
    "\n",
    "transactions['bank'] = transactions['bank'].replace('', np.nan)\n",
    "\n",
    "transactions['amount'] = np.where(transactions['type'] == \"Credit\", transactions['amount'], -transactions['amount'])\n",
    "transactions.rename(columns={'type': 'transaction_type'}, inplace=True)\n",
    "\n",
    "transactions.head()"
   ]
  },
  {
   "cell_type": "markdown",
   "metadata": {},
   "source": [
    "We need some categorical indicator wheter a transactions is a transactions incoming or outgoing from the perspective of the account holder. This will be important for the feature engineering later on. We will create a column called `transaction_direction` using the amount to engineer this feature.\n",
    "\n",
    "Balance is the wealth on the account after the transaction.\n",
    "\n",
    "k_symbol is the purpose of the transaction. This is often use in the context of budgeting in E-Banking applications or just personal finance management. A lot of NA values are present in this column. We will have to deal with this later on and weigh the importance of this column.\n",
    "\n"
   ]
  },
  {
   "cell_type": "code",
   "execution_count": null,
   "metadata": {},
   "outputs": [],
   "source": []
  },
  {
   "cell_type": "markdown",
   "metadata": {},
   "source": [
    "Track the time series of a given account to get a better understanding of the datasets nature."
   ]
  },
  {
   "cell_type": "code",
   "execution_count": null,
   "metadata": {},
   "outputs": [],
   "source": []
  },
  {
   "cell_type": "markdown",
   "metadata": {},
   "source": [
    "It seems that there can be multiple transactions on the same day. We will have to aggregate the transactions on the same day to get a better understanding of the transactions as the timestamp resolution is not high enough to track the transactions on a daily basis.\n",
    "\n",
    "We need some handling for this as the ID is not informative as well (Dani). \n",
    "\n",
    "For the feature enginnering a per month evaluation of the transactions is sufficient (Dani). \n",
    "\n",
    "We need to make sure across the board that for the prediction we only use the data that is available at the time of the prediction. This means that we can only use the data from the past to predict the future. This is important to keep in mind when we engineer the features as some entities do not have any information about the date and therefore we cannot use them for the prediction as we cannot rule out that they are not from the future.\n",
    "\n",
    "Frequency analysis of the transactions could be interesting as the hypothesis might be that the more frequent the transactions the more likely the account holder is to be interested in a credit card. Fourier transformation could be used to get a better understanding of the frequency of the transactions."
   ]
  },
  {
   "cell_type": "markdown",
   "metadata": {
    "cell_id": "b02413e62715494cafd0689ecc411ce9",
    "collapsed": false,
    "deepnote_app_block_visible": true,
    "deepnote_cell_type": "markdown"
   },
   "source": [
    "## Loans"
   ]
  },
  {
   "cell_type": "code",
   "execution_count": null,
   "metadata": {
    "cell_id": "10ad619ad8cb433e9b6de19fbb51f76e",
    "collapsed": false,
    "deepnote_app_block_visible": true,
    "deepnote_cell_type": "code",
    "deepnote_table_loading": false,
    "deepnote_table_state": {
     "filters": [],
     "pageIndex": 0,
     "pageSize": 10,
     "sortBy": []
    },
    "deepnote_to_be_reexecuted": false,
    "execution_millis": 265,
    "execution_start": 1708795445021,
    "source_hash": "37f8aab6"
   },
   "outputs": [],
   "source": [
    "loans = pd.read_csv(\"data/loan.csv\", sep=\";\")\n",
    "\n",
    "loans['date'] = pd.to_datetime(loans['date'], format='%y%m%d')\n",
    "\n",
    "loans['status'] = loans['status'].map({\n",
    "    \"A\": \"Contract finished, no problems\",\n",
    "    \"B\": \"Contract finished, loan not payed\",\n",
    "    \"C\": \"Contract running, OK thus-far\",\n",
    "    \"D\": \"Contract running, client in debt\"\n",
    "})\n",
    "\n",
    "# Rename columns\n",
    "# according to https://sorry.vse.cz/~berka/challenge/PAST/index.html\n",
    "loans.rename(columns={\n",
    "    'date': 'loan_granted_date',\n",
    "    'amount': 'loan_amount',\n",
    "    'duration': 'loan_duration',\n",
    "    'payments': 'loan_monthly_payments',\n",
    "    'status': 'loan_status'\n",
    "}, inplace=True)\n",
    "\n",
    "loans.head()"
   ]
  },
  {
   "cell_type": "markdown",
   "metadata": {
    "cell_id": "49e554a625e741c5940cd3bfa94c6209",
    "collapsed": false,
    "deepnote_app_block_visible": true,
    "deepnote_cell_type": "markdown"
   },
   "source": [
    "## Credit Cards"
   ]
  },
  {
   "cell_type": "code",
   "execution_count": null,
   "metadata": {
    "cell_id": "9174c131aa4e4e34a7f8d8ae4cdf957c",
    "collapsed": false,
    "deepnote_app_block_visible": true,
    "deepnote_cell_type": "code",
    "deepnote_to_be_reexecuted": false,
    "execution_millis": 222,
    "execution_start": 1708795445264,
    "source_hash": "7edc2ed0"
   },
   "outputs": [],
   "source": [
    "cards = pd.read_csv(\"data/card.csv\", sep=\";\")\n",
    "cards['type'] = cards['type'].astype('category')\n",
    "\n",
    "cards['issued'] = pd.to_datetime(cards['issued'], format='%y%m%d %H:%M:%S').dt.date\n",
    "cards.rename(columns={'type': 'card_type',\n",
    "                      'issued': 'card_issued'}, inplace=True)\n",
    "\n",
    "cards.head()"
   ]
  },
  {
   "cell_type": "markdown",
   "metadata": {
    "cell_id": "c3a8dc8e699f4087abb6f949e6554d36",
    "collapsed": false,
    "deepnote_app_block_visible": true,
    "deepnote_cell_type": "markdown"
   },
   "source": [
    "## Demographic data"
   ]
  },
  {
   "cell_type": "code",
   "execution_count": null,
   "metadata": {
    "cell_id": "02d60090c0744453838cd52071a95438",
    "deepnote_app_block_visible": true,
    "deepnote_cell_type": "code",
    "deepnote_to_be_reexecuted": false,
    "execution_millis": 240,
    "execution_start": 1708795445432,
    "source_hash": "ab755db"
   },
   "outputs": [],
   "source": [
    "districts = pd.read_csv(\"data/district.csv\", sep=\";\")\n",
    "\n",
    "# Rename columns\n",
    "# according to https://sorry.vse.cz/~berka/challenge/PAST/index.html\n",
    "districts.rename(columns={\n",
    "    'A1': 'district_id',\n",
    "    'A2': 'district_name',\n",
    "    'A3': 'region',\n",
    "    'A4': 'inhabitants',\n",
    "    'A5': 'small_municipalities',\n",
    "    'A6': 'medium_municipalities',\n",
    "    'A7': 'large_municipalities',\n",
    "    'A8': 'huge_municipalities',\n",
    "    'A9': 'cities',\n",
    "    'A10': 'ratio_urban_inhabitants',\n",
    "    'A11': 'average_salary',\n",
    "    'A12': 'unemployment_rate_1995',\n",
    "    'A13': 'unemployment_rate_1996',\n",
    "    'A14': 'entrepreneurs_per_1000_inhabitants',\n",
    "    'A15': 'crimes_committed_1995',\n",
    "    'A16': 'crimes_committed_1996'\n",
    "}, inplace=True)\n",
    "\n",
    "for col in ['unemployment_rate_1995', 'unemployment_rate_1996', 'crimes_committed_1995', 'crimes_committed_1996']:\n",
    "    districts[col] = pd.to_numeric(districts[col], errors='coerce')\n",
    "\n",
    "districts = districts.astype({'region': 'category',\n",
    "                              'district_name': 'category'})\n",
    "\n",
    "districts.head()"
   ]
  },
  {
   "cell_type": "markdown",
   "metadata": {},
   "source": [
    "We need to differentiate between the domicile of the client and account, as they can be different."
   ]
  },
  {
   "cell_type": "markdown",
   "metadata": {
    "cell_id": "c1b85f0a04b0436cbab5f5ba8a528851",
    "deepnote_app_block_visible": true,
    "deepnote_cell_type": "text-cell-h1",
    "formattedRanges": []
   },
   "source": [
    "# EDA"
   ]
  },
  {
   "cell_type": "markdown",
   "metadata": {
    "cell_id": "f517abff36734db2bb6bfb38272f1590",
    "deepnote_app_block_visible": true,
    "deepnote_cell_type": "text-cell-p",
    "formattedRanges": [
     {
      "fromCodePoint": 105,
      "ranges": [],
      "toCodePoint": 158,
      "type": "link",
      "url": "https://sorry.vse.cz/~berka/challenge/PAST/index.html"
     }
    ]
   },
   "source": [
    "Following the documentation of the dataset, there are multiple relationships which need to be validated. https://sorry.vse.cz/~berka/challenge/PAST/index.html"
   ]
  },
  {
   "cell_type": "markdown",
   "metadata": {
    "cell_id": "808a5dd8d2044077ad39ac726a7ba138",
    "deepnote_app_block_visible": true,
    "deepnote_cell_type": "text-cell-h2",
    "formattedRanges": []
   },
   "source": [
    "## Relationships"
   ]
  },
  {
   "cell_type": "markdown",
   "metadata": {
    "cell_id": "2716bd17de7b423589b9e972508de583",
    "deepnote_app_block_visible": true,
    "deepnote_cell_type": "text-cell-p",
    "formattedRanges": [
     {
      "fromCodePoint": 41,
      "ranges": [],
      "toCodePoint": 94,
      "type": "link",
      "url": "https://sorry.vse.cz/~berka/challenge/PAST/index.html"
     }
    ]
   },
   "source": [
    "The ERD according to the descriptions on https://sorry.vse.cz/~berka/challenge/PAST/index.html"
   ]
  },
  {
   "cell_type": "markdown",
   "metadata": {
    "cell_id": "347783bec7fb411683dc02c3c86a3f14",
    "deepnote_app_block_visible": true,
    "deepnote_cell_type": "markdown"
   },
   "source": [
    "[![](https://mermaid.ink/img/pako:eNqtV1Fv4jgQ_itWXu6l7SZ0gQatTsqGdhddCxVQrXSqFJnEgLWJnbOd7bGl__3GTgA3JGyvWh7ajPPNZ898nrHz7MQ8Ic7AIWJI8Urg7JEh-AVhOHkYz9FzaeqfVIKyFcJxzAumIpqg-7_QoxOUNhoNH50jcEL1Q2zQNxo9rAZq8AQrUv45EIaCYEU5Q0MYb-BeCvJPQVi8AZ-RlAVmMUE3u8Gdw0v5L7wdXTeGE6eUWNGExmxa3YIKtY5YkS2IAOBnbbYt7S1hVwsbjmb3k9loPpqMG1YHRPl-bUCSc0lNThqzfYjlpjWWYxVvfqmi2uRamMkTI-LDgySiFsNkOryeNqyei4SI_fIn2voNq1lg9j1SHGBTEtPcxPgZxk7w1tAVve2wTDlWCGdmWkg1WVBFEhRkdWDF_D2Sm2zBU8De402mWcM1FjhWRNCfZt_WkjSfBuNZELYIrQRmcp-qubaAq1XptyXMriqbsmXXVjJD3SVUffhG1ToR-AmnDVCeE1EW52vmO2gmJ9JqQ49TW4IXODWVDCVWPQVLSCqyfE_rYU_SpkltOxkVhYLt_YudZAFrm6hS-XYSNMkLkbG9urdg_C5ZDdcXiFjv1rqutewb7HHaKbxMir2cBjWs7GO2vNztEpB3nKl1ukFVAciGgKTCqpA71pmx6p05mA6b-jIWyaErg9F6wOR2lz3dIHc7XNPN4fkoqxTOEUjkbsbSstN66Nrz6SicN7fsfe-_P3HkVXCGM2KDxmA3wARZlfJMzUNdP8YjvowoW2PoW7iUZ8wvEF-i0WGw2SsrGIXOiFNIHJHRE9S9zRSlKuq6rtb7FRB9QjD8PkpwhJ4ceb7vH_PCy3P95n3UHbfk9hu59dtz_93kKxV5wNCQjD_NeDNrXEL2ioTGPi4tU3LaoRAL3S5eqfmgx2wx0VTDG8r9B7TmFYkkdE-h70ZBOYBmZuDYoWAky1NuajiCNZDI7-oJrWE9F0F_-N03efdavHvN6QGEILkgjBRCRnCwmBzXwr-2QQhAyGvPN88yqqAhRrGgGeho4gnNcz2IU14926tndYBaD9huz8_58_7KPDDtLsa6I4_2lVpHVxfSgSlpSROY5ADeUVVY-46oHQIpeUzNBPqU3nlVlP_PyYZpz-227Mja5SuWLSsqb3wa8wUk0bK3Ie1rTxlsDNfCZvS2PD4Hpv8y9BW2ssY5Z05GRIZpAt8ppuE-OmpNdJ_U0IQscZGaI-0FoLhQfLZhsTNQoiBnTpHrzl593DiDJU4ljOaY_c15tgPpGw8Xd-WnkPkiMhBn8Oz86wyuOhf9bsf96Lndvuu5ff_M2TgDz-1ddK763qXvel237131X86cn4bUvbi67PU6Xt_z3Y--e9ntv_wHEyE3kA?type=png)](https://mermaid.live/edit#pako:eNqtV1Fv4jgQ_itWXu6l7SZ0gQatTsqGdhddCxVQrXSqFJnEgLWJnbOd7bGl__3GTgA3JGyvWh7ajPPNZ898nrHz7MQ8Ic7AIWJI8Urg7JEh-AVhOHkYz9FzaeqfVIKyFcJxzAumIpqg-7_QoxOUNhoNH50jcEL1Q2zQNxo9rAZq8AQrUv45EIaCYEU5Q0MYb-BeCvJPQVi8AZ-RlAVmMUE3u8Gdw0v5L7wdXTeGE6eUWNGExmxa3YIKtY5YkS2IAOBnbbYt7S1hVwsbjmb3k9loPpqMG1YHRPl-bUCSc0lNThqzfYjlpjWWYxVvfqmi2uRamMkTI-LDgySiFsNkOryeNqyei4SI_fIn2voNq1lg9j1SHGBTEtPcxPgZxk7w1tAVve2wTDlWCGdmWkg1WVBFEhRkdWDF_D2Sm2zBU8De402mWcM1FjhWRNCfZt_WkjSfBuNZELYIrQRmcp-qubaAq1XptyXMriqbsmXXVjJD3SVUffhG1ToR-AmnDVCeE1EW52vmO2gmJ9JqQ49TW4IXODWVDCVWPQVLSCqyfE_rYU_SpkltOxkVhYLt_YudZAFrm6hS-XYSNMkLkbG9urdg_C5ZDdcXiFjv1rqutewb7HHaKbxMir2cBjWs7GO2vNztEpB3nKl1ukFVAciGgKTCqpA71pmx6p05mA6b-jIWyaErg9F6wOR2lz3dIHc7XNPN4fkoqxTOEUjkbsbSstN66Nrz6SicN7fsfe-_P3HkVXCGM2KDxmA3wARZlfJMzUNdP8YjvowoW2PoW7iUZ8wvEF-i0WGw2SsrGIXOiFNIHJHRE9S9zRSlKuq6rtb7FRB9QjD8PkpwhJ4ceb7vH_PCy3P95n3UHbfk9hu59dtz_93kKxV5wNCQjD_NeDNrXEL2ioTGPi4tU3LaoRAL3S5eqfmgx2wx0VTDG8r9B7TmFYkkdE-h70ZBOYBmZuDYoWAky1NuajiCNZDI7-oJrWE9F0F_-N03efdavHvN6QGEILkgjBRCRnCwmBzXwr-2QQhAyGvPN88yqqAhRrGgGeho4gnNcz2IU14926tndYBaD9huz8_58_7KPDDtLsa6I4_2lVpHVxfSgSlpSROY5ADeUVVY-46oHQIpeUzNBPqU3nlVlP_PyYZpz-227Mja5SuWLSsqb3wa8wUk0bK3Ie1rTxlsDNfCZvS2PD4Hpv8y9BW2ssY5Z05GRIZpAt8ppuE-OmpNdJ_U0IQscZGaI-0FoLhQfLZhsTNQoiBnTpHrzl593DiDJU4ljOaY_c15tgPpGw8Xd-WnkPkiMhBn8Oz86wyuOhf9bsf96Lndvuu5ff_M2TgDz-1ddK763qXvel237131X86cn4bUvbi67PU6Xt_z3Y--e9ntv_wHEyE3kA)"
   ]
  },
  {
   "cell_type": "markdown",
   "metadata": {
    "cell_id": "cf930270c05c427f8b7f22028578ad59",
    "deepnote_app_block_visible": true,
    "deepnote_cell_type": "markdown"
   },
   "source": [
    "This ERD shows how the data appears in the dataset:\n",
    "\n",
    "[![](https://mermaid.ink/img/pako:eNqtV99P2zAQ_lesvOyFbjCJSq2mSSHlRzRoUVq0F6TITdzWIrEz2xnqgP99ZydNTeIUhOgD5JzvPvvufJ-dJy_hKfHGHhETitcC5_cMwc8PgtnddIGeKlP_pBKUrRFOEl4yFdMU3f5C955f2Sic3HsdcEr1Q2LQFxo9qQda8BQrUv3ZEwaCYEU5QxMYd3CvBPlTEpZswSeUssQsIehiN7hzeKn-BdfhuTOcJKPEiiYwpmt1SyrUJmZlviQCgGfa7Fvae8KuFzYJ57ezebgIZ1PH6oCoaNYGJAWX1OTEme19LBe9sXSrePFmFdW20IWZPTIivt1JIloxzKLJeeRYPRcpEc3yZ9r6hNUsMXuIFQdYRBJamBjPYOwAbwtd09sOq4xjhXBupoVUkyVVJEV-3gbWzA-x3OZLngH2Fm9zzRpssMCJIoL-M_u2laRF5E_nftBTaCUwk02qFtoCrt5Kvy9hdlfZlD27ti4z9F1K1bffVG1SgR9x5oDygoiqOV8z34CYHEirDe2mtgIvcWY6GVqsfvJXkFRk-R6uhz1JX01a28lUUSjY3m_sJAvY2kR1la9nvqu8EBlrqnsNxmeV1XBdQsR6t7br2sq-wXbTTuFlWjblNKhJbXfZimq3S0DecKY22RbVDSAdAUmFVSl3rHNjtZXZjyYuXcYi3asyGL0HTGGr7GGB3O1wTbeA505WKZwjkMjdjJVlp3Wv2osoDBZuyW60__bAkVfDGc6JDZqC7YAJsq7KE5mHdv0Yj_kqpmyDQbdwVZ4p_4r4CoX7QbdXXjIKyogzSByR8SP0vc0UZyo-PT7W9X4FRD8QDH-MEhxBk-OT0WjU5YWXA_3mY9TfjyvukZNbvx2MPky-VvEJMDiS8dOMu1mTCtJUJDB2t7VMy2mHUiy1XLyq5p0es4uJIg13tPtfkOY1iSWop9B3I78aQHMz0HUoGcmLjJsejmENJB6d6gmtYT0XQV9Gp-_yHvZ4D93pAYQghSCMlELGcLCYHLfCP7dBCEDopD_fPM-pAkGME0FzqKOJJzDP7SAOeQ1tr6GlAC0NeH4eDPhTc2UeG7lLsFbksOnUNrq-kI5NS0uawiR78I6qxtp3RO3gS8kTaibQp_TOq6bUTs_P73WyYbWnUWTtcoVlz4qqG5_GXEJJdNn7kPa1pwo2gWuhEw1Tm-NzbPSXoSvYyhrnHXk5ETmmKXynGMG999SGaJ3U0JSscJmZI-0FoLhUfL5liTdWoiRHXlloZa8_brzxCmcSRvUVh4ub6tsn4WxF197LfwBRISI?type=png)](https://mermaid.live/edit#pako:eNqtV99P2zAQ_lesvOyFbjCJSq2mSSHlRzRoUVq0F6TITdzWIrEz2xnqgP99ZydNTeIUhOgD5JzvPvvufJ-dJy_hKfHGHhETitcC5_cMwc8PgtnddIGeKlP_pBKUrRFOEl4yFdMU3f5C955f2Sic3HsdcEr1Q2LQFxo9qQda8BQrUv3ZEwaCYEU5QxMYd3CvBPlTEpZswSeUssQsIehiN7hzeKn-BdfhuTOcJKPEiiYwpmt1SyrUJmZlviQCgGfa7Fvae8KuFzYJ57ezebgIZ1PH6oCoaNYGJAWX1OTEme19LBe9sXSrePFmFdW20IWZPTIivt1JIloxzKLJeeRYPRcpEc3yZ9r6hNUsMXuIFQdYRBJamBjPYOwAbwtd09sOq4xjhXBupoVUkyVVJEV-3gbWzA-x3OZLngH2Fm9zzRpssMCJIoL-M_u2laRF5E_nftBTaCUwk02qFtoCrt5Kvy9hdlfZlD27ti4z9F1K1bffVG1SgR9x5oDygoiqOV8z34CYHEirDe2mtgIvcWY6GVqsfvJXkFRk-R6uhz1JX01a28lUUSjY3m_sJAvY2kR1la9nvqu8EBlrqnsNxmeV1XBdQsR6t7br2sq-wXbTTuFlWjblNKhJbXfZimq3S0DecKY22RbVDSAdAUmFVSl3rHNjtZXZjyYuXcYi3asyGL0HTGGr7GGB3O1wTbeA505WKZwjkMjdjJVlp3Wv2osoDBZuyW60__bAkVfDGc6JDZqC7YAJsq7KE5mHdv0Yj_kqpmyDQbdwVZ4p_4r4CoX7QbdXXjIKyogzSByR8SP0vc0UZyo-PT7W9X4FRD8QDH-MEhxBk-OT0WjU5YWXA_3mY9TfjyvukZNbvx2MPky-VvEJMDiS8dOMu1mTCtJUJDB2t7VMy2mHUiy1XLyq5p0es4uJIg13tPtfkOY1iSWop9B3I78aQHMz0HUoGcmLjJsejmENJB6d6gmtYT0XQV9Gp-_yHvZ4D93pAYQghSCMlELGcLCYHLfCP7dBCEDopD_fPM-pAkGME0FzqKOJJzDP7SAOeQ1tr6GlAC0NeH4eDPhTc2UeG7lLsFbksOnUNrq-kI5NS0uawiR78I6qxtp3RO3gS8kTaibQp_TOq6bUTs_P73WyYbWnUWTtcoVlz4qqG5_GXEJJdNn7kPa1pwo2gWuhEw1Tm-NzbPSXoSvYyhrnHXk5ETmmKXynGMG999SGaJ3U0JSscJmZI-0FoLhUfL5liTdWoiRHXlloZa8_brzxCmcSRvUVh4ub6tsn4WxF197LfwBRISI)"
   ]
  },
  {
   "cell_type": "code",
   "execution_count": null,
   "metadata": {
    "cell_id": "6399035fa44e439ea7eff922e5dc2ad1",
    "deepnote_app_block_visible": true,
    "deepnote_cell_type": "code",
    "deepnote_to_be_reexecuted": false,
    "execution_millis": 94,
    "execution_start": 1708796125131,
    "source_hash": "5460cc44"
   },
   "outputs": [],
   "source": [
    "# Verify 1:1 relationships between CLIENT, LOAN and DISPOSITION\n",
    "assert dispositions['client_id'].is_unique, \"Each client_id should appear exactly once in the DISPOSITION DataFrame.\"\n",
    "assert loans['account_id'].is_unique, \"Each account_id should appear exactly once in the LOAN DataFrame.\"\n",
    "\n",
    "# Verify 1:M relationships between ACCOUNT and DISPOSITION\n",
    "assert dispositions[\n",
    "           'account_id'].is_unique == False, \"An account_id should appear more than once in the DISPOSITION DataFrame.\"\n",
    "\n",
    "# Verify each district_id in ACCOUNT and CLIENT exists in DISTRICT\n",
    "assert set(accounts['district_id']).issubset(\n",
    "    set(districts['district_id'])), \"All district_ids in ACCOUNT should exist in DISTRICT.\"\n",
    "assert set(clients['district_id']).issubset(\n",
    "    set(districts['district_id'])), \"All district_ids in CLIENT should exist in DISTRICT.\"\n",
    "\n",
    "# Verify each account_id in DISPOSITION, ORDER, TRANSACTION, and LOAN exists in ACCOUNT\n",
    "assert set(dispositions['account_id']).issubset(\n",
    "    set(accounts['account_id'])), \"All account_ids in DISPOSITION should exist in ACCOUNT.\"\n",
    "assert set(orders['account_id']).issubset(\n",
    "    set(accounts['account_id'])), \"All account_ids in ORDER should exist in ACCOUNT.\"\n",
    "assert set(transactions['account_id']).issubset(\n",
    "    set(accounts['account_id'])), \"All account_ids in TRANSACTION should exist in ACCOUNT.\"\n",
    "assert set(loans['account_id']).issubset(\n",
    "    set(accounts['account_id'])), \"All account_ids in LOAN should exist in ACCOUNT.\"\n",
    "\n",
    "# Verify each client_id in DISPOSITION exists in CLIENT\n",
    "assert set(dispositions['client_id']).issubset(\n",
    "    set(clients['client_id'])), \"All client_ids in DISPOSITION should exist in CLIENT.\"\n",
    "\n",
    "# Verify each disp_id in CARD exists in DISPOSITION\n",
    "assert set(cards['disp_id']).issubset(set(dispositions['disp_id'])), \"All disp_ids in CARD should exist in DISPOSITION.\""
   ]
  },
  {
   "cell_type": "code",
   "execution_count": null,
   "metadata": {
    "cell_id": "fa6d0d4a4cea46e1b4fe10e39ae7b5b3",
    "deepnote_app_block_visible": true,
    "deepnote_cell_type": "code",
    "deepnote_to_be_reexecuted": false,
    "execution_millis": 31,
    "execution_start": 1708795892785,
    "source_hash": "505d26b4"
   },
   "outputs": [],
   "source": [
    "dispositions[dispositions[\"account_id\"] == 3980]"
   ]
  },
  {
   "cell_type": "markdown",
   "metadata": {
    "cell_id": "3adbf63c853147de918a91a5a3b22406",
    "deepnote_app_block_visible": true,
    "deepnote_cell_type": "text-cell-h2",
    "formattedRanges": []
   },
   "source": [
    "## Relationships of Account"
   ]
  },
  {
   "cell_type": "markdown",
   "metadata": {
    "cell_id": "f12d00dbc0164e65a4e0be6391e99bd5",
    "deepnote_app_block_visible": true,
    "deepnote_cell_type": "text-cell-bullet",
    "formattedRanges": []
   },
   "source": [
    "- Account:Loan 1:1"
   ]
  },
  {
   "cell_type": "markdown",
   "metadata": {
    "cell_id": "3ea1b925915a4822b6afe26a7e8fc5bb",
    "deepnote_app_block_visible": true,
    "deepnote_cell_type": "text-cell-bullet",
    "formattedRanges": []
   },
   "source": [
    "- Account:Transaction 1:n"
   ]
  },
  {
   "cell_type": "markdown",
   "metadata": {
    "cell_id": "d27b9c0e8a3d48c3ae2367dbf788e67c",
    "deepnote_app_block_visible": true,
    "deepnote_cell_type": "text-cell-bullet",
    "formattedRanges": []
   },
   "source": [
    "- Account:Order 1:n"
   ]
  },
  {
   "cell_type": "code",
   "execution_count": null,
   "metadata": {
    "cell_id": "f32ec84a55024ef8b881b7e682a98d7e",
    "deepnote_app_block_visible": true,
    "deepnote_cell_type": "code",
    "deepnote_to_be_reexecuted": true,
    "execution_millis": 234,
    "execution_start": 1708794917558,
    "source_hash": "22187f8f"
   },
   "outputs": [],
   "source": [
    "orders_pivot = orders.pivot_table(index='account_id',\n",
    "                                  columns='k_symbol',\n",
    "                                  values='debited_amount',\n",
    "                                  aggfunc='sum',\n",
    "                                  fill_value=0)\n",
    "\n",
    "orders_pivot.columns = [f'k_symbol_debited_sum_{col}' for col in orders_pivot.columns]\n",
    "\n",
    "# TODO: find something better than this\n",
    "orders_pivot = orders_pivot.reset_index()  # Use created index as account_id\n",
    "\n",
    "orders_pivot.head()"
   ]
  },
  {
   "cell_type": "markdown",
   "metadata": {
    "cell_id": "31e89265abeb481087a850e4c0289f53",
    "deepnote_app_block_visible": true,
    "deepnote_cell_type": "text-cell-bullet",
    "formattedRanges": []
   },
   "source": [
    "- Account:Disposition 1:n"
   ]
  },
  {
   "cell_type": "markdown",
   "metadata": {
    "cell_id": "85cb829bb621440c8f214bc0a774d7dc",
    "deepnote_app_block_visible": true,
    "deepnote_cell_type": "text-cell-bullet",
    "formattedRanges": []
   },
   "source": [
    "- Account:District n:1"
   ]
  },
  {
   "cell_type": "markdown",
   "metadata": {
    "cell_id": "2d80526835154512aaff4f8be5a5b8bb",
    "deepnote_app_block_visible": true,
    "deepnote_cell_type": "text-cell-h2",
    "formattedRanges": []
   },
   "source": [
    "## Relationship of Client"
   ]
  },
  {
   "cell_type": "markdown",
   "metadata": {
    "cell_id": "67a90944912b46a7b1c2504c7cbd152d",
    "deepnote_app_block_visible": true,
    "deepnote_cell_type": "text-cell-bullet",
    "formattedRanges": []
   },
   "source": [
    "- Client:Disposition 1:1"
   ]
  },
  {
   "cell_type": "markdown",
   "metadata": {
    "cell_id": "eaf0e3d277224fb182c26238719a9971",
    "deepnote_app_block_visible": true,
    "deepnote_cell_type": "text-cell-bullet",
    "formattedRanges": []
   },
   "source": [
    "- Client:District n:1"
   ]
  },
  {
   "cell_type": "markdown",
   "metadata": {
    "cell_id": "a0f5d3222d1c4324913dc8220eb19282",
    "deepnote_app_block_visible": true,
    "deepnote_cell_type": "text-cell-h2",
    "formattedRanges": []
   },
   "source": [
    "## Relationship of Disposition"
   ]
  },
  {
   "cell_type": "markdown",
   "metadata": {
    "cell_id": "69a10fa319ef4ff69c12dac7c8aa3261",
    "deepnote_app_block_visible": true,
    "deepnote_cell_type": "text-cell-bullet",
    "formattedRanges": []
   },
   "source": [
    "- Disposition:Card 1:1"
   ]
  },
  {
   "cell_type": "markdown",
   "metadata": {
    "cell_id": "62014f1301114fc5876f68eca21069d3",
    "collapsed": false,
    "deepnote_app_block_visible": true,
    "deepnote_cell_type": "markdown"
   },
   "source": [
    "## Merge non-transactional data"
   ]
  },
  {
   "cell_type": "code",
   "execution_count": null,
   "metadata": {
    "cell_id": "7985d15a3bc24f99a08f21f232012173",
    "collapsed": false,
    "deepnote_app_block_visible": true,
    "deepnote_cell_type": "code",
    "deepnote_to_be_reexecuted": true,
    "execution_millis": 519,
    "execution_start": 1708794917631,
    "source_hash": "dfdbb7eb"
   },
   "outputs": [],
   "source": [
    "def merge_non_transactional_data(clients, districts, dispositions, accounts, orders, loans, cards):\n",
    "    merge = pd.merge(dispositions, accounts, on='account_id', how='left')\n",
    "\n",
    "    merge = pd.merge(merge, clients, on='client_id', how='left')\n",
    "\n",
    "    # TODO: suffixes do not work?\n",
    "    merge = pd.merge(merge, cards, on='disp_id', how='left', suffixes=('', '_card'))\n",
    "\n",
    "    merge = pd.merge(merge, loans, on='account_id', how='left', suffixes=('', '_loan'))\n",
    "\n",
    "    merge = pd.merge(merge, orders, on='account_id', how='left', suffixes=('', '_order'))\n",
    "\n",
    "    # TODO: ugly hack because merges before create two district_id columns\n",
    "    merge = merge.drop(columns=['district_id_y'])\n",
    "    merge.rename(columns={'district_id_x': 'district_id'}, inplace=True)\n",
    "    merge = pd.merge(merge, districts, on='district_id', how='left', suffixes=('', '_district'))\n",
    "\n",
    "    return merge"
   ]
  },
  {
   "cell_type": "code",
   "execution_count": null,
   "metadata": {
    "cell_id": "2f928090a6ee40d18105be628cdfd09f",
    "deepnote_app_block_visible": true,
    "deepnote_cell_type": "code",
    "deepnote_to_be_reexecuted": false,
    "execution_millis": 92,
    "execution_start": 1708796453037,
    "source_hash": "470624cb"
   },
   "outputs": [],
   "source": [
    "def merge_non_transactional_data_2(clients, districts, dispositions, accounts, orders, loans, cards):\n",
    "    # Rename district_id for clarity\n",
    "    clients = clients.rename(columns={'district_id': 'client_district_id'})\n",
    "    accounts = accounts.rename(columns={'district_id': 'account_district_id'})\n",
    "\n",
    "    # Prepare districts dataframe for merge with prefix for clients\n",
    "    districts_client_prefixed = districts.add_prefix('client_')\n",
    "    districts_account_prefixed = districts.add_prefix('account_')\n",
    "\n",
    "    # Merge district information for clients and accounts with prefixed columns\n",
    "    clients_with_districts = pd.merge(clients, districts_client_prefixed, left_on='client_district_id',\n",
    "                                      right_on='client_district_id', how='left')\n",
    "    accounts_with_districts = pd.merge(accounts, districts_account_prefixed, left_on='account_district_id',\n",
    "                                       right_on='account_district_id', how='left')\n",
    "\n",
    "    # Merge cards with dispositions\n",
    "    dispositions_with_cards = pd.merge(dispositions, cards, on='disp_id', how='left')\n",
    "\n",
    "    # Merge clients (with district info) with dispositions and cards\n",
    "    clients_dispositions_cards = pd.merge(dispositions_with_cards, clients_with_districts, on='client_id', how='left')\n",
    "\n",
    "    # Merge the above with accounts (with district info) on account_id\n",
    "    accounts_clients_cards = pd.merge(accounts_with_districts, clients_dispositions_cards, on='account_id', how='left')\n",
    "\n",
    "    # Merge loans with the comprehensive dataframe on account_id\n",
    "    final_df = pd.merge(accounts_clients_cards, loans, on='account_id', how='left')\n",
    "\n",
    "    return final_df\n"
   ]
  },
  {
   "cell_type": "code",
   "execution_count": null,
   "metadata": {
    "cell_id": "be3513dabd5040869f38adcc6bfcdfc9",
    "deepnote_app_block_visible": true,
    "deepnote_cell_type": "code",
    "deepnote_to_be_reexecuted": true,
    "execution_millis": 519,
    "execution_start": 1708794917632,
    "source_hash": "423b8a38"
   },
   "outputs": [],
   "source": [
    "non_transactional_df = merge_non_transactional_data(clients, districts, dispositions, accounts, orders_pivot, loans,\n",
    "                                                    cards)\n",
    "non_transactional_df.info()"
   ]
  },
  {
   "cell_type": "code",
   "execution_count": null,
   "metadata": {
    "cell_id": "27e4e809eca44c7e91138831ec7b75ba",
    "deepnote_app_block_visible": true,
    "deepnote_cell_type": "code",
    "deepnote_to_be_reexecuted": true,
    "execution_millis": 561,
    "execution_start": 1708794917589,
    "source_hash": "c1ca3222"
   },
   "outputs": [],
   "source": [
    "before = len(dispositions)\n",
    "dispositions = dispositions[dispositions['type'] == \"OWNER\"]\n",
    "after = len(dispositions)\n",
    "print(f\"Dropped {before - after} dispositions that are not of type 'OWNER'.\")"
   ]
  },
  {
   "cell_type": "code",
   "execution_count": null,
   "metadata": {
    "cell_id": "5bfe0a7b1ff54f9683203fad475dbbd0",
    "deepnote_app_block_visible": true,
    "deepnote_cell_type": "code",
    "deepnote_to_be_reexecuted": false,
    "execution_millis": 67,
    "execution_start": 1708796457020,
    "source_hash": "ed2b7126"
   },
   "outputs": [],
   "source": [
    "non_transactional_df_2 = merge_non_transactional_data_2(clients, districts, dispositions, accounts, orders_pivot, loans,\n",
    "                                                        cards)\n",
    "non_transactional_df_2.info()"
   ]
  },
  {
   "cell_type": "code",
   "execution_count": null,
   "metadata": {
    "cell_id": "d3f72b3fe7c5437f8626612863d9129c",
    "deepnote_app_block_visible": true,
    "deepnote_cell_type": "code",
    "deepnote_to_be_reexecuted": true,
    "execution_millis": 410,
    "execution_start": 1708789501338,
    "source_hash": "a916877c"
   },
   "outputs": [],
   "source": [
    "# Convert DataFrame columns to sets for easy set operations\n",
    "columns_df1 = set(non_transactional_df.columns)\n",
    "columns_df2 = set(non_transactional_df_2.columns)\n",
    "\n",
    "# Find common columns\n",
    "common_columns = columns_df1.intersection(columns_df2)\n",
    "print(\"Common columns:\", common_columns)\n",
    "\n",
    "# Find columns unique to non_transactional_df\n",
    "unique_to_df1 = columns_df1.difference(columns_df2)\n",
    "print(\"Columns unique to non_transactional_df:\", unique_to_df1)\n",
    "\n",
    "# Find columns unique to non_transactional_df_2\n",
    "unique_to_df2 = columns_df2.difference(columns_df1)\n",
    "print(\"Columns unique to non_transactional_df_2:\", unique_to_df2)\n"
   ]
  },
  {
   "cell_type": "markdown",
   "metadata": {
    "cell_id": "8e7c9ee191ae47aa984f68cffe4d956d",
    "deepnote_app_block_visible": true,
    "deepnote_cell_type": "markdown"
   },
   "source": [
    "## Transactional Data"
   ]
  },
  {
   "cell_type": "code",
   "execution_count": null,
   "metadata": {
    "cell_id": "49c0b63e1c1b4d30bab4bc8d284c95aa",
    "deepnote_app_block_visible": true,
    "deepnote_cell_type": "code",
    "deepnote_to_be_reexecuted": true,
    "execution_millis": 406,
    "execution_start": 1708789501342,
    "source_hash": "b623e53d"
   },
   "outputs": [],
   "source": []
  },
  {
   "cell_type": "markdown",
   "metadata": {
    "cell_id": "b24a489b767844ef836fd1cdfa1b0f01",
    "collapsed": false,
    "deepnote_app_block_visible": true,
    "deepnote_cell_type": "markdown"
   },
   "source": [
    "# Model Construction"
   ]
  },
  {
   "cell_type": "markdown",
   "metadata": {
    "cell_id": "e17f12d4fb6c4d229254c6643a32b03f",
    "collapsed": false,
    "deepnote_app_block_visible": true,
    "deepnote_cell_type": "markdown"
   },
   "source": [
    "# Feature Engineering"
   ]
  },
  {
   "cell_type": "markdown",
   "metadata": {
    "cell_id": "4ba58e15b16d44b0a7c66a47cf498bbf",
    "collapsed": false,
    "deepnote_app_block_visible": true,
    "deepnote_cell_type": "markdown"
   },
   "source": [
    "# Model Engineering"
   ]
  },
  {
   "cell_type": "markdown",
   "metadata": {
    "cell_id": "a203aa44aad04b7ca6e4f774e2cf2c59",
    "collapsed": false,
    "deepnote_app_block_visible": true,
    "deepnote_cell_type": "markdown"
   },
   "source": [
    "# Model Comparison & Selection"
   ]
  },
  {
   "cell_type": "markdown",
   "metadata": {
    "created_in_deepnote_cell": true,
    "deepnote_cell_type": "markdown"
   },
   "source": [
    "<a style='text-decoration:none;line-height:16px;display:flex;color:#5B5B62;padding:10px;justify-content:end;' href='https://deepnote.com?utm_source=created-in-deepnote-cell&projectId=7d865ccc-7b5c-4f8d-b4e6-4e008791345d' target=\"_blank\">\n",
    "<img alt='Created in deepnote.com' style='display:inline;max-height:16px;margin:0px;margin-right:7.5px;' src='data:image/svg+xml;base64,PD94bWwgdmVyc2lvbj0iMS4wIiBlbmNvZGluZz0iVVRGLTgiPz4KPHN2ZyB3aWR0aD0iODBweCIgaGVpZ2h0PSI4MHB4IiB2aWV3Qm94PSIwIDAgODAgODAiIHZlcnNpb249IjEuMSIgeG1sbnM9Imh0dHA6Ly93d3cudzMub3JnLzIwMDAvc3ZnIiB4bWxuczp4bGluaz0iaHR0cDovL3d3dy53My5vcmcvMTk5OS94bGluayI+CiAgICA8IS0tIEdlbmVyYXRvcjogU2tldGNoIDU0LjEgKDc2NDkwKSAtIGh0dHBzOi8vc2tldGNoYXBwLmNvbSAtLT4KICAgIDx0aXRsZT5Hcm91cCAzPC90aXRsZT4KICAgIDxkZXNjPkNyZWF0ZWQgd2l0aCBTa2V0Y2guPC9kZXNjPgogICAgPGcgaWQ9IkxhbmRpbmciIHN0cm9rZT0ibm9uZSIgc3Ryb2tlLXdpZHRoPSIxIiBmaWxsPSJub25lIiBmaWxsLXJ1bGU9ImV2ZW5vZGQiPgogICAgICAgIDxnIGlkPSJBcnRib2FyZCIgdHJhbnNmb3JtPSJ0cmFuc2xhdGUoLTEyMzUuMDAwMDAwLCAtNzkuMDAwMDAwKSI+CiAgICAgICAgICAgIDxnIGlkPSJHcm91cC0zIiB0cmFuc2Zvcm09InRyYW5zbGF0ZSgxMjM1LjAwMDAwMCwgNzkuMDAwMDAwKSI+CiAgICAgICAgICAgICAgICA8cG9seWdvbiBpZD0iUGF0aC0yMCIgZmlsbD0iIzAyNjVCNCIgcG9pbnRzPSIyLjM3NjIzNzYyIDgwIDM4LjA0NzY2NjcgODAgNTcuODIxNzgyMiA3My44MDU3NTkyIDU3LjgyMTc4MjIgMzIuNzU5MjczOSAzOS4xNDAyMjc4IDMxLjY4MzE2ODMiPjwvcG9seWdvbj4KICAgICAgICAgICAgICAgIDxwYXRoIGQ9Ik0zNS4wMDc3MTgsODAgQzQyLjkwNjIwMDcsNzYuNDU0OTM1OCA0Ny41NjQ5MTY3LDcxLjU0MjI2NzEgNDguOTgzODY2LDY1LjI2MTk5MzkgQzUxLjExMjI4OTksNTUuODQxNTg0MiA0MS42NzcxNzk1LDQ5LjIxMjIyODQgMjUuNjIzOTg0Niw0OS4yMTIyMjg0IEMyNS40ODQ5Mjg5LDQ5LjEyNjg0NDggMjkuODI2MTI5Niw0My4yODM4MjQ4IDM4LjY0NzU4NjksMzEuNjgzMTY4MyBMNzIuODcxMjg3MSwzMi41NTQ0MjUgTDY1LjI4MDk3Myw2Ny42NzYzNDIxIEw1MS4xMTIyODk5LDc3LjM3NjE0NCBMMzUuMDA3NzE4LDgwIFoiIGlkPSJQYXRoLTIyIiBmaWxsPSIjMDAyODY4Ij48L3BhdGg+CiAgICAgICAgICAgICAgICA8cGF0aCBkPSJNMCwzNy43MzA0NDA1IEwyNy4xMTQ1MzcsMC4yNTcxMTE0MzYgQzYyLjM3MTUxMjMsLTEuOTkwNzE3MDEgODAsMTAuNTAwMzkyNyA4MCwzNy43MzA0NDA1IEM4MCw2NC45NjA0ODgyIDY0Ljc3NjUwMzgsNzkuMDUwMzQxNCAzNC4zMjk1MTEzLDgwIEM0Ny4wNTUzNDg5LDc3LjU2NzA4MDggNTMuNDE4MjY3Nyw3MC4zMTM2MTAzIDUzLjQxODI2NzcsNTguMjM5NTg4NSBDNTMuNDE4MjY3Nyw0MC4xMjg1NTU3IDM2LjMwMzk1NDQsMzcuNzMwNDQwNSAyNS4yMjc0MTcsMzcuNzMwNDQwNSBDMTcuODQzMDU4NiwzNy43MzA0NDA1IDkuNDMzOTE5NjYsMzcuNzMwNDQwNSAwLDM3LjczMDQ0MDUgWiIgaWQ9IlBhdGgtMTkiIGZpbGw9IiMzNzkzRUYiPjwvcGF0aD4KICAgICAgICAgICAgPC9nPgogICAgICAgIDwvZz4KICAgIDwvZz4KPC9zdmc+' > </img>\n",
    "Created in <span style='font-weight:600;margin-left:4px;'>Deepnote</span></a>"
   ]
  }
 ],
 "metadata": {
  "deepnote_app_layout": "powerful-article",
  "deepnote_app_reactivity_enabled": true,
  "deepnote_execution_queue": [],
  "deepnote_notebook_id": "2ef3858b0ef64bcd97d256cee39e7aba",
  "deepnote_persisted_session": {
   "createdAt": "2024-02-23T19:30:07.508Z"
  },
  "kernelspec": {
   "display_name": ".venv",
   "language": "python",
   "name": "python3"
  },
  "language_info": {
   "codemirror_mode": {
    "name": "ipython",
    "version": 3
   },
   "file_extension": ".py",
   "mimetype": "text/x-python",
   "name": "python",
   "nbconvert_exporter": "python",
   "pygments_lexer": "ipython3",
   "version": "3.11.7"
  }
 },
 "nbformat": 4,
 "nbformat_minor": 0
}
