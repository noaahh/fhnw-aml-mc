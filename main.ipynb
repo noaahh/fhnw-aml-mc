{
 "cells": [
  {
   "cell_type": "markdown",
   "metadata": {
    "deepnote_app_block_visible": true,
    "cell_id": "4366d59ebb934e458257bbcf3850ed3a",
    "deepnote_cell_type": "markdown"
   },
   "source": "# AML Mini-Challenge - Credit Card Affinity Modelling\n\n> Dominik Filliger & Noah Leuenberger\n\nThe task can be found [here](https://spaces.technik.fhnw.ch/storage/uploads/spaces/82/exercises/20240218__AML_Trainingscenter_MiniChallenge_Kreditkarten_Aufgabenstellung-1708412668.pdf).\n\n# Setup",
   "block_group": "d474c6c491654df981433d9dc4ae30be"
  },
  {
   "cell_type": "code",
   "metadata": {
    "source_hash": "be6fb00d",
    "execution_start": 1715615256134,
    "execution_millis": 1012,
    "deepnote_to_be_reexecuted": false,
    "deepnote_app_block_visible": true,
    "deepnote_app_is_code_hidden": false,
    "cell_id": "98f93ebef36340a5a19848233cace7b6",
    "deepnote_cell_type": "code"
   },
   "source": "import pandas as pd\nfrom datetime import datetime\n\nimport numpy as np\n\nimport matplotlib.pyplot as plt\nimport seaborn as sns\n\nsns.set_theme()\n#plt.style.use('seaborn-white')\n#plt.style.use('ggplot')",
   "block_group": "3e914c775f754cca9e7fe86f53342ef9",
   "outputs_reference": null,
   "content_dependencies": {
    "codeHash": "be6fb00d",
    "usedVariables": [
     "sns"
    ],
    "importedModules": [
     "sns",
     "plt",
     "pd",
     "datetime",
     "np"
    ],
    "definedVariables": []
   },
   "outputs": [],
   "execution_count": null
  },
  {
   "cell_type": "markdown",
   "metadata": {
    "deepnote_app_block_visible": true,
    "cell_id": "81ae37f692f34992a224574a7edb4f91",
    "deepnote_cell_type": "markdown"
   },
   "source": "## Helper Functions",
   "block_group": "c2fdc018114d41cc91336c773f219aed"
  },
  {
   "cell_type": "code",
   "metadata": {
    "source_hash": "67b05eb2",
    "execution_start": 1715615257156,
    "execution_millis": 66,
    "deepnote_to_be_reexecuted": false,
    "deepnote_app_block_visible": true,
    "deepnote_app_is_code_hidden": false,
    "cell_id": "fd69693aff414b29a0a8ed7dd5fa82a9",
    "deepnote_cell_type": "code"
   },
   "source": "def plot_categorical_variables(df, categorical_columns, fill_na_value='NA'):\n    \"\"\"\n    Plots count plots for categorical variables in a DataFrame, filling NA values with a specified string.\n    \n    Parameters:\n    - df: pandas.DataFrame containing the data.\n    - categorical_vars: list of strings, names of the categorical variables in df to plot.\n    - fill_na_value: string, the value to use for filling NA values in the categorical variables.\n    \"\"\"\n    # Fill NA values in the specified categorical variables\n    for var in categorical_columns:\n        if df[var].isna().any():\n            df[var] = df[var].fillna(fill_na_value)\n\n    total = float(len(df))\n    fig, axes = plt.subplots(nrows=len(categorical_columns), figsize=(14, len(categorical_columns) * 4.5))\n\n    if len(categorical_columns) == 1:  # If there's only one categorical variable, wrap axes in a list\n        axes = [axes]\n\n    for i, var in enumerate(categorical_columns):\n        ax = sns.countplot(x=var, data=df, ax=axes[i], order=df[var].value_counts().index)\n\n        axes[i].set_title(f'Distribution of {var}')\n        axes[i].set_ylabel('Count')\n        axes[i].set_xlabel(var)\n\n        for p in ax.patches:\n            height = p.get_height()\n            ax.text(p.get_x() + p.get_width() / 2.,\n                    height + 3,\n                    '{:1.2f}%'.format((height / total) * 100),\n                    ha=\"center\")\n\n    plt.tight_layout()\n    plt.show()\n\ndef plot_numerical_distributions(df, numerical_columns, kde=True, bins=30):\n    \"\"\"\n    Plots the distribution of all numerical variables in a DataFrame.\n    \n    Parameters:\n    - df: pandas.DataFrame containing the data.\n    \"\"\"\n\n    # Determine the number of rows needed for subplots based on the number of numerical variables\n    nrows = len(numerical_columns)\n\n    # Create subplots\n    fig, axes = plt.subplots(nrows=nrows, ncols=1, figsize=(8, 5 * nrows))\n\n    if nrows == 1:  # If there's only one numerical variable, wrap axes in a list\n        axes = [axes]\n\n    for i, var in enumerate(numerical_columns):\n        sns.histplot(df[var], ax=axes[i], kde=kde, bins=bins)\n        axes[i].set_title(f'Distribution of {var}')\n        axes[i].set_xlabel(var)\n        axes[i].set_ylabel('Frequency')\n\n    plt.tight_layout()\n    plt.show()\n\ndef plot_date_monthly_counts(df, date_column, title):\n    \"\"\"\n    Plots the monthly counts of a date column in a DataFrame.\n    \n    Parameters:\n    - df: pandas.DataFrame containing the data.\n    - date_column: string, name of the date column in df to plot.\n    - title: string, title of the plot.\n    \"\"\"\n    df[date_column] = pd.to_datetime(df[date_column])\n    df['month'] = df[date_column].dt.to_period('M')\n\n    monthly_counts = df['month'].value_counts().sort_index()\n    monthly_counts.plot(kind='bar', figsize=(14, 6))\n    plt.title(title)\n    plt.xlabel('Month')\n    plt.ylabel('Count')\n    plt.show()\n\ndef add_percentage_labels(ax, hue_order):\n    for p in ax.patches:\n        height = p.get_height()\n        width = p.get_width()\n        x = p.get_x()\n        y = p.get_y()\n        label_text = f'{height:.1f}%'\n        label_x = x + width / 2\n        label_y = y + height / 2\n        ax.text(label_x, label_y, label_text, ha='center', va='center', fontsize=9, color='white', weight='bold')",
   "block_group": "103876f25985407b998b530c6c705df0",
   "outputs_reference": null,
   "content_dependencies": {
    "codeHash": "67b05eb2",
    "usedVariables": [
     "df",
     "fill_na_value",
     "sns",
     "plt",
     "pd",
     "categorical_columns",
     "height",
     "p",
     "numerical_columns",
     "var",
     "ax",
     "width",
     "label_text",
     "y",
     "axes",
     "nrows",
     "i",
     "x",
     "title",
     "label_x",
     "label_y",
     "bins",
     "date_column",
     "monthly_counts",
     "kde",
     "total"
    ],
    "importedModules": [],
    "definedVariables": [
     "plot_date_monthly_counts",
     "fig",
     "var",
     "height",
     "p",
     "width",
     "ax",
     "label_text",
     "y",
     "axes",
     "nrows",
     "plot_numerical_distributions",
     "i",
     "x",
     "plot_categorical_variables",
     "label_x",
     "label_y",
     "monthly_counts",
     "total",
     "add_percentage_labels"
    ]
   },
   "outputs": [],
   "execution_count": null
  },
  {
   "cell_type": "code",
   "metadata": {
    "source_hash": "62bc2bb3",
    "execution_start": 1715615257160,
    "execution_millis": 90,
    "deepnote_to_be_reexecuted": false,
    "deepnote_app_block_visible": true,
    "cell_id": "8d09803bf06d4cc38ec3f96779ef3616",
    "deepnote_cell_type": "code"
   },
   "source": "from collections import OrderedDict\ndata_reduction = OrderedDict()",
   "block_group": "d1775a3b56e14356b0facc39245051ed",
   "outputs_reference": null,
   "content_dependencies": {
    "codeHash": "62bc2bb3",
    "usedVariables": [
     "OrderedDict"
    ],
    "importedModules": [
     "OrderedDict"
    ],
    "definedVariables": [
     "data_reduction"
    ]
   },
   "outputs": [],
   "execution_count": null
  },
  {
   "cell_type": "markdown",
   "metadata": {
    "collapsed": false,
    "deepnote_app_block_visible": true,
    "cell_id": "da801b505a294c35b5f4b6a4561fada5",
    "deepnote_cell_type": "markdown"
   },
   "source": "# Data Import & Wrangling",
   "block_group": "9caae79034d3421f82f2e26b877f4c41"
  },
  {
   "cell_type": "code",
   "metadata": {
    "source_hash": "faa49b63",
    "execution_start": 1715615257173,
    "execution_millis": 77,
    "deepnote_to_be_reexecuted": false,
    "deepnote_app_block_visible": true,
    "deepnote_app_is_code_hidden": false,
    "cell_id": "8ac4d34fead643d0bb8e8f201ceb0a3f",
    "deepnote_cell_type": "code"
   },
   "source": "def remap_values(df, column, mapping):\n    # assert that all values in the column are in the mapping except for NaN\n    assert df[column].dropna().isin(mapping.keys()).all()\n    \n    df[column] = df[column].map(mapping, na_action='ignore')\n    return df\n\ndef map_empty_to_nan(df, column):\n    if df[column].dtype != 'object':\n        return df\n\n    df[column] = df[column].replace(r'^\\s*$', np.nan, regex=True)\n    return df\n\ndef read_csv(file_path, sep=\";\", dtypes=None):\n    df = pd.read_csv(file_path, sep=sep, dtype=dtypes)\n    \n    for col in df.columns:\n        df = map_empty_to_nan(df, col)\n        \n    return df",
   "block_group": "f2b8067cb5c44dcc83df5e52dd8c9fe4",
   "outputs_reference": null,
   "content_dependencies": {
    "codeHash": "faa49b63",
    "usedVariables": [
     "df",
     "col",
     "mapping",
     "column",
     "map_empty_to_nan",
     "pd",
     "dtypes",
     "file_path",
     "sep",
     "np"
    ],
    "importedModules": [],
    "definedVariables": [
     "df",
     "col",
     "read_csv",
     "map_empty_to_nan",
     "remap_values"
    ]
   },
   "outputs": [],
   "execution_count": null
  },
  {
   "cell_type": "markdown",
   "metadata": {
    "deepnote_app_block_visible": true,
    "cell_id": "3fc2df2468ef4c078e7855fae9fcb602",
    "deepnote_cell_type": "markdown"
   },
   "source": "## Accounts",
   "block_group": "cf103852a9bf4daaacc5e6b4b30ae1ce"
  },
  {
   "cell_type": "code",
   "metadata": {
    "collapsed": false,
    "source_hash": "fee8f599",
    "execution_start": 1715615257183,
    "execution_millis": 192,
    "deepnote_to_be_reexecuted": false,
    "deepnote_app_block_visible": true,
    "deepnote_app_is_code_hidden": false,
    "cell_id": "f2f3f75877994b69b6503bf1cb1a6d5d",
    "deepnote_cell_type": "code"
   },
   "source": "accounts_df = read_csv(\"data/account.csv\")\n\n# Translated frequency from Czech to English\n# according to https://sorry.vse.cz/~berka/challenge/PAST/index.html\naccounts_df = remap_values(accounts_df, 'frequency', {\n    \"POPLATEK MESICNE\": \"MONTHLY_ISSUANCE\",\n    \"POPLATEK TYDNE\": \"WEEKLY_ISSUANCE\",\n    \"POPLATEK PO OBRATU\": \"ISSUANCE_AFTER_TRANSACTION\"\n})\n\naccounts_df['date'] = pd.to_datetime(accounts_df['date'], format='%y%m%d')\n\naccounts_df.rename(columns={'date': 'account_created',\n                         'frequency': 'account_frequency'}, inplace=True)\n\ndata_reduction[\"Total number of accounts\"] = len(accounts_df)\naccounts_df.info()",
   "block_group": "d6806e17a7e64f1cbb9f857513ebccbc",
   "outputs_reference": "dbtable:cell_outputs/545894af-eba2-498a-9924-9f3e260ca85a",
   "content_dependencies": {
    "codeHash": "fee8f599",
    "usedVariables": [
     "data_reduction",
     "read_csv",
     "accounts_df",
     "pd",
     "remap_values"
    ],
    "importedModules": [],
    "definedVariables": [
     "accounts_df"
    ]
   },
   "outputs": [],
   "execution_count": null
  },
  {
   "cell_type": "code",
   "metadata": {
    "source_hash": "bfe33a16",
    "execution_start": 1715615257419,
    "execution_millis": 272,
    "deepnote_to_be_reexecuted": false,
    "deepnote_app_block_visible": true,
    "deepnote_app_is_code_hidden": false,
    "cell_id": "d8aaa43530b84932860fba6ebe3d07b8",
    "deepnote_cell_type": "code"
   },
   "source": "# todo add some basic eda here\naccounts_df.head()",
   "block_group": "4f92b03a88554dc8b56b7406048a1f0a",
   "outputs_reference": "s3:deepnote-cell-outputs-production/a1129ae5-c74a-4185-9991-88704b4f9f4a",
   "content_dependencies": {
    "codeHash": "bfe33a16",
    "usedVariables": [
     "accounts_df"
    ],
    "importedModules": [],
    "definedVariables": []
   },
   "outputs": [],
   "execution_count": null
  },
  {
   "cell_type": "code",
   "metadata": {
    "source_hash": "c0f8cd60",
    "execution_start": 1715615257420,
    "execution_millis": 272,
    "deepnote_to_be_reexecuted": false,
    "deepnote_app_block_visible": true,
    "deepnote_app_is_code_hidden": false,
    "cell_id": "5fdce224bf8142a69be5cb2a86de5549",
    "deepnote_cell_type": "code"
   },
   "source": "accounts_df.nunique()",
   "block_group": "c57be647e48848998f00f62c877b73e0",
   "outputs_reference": "dbtable:cell_outputs/b84172c8-71e1-4d0c-b9d1-358d42776d9e",
   "content_dependencies": {
    "codeHash": "c0f8cd60",
    "usedVariables": [
     "accounts_df"
    ],
    "importedModules": [],
    "definedVariables": []
   },
   "outputs": [],
   "execution_count": null
  },
  {
   "cell_type": "code",
   "metadata": {
    "source_hash": "54d4b2e6",
    "execution_start": 1715615257469,
    "execution_millis": 518,
    "deepnote_to_be_reexecuted": false,
    "deepnote_app_block_visible": true,
    "deepnote_app_is_code_hidden": false,
    "cell_id": "cbebb2443f5f442886fcd6dfa9489255",
    "deepnote_cell_type": "code"
   },
   "source": "plot_categorical_variables(accounts_df, ['account_frequency'])",
   "block_group": "828fc48d950f45be967ecec25b387c29",
   "outputs_reference": "s3:deepnote-cell-outputs-production/c687b64b-ebb4-467e-9de1-9540f80c6d16",
   "content_dependencies": {
    "codeHash": "54d4b2e6",
    "usedVariables": [
     "plot_categorical_variables",
     "accounts_df"
    ],
    "importedModules": [],
    "definedVariables": []
   },
   "outputs": [],
   "execution_count": null
  },
  {
   "cell_type": "code",
   "metadata": {
    "source_hash": "8c5fbdd9",
    "execution_start": 1715615257666,
    "execution_millis": 474,
    "deepnote_to_be_reexecuted": false,
    "deepnote_app_block_visible": true,
    "deepnote_app_is_code_hidden": false,
    "cell_id": "2b09e43366ac424093e75163883411d8",
    "deepnote_cell_type": "code"
   },
   "source": "plot_numerical_distributions(accounts_df, ['account_created'])",
   "block_group": "bf0873bb4c344cff85f87c72a6ad1909",
   "outputs_reference": "s3:deepnote-cell-outputs-production/c6e1bab2-1393-4a36-8842-056beeb39133",
   "content_dependencies": {
    "codeHash": "8c5fbdd9",
    "usedVariables": [
     "accounts_df",
     "plot_numerical_distributions"
    ],
    "importedModules": [],
    "definedVariables": []
   },
   "outputs": [],
   "execution_count": null
  },
  {
   "cell_type": "markdown",
   "metadata": {
    "collapsed": false,
    "deepnote_app_block_visible": true,
    "cell_id": "08b5fe0377884855a1f5b4fb87253162",
    "deepnote_cell_type": "markdown"
   },
   "source": "## Clients",
   "block_group": "4d8c065d11fc4a87acf308c139fad228"
  },
  {
   "cell_type": "code",
   "metadata": {
    "collapsed": false,
    "source_hash": "9e6c493a",
    "execution_start": 1715615258145,
    "execution_millis": 528,
    "deepnote_to_be_reexecuted": false,
    "deepnote_app_block_visible": true,
    "deepnote_app_is_code_hidden": false,
    "cell_id": "1631f732c36447238e6c5b296cc0edeb",
    "deepnote_cell_type": "code"
   },
   "source": "clients_df = read_csv(\"data/client.csv\")\n\ndef parse_birth_number(birth_number):\n    birth_number_str = str(birth_number)\n\n    # Extract year, month, and day from birth number from string\n    # according to https://sorry.vse.cz/~berka/challenge/PAST/index.html\n    year = int(birth_number_str[:2])\n    month = int(birth_number_str[2:4])\n    day = int(birth_number_str[4:6])\n\n    # Determine sex based on month and adjust month for female clients\n    # according to https://sorry.vse.cz/~berka/challenge/PAST/index.html\n    if month > 50:\n        sex = \"Female\"\n        month -= 50\n    else:\n        sex = \"Male\"\n\n    # Validate date\n    assert 1 <= month <= 12\n    assert 1 <= day <= 31\n    assert 0 <= year <= 99\n\n    if month in [4, 6, 9, 11]:\n        assert 1 <= day <= 30\n    elif month == 2:\n        assert 1 <= day <= 29\n    else:\n        assert 1 <= day <= 31\n\n    # Assuming all dates are in the 1900s\n    birth_date = datetime(1900 + year, month, day)\n    return pd.Series([sex, birth_date])\n\n\nclients_df[['sex', 'birth_date']] = clients_df['birth_number'].apply(parse_birth_number)\n\n# Calculate 'age' assuming the reference year is 1999\nclients_df['age'] = clients_df['birth_date'].apply(lambda x: 1999 - x.year)\n\n# Drop 'birth_number' column as it is no longer needed\nclients_df = clients_df.drop(columns=['birth_number'])\n\nclients_df.info()",
   "block_group": "4a97366105df45ff99659c8e668a28ab",
   "outputs_reference": "dbtable:cell_outputs/ab6dfc89-0e9b-4c4a-bf59-141875a605b3",
   "content_dependencies": {
    "codeHash": "9e6c493a",
    "usedVariables": [
     "sex",
     "year",
     "birth_number_str",
     "x",
     "clients_df",
     "read_csv",
     "parse_birth_number",
     "pd",
     "day",
     "datetime",
     "month",
     "birth_number",
     "birth_date"
    ],
    "importedModules": [],
    "definedVariables": [
     "sex",
     "year",
     "birth_number_str",
     "parse_birth_number",
     "birth_date",
     "day",
     "month",
     "clients_df"
    ]
   },
   "outputs": [],
   "execution_count": null
  },
  {
   "cell_type": "code",
   "metadata": {
    "allow_embed": false,
    "source_hash": "717f3f15",
    "execution_start": 1715615258678,
    "execution_millis": 194,
    "deepnote_to_be_reexecuted": false,
    "deepnote_app_block_visible": true,
    "deepnote_app_is_code_hidden": false,
    "cell_id": "9a97522ed0574b05b07db9c46b3dd073",
    "deepnote_cell_type": "code"
   },
   "source": "# todo add some basic eda here\nclients_df.head()",
   "block_group": "2cfc7444e5904565a86619c06f74f877",
   "outputs_reference": "s3:deepnote-cell-outputs-production/9d28e581-ffee-419c-ad76-31b9fd739289",
   "content_dependencies": {
    "codeHash": "717f3f15",
    "usedVariables": [
     "clients_df"
    ],
    "importedModules": [],
    "definedVariables": []
   },
   "outputs": [],
   "execution_count": null
  },
  {
   "cell_type": "code",
   "metadata": {
    "source_hash": "18b49c04",
    "execution_start": 1715615258690,
    "execution_millis": 183,
    "deepnote_to_be_reexecuted": false,
    "deepnote_app_block_visible": true,
    "deepnote_app_is_code_hidden": false,
    "cell_id": "f97e73e99be34b359193986644022a68",
    "deepnote_cell_type": "code"
   },
   "source": "clients_df.describe()",
   "block_group": "4837be896a84445cb7391294f75d8c28",
   "outputs_reference": "s3:deepnote-cell-outputs-production/1eeee569-8bff-41ab-9b8b-192832bc25c7",
   "content_dependencies": {
    "codeHash": "18b49c04",
    "usedVariables": [
     "clients_df"
    ],
    "importedModules": [],
    "definedVariables": []
   },
   "outputs": [],
   "execution_count": null
  },
  {
   "cell_type": "code",
   "metadata": {
    "source_hash": "1faa7f04",
    "execution_start": 1715615258750,
    "execution_millis": 750,
    "deepnote_to_be_reexecuted": false,
    "deepnote_app_block_visible": true,
    "deepnote_app_is_code_hidden": false,
    "cell_id": "ead92ed5e88b414092ac84f7175de9dc",
    "deepnote_cell_type": "code"
   },
   "source": "plot_numerical_distributions(clients_df, ['birth_date', 'age'])",
   "block_group": "413806f6d06c47b493bf5c61578e6187",
   "outputs_reference": "s3:deepnote-cell-outputs-production/14642d47-910b-4bfd-a2a5-7a88c82941f1",
   "content_dependencies": {
    "codeHash": "1faa7f04",
    "usedVariables": [
     "clients_df",
     "plot_numerical_distributions"
    ],
    "importedModules": [],
    "definedVariables": []
   },
   "outputs": [],
   "execution_count": null
  },
  {
   "cell_type": "markdown",
   "metadata": {
    "collapsed": false,
    "deepnote_app_block_visible": true,
    "cell_id": "95aa59e5572d497a8f7d9e75096c7f9a",
    "deepnote_cell_type": "markdown"
   },
   "source": "## Dispositions",
   "block_group": "a4776d34093a4842a18d4e2fafa5e65d"
  },
  {
   "cell_type": "code",
   "metadata": {
    "collapsed": false,
    "source_hash": "a0d2aab6",
    "execution_start": 1715615259511,
    "execution_millis": 158,
    "deepnote_to_be_reexecuted": false,
    "deepnote_app_block_visible": true,
    "deepnote_app_is_code_hidden": false,
    "cell_id": "07f209dcbf7545c6a713868f1edf879e",
    "deepnote_cell_type": "code"
   },
   "source": "dispositions_df = read_csv(\"data/disp.csv\")\ndispositions_df.info()",
   "block_group": "ef1adbef649d427da9c26f23ca9ac0d5",
   "outputs_reference": "dbtable:cell_outputs/5eb1db25-1804-4751-9069-9cb885a6eb05",
   "content_dependencies": {
    "codeHash": "a0d2aab6",
    "usedVariables": [
     "read_csv",
     "dispositions_df"
    ],
    "importedModules": [],
    "definedVariables": [
     "dispositions_df"
    ]
   },
   "outputs": [],
   "execution_count": null
  },
  {
   "cell_type": "code",
   "metadata": {
    "source_hash": "a121090f",
    "execution_start": 1715615259674,
    "execution_millis": 227,
    "deepnote_to_be_reexecuted": false,
    "deepnote_app_block_visible": true,
    "deepnote_app_is_code_hidden": false,
    "cell_id": "03764e18f93c4655996cd79667273be3",
    "deepnote_cell_type": "code"
   },
   "source": "dispositions_df.head()",
   "block_group": "032b5bb074424b6b91636eec9a22d0ae",
   "outputs_reference": "s3:deepnote-cell-outputs-production/1582aa91-efa7-4837-ac75-1a52950c587e",
   "content_dependencies": {
    "codeHash": "a121090f",
    "usedVariables": [
     "dispositions_df"
    ],
    "importedModules": [],
    "definedVariables": []
   },
   "outputs": [],
   "execution_count": null
  },
  {
   "cell_type": "code",
   "metadata": {
    "source_hash": "7ff16d2d",
    "execution_start": 1715615259681,
    "execution_millis": 220,
    "deepnote_to_be_reexecuted": false,
    "deepnote_app_block_visible": true,
    "deepnote_app_is_code_hidden": false,
    "cell_id": "0b2c98c661d447fabbaf1df554dbfcff",
    "deepnote_cell_type": "code"
   },
   "source": "dispositions_df.describe()",
   "block_group": "a079756755f04eda85187c13902fb809",
   "outputs_reference": "s3:deepnote-cell-outputs-production/10c46102-4ff1-431c-b61a-ac711f753349",
   "content_dependencies": {
    "codeHash": "7ff16d2d",
    "usedVariables": [
     "dispositions_df"
    ],
    "importedModules": [],
    "definedVariables": []
   },
   "outputs": [],
   "execution_count": null
  },
  {
   "cell_type": "code",
   "metadata": {
    "source_hash": "ec99cb21",
    "execution_start": 1715615259707,
    "execution_millis": 414,
    "deepnote_to_be_reexecuted": false,
    "deepnote_app_block_visible": true,
    "deepnote_app_is_code_hidden": false,
    "cell_id": "77505e1dcdb04b3eb5c61c6a76b176f1",
    "deepnote_cell_type": "code"
   },
   "source": "plot_categorical_variables(dispositions_df, ['type'])",
   "block_group": "4022a42469d041ae95ade8d572fe8bfc",
   "outputs_reference": "s3:deepnote-cell-outputs-production/957b252f-c43a-407d-86ef-fb78ddde0ee3",
   "content_dependencies": {
    "codeHash": "ec99cb21",
    "usedVariables": [
     "plot_categorical_variables",
     "dispositions_df"
    ],
    "importedModules": [],
    "definedVariables": []
   },
   "outputs": [],
   "execution_count": null
  },
  {
   "cell_type": "markdown",
   "metadata": {
    "deepnote_app_block_visible": true,
    "cell_id": "533f114df1eb4a6fac37dc2c125432e4",
    "deepnote_cell_type": "markdown"
   },
   "source": "As the goal of this model is to address accounts and not client directly we will focus on the clients which own an account and focus solely on them. ",
   "block_group": "3e133c106ca9480a9aea065b388edfad"
  },
  {
   "cell_type": "code",
   "metadata": {
    "source_hash": "f8bddc85",
    "execution_start": 1715615259814,
    "execution_millis": 308,
    "deepnote_to_be_reexecuted": false,
    "deepnote_app_block_visible": true,
    "deepnote_app_is_code_hidden": false,
    "cell_id": "c0733e2b3bd548e8a6967d494c4fd850",
    "deepnote_cell_type": "code"
   },
   "source": "dispositions_df = dispositions_df[dispositions_df['type'] == 'OWNER']",
   "block_group": "8690c37b181e40a2b924ea5e4c13cb48",
   "outputs_reference": null,
   "content_dependencies": {
    "codeHash": "f8bddc85",
    "usedVariables": [
     "dispositions_df"
    ],
    "importedModules": [],
    "definedVariables": [
     "dispositions_df"
    ]
   },
   "outputs": [],
   "execution_count": null
  },
  {
   "cell_type": "markdown",
   "metadata": {
    "collapsed": false,
    "deepnote_app_block_visible": true,
    "cell_id": "35f4e99c49514d57964102d8b9de0971",
    "deepnote_cell_type": "markdown"
   },
   "source": "## Orders",
   "block_group": "77c0539eae844cbb84819a94ce4f02fc"
  },
  {
   "cell_type": "code",
   "metadata": {
    "collapsed": false,
    "source_hash": "1a6030c6",
    "execution_start": 1715615259863,
    "execution_millis": 259,
    "deepnote_to_be_reexecuted": false,
    "deepnote_app_block_visible": true,
    "deepnote_app_is_code_hidden": false,
    "cell_id": "cf3840f41bf640889cc4b3b1e72a371a",
    "deepnote_cell_type": "code"
   },
   "source": "orders_df = read_csv(\"data/order.csv\")\n\n# Translated from Czech to English\n# according to https://sorry.vse.cz/~berka/challenge/PAST/index.html\norders_df = remap_values(orders_df, 'k_symbol', {\n    \"POJISTNE\": \"Insurance_Payment\",\n    \"SIPO\": \"Household\",\n    \"LEASING\": \"Leasing\",\n    \"UVER\": \"Loan_Payment\"\n})\n\norders_df['account_to'] = orders_df['account_to'].astype('category')\n\norders_df = orders_df.rename(columns={'amount': 'debited_amount'})\n\norders_df.info()",
   "block_group": "b750a4beb1d345b18a88eb7aff3548fb",
   "outputs_reference": "dbtable:cell_outputs/4ab9dde2-9dec-4379-9f71-08b86160bb13",
   "content_dependencies": {
    "codeHash": "1a6030c6",
    "usedVariables": [
     "read_csv",
     "orders_df",
     "remap_values"
    ],
    "importedModules": [],
    "definedVariables": [
     "orders_df"
    ]
   },
   "outputs": [],
   "execution_count": null
  },
  {
   "cell_type": "code",
   "metadata": {
    "source_hash": "3d170501",
    "execution_start": 1715615260047,
    "execution_millis": 315,
    "deepnote_to_be_reexecuted": false,
    "deepnote_app_block_visible": true,
    "deepnote_app_is_code_hidden": false,
    "cell_id": "3ca05dfe9f0045fd933081eeee37365b",
    "deepnote_cell_type": "code"
   },
   "source": "orders_df.head()\n",
   "block_group": "2873d7e5c1914c25a4c4272cd41ce652",
   "outputs_reference": "s3:deepnote-cell-outputs-production/e4efeada-70d8-4613-bf45-19493e4b771d",
   "content_dependencies": {
    "codeHash": "3d170501",
    "usedVariables": [
     "orders_df"
    ],
    "importedModules": [],
    "definedVariables": []
   },
   "outputs": [],
   "execution_count": null
  },
  {
   "cell_type": "code",
   "metadata": {
    "source_hash": "dedb3770",
    "execution_start": 1715615260076,
    "execution_millis": 287,
    "deepnote_to_be_reexecuted": false,
    "deepnote_app_block_visible": true,
    "deepnote_app_is_code_hidden": false,
    "cell_id": "d251d2d2196845ca988e3e05025551f5",
    "deepnote_cell_type": "code"
   },
   "source": "orders_df.describe()",
   "block_group": "fe2c11ad673945d38dec2fb7f5c35c0b",
   "outputs_reference": "s3:deepnote-cell-outputs-production/bf057329-9fb0-4de9-9bb1-f44e388144d1",
   "content_dependencies": {
    "codeHash": "dedb3770",
    "usedVariables": [
     "orders_df"
    ],
    "importedModules": [],
    "definedVariables": []
   },
   "outputs": [],
   "execution_count": null
  },
  {
   "cell_type": "code",
   "metadata": {
    "source_hash": "6cb97aae",
    "execution_start": 1715615260099,
    "execution_millis": 264,
    "deepnote_to_be_reexecuted": false,
    "deepnote_app_block_visible": true,
    "deepnote_app_is_code_hidden": false,
    "cell_id": "3a5db7d15c294edea7cbb4cb6d570fd3",
    "deepnote_cell_type": "code"
   },
   "source": "orders_df.nunique()",
   "block_group": "9e425f8337e04675914c9c8c6ace65f2",
   "outputs_reference": "dbtable:cell_outputs/71f55320-48ff-417e-82b0-f5f82690a025",
   "content_dependencies": {
    "codeHash": "6cb97aae",
    "usedVariables": [
     "orders_df"
    ],
    "importedModules": [],
    "definedVariables": []
   },
   "outputs": [],
   "execution_count": null
  },
  {
   "cell_type": "markdown",
   "metadata": {
    "deepnote_app_block_visible": true,
    "cell_id": "83de02a7aa2947fcb841d992d1ec670b",
    "deepnote_cell_type": "markdown"
   },
   "source": "There appear to be as many order ids as there are rows. ",
   "block_group": "82434cd469114db89482487b642ab493"
  },
  {
   "cell_type": "code",
   "metadata": {
    "source_hash": "ce1b9ccb",
    "execution_start": 1715615260154,
    "execution_millis": 507,
    "deepnote_to_be_reexecuted": false,
    "deepnote_app_block_visible": true,
    "deepnote_app_is_code_hidden": false,
    "cell_id": "a2181de4ba6e45448048ea70ada11743",
    "deepnote_cell_type": "code"
   },
   "source": "plot_categorical_variables(orders_df, ['k_symbol', 'bank_to'])",
   "block_group": "60c06fe337644e989d796b196658f55f",
   "outputs_reference": "s3:deepnote-cell-outputs-production/8bf137c9-265a-4907-b59b-5a983443e7c7",
   "content_dependencies": {
    "codeHash": "ce1b9ccb",
    "usedVariables": [
     "plot_categorical_variables",
     "orders_df"
    ],
    "importedModules": [],
    "definedVariables": []
   },
   "outputs": [],
   "execution_count": null
  },
  {
   "cell_type": "code",
   "metadata": {
    "source_hash": "f5674c05",
    "execution_start": 1715615260595,
    "execution_millis": 367,
    "deepnote_to_be_reexecuted": false,
    "deepnote_app_block_visible": true,
    "deepnote_app_is_code_hidden": false,
    "cell_id": "6063dda9f20246bcac97967f748665b5",
    "deepnote_cell_type": "code"
   },
   "source": "plot_numerical_distributions(orders_df, ['debited_amount'])",
   "block_group": "295d5d251f0346b083cd608f44235ba6",
   "outputs_reference": "s3:deepnote-cell-outputs-production/c700e3b2-b012-4c78-8ed6-8557ffcadf01",
   "content_dependencies": {
    "codeHash": "f5674c05",
    "usedVariables": [
     "orders_df",
     "plot_numerical_distributions"
    ],
    "importedModules": [],
    "definedVariables": []
   },
   "outputs": [],
   "execution_count": null
  },
  {
   "cell_type": "code",
   "metadata": {
    "source_hash": "b623e53d",
    "execution_start": 1715615260965,
    "execution_millis": 151,
    "deepnote_to_be_reexecuted": false,
    "deepnote_app_block_visible": true,
    "deepnote_app_is_code_hidden": false,
    "cell_id": "b7ddaa248bb44991b9ee11714157fd86",
    "deepnote_cell_type": "code"
   },
   "source": "",
   "block_group": "d5606ad8c5484cb680d823a2a9e2740b",
   "outputs_reference": null,
   "content_dependencies": {
    "codeHash": "b623e53d",
    "usedVariables": [],
    "importedModules": [],
    "definedVariables": []
   },
   "outputs": [],
   "execution_count": null
  },
  {
   "cell_type": "markdown",
   "metadata": {
    "collapsed": false,
    "deepnote_app_block_visible": true,
    "cell_id": "ff3b67ccf93a4423912430854458476a",
    "deepnote_cell_type": "markdown"
   },
   "source": "## Transactions",
   "block_group": "0a0d5efe640543f6b9acaa696298c8b5"
  },
  {
   "cell_type": "code",
   "metadata": {
    "collapsed": false,
    "source_hash": "d1bc20a7",
    "execution_start": 1715615260975,
    "execution_millis": 2638,
    "deepnote_table_state": {
     "sortBy": [],
     "filters": [],
     "pageSize": 100,
     "pageIndex": 0
    },
    "deepnote_table_loading": false,
    "deepnote_to_be_reexecuted": false,
    "deepnote_app_block_visible": true,
    "deepnote_app_is_code_hidden": false,
    "cell_id": "82fccbdb6e864bffb187217ea812845e",
    "deepnote_cell_type": "code"
   },
   "source": "# column 8 is the 'bank' column which contains NaNs and must be read as string\ntransactions_df = read_csv(\"data/trans.csv\", dtypes={8: str})\n\ntransactions_df['date'] = pd.to_datetime(transactions_df['date'], format='%y%m%d')\n\n# Translated type, operations and characteristics from Czech to English\n# according to https://sorry.vse.cz/~berka/challenge/PAST/index.html\ntransactions_df = remap_values(transactions_df, 'type', {\n    \"VYBER\": \"Withdrawal\", # Also withdrawal as it is against the documentation present in the dataset\n    \"PRIJEM\": \"Credit\",\n    \"VYDAJ\": \"Withdrawal\"\n})\n\ntransactions_df = remap_values(transactions_df, 'operation', {\n    \"VYBER KARTOU\": \"Credit Card Withdrawal\",\n    \"VKLAD\": \"Credit in Cash\",\n    \"PREVOD Z UCTU\": \"Collection from Another Bank\",\n    \"VYBER\": \"Withdrawal in Cash\",\n    \"PREVOD NA UCET\": \"Remittance to Another Bank\"\n})\n\ntransactions_df = remap_values(transactions_df, 'k_symbol', {\n    \"POJISTNE\": \"Insurance Payment\",\n    \"SLUZBY\": \"Payment on Statement\",\n    \"UROK\": \"Interest Credited\",\n    \"SANKC. UROK\": \"Sanction Interest\",\n    \"SIPO\": \"Household\",\n    \"DUCHOD\": \"Old-age Pension\",\n    \"UVER\": \"Loan Payment\"\n})\n\n# Set the amount to negative for withdrawals and positive for credits\ntransactions_df['amount'] = np.where(transactions_df['type'] == \"Credit\", transactions_df['amount'], -transactions_df['amount'])\n\ntransactions_df.rename(columns={'type': 'transaction_type'}, inplace=True)\n\ntransactions_df.info()",
   "block_group": "6b00d5a1f3de4cdba8341a4448ff1d6d",
   "outputs_reference": "dbtable:cell_outputs/09ab27c1-c952-47b5-adf3-9e1c1eb7f69f",
   "content_dependencies": {
    "codeHash": "d1bc20a7",
    "usedVariables": [
     "read_csv",
     "pd",
     "transactions_df",
     "remap_values",
     "np"
    ],
    "importedModules": [],
    "definedVariables": [
     "transactions_df"
    ]
   },
   "outputs": [],
   "execution_count": null
  },
  {
   "cell_type": "code",
   "metadata": {
    "source_hash": "7cfcec2b",
    "execution_start": 1715615263617,
    "execution_millis": 151,
    "deepnote_to_be_reexecuted": false,
    "deepnote_app_block_visible": true,
    "deepnote_app_is_code_hidden": false,
    "cell_id": "0a76ba1e05e6441598cdb38e3dbf5a82",
    "deepnote_cell_type": "code"
   },
   "source": "transactions_df.head()",
   "block_group": "4b59aff1f5cb4d9890fdd955a85ae587",
   "outputs_reference": "s3:deepnote-cell-outputs-production/8e2b9cb6-c4a7-4592-a8df-29e5a7ad7544",
   "content_dependencies": {
    "codeHash": "7cfcec2b",
    "usedVariables": [
     "transactions_df"
    ],
    "importedModules": [],
    "definedVariables": []
   },
   "outputs": [],
   "execution_count": null
  },
  {
   "cell_type": "code",
   "metadata": {
    "source_hash": "8787e1ab",
    "execution_start": 1715615263638,
    "execution_millis": 386,
    "deepnote_to_be_reexecuted": false,
    "deepnote_app_block_visible": true,
    "deepnote_app_is_code_hidden": false,
    "cell_id": "cd8571dc53904dddaac242cafca4d595",
    "deepnote_cell_type": "code"
   },
   "source": "transactions_df.describe()",
   "block_group": "d6f5af486ce7455ca952a26732a498d4",
   "outputs_reference": "s3:deepnote-cell-outputs-production/ed86ec61-3eda-448a-8a3c-761910d394e7",
   "content_dependencies": {
    "codeHash": "8787e1ab",
    "usedVariables": [
     "transactions_df"
    ],
    "importedModules": [],
    "definedVariables": []
   },
   "outputs": [],
   "execution_count": null
  },
  {
   "cell_type": "code",
   "metadata": {
    "source_hash": "3f6ad55b",
    "execution_start": 1715615264007,
    "execution_millis": 2866,
    "deepnote_to_be_reexecuted": false,
    "deepnote_app_block_visible": true,
    "deepnote_app_is_code_hidden": false,
    "cell_id": "7509aa40eb4f40fea29afad9bdb823fb",
    "deepnote_cell_type": "code"
   },
   "source": "plot_categorical_variables(transactions_df, ['transaction_type', 'operation', 'k_symbol'])",
   "block_group": "ec7b8581fccc46cba61a5e476365f0ca",
   "outputs_reference": "s3:deepnote-cell-outputs-production/bdd83ba3-b477-49a5-b41c-9b109a27a2b2",
   "content_dependencies": {
    "codeHash": "3f6ad55b",
    "usedVariables": [
     "plot_categorical_variables",
     "transactions_df"
    ],
    "importedModules": [],
    "definedVariables": []
   },
   "outputs": [],
   "execution_count": null
  },
  {
   "cell_type": "code",
   "metadata": {
    "source_hash": "da96e71d",
    "execution_start": 1715615266886,
    "execution_millis": 14139,
    "deepnote_to_be_reexecuted": false,
    "deepnote_app_block_visible": true,
    "deepnote_app_is_code_hidden": false,
    "cell_id": "52edfbf8081e4c72b628f5c1823b3110",
    "deepnote_cell_type": "code"
   },
   "source": "plot_numerical_distributions(transactions_df, ['date', 'amount', 'balance'])",
   "block_group": "ee888a1eb160472e88c13d21f9ad35fd",
   "outputs_reference": "s3:deepnote-cell-outputs-production/8a607d12-d62b-4394-bf37-4668102283b2",
   "content_dependencies": {
    "codeHash": "da96e71d",
    "usedVariables": [
     "transactions_df",
     "plot_numerical_distributions"
    ],
    "importedModules": [],
    "definedVariables": []
   },
   "outputs": [],
   "execution_count": null
  },
  {
   "cell_type": "markdown",
   "metadata": {
    "deepnote_app_block_visible": true,
    "cell_id": "fc2b94650cee43afbc25ee5aa5084a55",
    "deepnote_cell_type": "markdown"
   },
   "source": "Looking at the distributions of the transaction table we can see that the count of transactions per year increase over time. So we can conclude that the bank has a growing client base. \n\nHowever, the other plots are not very useful. For one the transaction amount seems to be very sparse, ranging from values between -80000 and 80000. \n\nThe balance distribution also showcases that there are accounts with a negative balance after a transaction, which would only make sense if debt is also included in this value. \n\nAccording to description of the field balance: \"balance after transaction\"",
   "block_group": "622108dd8c3745d2afeeb5ca3ce36625"
  },
  {
   "cell_type": "code",
   "metadata": {
    "source_hash": "535853c6",
    "execution_start": 1715615281037,
    "execution_millis": 2602,
    "deepnote_to_be_reexecuted": false,
    "deepnote_app_block_visible": true,
    "deepnote_app_is_code_hidden": false,
    "cell_id": "25a0f25945a84c69a27425e03bad1c95",
    "deepnote_cell_type": "code"
   },
   "source": "# Getting a list of unique years from the dataset\ntransactions_df['year'] = transactions_df['date'].dt.year\ntransactions_df['month'] = transactions_df['date'].dt.month\n\nmonths = ['Jan', 'Feb', 'Mar', 'Apr', 'May', 'Jun', 'Jul', 'Aug', 'Sep', 'Oct', 'Nov', 'Dec']\n\n\nyears = sorted(transactions_df['year'].unique())\n\n# Creating a figure with subplots for each year: one row for each year with two plots (box plot and bar chart)\nfig, axs = plt.subplots(len(years) * 2, 1, figsize=(15, 6 * len(years)), sharex=True, gridspec_kw={'height_ratios': [3, 1] * len(years)})\n\nfor i, year in enumerate(years):\n    # Filter transactions for the current year\n    yearly_transactions = transactions_df[transactions_df['year'] == year]\n\n    # Preparing data for the box plot: a list of amounts for each month for the current year\n    amounts_per_month_yearly = [yearly_transactions[yearly_transactions['month'] == month]['amount'] for month in range(1, 13)]\n\n    # Preparing data for the bar chart for the current year\n    monthly_summary_yearly = yearly_transactions.groupby('month').agg(TotalAmount=('amount', 'sum'), TransactionCount=('amount', 'count')).reset_index()\n\n    # Box plot for transaction amounts by month for the current year\n    axs[i*2].boxplot(amounts_per_month_yearly, patch_artist=True)\n    # now with seaborn\n    # sns.boxplot(data=yearly_transactions, x='month', y='amount', ax=axs[i*2])\n    axs[i*2].set_title(f'Transaction Amounts Per Month in {year} (Box Plot)')\n    axs[i*2].set_yscale('symlog')\n    axs[i*2].set_ylabel('Transaction Amounts (log scale)')\n    axs[i*2].grid(True, which='both')\n\n    # Bar chart for transaction count by month for the current year\n    axs[i*2 + 1].bar(monthly_summary_yearly['month'], monthly_summary_yearly['TransactionCount'], color='tab:red', alpha=0.6)\n    axs[i*2 + 1].set_ylabel('Transaction Count')\n    axs[i*2 + 1].grid(True, which='both')\n\n# Setting x-ticks and labels for the last bar chart (shared x-axis for all)\naxs[-1].set_xticks(range(1, 13))\naxs[-1].set_xticklabels(months)\naxs[-1].set_xlabel('Month')\n\nplt.tight_layout()\nplt.show()\n\n",
   "block_group": "2bc592579d7c409ea5e3f18e8611d056",
   "outputs_reference": "s3:deepnote-cell-outputs-production/682472a8-b961-4b74-a3af-6cc4d59d5994",
   "content_dependencies": {
    "codeHash": "535853c6",
    "usedVariables": [
     "axs",
     "amounts_per_month_yearly",
     "i",
     "year",
     "yearly_transactions",
     "plt",
     "years",
     "months",
     "transactions_df",
     "monthly_summary_yearly",
     "month"
    ],
    "importedModules": [],
    "definedVariables": [
     "axs",
     "amounts_per_month_yearly",
     "i",
     "fig",
     "year",
     "yearly_transactions",
     "years",
     "months",
     "monthly_summary_yearly",
     "month"
    ]
   },
   "outputs": [],
   "execution_count": null
  },
  {
   "cell_type": "code",
   "metadata": {
    "source_hash": "322bcc7f",
    "execution_start": 1715615283656,
    "execution_millis": 3851,
    "deepnote_to_be_reexecuted": false,
    "deepnote_app_block_visible": true,
    "deepnote_app_is_code_hidden": false,
    "cell_id": "d7e292d3de024b1d88d61b330e6e92b6",
    "deepnote_cell_type": "code"
   },
   "source": "# Importing required libraries for visualization\nimport matplotlib.pyplot as plt\nimport pandas as pd\n\n# Assuming 'transactions' DataFrame already contains 'year' and 'month' columns\n# and is ready for visualization\n\n# Getting a list of unique years and defining month labels\nyears = sorted(transactions_df['year'].unique())\nmonths = ['Jan', 'Feb', 'Mar', 'Apr', 'May', 'Jun', 'Jul', 'Aug', 'Sep', 'Oct', 'Nov', 'Dec']\n\n# Adjusting the figure layout to place visualizations for each year next to each other\nfig, axs = plt.subplots(2, len(years), figsize=(40 * len(years) / 2, 30), sharey='row', gridspec_kw={'height_ratios': [3, 1]})\n\nfor i, year in enumerate(years):\n    # Filter transactions for the current year\n    yearly_transactions = transactions_df[transactions_df['year'] == year]\n\n    # Preparing data for the box plot: a list of amounts for each month for the current year\n    amounts_per_month_yearly = [yearly_transactions[yearly_transactions['month'] == month]['amount'] for month in range(1, 13)]\n\n    # Preparing data for the bar chart for the current year\n    monthly_summary_yearly = yearly_transactions.groupby('month').agg(TotalAmount=('amount', 'sum'), TransactionCount=('amount', 'count')).reset_index()\n\n    # Selecting the appropriate axes for multiple or single year scenarios\n    ax_box = axs[0, i] if len(years) > 1 else axs[0]\n    ax_bar = axs[1, i] if len(years) > 1 else axs[1]\n    \n    ax_box.boxplot(amounts_per_month_yearly, patch_artist=True)\n    ax_box.set_title(f'{year} (Box Plot)')\n    ax_box.set_yscale('symlog')\n    ax_box.set_ylabel('Transaction Amounts (log scale)')\n    ax_box.grid(True, which='both')\n\n    ax_bar.bar(monthly_summary_yearly['month'], monthly_summary_yearly['TransactionCount'], color='tab:red', alpha=0.6)\n    ax_bar.set_ylabel('Transaction Count')\n    ax_bar.grid(True, which='both')\n\n    # Setting common x-ticks and labels for all axes\n    ax_bar.set_xticks(range(1, 13))\n    ax_bar.set_xticklabels(months)\n\n# Setting a common x-label for the entire figure\nfig.text(0.5, 0.04, 'Month', ha='center')\n\nplt.tight_layout()\nplt.show()\n",
   "block_group": "5bb8b269150041828da2f60c307fe9bf",
   "outputs_reference": "s3:deepnote-cell-outputs-production/df05400f-2f68-4fc7-aa51-daa1fbecd1b4",
   "content_dependencies": {
    "codeHash": "322bcc7f",
    "usedVariables": [
     "axs",
     "amounts_per_month_yearly",
     "i",
     "fig",
     "year",
     "yearly_transactions",
     "plt",
     "ax_box",
     "years",
     "months",
     "transactions_df",
     "monthly_summary_yearly",
     "month",
     "ax_bar"
    ],
    "importedModules": [
     "pd",
     "plt"
    ],
    "definedVariables": [
     "axs",
     "amounts_per_month_yearly",
     "i",
     "fig",
     "year",
     "yearly_transactions",
     "ax_box",
     "years",
     "months",
     "monthly_summary_yearly",
     "month",
     "ax_bar"
    ]
   },
   "outputs": [],
   "execution_count": null
  },
  {
   "cell_type": "code",
   "metadata": {
    "source_hash": "3cca291e",
    "execution_start": 1715615287556,
    "execution_millis": 544,
    "deepnote_table_state": {
     "sortBy": [],
     "filters": [],
     "pageSize": 100,
     "pageIndex": 0
    },
    "deepnote_table_loading": false,
    "deepnote_to_be_reexecuted": false,
    "deepnote_app_block_visible": true,
    "deepnote_app_is_code_hidden": false,
    "cell_id": "fc91327de325471ab5e59aca07472836",
    "deepnote_cell_type": "code"
   },
   "source": "negative_balances = transactions_df[transactions_df['balance'] < 0]\nplot_numerical_distributions(negative_balances, ['balance', 'amount'])\nprint(f\"Number of transactions with negative balance: {len(negative_balances)}\")",
   "block_group": "01c0429626a244cba13aa80e77f94f7c",
   "outputs_reference": "s3:deepnote-cell-outputs-production/5e5bdd2f-191d-492d-957b-f321333608d5",
   "content_dependencies": {
    "codeHash": "3cca291e",
    "usedVariables": [
     "negative_balances",
     "transactions_df",
     "plot_numerical_distributions"
    ],
    "importedModules": [],
    "definedVariables": [
     "negative_balances"
    ]
   },
   "outputs": [],
   "execution_count": null
  },
  {
   "cell_type": "markdown",
   "metadata": {
    "deepnote_app_block_visible": true,
    "cell_id": "75a25fb02e6f4ef1bf0cf32e7fd29fd0",
    "deepnote_cell_type": "markdown"
   },
   "source": "There appear to be 2999 transactions which have a negative balance, therefore after the transaction the account balance was negative. This implies that these accounts are in some kind of debt. ",
   "block_group": "f618484e9acb40b0b7f418a1de6c891e"
  },
  {
   "cell_type": "markdown",
   "metadata": {
    "collapsed": false,
    "deepnote_app_block_visible": true,
    "cell_id": "b02413e62715494cafd0689ecc411ce9",
    "deepnote_cell_type": "markdown"
   },
   "source": "## Loans",
   "block_group": "0bb5cbc99039482dbde9eab3865b3ea9"
  },
  {
   "cell_type": "code",
   "metadata": {
    "collapsed": false,
    "source_hash": "b5356970",
    "execution_start": 1715615288103,
    "execution_millis": 232,
    "deepnote_table_state": {
     "sortBy": [],
     "filters": [],
     "pageSize": 10,
     "pageIndex": 0
    },
    "deepnote_table_loading": false,
    "deepnote_to_be_reexecuted": false,
    "deepnote_app_block_visible": true,
    "deepnote_app_is_code_hidden": false,
    "cell_id": "10ad619ad8cb433e9b6de19fbb51f76e",
    "deepnote_cell_type": "code"
   },
   "source": "loans_df = read_csv(\"data/loan.csv\")\n\nloans_df['date'] = pd.to_datetime(loans_df['date'], format='%y%m%d')\n\nloans_df['status'] = loans_df['status'].map({\n    \"A\": \"Contract finished, no problems\",\n    \"B\": \"Contract finished, loan not paid\",\n    \"C\": \"Contract running, OK thus-far\",\n    \"D\": \"Contract running, client in debt\"\n})\n\nloans_df.rename(columns={\n    'date': 'granted_date',\n    'amount': 'amount',\n    'duration': 'duration',\n    'payments': 'monthly_payments',\n    'status': 'status'\n}, inplace=True)\n\nloans_df.info()",
   "block_group": "e35d47ae622a41f08e467ed9b43a71d2",
   "outputs_reference": "dbtable:cell_outputs/5b621a4a-0cf3-4b1e-a4f6-d4fcaee037ca",
   "content_dependencies": {
    "codeHash": "b5356970",
    "usedVariables": [
     "pd",
     "read_csv",
     "loans_df"
    ],
    "importedModules": [],
    "definedVariables": [
     "loans_df"
    ]
   },
   "outputs": [],
   "execution_count": null
  },
  {
   "cell_type": "code",
   "metadata": {
    "source_hash": "5d179391",
    "execution_start": 1715615288338,
    "execution_millis": 251,
    "deepnote_to_be_reexecuted": false,
    "deepnote_app_block_visible": true,
    "deepnote_app_is_code_hidden": false,
    "cell_id": "b971547e5f1744f1a98e1fff4fcd48be",
    "deepnote_cell_type": "code"
   },
   "source": "# todo add some basic eda here\nloans_df.head()\n",
   "block_group": "1cf387b6f20d4a1bb9451bb05249c5f5",
   "outputs_reference": "s3:deepnote-cell-outputs-production/650a7473-b347-4074-8033-ebce5dd17fc0",
   "content_dependencies": {
    "codeHash": "5d179391",
    "usedVariables": [
     "loans_df"
    ],
    "importedModules": [],
    "definedVariables": []
   },
   "outputs": [],
   "execution_count": null
  },
  {
   "cell_type": "code",
   "metadata": {
    "source_hash": "d8efb6d6",
    "execution_start": 1715615288363,
    "execution_millis": 227,
    "deepnote_to_be_reexecuted": false,
    "deepnote_app_block_visible": true,
    "deepnote_app_is_code_hidden": false,
    "cell_id": "cf4ad3835c834779b0dccc7444b9790f",
    "deepnote_cell_type": "code"
   },
   "source": "loans_df.describe()\n",
   "block_group": "8355e379833f4615a966dd1e9d3fc5dc",
   "outputs_reference": "s3:deepnote-cell-outputs-production/dc6bdb73-39c1-4dbc-9e42-2e3fc6b1357e",
   "content_dependencies": {
    "codeHash": "d8efb6d6",
    "usedVariables": [
     "loans_df"
    ],
    "importedModules": [],
    "definedVariables": []
   },
   "outputs": [],
   "execution_count": null
  },
  {
   "cell_type": "code",
   "metadata": {
    "source_hash": "f61b68df",
    "execution_start": 1715615288408,
    "execution_millis": 408,
    "deepnote_to_be_reexecuted": false,
    "deepnote_app_block_visible": true,
    "deepnote_app_is_code_hidden": false,
    "cell_id": "5aa4e8d527e948aa8f66c4cd2c2e4906",
    "deepnote_cell_type": "code"
   },
   "source": "loans_df.nunique()",
   "block_group": "35a6581e108e47c79ea4e6b66908f3b1",
   "outputs_reference": "dbtable:cell_outputs/0506b756-ba33-4d1e-ae45-0525bdd65f9d",
   "content_dependencies": {
    "codeHash": "f61b68df",
    "usedVariables": [
     "loans_df"
    ],
    "importedModules": [],
    "definedVariables": []
   },
   "outputs": [],
   "execution_count": null
  },
  {
   "cell_type": "markdown",
   "metadata": {
    "deepnote_app_block_visible": true,
    "cell_id": "d6978299633a4b2ba43586332d2bfa5f",
    "deepnote_cell_type": "markdown"
   },
   "source": "It seems as if one account can have at max one loan.",
   "block_group": "d281115120b644f1a8f16cf7346c70ef"
  },
  {
   "cell_type": "code",
   "metadata": {
    "source_hash": "5fe74221",
    "execution_start": 1715615288419,
    "execution_millis": 397,
    "deepnote_to_be_reexecuted": false,
    "deepnote_app_block_visible": true,
    "deepnote_app_is_code_hidden": false,
    "cell_id": "a67ae151dc3746f288abd51e4debff38",
    "deepnote_cell_type": "code"
   },
   "source": "plot_categorical_variables(loans_df, ['duration', 'status'])\n",
   "block_group": "5b45ae4f8e0d4a13ae3e7b243b9b9aed",
   "outputs_reference": "s3:deepnote-cell-outputs-production/ccf17071-7ac8-4cb2-af6a-ec80e7fc84ff",
   "content_dependencies": {
    "codeHash": "5fe74221",
    "usedVariables": [
     "plot_categorical_variables",
     "loans_df"
    ],
    "importedModules": [],
    "definedVariables": []
   },
   "outputs": [],
   "execution_count": null
  },
  {
   "cell_type": "markdown",
   "metadata": {
    "deepnote_app_block_visible": true,
    "cell_id": "d7b1dc03711b4b908e67b70ed34fa766",
    "deepnote_cell_type": "markdown"
   },
   "source": "The distribution of durations seems to be even.",
   "block_group": "bacac3d9bb984f849185ebde3e58d04a"
  },
  {
   "cell_type": "code",
   "metadata": {
    "source_hash": "aac691e4",
    "execution_start": 1715615288784,
    "execution_millis": 490,
    "deepnote_to_be_reexecuted": false,
    "deepnote_app_block_visible": true,
    "deepnote_app_is_code_hidden": false,
    "cell_id": "47a5df15b4284586912ca62fd1b69994",
    "deepnote_cell_type": "code"
   },
   "source": "plot_numerical_distributions(loans_df, ['granted_date'])\n",
   "block_group": "aa7123e950d74087a68cac112fb6a777",
   "outputs_reference": "s3:deepnote-cell-outputs-production/43e0401c-414e-45ac-868d-93c94d967b5b",
   "content_dependencies": {
    "codeHash": "aac691e4",
    "usedVariables": [
     "loans_df",
     "plot_numerical_distributions"
    ],
    "importedModules": [],
    "definedVariables": []
   },
   "outputs": [],
   "execution_count": null
  },
  {
   "cell_type": "markdown",
   "metadata": {
    "collapsed": false,
    "deepnote_app_block_visible": true,
    "cell_id": "49e554a625e741c5940cd3bfa94c6209",
    "deepnote_cell_type": "markdown"
   },
   "source": "## Credit Cards",
   "block_group": "b6ed8cd221234bd081e5c3ac9af260dc"
  },
  {
   "cell_type": "code",
   "metadata": {
    "collapsed": false,
    "source_hash": "cad99fe3",
    "execution_start": 1715615289279,
    "execution_millis": 239,
    "deepnote_to_be_reexecuted": false,
    "deepnote_app_block_visible": true,
    "deepnote_app_is_code_hidden": false,
    "cell_id": "9174c131aa4e4e34a7f8d8ae4cdf957c",
    "deepnote_cell_type": "code"
   },
   "source": "cards_df = read_csv(\"data/card.csv\")\n\ncards_df['issued'] = pd.to_datetime(cards_df['issued'], format='%y%m%d %H:%M:%S').dt.date\n\ncards_df.info()",
   "block_group": "328f92b25e3244cd9674cad84bc1ffe0",
   "outputs_reference": "dbtable:cell_outputs/d68d54d5-8045-4cb3-b6da-ecf76e0ffa6a",
   "content_dependencies": {
    "codeHash": "cad99fe3",
    "usedVariables": [
     "pd",
     "read_csv",
     "cards_df"
    ],
    "importedModules": [],
    "definedVariables": [
     "cards_df"
    ]
   },
   "outputs": [],
   "execution_count": null
  },
  {
   "cell_type": "code",
   "metadata": {
    "source_hash": "2942f975",
    "execution_start": 1715615289527,
    "execution_millis": 157,
    "deepnote_to_be_reexecuted": false,
    "deepnote_app_block_visible": true,
    "deepnote_app_is_code_hidden": false,
    "cell_id": "e47213e4c5b84f8aa7f91049bba6016e",
    "deepnote_cell_type": "code"
   },
   "source": "cards_df.head()",
   "block_group": "4185bb8b549142d68d245a5d0b80a778",
   "outputs_reference": "s3:deepnote-cell-outputs-production/ca8211b2-03e0-4b95-8948-4170c0651056",
   "content_dependencies": {
    "codeHash": "2942f975",
    "usedVariables": [
     "cards_df"
    ],
    "importedModules": [],
    "definedVariables": []
   },
   "outputs": [],
   "execution_count": null
  },
  {
   "cell_type": "code",
   "metadata": {
    "source_hash": "5cdcbe38",
    "execution_start": 1715615289557,
    "execution_millis": 441,
    "deepnote_to_be_reexecuted": false,
    "deepnote_app_block_visible": true,
    "deepnote_app_is_code_hidden": false,
    "cell_id": "9f50000058cf4f78af8bc5397ccfa7ba",
    "deepnote_cell_type": "code"
   },
   "source": "cards_df.describe()",
   "block_group": "28fac802d90d4d818032e51f924a42c9",
   "outputs_reference": "s3:deepnote-cell-outputs-production/bcf460df-db1d-4a21-b22b-88882f3e9804",
   "content_dependencies": {
    "codeHash": "5cdcbe38",
    "usedVariables": [
     "cards_df"
    ],
    "importedModules": [],
    "definedVariables": []
   },
   "outputs": [],
   "execution_count": null
  },
  {
   "cell_type": "code",
   "metadata": {
    "source_hash": "6669ed3b",
    "execution_start": 1715615289571,
    "execution_millis": 427,
    "deepnote_to_be_reexecuted": false,
    "deepnote_app_block_visible": true,
    "deepnote_app_is_code_hidden": false,
    "cell_id": "3aaf8fe7ed014a188b9e5fef7d03b3aa",
    "deepnote_cell_type": "code"
   },
   "source": "plot_categorical_variables(cards_df, ['type'])",
   "block_group": "19843e57840d436fbc710f69f1ed6d06",
   "outputs_reference": "s3:deepnote-cell-outputs-production/6c003847-becf-4cc8-8672-b84db791b630",
   "content_dependencies": {
    "codeHash": "6669ed3b",
    "usedVariables": [
     "plot_categorical_variables",
     "cards_df"
    ],
    "importedModules": [],
    "definedVariables": []
   },
   "outputs": [],
   "execution_count": null
  },
  {
   "cell_type": "code",
   "metadata": {
    "source_hash": "cef61c8b",
    "execution_start": 1715615289813,
    "execution_millis": 2905,
    "deepnote_to_be_reexecuted": false,
    "deepnote_app_block_visible": true,
    "deepnote_app_is_code_hidden": false,
    "cell_id": "d9235b7602ba4d50904d09287a5f3d2e",
    "deepnote_cell_type": "code"
   },
   "source": "plot_numerical_distributions(cards_df, ['issued'])",
   "block_group": "48f16e93bc1241918fd8df6e68e9d158",
   "outputs_reference": "s3:deepnote-cell-outputs-production/50ec7fa3-c16d-4ba0-8307-47002bc133fb",
   "content_dependencies": {
    "codeHash": "cef61c8b",
    "usedVariables": [
     "cards_df",
     "plot_numerical_distributions"
    ],
    "importedModules": [],
    "definedVariables": []
   },
   "outputs": [],
   "execution_count": null
  },
  {
   "cell_type": "markdown",
   "metadata": {
    "collapsed": false,
    "deepnote_app_block_visible": true,
    "cell_id": "c3a8dc8e699f4087abb6f949e6554d36",
    "deepnote_cell_type": "markdown"
   },
   "source": "## Demographic data",
   "block_group": "2646bd0674b545378508a71d5fcc4aae"
  },
  {
   "cell_type": "code",
   "metadata": {
    "source_hash": "146e2895",
    "execution_start": 1715615292723,
    "execution_millis": 407,
    "deepnote_to_be_reexecuted": false,
    "deepnote_app_block_visible": true,
    "deepnote_app_is_code_hidden": false,
    "cell_id": "02d60090c0744453838cd52071a95438",
    "deepnote_cell_type": "code"
   },
   "source": "districts_df = read_csv(\"data/district.csv\")\n\n# Rename columns\n# according to https://sorry.vse.cz/~berka/challenge/PAST/index.html\ndistricts_df.rename(columns={\n    'A1': 'district_id',\n    'A2': 'district_name',\n    'A3': 'region',\n    'A4': 'inhabitants',\n    'A5': 'small_municipalities',\n    'A6': 'medium_municipalities',\n    'A7': 'large_municipalities',\n    'A8': 'huge_municipalities',\n    'A9': 'cities',\n    'A10': 'ratio_urban_inhabitants',\n    'A11': 'average_salary',\n    'A12': 'unemployment_rate_1995',\n    'A13': 'unemployment_rate_1996',\n    'A14': 'entrepreneurs_per_1000_inhabitants',\n    'A15': 'crimes_committed_1995',\n    'A16': 'crimes_committed_1996'\n}, inplace=True)\n\nfor col in ['unemployment_rate_1995', 'unemployment_rate_1996', 'crimes_committed_1995', 'crimes_committed_1996']:\n    districts_df[col] = pd.to_numeric(districts_df[col], errors='coerce')\n\ndistricts_df.info()",
   "block_group": "ebd0a5a77b0c42669de71f0de0bf1e04",
   "outputs_reference": "s3:deepnote-cell-outputs-production/adb0914c-ee0d-4394-ae7e-1a7aa11ab4ca",
   "content_dependencies": {
    "codeHash": "146e2895",
    "usedVariables": [
     "pd",
     "read_csv",
     "col",
     "districts_df"
    ],
    "importedModules": [],
    "definedVariables": [
     "col",
     "districts_df"
    ]
   },
   "outputs": [],
   "execution_count": null
  },
  {
   "cell_type": "markdown",
   "metadata": {
    "deepnote_app_block_visible": true,
    "cell_id": "5c95b4227a9444f2a097ea4489fbb0c4",
    "deepnote_cell_type": "markdown"
   },
   "source": "It appears as if there is 1 null value for unemployment rate in 1995 and crimes committed in 1995.",
   "block_group": "4a81b635f73f4e4894e40dac657cac42"
  },
  {
   "cell_type": "code",
   "metadata": {
    "source_hash": "46563a62",
    "execution_start": 1715615292913,
    "execution_millis": 217,
    "deepnote_to_be_reexecuted": false,
    "deepnote_app_block_visible": true,
    "deepnote_app_is_code_hidden": false,
    "cell_id": "fa772af2421b483e846d6a14ab05918b",
    "deepnote_cell_type": "code"
   },
   "source": "# todo add some basic eda here\ndistricts_df.head()",
   "block_group": "1f3a1cc3456045c9bffe6130f65c05b7",
   "outputs_reference": "s3:deepnote-cell-outputs-production/c1553382-5f31-4982-aa6d-68ad53c9fbc3",
   "content_dependencies": {
    "codeHash": "46563a62",
    "usedVariables": [
     "districts_df"
    ],
    "importedModules": [],
    "definedVariables": []
   },
   "outputs": [],
   "execution_count": null
  },
  {
   "cell_type": "code",
   "metadata": {
    "source_hash": "6f42a976",
    "execution_start": 1715615292946,
    "execution_millis": 383,
    "deepnote_to_be_reexecuted": false,
    "deepnote_app_block_visible": true,
    "deepnote_app_is_code_hidden": false,
    "cell_id": "95d7c437e7284f9385e14b893497fe53",
    "deepnote_cell_type": "code"
   },
   "source": "districts_df.describe()",
   "block_group": "b6bb2a29b00f470daebf820a7c03ecab",
   "outputs_reference": "s3:deepnote-cell-outputs-production/5baf7073-c4d2-43bb-bd8f-421b57cc6c22",
   "content_dependencies": {
    "codeHash": "6f42a976",
    "usedVariables": [
     "districts_df"
    ],
    "importedModules": [],
    "definedVariables": []
   },
   "outputs": [],
   "execution_count": null
  },
  {
   "cell_type": "code",
   "metadata": {
    "source_hash": "87fa7e8b",
    "execution_start": 1715615293003,
    "execution_millis": 327,
    "deepnote_to_be_reexecuted": false,
    "deepnote_app_block_visible": true,
    "deepnote_app_is_code_hidden": false,
    "cell_id": "e8603fa913b74bd9a70fc7e727624a64",
    "deepnote_cell_type": "code"
   },
   "source": "districts_df.nunique()",
   "block_group": "469303043d8c481799eb694a3e1a77cf",
   "outputs_reference": "dbtable:cell_outputs/16b29cf4-42a9-4e85-98af-c25d07517fb3",
   "content_dependencies": {
    "codeHash": "87fa7e8b",
    "usedVariables": [
     "districts_df"
    ],
    "importedModules": [],
    "definedVariables": []
   },
   "outputs": [],
   "execution_count": null
  },
  {
   "cell_type": "code",
   "metadata": {
    "source_hash": "7bcda4aa",
    "execution_start": 1715615293045,
    "execution_millis": 371,
    "deepnote_to_be_reexecuted": false,
    "deepnote_app_block_visible": true,
    "deepnote_app_is_code_hidden": false,
    "cell_id": "84b22aec3a6a4e489cc71de78da27ecf",
    "deepnote_cell_type": "code"
   },
   "source": "plot_numerical_distributions(districts_df, ['crimes_committed_1995'])",
   "block_group": "1619e13aa3b24563aec7c9b8e806cc72",
   "outputs_reference": "s3:deepnote-cell-outputs-production/03bb72f0-7e62-4f94-afb6-9392c1b76381",
   "content_dependencies": {
    "codeHash": "7bcda4aa",
    "usedVariables": [
     "districts_df",
     "plot_numerical_distributions"
    ],
    "importedModules": [],
    "definedVariables": []
   },
   "outputs": [],
   "execution_count": null
  },
  {
   "cell_type": "code",
   "metadata": {
    "source_hash": "745a11ea",
    "execution_start": 1715615293429,
    "execution_millis": 205,
    "deepnote_to_be_reexecuted": false,
    "deepnote_app_block_visible": true,
    "deepnote_app_is_code_hidden": false,
    "cell_id": "2c318e37999b405fb243d64b9ebe00c3",
    "deepnote_cell_type": "code"
   },
   "source": "plot_categorical_variables(districts_df, ['region'])",
   "block_group": "7b3723685b0a4e8394420c8713981b38",
   "outputs_reference": "s3:deepnote-cell-outputs-production/8c700617-ba7b-4a20-8da5-2d5379021bd0",
   "content_dependencies": {
    "codeHash": "745a11ea",
    "usedVariables": [
     "plot_categorical_variables",
     "districts_df"
    ],
    "importedModules": [],
    "definedVariables": []
   },
   "outputs": [],
   "execution_count": null
  },
  {
   "cell_type": "markdown",
   "metadata": {
    "deepnote_app_block_visible": true,
    "cell_id": "d07d744b2d424164a3d8b4029aef69e5",
    "deepnote_cell_type": "markdown"
   },
   "source": "We need to differentiate between the domicile of the client and account, as they can be different.\n",
   "block_group": "d1121d6f731441d8ace5d0956a4c9c81"
  },
  {
   "cell_type": "markdown",
   "metadata": {
    "deepnote_app_block_visible": true,
    "cell_id": "468d1d3b0e064df8a888d2104c858484",
    "deepnote_cell_type": "markdown"
   },
   "source": "# Relationships\n\nFollowing the documentation of the dataset, there are multiple relationships that need to be validated. https://sorry.vse.cz/~berka/challenge/PAST/index.html",
   "block_group": "e948772ea9944a89aa670651254d808e"
  },
  {
   "cell_type": "markdown",
   "metadata": {
    "formattedRanges": [
     {
      "url": "https://sorry.vse.cz/~berka/challenge/PAST/index.html",
      "type": "link",
      "ranges": [],
      "toCodePoint": 94,
      "fromCodePoint": 41
     }
    ],
    "deepnote_app_block_visible": true,
    "cell_id": "2716bd17de7b423589b9e972508de583",
    "deepnote_cell_type": "text-cell-p"
   },
   "source": "The ERD according to the descriptions on https://sorry.vse.cz/~berka/challenge/PAST/index.html",
   "block_group": "3e59214b382b4e0f8d80608687d6c65c"
  },
  {
   "cell_type": "markdown",
   "metadata": {
    "deepnote_app_block_visible": true,
    "cell_id": "347783bec7fb411683dc02c3c86a3f14",
    "deepnote_cell_type": "markdown"
   },
   "source": "[![](https://mermaid.ink/img/pako:eNqtV1Fv4jgQ_itWXu6l7SZ0gQatTsqGdhddCxVQrXSqFJnEgLWJnbOd7bGl__3GTgA3JGyvWh7ajPPNZ898nrHz7MQ8Ic7AIWJI8Urg7JEh-AVhOHkYz9FzaeqfVIKyFcJxzAumIpqg-7_QoxOUNhoNH50jcEL1Q2zQNxo9rAZq8AQrUv45EIaCYEU5Q0MYb-BeCvJPQVi8AZ-RlAVmMUE3u8Gdw0v5L7wdXTeGE6eUWNGExmxa3YIKtY5YkS2IAOBnbbYt7S1hVwsbjmb3k9loPpqMG1YHRPl-bUCSc0lNThqzfYjlpjWWYxVvfqmi2uRamMkTI-LDgySiFsNkOryeNqyei4SI_fIn2voNq1lg9j1SHGBTEtPcxPgZxk7w1tAVve2wTDlWCGdmWkg1WVBFEhRkdWDF_D2Sm2zBU8De402mWcM1FjhWRNCfZt_WkjSfBuNZELYIrQRmcp-qubaAq1XptyXMriqbsmXXVjJD3SVUffhG1ToR-AmnDVCeE1EW52vmO2gmJ9JqQ49TW4IXODWVDCVWPQVLSCqyfE_rYU_SpkltOxkVhYLt_YudZAFrm6hS-XYSNMkLkbG9urdg_C5ZDdcXiFjv1rqutewb7HHaKbxMir2cBjWs7GO2vNztEpB3nKl1ukFVAciGgKTCqpA71pmx6p05mA6b-jIWyaErg9F6wOR2lz3dIHc7XNPN4fkoqxTOEUjkbsbSstN66Nrz6SicN7fsfe-_P3HkVXCGM2KDxmA3wARZlfJMzUNdP8YjvowoW2PoW7iUZ8wvEF-i0WGw2SsrGIXOiFNIHJHRE9S9zRSlKuq6rtb7FRB9QjD8PkpwhJ4ceb7vH_PCy3P95n3UHbfk9hu59dtz_93kKxV5wNCQjD_NeDNrXEL2ioTGPi4tU3LaoRAL3S5eqfmgx2wx0VTDG8r9B7TmFYkkdE-h70ZBOYBmZuDYoWAky1NuajiCNZDI7-oJrWE9F0F_-N03efdavHvN6QGEILkgjBRCRnCwmBzXwr-2QQhAyGvPN88yqqAhRrGgGeho4gnNcz2IU14926tndYBaD9huz8_58_7KPDDtLsa6I4_2lVpHVxfSgSlpSROY5ADeUVVY-46oHQIpeUzNBPqU3nlVlP_PyYZpz-227Mja5SuWLSsqb3wa8wUk0bK3Ie1rTxlsDNfCZvS2PD4Hpv8y9BW2ssY5Z05GRIZpAt8ppuE-OmpNdJ_U0IQscZGaI-0FoLhQfLZhsTNQoiBnTpHrzl593DiDJU4ljOaY_c15tgPpGw8Xd-WnkPkiMhBn8Oz86wyuOhf9bsf96Lndvuu5ff_M2TgDz-1ddK763qXvel237131X86cn4bUvbi67PU6Xt_z3Y--e9ntv_wHEyE3kA?type=png)](https://mermaid.live/edit#pako:eNqtV1Fv4jgQ_itWXu6l7SZ0gQatTsqGdhddCxVQrXSqFJnEgLWJnbOd7bGl__3GTgA3JGyvWh7ajPPNZ898nrHz7MQ8Ic7AIWJI8Urg7JEh-AVhOHkYz9FzaeqfVIKyFcJxzAumIpqg-7_QoxOUNhoNH50jcEL1Q2zQNxo9rAZq8AQrUv45EIaCYEU5Q0MYb-BeCvJPQVi8AZ-RlAVmMUE3u8Gdw0v5L7wdXTeGE6eUWNGExmxa3YIKtY5YkS2IAOBnbbYt7S1hVwsbjmb3k9loPpqMG1YHRPl-bUCSc0lNThqzfYjlpjWWYxVvfqmi2uRamMkTI-LDgySiFsNkOryeNqyei4SI_fIn2voNq1lg9j1SHGBTEtPcxPgZxk7w1tAVve2wTDlWCGdmWkg1WVBFEhRkdWDF_D2Sm2zBU8De402mWcM1FjhWRNCfZt_WkjSfBuNZELYIrQRmcp-qubaAq1XptyXMriqbsmXXVjJD3SVUffhG1ToR-AmnDVCeE1EW52vmO2gmJ9JqQ49TW4IXODWVDCVWPQVLSCqyfE_rYU_SpkltOxkVhYLt_YudZAFrm6hS-XYSNMkLkbG9urdg_C5ZDdcXiFjv1rqutewb7HHaKbxMir2cBjWs7GO2vNztEpB3nKl1ukFVAciGgKTCqpA71pmx6p05mA6b-jIWyaErg9F6wOR2lz3dIHc7XNPN4fkoqxTOEUjkbsbSstN66Nrz6SicN7fsfe-_P3HkVXCGM2KDxmA3wARZlfJMzUNdP8YjvowoW2PoW7iUZ8wvEF-i0WGw2SsrGIXOiFNIHJHRE9S9zRSlKuq6rtb7FRB9QjD8PkpwhJ4ceb7vH_PCy3P95n3UHbfk9hu59dtz_93kKxV5wNCQjD_NeDNrXEL2ioTGPi4tU3LaoRAL3S5eqfmgx2wx0VTDG8r9B7TmFYkkdE-h70ZBOYBmZuDYoWAky1NuajiCNZDI7-oJrWE9F0F_-N03efdavHvN6QGEILkgjBRCRnCwmBzXwr-2QQhAyGvPN88yqqAhRrGgGeho4gnNcz2IU14926tndYBaD9huz8_58_7KPDDtLsa6I4_2lVpHVxfSgSlpSROY5ADeUVVY-46oHQIpeUzNBPqU3nlVlP_PyYZpz-227Mja5SuWLSsqb3wa8wUk0bK3Ie1rTxlsDNfCZvS2PD4Hpv8y9BW2ssY5Z05GRIZpAt8ppuE-OmpNdJ_U0IQscZGaI-0FoLhQfLZhsTNQoiBnTpHrzl593DiDJU4ljOaY_c15tgPpGw8Xd-WnkPkiMhBn8Oz86wyuOhf9bsf96Lndvuu5ff_M2TgDz-1ddK763qXvel237131X86cn4bUvbi67PU6Xt_z3Y--e9ntv_wHEyE3kA)",
   "block_group": "2941a64a0b77434b9f5482974b6a981c"
  },
  {
   "cell_type": "markdown",
   "metadata": {
    "deepnote_app_block_visible": true,
    "cell_id": "cf930270c05c427f8b7f22028578ad59",
    "deepnote_cell_type": "markdown"
   },
   "source": "This ERD shows how the data appears in the dataset:\n\n[![](https://mermaid.ink/img/pako:eNqtV99P2zAQ_lesvOyFbjCJSq2mSSHlRzRoUVq0F6TITdzWIrEz2xnqgP99ZydNTeIUhOgD5JzvPvvufJ-dJy_hKfHGHhETitcC5_cMwc8PgtnddIGeKlP_pBKUrRFOEl4yFdMU3f5C955f2Sic3HsdcEr1Q2LQFxo9qQda8BQrUv3ZEwaCYEU5QxMYd3CvBPlTEpZswSeUssQsIehiN7hzeKn-BdfhuTOcJKPEiiYwpmt1SyrUJmZlviQCgGfa7Fvae8KuFzYJ57ezebgIZ1PH6oCoaNYGJAWX1OTEme19LBe9sXSrePFmFdW20IWZPTIivt1JIloxzKLJeeRYPRcpEc3yZ9r6hNUsMXuIFQdYRBJamBjPYOwAbwtd09sOq4xjhXBupoVUkyVVJEV-3gbWzA-x3OZLngH2Fm9zzRpssMCJIoL-M_u2laRF5E_nftBTaCUwk02qFtoCrt5Kvy9hdlfZlD27ti4z9F1K1bffVG1SgR9x5oDygoiqOV8z34CYHEirDe2mtgIvcWY6GVqsfvJXkFRk-R6uhz1JX01a28lUUSjY3m_sJAvY2kR1la9nvqu8EBlrqnsNxmeV1XBdQsR6t7br2sq-wXbTTuFlWjblNKhJbXfZimq3S0DecKY22RbVDSAdAUmFVSl3rHNjtZXZjyYuXcYi3asyGL0HTGGr7GGB3O1wTbeA505WKZwjkMjdjJVlp3Wv2osoDBZuyW60__bAkVfDGc6JDZqC7YAJsq7KE5mHdv0Yj_kqpmyDQbdwVZ4p_4r4CoX7QbdXXjIKyogzSByR8SP0vc0UZyo-PT7W9X4FRD8QDH-MEhxBk-OT0WjU5YWXA_3mY9TfjyvukZNbvx2MPky-VvEJMDiS8dOMu1mTCtJUJDB2t7VMy2mHUiy1XLyq5p0es4uJIg13tPtfkOY1iSWop9B3I78aQHMz0HUoGcmLjJsejmENJB6d6gmtYT0XQV9Gp-_yHvZ4D93pAYQghSCMlELGcLCYHLfCP7dBCEDopD_fPM-pAkGME0FzqKOJJzDP7SAOeQ1tr6GlAC0NeH4eDPhTc2UeG7lLsFbksOnUNrq-kI5NS0uawiR78I6qxtp3RO3gS8kTaibQp_TOq6bUTs_P73WyYbWnUWTtcoVlz4qqG5_GXEJJdNn7kPa1pwo2gWuhEw1Tm-NzbPSXoSvYyhrnHXk5ETmmKXynGMG999SGaJ3U0JSscJmZI-0FoLhUfL5liTdWoiRHXlloZa8_brzxCmcSRvUVh4ub6tsn4WxF197LfwBRISI?type=png)](https://mermaid.live/edit#pako:eNqtV99P2zAQ_lesvOyFbjCJSq2mSSHlRzRoUVq0F6TITdzWIrEz2xnqgP99ZydNTeIUhOgD5JzvPvvufJ-dJy_hKfHGHhETitcC5_cMwc8PgtnddIGeKlP_pBKUrRFOEl4yFdMU3f5C955f2Sic3HsdcEr1Q2LQFxo9qQda8BQrUv3ZEwaCYEU5QxMYd3CvBPlTEpZswSeUssQsIehiN7hzeKn-BdfhuTOcJKPEiiYwpmt1SyrUJmZlviQCgGfa7Fvae8KuFzYJ57ezebgIZ1PH6oCoaNYGJAWX1OTEme19LBe9sXSrePFmFdW20IWZPTIivt1JIloxzKLJeeRYPRcpEc3yZ9r6hNUsMXuIFQdYRBJamBjPYOwAbwtd09sOq4xjhXBupoVUkyVVJEV-3gbWzA-x3OZLngH2Fm9zzRpssMCJIoL-M_u2laRF5E_nftBTaCUwk02qFtoCrt5Kvy9hdlfZlD27ti4z9F1K1bffVG1SgR9x5oDygoiqOV8z34CYHEirDe2mtgIvcWY6GVqsfvJXkFRk-R6uhz1JX01a28lUUSjY3m_sJAvY2kR1la9nvqu8EBlrqnsNxmeV1XBdQsR6t7br2sq-wXbTTuFlWjblNKhJbXfZimq3S0DecKY22RbVDSAdAUmFVSl3rHNjtZXZjyYuXcYi3asyGL0HTGGr7GGB3O1wTbeA505WKZwjkMjdjJVlp3Wv2osoDBZuyW60__bAkVfDGc6JDZqC7YAJsq7KE5mHdv0Yj_kqpmyDQbdwVZ4p_4r4CoX7QbdXXjIKyogzSByR8SP0vc0UZyo-PT7W9X4FRD8QDH-MEhxBk-OT0WjU5YWXA_3mY9TfjyvukZNbvx2MPky-VvEJMDiS8dOMu1mTCtJUJDB2t7VMy2mHUiy1XLyq5p0es4uJIg13tPtfkOY1iSWop9B3I78aQHMz0HUoGcmLjJsejmENJB6d6gmtYT0XQV9Gp-_yHvZ4D93pAYQghSCMlELGcLCYHLfCP7dBCEDopD_fPM-pAkGME0FzqKOJJzDP7SAOeQ1tr6GlAC0NeH4eDPhTc2UeG7lLsFbksOnUNrq-kI5NS0uawiR78I6qxtp3RO3gS8kTaibQp_TOq6bUTs_P73WyYbWnUWTtcoVlz4qqG5_GXEJJdNn7kPa1pwo2gWuhEw1Tm-NzbPSXoSvYyhrnHXk5ETmmKXynGMG999SGaJ3U0JSscJmZI-0FoLhUfL5liTdWoiRHXlloZa8_brzxCmcSRvUVh4ub6tsn4WxF197LfwBRISI)",
   "block_group": "344d76c020d84e2b84eb21427993130e"
  },
  {
   "cell_type": "code",
   "metadata": {
    "source_hash": "295fa36e",
    "execution_start": 1715615293585,
    "execution_millis": 175,
    "deepnote_to_be_reexecuted": false,
    "deepnote_app_block_visible": true,
    "deepnote_app_is_code_hidden": false,
    "cell_id": "6399035fa44e439ea7eff922e5dc2ad1",
    "deepnote_cell_type": "code"
   },
   "source": "# Verify 1:1 relationships between CLIENT, LOAN and DISPOSITION\nassert dispositions_df['client_id'].is_unique, \"Each client_id should appear exactly once in the DISPOSITION DataFrame.\"\nassert loans_df['account_id'].is_unique, \"Each account_id should appear exactly once in the LOAN DataFrame.\"\n\n# Verify 1:M relationships between ACCOUNT and DISPOSITION\n#assert dispositions['account_id'].is_unique == False, \"An account_id should appear more than once in the DISPOSITION DataFrame.\"\nassert dispositions_df['account_id'].is_unique == True, \"An account_id should appear once in the DISPOSITION DataFrame.\"\n# TODO check if in accordance to decision to remove disponents from dispositions\n\n# Verify each district_id in ACCOUNT and CLIENT exists in DISTRICT\nassert set(accounts_df['district_id']).issubset(\n    set(districts_df['district_id'])), \"All district_ids in ACCOUNT should exist in DISTRICT.\"\nassert set(clients_df['district_id']).issubset(\n    set(districts_df['district_id'])), \"All district_ids in CLIENT should exist in DISTRICT.\"\n\n# Verify each account_id in DISPOSITION, ORDER, TRANSACTION, and LOAN exists in ACCOUNT\nassert set(dispositions_df['account_id']).issubset(\n    set(accounts_df['account_id'])), \"All account_ids in DISPOSITION should exist in ACCOUNT.\"\nassert set(orders_df['account_id']).issubset(\n    set(accounts_df['account_id'])), \"All account_ids in ORDER should exist in ACCOUNT.\"\nassert set(transactions_df['account_id']).issubset(\n    set(accounts_df['account_id'])), \"All account_ids in TRANSACTION should exist in ACCOUNT.\"\nassert set(loans_df['account_id']).issubset(\n    set(accounts_df['account_id'])), \"All account_ids in LOAN should exist in ACCOUNT.\"\n\n# Verify each client_id in DISPOSITION exists in CLIENT\nassert set(dispositions_df['client_id']).issubset(\n    set(clients_df['client_id'])), \"All client_ids in DISPOSITION should exist in CLIENT.\"\n\n# Verify each disp_id in CARD exists in DISPOSITION\nassert set(cards_df['disp_id']).issubset(set(dispositions_df['disp_id'])), \"All disp_ids in CARD should exist in DISPOSITION.\"",
   "block_group": "55c1e131594c49ecaec4fa61dc4d5948",
   "outputs_reference": null,
   "content_dependencies": {
    "codeHash": "295fa36e",
    "usedVariables": [
     "cards_df",
     "districts_df",
     "accounts_df",
     "loans_df",
     "orders_df",
     "dispositions_df",
     "transactions_df",
     "clients_df"
    ],
    "importedModules": [],
    "definedVariables": []
   },
   "outputs": [],
   "execution_count": null
  },
  {
   "cell_type": "markdown",
   "metadata": {
    "collapsed": false,
    "deepnote_app_block_visible": true,
    "cell_id": "62014f1301114fc5876f68eca21069d3",
    "deepnote_cell_type": "markdown"
   },
   "source": "# Non-transactional Data",
   "block_group": "772f4a5e81bb44d99cbd9c72a3869eca"
  },
  {
   "cell_type": "code",
   "metadata": {
    "source_hash": "252502bc",
    "execution_start": 1715615293660,
    "execution_millis": 275,
    "deepnote_to_be_reexecuted": false,
    "deepnote_app_block_visible": true,
    "deepnote_app_is_code_hidden": false,
    "cell_id": "83bbc5f955a34e6aa3808aa24d050472",
    "deepnote_cell_type": "code"
   },
   "source": "orders_pivot_df = orders_df.pivot_table(index='account_id',\n                                        columns='k_symbol',\n                                        values='debited_amount',\n                                        aggfunc='sum',\n                                        fill_value=0)\n\norders_pivot_df.columns = [f'k_symbol_debited_sum_{col.lower()}' for col in orders_pivot_df.columns]\n\n# TODO: find something better than this\norders_pivot_df = orders_pivot_df.reset_index() # Use created index as account_id\norders_pivot_df.head()",
   "block_group": "f6daf5141ccf4f94b74fea9211c7a2d5",
   "outputs_reference": "s3:deepnote-cell-outputs-production/9720d3c8-e96f-45ac-9332-76365e90289c",
   "content_dependencies": {
    "codeHash": "252502bc",
    "usedVariables": [
     "col",
     "orders_df",
     "orders_pivot_df"
    ],
    "importedModules": [],
    "definedVariables": [
     "col",
     "orders_pivot_df"
    ]
   },
   "outputs": [],
   "execution_count": null
  },
  {
   "cell_type": "code",
   "metadata": {
    "collapsed": false,
    "source_hash": "bcab83a",
    "execution_start": 1715615293733,
    "execution_millis": 203,
    "deepnote_to_be_reexecuted": false,
    "deepnote_app_block_visible": true,
    "deepnote_app_is_code_hidden": false,
    "cell_id": "7985d15a3bc24f99a08f21f232012173",
    "deepnote_cell_type": "code"
   },
   "source": "def merge_non_transactional_data(clients, districts, dispositions, accounts, orders, loans, cards):\n    # Rename district_id for clarity in clients and accounts DataFrames\n    clients = clients.rename(columns={'district_id': 'client_district_id'})\n    accounts = accounts.rename(columns={'district_id': 'account_district_id'})\n    \n    # Prepare districts dataframe for merge with prefix for clients and accounts\n    districts_client_prefixed = districts.add_prefix('client_')\n    districts_account_prefixed = districts.add_prefix('account_')\n    \n    # Merge district information for clients and accounts with prefixed columns\n    clients_with_districts = pd.merge(clients, districts_client_prefixed, left_on='client_district_id', right_on='client_district_id', how='left')\n    accounts_with_districts = pd.merge(accounts, districts_account_prefixed, left_on='account_district_id', right_on='account_district_id', how='left')\n\n    # Merge cards with dispositions and prefix card-related columns to avoid confusion\n    cards_prefixed = cards.add_prefix('card_')\n    dispositions_with_cards = pd.merge(dispositions, cards_prefixed, left_on='disp_id', right_on='card_disp_id', how='left')\n    \n    # Merge clients (with district info) with dispositions and cards\n    # Assuming dispositions might have columns that overlap with clients, prefix those if necessary\n    clients_dispositions_cards = pd.merge(dispositions_with_cards, clients_with_districts, on='client_id', how='left')\n    \n    # Merge the above with accounts (with district info) on account_id\n    accounts_clients_cards = pd.merge(accounts_with_districts, clients_dispositions_cards, on='account_id', how='left')\n    \n    # Merge orders DataFrame, assuming orders might contain columns that could overlap, prefix as needed\n    orders_prefixed = orders.add_prefix('order_')\n    comprehensive_df_with_orders = pd.merge(accounts_clients_cards, orders_prefixed, left_on='account_id', right_on='order_account_id', how='left')\n    \n    # Merge loans with the comprehensive dataframe (now including orders) on account_id\n    # Prefix loan-related columns to maintain clarity\n    loans_prefixed = loans.add_prefix('loan_')\n    final_df = pd.merge(comprehensive_df_with_orders, loans_prefixed, left_on='account_id', right_on='loan_account_id', how='left')\n\n    final_df['account_created'] = pd.to_datetime(final_df['account_created'])\n    final_df['card_issued'] = pd.to_datetime(final_df['card_issued'])\n    final_df['has_card'] = final_df['card_issued'].notna()\n    return final_df\n\nnon_transactional_df = merge_non_transactional_data(clients_df, districts_df, dispositions_df, accounts_df, orders_pivot_df, loans_df, cards_df)\nnon_transactional_df.info()",
   "block_group": "1f59f4a36ed44cf4a763aa1f2da24d27",
   "outputs_reference": "s3:deepnote-cell-outputs-production/21355ef2-3241-4992-b8bb-6fd9390bb812",
   "content_dependencies": {
    "codeHash": "bcab83a",
    "usedVariables": [
     "orders_pivot_df",
     "merge_non_transactional_data",
     "loans_prefixed",
     "cards_df",
     "pd",
     "dispositions_df",
     "accounts_with_districts",
     "non_transactional_df",
     "final_df",
     "clients_with_districts",
     "clients_df",
     "clients",
     "dispositions",
     "cards",
     "districts_client_prefixed",
     "districts_df",
     "accounts_df",
     "orders_prefixed",
     "accounts_clients_cards",
     "cards_prefixed",
     "clients_dispositions_cards",
     "loans_df",
     "accounts",
     "orders",
     "districts_account_prefixed",
     "loans",
     "comprehensive_df_with_orders",
     "dispositions_with_cards",
     "districts"
    ],
    "importedModules": [],
    "definedVariables": [
     "accounts_clients_cards",
     "final_df",
     "clients",
     "cards_prefixed",
     "merge_non_transactional_data",
     "districts_client_prefixed",
     "loans_prefixed",
     "clients_dispositions_cards",
     "comprehensive_df_with_orders",
     "dispositions_with_cards",
     "accounts",
     "accounts_with_districts",
     "non_transactional_df",
     "orders_prefixed",
     "districts_account_prefixed",
     "clients_with_districts"
    ]
   },
   "outputs": [],
   "execution_count": null
  },
  {
   "cell_type": "code",
   "metadata": {
    "source_hash": "8c3edb22",
    "execution_start": 1715615293748,
    "execution_millis": 604,
    "deepnote_to_be_reexecuted": false,
    "deepnote_app_block_visible": true,
    "deepnote_app_is_code_hidden": false,
    "cell_id": "96bf3d2683e34f9cac44dad55b71a527",
    "deepnote_cell_type": "code"
   },
   "source": "non_transactional_df.to_csv(\"./data/non_transactional.csv\")",
   "block_group": "48a5ac504bbc4d5584c9e37471fb2384",
   "outputs_reference": null,
   "content_dependencies": {
    "codeHash": "8c3edb22",
    "usedVariables": [
     "non_transactional_df"
    ],
    "importedModules": [],
    "definedVariables": []
   },
   "outputs": [],
   "execution_count": null
  },
  {
   "cell_type": "markdown",
   "metadata": {
    "deepnote_app_block_visible": true,
    "cell_id": "ec0fc2cb2bb444e8abb5113376b8a345",
    "deepnote_cell_type": "markdown"
   },
   "source": "## EDA",
   "block_group": "4b0d1f042f4747029420733ceea5ebaf"
  },
  {
   "cell_type": "markdown",
   "metadata": {
    "deepnote_app_block_visible": true,
    "cell_id": "6a1ae9704fc74b24aa54fd46c11086e2",
    "deepnote_cell_type": "markdown"
   },
   "source": "### Card Holders",
   "block_group": "d276ec703a7b49849a313867e168519e"
  },
  {
   "cell_type": "code",
   "metadata": {
    "source_hash": "8a40d200",
    "execution_start": 1715615294357,
    "execution_millis": 298,
    "deepnote_to_be_reexecuted": false,
    "deepnote_app_block_visible": true,
    "deepnote_app_is_code_hidden": false,
    "cell_id": "25e249968b3a468780a5bc545ea306ec",
    "deepnote_cell_type": "code"
   },
   "source": "plt.figure(figsize=(10, 6))\nplt.title('Number of Clients by Card Type')\nsns.barplot(x=['No Card', 'Classic/Gold Card Holders', 'Junior Card Holders'], y=[non_transactional_df['card_type'].isna().sum(), non_transactional_df['card_type'].isin(['gold', 'classic']).sum(), non_transactional_df['card_type'].eq('junior').sum()])\n# ensure that the number of clients is shown on the bars\nfor i, v in enumerate([non_transactional_df['card_type'].isna().sum(), non_transactional_df['card_type'].isin(['gold', 'classic']).sum(), non_transactional_df['card_type'].eq('junior').sum()]):\n    plt.text(i, v + 10, str(v), ha='center', va='bottom')\n\nplt.show()",
   "block_group": "604763d4a2e746ebb80989c748eb512c",
   "outputs_reference": "s3:deepnote-cell-outputs-production/388bf142-0570-40e1-b9c6-6e86cbd782cc",
   "content_dependencies": {
    "codeHash": "8a40d200",
    "usedVariables": [
     "i",
     "sns",
     "plt",
     "v",
     "non_transactional_df"
    ],
    "importedModules": [],
    "definedVariables": [
     "v",
     "i"
    ]
   },
   "outputs": [],
   "execution_count": null
  },
  {
   "cell_type": "markdown",
   "metadata": {
    "deepnote_app_block_visible": true,
    "cell_id": "0039af6d869a4c979e0b98e743b451a2",
    "deepnote_cell_type": "markdown"
   },
   "source": "Looking at the distribution of card holders in general we can see that the most clients are not in a possession of a credit card. \n",
   "block_group": "b538deac1c2b4ebd889e2972bd79736d"
  },
  {
   "cell_type": "code",
   "metadata": {
    "source_hash": "2d0bdad6",
    "execution_start": 1715615294482,
    "execution_millis": 395,
    "deepnote_to_be_reexecuted": false,
    "deepnote_app_block_visible": true,
    "deepnote_app_is_code_hidden": false,
    "cell_id": "e4d120564acb451296d011fcb185610e",
    "deepnote_cell_type": "code"
   },
   "source": "plt.figure(figsize=(10, 6))\nplt.title(f'Distribution of Age for Junior Card Holders\\n total count = {len(non_transactional_df[non_transactional_df[\"card_type\"] == \"junior\"])}')\nsns.histplot(non_transactional_df[non_transactional_df['card_type'] == 'junior']['age'], kde=True, bins=30)\nplt.xlabel('Age of Client (presumably in 1999)')\nplt.show()",
   "block_group": "8e4655ef804141b58f456dcaa776b268",
   "outputs_reference": "s3:deepnote-cell-outputs-production/6f5354c2-5d73-44a7-abaf-c603898fc178",
   "content_dependencies": {
    "codeHash": "2d0bdad6",
    "usedVariables": [
     "non_transactional_df",
     "plt",
     "sns"
    ],
    "importedModules": [],
    "definedVariables": []
   },
   "outputs": [],
   "execution_count": null
  },
  {
   "cell_type": "markdown",
   "metadata": {
    "deepnote_app_block_visible": true,
    "cell_id": "c16529e8456b4a20a1427b6256ce8d87",
    "deepnote_cell_type": "markdown"
   },
   "source": "Looking at the age distribution of Junior Card holders paints a picture on this group, however only looking at the current age may be misleading as we need to understand how old they were when the card was issued to determine if they could have been eligble for a Classic/Gold card (at least 18 when the card was issued). ",
   "block_group": "cc33656dea5b4742b9905084978aa420"
  },
  {
   "cell_type": "code",
   "metadata": {
    "source_hash": "ad00fa6f",
    "execution_start": 1715615294882,
    "execution_millis": 492,
    "deepnote_to_be_reexecuted": false,
    "deepnote_app_block_visible": true,
    "deepnote_app_is_code_hidden": false,
    "cell_id": "f85b4e9c56f54b2da37edfbdd8fa1ed2",
    "deepnote_cell_type": "code"
   },
   "source": "non_transactional_df['card_issued'] = pd.to_datetime(non_transactional_df['card_issued'])\n\nnon_transactional_df['age_at_card_issuance'] = non_transactional_df['card_issued'] - non_transactional_df['birth_date']\nnon_transactional_df['age_at_card_issuance'] = non_transactional_df['age_at_card_issuance'].dt.days // 365\n\nplt.figure(figsize=(10, 6))\nplt.title(f'Distribution of Age at Card Issuance for Junior Card Holders\\n total count = {len(non_transactional_df[non_transactional_df[\"card_type\"] == \"junior\"])}')\nsns.histplot(non_transactional_df[non_transactional_df['card_type'] == 'junior']['age_at_card_issuance'], kde=True, bins=30)\nplt.xlabel('Age at Card Issuance')\nplt.show()",
   "block_group": "057a10e49da24f8ab31e3add041d339d",
   "outputs_reference": "s3:deepnote-cell-outputs-production/cd06ebde-c818-45d2-8d2a-243548dc887c",
   "content_dependencies": {
    "codeHash": "ad00fa6f",
    "usedVariables": [
     "pd",
     "non_transactional_df",
     "plt",
     "sns"
    ],
    "importedModules": [],
    "definedVariables": []
   },
   "outputs": [],
   "execution_count": null
  },
  {
   "cell_type": "markdown",
   "metadata": {
    "deepnote_app_block_visible": true,
    "cell_id": "dfe206cb7685440ea106fb5df0eb02de",
    "deepnote_cell_type": "markdown"
   },
   "source": "Here we can see that roughly 1/3 of the Junior Card holders were not of legal age (assuming legal age is 18) when receiving their Junior Card.",
   "block_group": "c6ae0fdf0501448aa231bb3949ddeb25"
  },
  {
   "cell_type": "code",
   "metadata": {
    "source_hash": "9e7becac",
    "execution_start": 1715615295218,
    "execution_millis": 426,
    "deepnote_to_be_reexecuted": false,
    "deepnote_app_block_visible": true,
    "deepnote_app_is_code_hidden": false,
    "cell_id": "59b6593a4f47493ca1b8a7dc77cfc320",
    "deepnote_cell_type": "code"
   },
   "source": "plt.figure(figsize=(10, 6))\nplt.title(f'Distribution of Age at Card Issuance for All Card Types\\n total count = {len(non_transactional_df)}')\nsns.histplot(non_transactional_df[non_transactional_df['card_type'] == 'junior']['age_at_card_issuance'], kde=True, bins=10, color='blue', label='Junior Card Holders')\nsns.histplot(non_transactional_df[non_transactional_df['card_type'] != 'junior']['age_at_card_issuance'], kde=True, bins=30, color='red', label='Non-Junior Card Holders')\nplt.legend()\nplt.xlabel('Age at Card Issuance')\nplt.show()",
   "block_group": "7b59f3af53bf43ce9fa6c5f43b403585",
   "outputs_reference": "s3:deepnote-cell-outputs-production/064349f0-835c-4686-8cac-2fec87bf7d17",
   "content_dependencies": {
    "codeHash": "9e7becac",
    "usedVariables": [
     "non_transactional_df",
     "plt",
     "sns"
    ],
    "importedModules": [],
    "definedVariables": []
   },
   "outputs": [],
   "execution_count": null
  },
  {
   "cell_type": "markdown",
   "metadata": {
    "deepnote_app_block_visible": true,
    "cell_id": "af5522598dd6409aadab443f1ad66ada",
    "deepnote_cell_type": "markdown"
   },
   "source": "Comparing the age at issue date between Junior and non-Junior (Classic/Gold) card holders shows that there is no overlap between the two groups, which makes intutively sense. \n\nTherefore removing the subset of Junior Cards seems as valid as there is no reason to believe that there are Junior Cards issued wrongly, the subset being relatively small compared to the remaining issued cards and the fact that our target is specifically Classic/Gold Card owners.  ",
   "block_group": "17113bb83fc6419f8f45067aa7e0c082"
  },
  {
   "cell_type": "code",
   "metadata": {
    "source_hash": "5a6d7c83",
    "execution_start": 1715615295613,
    "execution_millis": 238,
    "deepnote_to_be_reexecuted": false,
    "deepnote_app_block_visible": true,
    "cell_id": "2d9f7b140d414216be597092803eee31",
    "deepnote_cell_type": "code"
   },
   "source": "before_len = len(non_transactional_df)\nnon_transactional_df = non_transactional_df[non_transactional_df['card_type'] != 'junior']\ndata_reduction[\"Junior Card Holders\"] = -(before_len - len(non_transactional_df))\ndel before_len",
   "block_group": "147d8b942f4e438ca134b2d5ce75cb47",
   "outputs_reference": null,
   "content_dependencies": {
    "codeHash": "5a6d7c83",
    "usedVariables": [
     "non_transactional_df",
     "data_reduction",
     "before_len"
    ],
    "importedModules": [],
    "definedVariables": [
     "non_transactional_df",
     "before_len"
    ]
   },
   "outputs": [],
   "execution_count": null
  },
  {
   "cell_type": "markdown",
   "metadata": {
    "deepnote_app_block_visible": true,
    "cell_id": "37ce6fe6b12047229583ec5167608044",
    "deepnote_cell_type": "markdown"
   },
   "source": "Looking at the age distribution of Junior card holders and their occurence in comparison it seems valid to remove them as they are not the target group and make up a small subset of the complete dataset.",
   "block_group": "45d2f2841b9147259b757f119710abc1"
  },
  {
   "cell_type": "markdown",
   "metadata": {
    "deepnote_app_block_visible": true,
    "cell_id": "19f88fea42e74a9e8295642c5914c27b",
    "deepnote_cell_type": "markdown"
   },
   "source": "### Time factors on Card Status",
   "block_group": "837e09b74f424c7baf5b2efa487584ad"
  },
  {
   "cell_type": "markdown",
   "metadata": {
    "deepnote_app_block_visible": true,
    "cell_id": "5b20fccab96e45669c0addb3814b1450",
    "deepnote_cell_type": "markdown"
   },
   "source": "The time between creating an account and issuing a card may also be important when filtering customers based on their history. We should avoid filtering out potentially interesting periods and understand how the timespans between account creation and card issuance are distributed.",
   "block_group": "8dea668299404321a8e7466eb9364dbd"
  },
  {
   "cell_type": "code",
   "metadata": {
    "source_hash": "6604922e",
    "execution_start": 1715615295621,
    "execution_millis": 367,
    "deepnote_to_be_reexecuted": false,
    "deepnote_app_block_visible": true,
    "deepnote_app_is_code_hidden": false,
    "cell_id": "33308232a04c4adf8ac03190f889383b",
    "deepnote_cell_type": "code"
   },
   "source": "non_transactional_w_cards_df = non_transactional_df[non_transactional_df['card_issued'].notna() & non_transactional_df['account_created'].notna()]\nnon_transactional_w_cards_df['duration_days'] = (non_transactional_w_cards_df['card_issued'] - non_transactional_w_cards_df['account_created']).dt.days\n\nplt.figure(figsize=(12, 8))\nsns.histplot(non_transactional_w_cards_df['duration_days'], bins=50, edgecolor='black', kde=True)\nplt.title('Distribution of Duration Between Account Creation and Card Issuance')\nplt.xlabel('Duration in Days')\nplt.ylabel('Frequency')\nplt.tight_layout()\nplt.show()",
   "block_group": "19498058c0c84e26842f243bd143dd53",
   "outputs_reference": "s3:deepnote-cell-outputs-production/984869c2-73a7-4ebd-a0ea-24c931765667",
   "content_dependencies": {
    "codeHash": "6604922e",
    "usedVariables": [
     "non_transactional_df",
     "plt",
     "non_transactional_w_cards_df",
     "sns"
    ],
    "importedModules": [],
    "definedVariables": [
     "non_transactional_w_cards_df"
    ]
   },
   "outputs": [],
   "execution_count": null
  },
  {
   "cell_type": "markdown",
   "metadata": {
    "deepnote_app_block_visible": true,
    "cell_id": "000f853982ba41538beb502c4b37d4e7",
    "deepnote_cell_type": "markdown"
   },
   "source": "The histogram displays a distribution with multiple peaks, indicating that there are several typical time frames for card issuance after account creation. The highest peak occurs within the first 250 days, suggesting that a significant number of cards are issued during this period. The frequency decreases as duration increases, with noticeable peaks that may correspond to specific processing batch cycles or policy changes over time. The distribution also has a long tail, suggesting that in some cases, card issuance can take a very long time.",
   "block_group": "213f2b4ce74041d183c18289bbdfcd17"
  },
  {
   "cell_type": "markdown",
   "metadata": {
    "deepnote_app_block_visible": true,
    "cell_id": "8ff92ee1fff8482f817a0601ff1a4d6b",
    "deepnote_cell_type": "markdown"
   },
   "source": "Analyzing the length of time a client has been with the bank in relation to their account creation date and card ownership can provide valuable insights for a bank's customer relationship management and product targeting strategies. Long-standing clients may exhibit different banking behaviors, such as product adoption and loyalty patterns, compared to newer clients.",
   "block_group": "ac0722a8b11246dfb2198384b39393c6"
  },
  {
   "cell_type": "code",
   "metadata": {
    "source_hash": "7d64e284",
    "execution_start": 1715615295993,
    "execution_millis": 425,
    "deepnote_to_be_reexecuted": false,
    "deepnote_app_block_visible": true,
    "deepnote_app_is_code_hidden": false,
    "cell_id": "9e2255f075874d198e76112d1473827a",
    "deepnote_cell_type": "code"
   },
   "source": "max_account_creation_date = non_transactional_df['card_issued'].max()\n\nnon_transactional_df['client_tenure_years_relative'] = (max_account_creation_date - non_transactional_df['account_created']).dt.days / 365.25\n\nplt.figure(figsize=(10, 6))\nax = sns.histplot(\n    data=non_transactional_df, \n    x='client_tenure_years_relative', \n    hue='has_card', \n    multiple='stack', \n    binwidth=1,\n    stat=\"percent\"\n)\n\n# Call the function to add labels\nadd_percentage_labels(ax, non_transactional_df['has_card'].unique())\n\n# Additional plot formatting\nplt.title('Client Tenure Relative to Latest Card Issued Date and Card Ownership')\nplt.xlabel('Client Tenure (Years, Relative to Latest Card Issuance)')\nplt.ylabel('Percentage of Clients')\nplt.tight_layout()\n\n# Display the plot\nplt.show()",
   "block_group": "d3d31eaf947044698807425984b88470",
   "outputs_reference": "s3:deepnote-cell-outputs-production/b48f9e89-a694-46c9-90d7-c702817adf88",
   "content_dependencies": {
    "codeHash": "7d64e284",
    "usedVariables": [
     "ax",
     "sns",
     "plt",
     "max_account_creation_date",
     "add_percentage_labels",
     "non_transactional_df"
    ],
    "importedModules": [],
    "definedVariables": [
     "max_account_creation_date",
     "ax"
    ]
   },
   "outputs": [],
   "execution_count": null
  },
  {
   "cell_type": "markdown",
   "metadata": {
    "deepnote_app_block_visible": true,
    "cell_id": "41c97782de02498a8b8f9c70c1ee5312",
    "deepnote_cell_type": "markdown"
   },
   "source": "The bar chart shows the tenure of clients in years, categorized by whether they own a credit card (True) or not (False). Each bar represents the percentage of clients within a specific tenure range, allowing for comparison of the distribution of card ownership among clients with different lengths of association with the bank.\n\n",
   "block_group": "920c0301cd3442cb8bbd77ed87066e68"
  },
  {
   "cell_type": "markdown",
   "metadata": {
    "deepnote_app_block_visible": true,
    "cell_id": "c52d89503a50453db2026c8f6ae9b9fa",
    "deepnote_cell_type": "markdown"
   },
   "source": "### Demographics\n\nUsing the available demographic data, we can investigate the potential correlation between demographic data and card status. The average salary may indicate a difference between cardholders and non-cardholders, as it is reasonable to assume that cardholders have a higher average salary than non-cardholders.",
   "block_group": "58991cf9bce44af2828834b3aa86949a"
  },
  {
   "cell_type": "code",
   "metadata": {
    "source_hash": "7536b1d8",
    "execution_start": 1715615296253,
    "execution_millis": 410,
    "deepnote_to_be_reexecuted": false,
    "deepnote_app_block_visible": true,
    "deepnote_app_is_code_hidden": false,
    "cell_id": "49fd84bb090e41af8f855885a48e67f5",
    "deepnote_cell_type": "code"
   },
   "source": "plt.figure(figsize=(10, 6))\nsns.boxplot(x='has_card', y='client_average_salary', data=non_transactional_df)\nplt.title(\"Average Salary in Client's Region by Card Ownership\")\nplt.xlabel('Has Card')\nplt.ylabel('Average Salary')\nplt.xticks([0, 1], ['No Card Owner', 'Card Owner'])\n\nplt.tight_layout()\nplt.show()\n",
   "block_group": "ea94a2050c9043f99cbba891f010d01b",
   "outputs_reference": "s3:deepnote-cell-outputs-production/6b84867d-0264-458e-b385-c799c7fe9700",
   "content_dependencies": {
    "codeHash": "7536b1d8",
    "usedVariables": [
     "non_transactional_df",
     "plt",
     "sns"
    ],
    "importedModules": [],
    "definedVariables": []
   },
   "outputs": [],
   "execution_count": null
  },
  {
   "cell_type": "markdown",
   "metadata": {
    "deepnote_app_block_visible": true,
    "cell_id": "4c4ed2b322a84466b2812e15b5cf8ace",
    "deepnote_cell_type": "markdown"
   },
   "source": "The box plot compares the average salaries of clients who own a credit card with those who do not. Both groups have a substantial overlap in salary ranges, suggesting that while there might be a trend for card owners to have higher salaries, the difference is not significant. The median salary for card owners is slightly higher than that for non-card owners, as indicated by the median line within the respective boxes.\n\nBoth distributions have outliers on the higher end, indicating that some individuals have salaries significantly above the average in both groups. However, these outliers do not dominate the general trend. \n\nIt should also be noted that this plot assumes that the average salary of the region's clients remained constant over the years, which is unlikely to be true.",
   "block_group": "f7f67fec7c874493a93dc51c66470dd7"
  },
  {
   "cell_type": "markdown",
   "metadata": {
    "deepnote_app_block_visible": true,
    "cell_id": "f825bf1503964f6a94bbd17395a0f7fe",
    "deepnote_cell_type": "markdown"
   },
   "source": "The group of bar charts represents the distribution of credit card ownership across various demographics, showing the percentage of clients with and without cards within different age groups, sexes, and regions.",
   "block_group": "e3a779a9df0049548777163e21a7cbcc"
  },
  {
   "cell_type": "code",
   "metadata": {
    "source_hash": "2d428778",
    "execution_start": 1715615296417,
    "execution_millis": 531,
    "deepnote_to_be_reexecuted": false,
    "deepnote_app_block_visible": true,
    "deepnote_app_is_code_hidden": false,
    "cell_id": "4c7a35aaeb3345ceabec873d8ddca5f0",
    "deepnote_cell_type": "code"
   },
   "source": "non_transactional_df['age_group'] = pd.cut(non_transactional_df['age'], bins=[0, 25, 40, 55, 70, 100], labels=['<25', '25-40', '40-55', '55-70', '>70'])\n\nplt.figure(figsize=(15, 15))\n\n# Age Group\nplt.subplot(3, 1, 1)\nage_group_counts = non_transactional_df.groupby(['age_group', 'has_card']).size().unstack(fill_value=0)\nage_group_percentages = (age_group_counts.T / age_group_counts.sum(axis=1)).T * 100\nage_group_plot = age_group_percentages.plot(kind='bar', stacked=True, ax=plt.gca())\nage_group_plot.set_title('Card Ownership by Age Group')\nage_group_plot.set_ylabel('Percentage')\nadd_percentage_labels(age_group_plot, non_transactional_df['has_card'].unique())\n\n# Sex\nplt.subplot(3, 1, 2)\nsex_counts = non_transactional_df.groupby(['sex', 'has_card']).size().unstack(fill_value=0)\nsex_percentages = (sex_counts.T / sex_counts.sum(axis=1)).T * 100\nsex_plot = sex_percentages.plot(kind='bar', stacked=True, ax=plt.gca())\nsex_plot.set_title('Card Ownership by Sex')\nsex_plot.set_ylabel('Percentage')\nadd_percentage_labels(sex_plot, non_transactional_df['has_card'].unique())\n\n# Client Region\nplt.subplot(3, 1, 3)\nregion_counts = non_transactional_df.groupby(['client_region', 'has_card']).size().unstack(fill_value=0)\nregion_percentages = (region_counts.T / region_counts.sum(axis=1)).T * 100\nregion_plot = region_percentages.plot(kind='bar', stacked=True, ax=plt.gca())\nregion_plot.set_title('Card Ownership by Client Region')\nregion_plot.set_ylabel('Percentage')\nregion_plot.tick_params(axis='x', rotation=45)\nadd_percentage_labels(region_plot, non_transactional_df['has_card'].unique())\n\nplt.tight_layout()\nplt.show()\n",
   "block_group": "db2902c345ce4137aca8848f34f9be55",
   "outputs_reference": "s3:deepnote-cell-outputs-production/d28f3a1f-4caf-41c0-8c34-c79a5f57db1c",
   "content_dependencies": {
    "codeHash": "2d428778",
    "usedVariables": [
     "sex_counts",
     "age_group_counts",
     "age_group_percentages",
     "plt",
     "sex_percentages",
     "region_counts",
     "pd",
     "add_percentage_labels",
     "region_percentages",
     "sex_plot",
     "age_group_plot",
     "non_transactional_df",
     "region_plot"
    ],
    "importedModules": [],
    "definedVariables": [
     "sex_counts",
     "age_group_counts",
     "age_group_percentages",
     "region_counts",
     "region_percentages",
     "sex_plot",
     "age_group_plot",
     "sex_percentages",
     "region_plot"
    ]
   },
   "outputs": [],
   "execution_count": null
  },
  {
   "cell_type": "markdown",
   "metadata": {
    "deepnote_app_block_visible": true,
    "cell_id": "e3f85316466640d382324a78fe1ceb87",
    "deepnote_cell_type": "markdown"
   },
   "source": "**Card Ownership by Age Group:**\nThe bar chart displays the proportion of cardholders in different age groups. The percentage of cardholders is lowest in the age group of over 70, followed by the age group of 55-70, indicating that card ownership is more prevalent among younger demographics.\n\n**Card Ownership by Sex:**\nThe bar chart shows the breakdown of card ownership by sex. The data reveals that the percentage of cardholders is comparable between both sexes, and no significant difference is present.\n\n**Card Ownership by Region**\nThe bar chart at the bottom illustrates card ownership across different regions, showing a relatively consistent pattern among most regions.",
   "block_group": "bf968271bb024123be966945ca145e04"
  },
  {
   "cell_type": "markdown",
   "metadata": {
    "deepnote_app_block_visible": true,
    "cell_id": "eaa293830f0f4bf8804a92a39343ac74",
    "deepnote_cell_type": "markdown"
   },
   "source": "### Impact of Loans / Debt",
   "block_group": "c8a35799a3824a37b03584c5b3bac3ec"
  },
  {
   "cell_type": "code",
   "metadata": {
    "source_hash": "c91bea91",
    "execution_start": 1715615296961,
    "execution_millis": 415,
    "deepnote_to_be_reexecuted": false,
    "deepnote_app_block_visible": true,
    "deepnote_app_is_code_hidden": false,
    "cell_id": "b3862f53e4404bbbb39e4429b3ec1aa9",
    "deepnote_cell_type": "code"
   },
   "source": "simplified_loan_status_mapping = {\n    \"Contract finished, no problems\": \"Finished\",\n    \"Contract finished, loan not paid\": \"Not Paid\",\n    \"Contract running, OK thus-far\": \"Running\",\n    \"Contract running, client in debt\": \"In Debt\",\n    \"No Loan\": \"No Loan\"\n}\n\nnon_transactional_df['loan_status_simplified'] = non_transactional_df['loan_status'].map(simplified_loan_status_mapping)\n\n## this variable wants to kill itself\nloan_status_simplified_card_ownership_counts = non_transactional_df.groupby(['loan_status_simplified', 'has_card']).size().unstack(fill_value=0)\nloan_status_simplified_card_ownership_percentages = (loan_status_simplified_card_ownership_counts.T / loan_status_simplified_card_ownership_counts.sum(axis=1)).T * 100\n\nloan_status_simplified_card_ownership_percentages.plot(kind='bar', stacked=True, figsize=(10, 6))\nplt.title('Interaction Between Simplified Loan Status and Card Ownership')\nplt.xlabel('Simplified Loan Status')\nplt.ylabel('Percentage of Clients')\nplt.xticks(rotation=45)\nplt.legend(title='Has Card', labels=['No Card', 'Has Card'])\nplt.tight_layout()\nplt.show()\n",
   "block_group": "1510ae74c0664c26bc7db99d0dee3bdd",
   "outputs_reference": "s3:deepnote-cell-outputs-production/3768cde1-1abf-4e40-aac5-6b6f4e6d2609",
   "content_dependencies": {
    "codeHash": "c91bea91",
    "usedVariables": [
     "loan_status_simplified_card_ownership_counts",
     "plt",
     "non_transactional_df",
     "simplified_loan_status_mapping",
     "loan_status_simplified_card_ownership_percentages"
    ],
    "importedModules": [],
    "definedVariables": [
     "loan_status_simplified_card_ownership_counts",
     "simplified_loan_status_mapping",
     "loan_status_simplified_card_ownership_percentages"
    ]
   },
   "outputs": [],
   "execution_count": null
  },
  {
   "cell_type": "markdown",
   "metadata": {
    "deepnote_app_block_visible": true,
    "cell_id": "8e7c9ee191ae47aa984f68cffe4d956d",
    "deepnote_cell_type": "markdown"
   },
   "source": "# Transactional Data",
   "block_group": "073f38f52257471aad640586f2c278e1"
  },
  {
   "cell_type": "markdown",
   "metadata": {
    "deepnote_app_block_visible": true,
    "cell_id": "81b9954026324d5ab9d1b8f46f78e5b6",
    "deepnote_cell_type": "markdown"
   },
   "source": "## Set artificial issue date for non-card holders",
   "block_group": "f79e7dceffd04a50a0bce692ff3082a0"
  },
  {
   "cell_type": "code",
   "metadata": {
    "source_hash": "83366bf6",
    "execution_start": 1715615297124,
    "execution_millis": 252,
    "deepnote_to_be_reexecuted": false,
    "deepnote_app_block_visible": true,
    "deepnote_app_is_code_hidden": false,
    "cell_id": "764b39b6b0d14d6a987527df0d1239a5",
    "deepnote_cell_type": "code"
   },
   "source": "def add_months_since_account_to_card(df):\n    df['months_since_account_to_card'] = df.apply(\n        lambda row: (row['card_issued'].to_period('M') - row['account_created'].to_period('M')).n\n        if pd.notnull(row['card_issued']) and pd.notnull(row['account_created']) else np.nan, axis=1)\n    return df\n\ndef filter_clients_without_sufficient_history(non_transactional_df, min_history_months=25):\n    if 'months_since_account_to_card' not in non_transactional_df.columns:\n        print(\"Warning: months_since_account_to_card column not found. Calculating history length.\")\n        non_transactional_df = add_months_since_account_to_card(non_transactional_df)\n\n    count_before = len(non_transactional_df)\n    filtered_df = non_transactional_df[non_transactional_df['months_since_account_to_card'].isnull() | (non_transactional_df['months_since_account_to_card'] >= min_history_months)]\n    print(f\"Filtered out {count_before - len(filtered_df)} records with less than {min_history_months} months of history. Percentage: {(count_before - len(filtered_df)) / count_before * 100:.2f}%.\")\n    return filtered_df\n\nbefore_len = len(non_transactional_df)\nnon_transactional_w_sufficient_history_df = filter_clients_without_sufficient_history(non_transactional_df)\ndata_reduction[\"Clients without sufficient history\"] = -(before_len - len(non_transactional_w_sufficient_history_df))\ndel before_len",
   "block_group": "996f8324b85047c9a3a83c4b6fb0326c",
   "outputs_reference": "dbtable:cell_outputs/820d2753-37ce-4859-ad20-fecb96ef9591",
   "content_dependencies": {
    "codeHash": "83366bf6",
    "usedVariables": [
     "df",
     "data_reduction",
     "add_months_since_account_to_card",
     "before_len",
     "row",
     "pd",
     "count_before",
     "filtered_df",
     "filter_clients_without_sufficient_history",
     "non_transactional_w_sufficient_history_df",
     "non_transactional_df",
     "min_history_months",
     "np"
    ],
    "importedModules": [],
    "definedVariables": [
     "add_months_since_account_to_card",
     "before_len",
     "count_before",
     "filter_clients_without_sufficient_history",
     "filtered_df",
     "non_transactional_w_sufficient_history_df",
     "non_transactional_df"
    ]
   },
   "outputs": [],
   "execution_count": null
  },
  {
   "cell_type": "code",
   "metadata": {
    "source_hash": "2adb6b68",
    "execution_start": 1715615297209,
    "execution_millis": 373,
    "deepnote_to_be_reexecuted": false,
    "deepnote_app_block_visible": true,
    "deepnote_app_is_code_hidden": false,
    "cell_id": "a6eee01f1da3497d97ff4549e9fbe14a",
    "deepnote_cell_type": "code"
   },
   "source": "non_transactional_w_card_df = non_transactional_w_sufficient_history_df.dropna(subset=['card_issued']).copy()\n\nplt.figure(figsize=(12, 8))\nsns.histplot(non_transactional_w_card_df['months_since_account_to_card'], kde=True, bins=30)\nplt.title('Distribution of Months from Account Creation to Card Issuance')\nplt.xlabel('Months')\nplt.ylabel('Count')\nplt.grid(True)\nplt.tight_layout()\nplt.show()",
   "block_group": "887006c459da4f2fa52a52aabe1f09b6",
   "outputs_reference": "s3:deepnote-cell-outputs-production/7d325081-8339-4376-b768-28c71fa362fd",
   "content_dependencies": {
    "codeHash": "2adb6b68",
    "usedVariables": [
     "non_transactional_w_card_df",
     "non_transactional_w_sufficient_history_df",
     "plt",
     "sns"
    ],
    "importedModules": [],
    "definedVariables": [
     "non_transactional_w_card_df"
    ]
   },
   "outputs": [],
   "execution_count": null
  },
  {
   "cell_type": "markdown",
   "metadata": {
    "deepnote_app_block_visible": true,
    "cell_id": "8dd169ee8c444e9bbd775bea475072c4",
    "deepnote_cell_type": "markdown"
   },
   "source": "### Match by similar transaction activity",
   "block_group": "720f854500a64620925a421e59d97603"
  },
  {
   "cell_type": "markdown",
   "metadata": {
    "deepnote_app_block_visible": true,
    "cell_id": "5cc72dbf0c814a039c1e235ae382b08d",
    "deepnote_cell_type": "markdown"
   },
   "source": "The following approaches are in discussion:\n- Looking at the distributions above extract the amount of history a buyer most likely has at the issue data of the card\n- For each non buyer, find a buyer which was active in a similar time window (Jaccard similarity on the Year-Month sets)",
   "block_group": "36cc49d01e584dee95477456797d7480"
  },
  {
   "cell_type": "markdown",
   "metadata": {
    "deepnote_app_block_visible": true,
    "cell_id": "05d6a77bc1d54d4dbd8cdee96c32217a",
    "deepnote_cell_type": "markdown"
   },
   "source": "#### NEW IDEA\n\nInstead of looking at the full activity of a buyer, we only look at the pre-purchase activity as there is reason to believe that clients may change their patterns after purchasing date and therefore add unwanted bias. \n\n![](./docs/IMG_BBEF82A6C6B5-1.jpeg)",
   "block_group": "01a7ca4eb6fa4df5a3b4cd352d124e03"
  },
  {
   "cell_type": "markdown",
   "metadata": {
    "deepnote_app_block_visible": true,
    "cell_id": "1f1745ee351f4add8e986e346c5d9cf1",
    "deepnote_cell_type": "markdown"
   },
   "source": "### Focus on Contextual Engagement\n\nOur approach to setting artificial card issue date for non-cardholders goes beyond simple feature matching. We concentrate on the periods during which clients engage with the bank in the form of transactions. This method assumes that clients active during similar periods might be influenced by the same economic and societal conditions, providing a more nuanced foundation for establishing connections between current cardholders and potential new ones.\n\nThe process emphasizes matching based on the timing of activity, rather than a wide array of characteristics. By identifying when both existing cardholders and non-cardholders interacted with the bank, we can infer a level of behavioral alignment that extends beyond mere transactional data. This alignment suggests a shared response to external conditions.\n\n### Mechanism of Matching\n\nOur matching utilizes the Jaccard similarity index to compare activity patterns:\n\n- **Activity Comparison**: We compare a vector representing an existing cardholder's monthly activity against a matrix of non-cardholders' activity patterns. Here we only consider the activity from the first transaction period across all customers to the card issue date.\n- **Use of Jaccard Index**: This metric helps us quantify the resemblance between the activity patterns, focusing on the occurrence of activity rather than its volume, to identify meaningful parallels.\n\n### Eligibility and Selection\n\nPotential matches are subjected to specific criteria to ensure alignment for later model construction:\n\n1. **Account History**: Non-cardholders must have an established history of interaction, with at least 25 months of history between account creation and card issuance (12 months = period as a new customer + 13 months = one year of history + 1 month lag).\n2. **Period of Activity**: The analysis considers activities up to the card issuance date of the cardholder, aligning potential non-cardholders based on their response to similar conditions.\n3. **Selection Process**: From the non-cardholders with high similarity scores, one is randomly selected from the top-N candidates to maintain fairness in the matching process.\n\n### Objective of the Process\n\nThis matching strategy is designed to identify potential cardholders whose historical interaction patterns suggest a fit with card holders. The focus on specific periods of engagement, backed by eligibility criteria and a fair selection process, ensures that new additions to our cardholder base share a commonality that goes beyond surface-level similarities without searching a direct twin for each card holder.",
   "block_group": "53b8b039a2ae434eadd57a9ace3a145b"
  },
  {
   "cell_type": "markdown",
   "metadata": {
    "deepnote_app_block_visible": true,
    "cell_id": "601de2b56d2241398eafd778cf5e09ac",
    "deepnote_cell_type": "markdown"
   },
   "source": "### Construction of the Activity Matrix\n\nThe activity matrix serves as the foundation of our matching process, mapping out the engagement of clients with our services over time. It is constructed from transaction data, organizing client interactions into a structured format that highlights periods of activity.\n\n1. **Data Aggregation**: We start with transaction data, which records each client's interactions across various months. This data includes every transaction made by both current cardholders and potential non-cardholders.\n\n2. **Temporal Transformation**: Each transaction is associated with a specific date. These dates are then transformed into monthly periods, consolidating daily transactions into a monthly view of activity. This step simplifies the data, focusing on the presence of activity within each month rather than the specific dates or frequencies of transactions.\n\n3. **Matrix Structure**: The transformed data is arranged into a matrix format. Rows represent individual clients, identified by their account IDs. Columns correspond to monthly periods, spanning the entire range of months covered by the transaction data.\n\n4. **Activity Indication**: In the matrix, a cell value is set to indicate the presence of activity for a given client in a given month. If a client made one or more transactions in a month, the corresponding cell is marked to reflect this activity. The absence of transactions for a client in a month leaves the cell unmarked.\n\n5. **Binary Representation**: The final step involves converting the activity indicators into a binary format. Active months are represented by a '1', indicating the presence of transactions, while inactive months are denoted by a '0', indicating no transactions.\n\nThe heatmap provided offers a visual representation of the activity matrix for clients, depicting the levels of engagement over various periods.\n\n- **Diagonal Trend**: There is a distinct diagonal pattern, indicating that newer accounts (those created more recently) have fewer periods of activity. This makes sense as these accounts have not had the opportunity to transact over the earlier periods displayed on the heatmap.\n  \n- **Darker Areas (Purple)**: These represent periods of inactivity where clients did not engage. The darker the shade, the less activity occurred in that particular period for the corresponding set of accounts.\n  \n- **Brighter Areas (Yellow)**: In contrast, the brighter areas denote periods of activity. A brighter shade implies more clients were active during that period.\n  \n- **Account Creation Date**: Clients are sorted by their account creation date. Those who joined earlier are at the top, while more recent clients appear toward the bottom of the heatmap.",
   "block_group": "d84277a5437a4db7a853c248d6bced77"
  },
  {
   "cell_type": "code",
   "metadata": {
    "source_hash": "59cc3964",
    "execution_start": 1715615297629,
    "execution_millis": 937,
    "deepnote_to_be_reexecuted": false,
    "deepnote_app_block_visible": true,
    "cell_id": "c8096ab967cf40e4be03facb74ac00c7",
    "deepnote_cell_type": "code"
   },
   "source": "def prepare_activity_matrix(transactions):\n    \"\"\"\n    Create an activity matrix from transaction data.\n\n    The function transforms transaction data into a binary matrix that indicates\n    whether an account was active in a given month.\n\n    Parameters:\n    - transactions (pd.DataFrame): A DataFrame containing the transaction data.\n\n    Returns:\n    - pd.DataFrame: An activity matrix with accounts as rows and months as columns.\n    \"\"\"\n    transactions['month_year'] = transactions['date'].dt.to_period('M')\n    transactions['active'] = 1\n    \n    activity_matrix = transactions.pivot_table(index='account_id', \n                                    columns='month_year', \n                                    values='active', \n                                    fill_value=0)\n    \n    activity_matrix.columns = [f'active_{str(col)}' for col in activity_matrix.columns]\n    return activity_matrix\n\ndef plot_activity_matrix(activity_matrix):\n    sparse_matrix = activity_matrix.astype(bool)    \n    plt.figure(figsize=(20, 10))\n    sns.heatmap(sparse_matrix, cmap='viridis', cbar=True, yticklabels=False)\n    plt.title(f'Activity Matrix across all clients sorted by account creation date')\n    plt.xlabel('Period')\n    plt.ylabel('Accounts')\n    plt.show()\n\nactivity_matrix = prepare_activity_matrix(transactions_df)\nplot_activity_matrix(activity_matrix)",
   "block_group": "2a6b66bee6a9429d8056edb2a0bc2ab6",
   "outputs_reference": "s3:deepnote-cell-outputs-production/f1e6fd3c-c644-4e65-9038-e218856f846b",
   "content_dependencies": {
    "codeHash": "59cc3964",
    "usedVariables": [
     "col",
     "plot_activity_matrix",
     "activity_matrix",
     "sns",
     "prepare_activity_matrix",
     "plt",
     "sparse_matrix",
     "transactions",
     "transactions_df"
    ],
    "importedModules": [],
    "definedVariables": [
     "col",
     "plot_activity_matrix",
     "activity_matrix",
     "prepare_activity_matrix",
     "sparse_matrix"
    ]
   },
   "outputs": [],
   "execution_count": null
  },
  {
   "cell_type": "markdown",
   "metadata": {
    "deepnote_app_block_visible": true,
    "cell_id": "d1fd476a7ab04b73a74b0c61c87de260",
    "deepnote_cell_type": "markdown"
   },
   "source": "",
   "block_group": "4a967c8f75134adcb7040d661d3d125e"
  },
  {
   "cell_type": "code",
   "metadata": {
    "source_hash": "556e5587",
    "execution_start": 1715615298579,
    "execution_millis": 88007,
    "deepnote_to_be_reexecuted": false,
    "deepnote_app_block_visible": true,
    "cell_id": "ef7b794e01cd4dd684f2dd68dcbbc79a",
    "deepnote_cell_type": "code"
   },
   "source": "from sklearn.metrics import pairwise_distances\nfrom tqdm import tqdm\n\ndef check_eligibility_for_matching(non_cardholder, cardholder, verbose=False):\n    \"\"\"\n    Determine if a non-cardholder is eligible for matching with a cardholder.\n\n    This function checks whether the card issuance to a cardholder occurred at least\n    25 months after the non-cardholder's account was created.\n\n    Parameters:\n    - non_cardholder (pd.Series): A data series containing the non-cardholder's details.\n    - cardholder (pd.Series): A data series containing the cardholder's details.\n    - verbose (bool): If True, print detailed eligibility information. Default is False.\n\n    Returns:\n    - bool: True if the non-cardholder is eligible for matching, False otherwise.\n    \"\"\"\n    if cardholder['card_issued'] <= non_cardholder['account_created']:\n        return False    \n\n    period_diff = (cardholder['card_issued'].to_period('M') - non_cardholder['account_created'].to_period('M')).n\n\n    if verbose:\n        print(f\"Card issued: {cardholder['card_issued']}, Account created: {non_cardholder['account_created']}, Period diff: {period_diff}, Eligible: {period_diff >= 25}\")\n\n    return period_diff >= 25\n\ndef match_cardholders_with_non_cardholders(non_transactional, transactions, top_n=5):\n    \"\"\"\n    Match cardholders with non-cardholders based on the similarity of their activity patterns.\n\n    The function creates an activity matrix, identifies eligible non-cardholders, calculates\n    the Jaccard similarity to find matches, and randomly selects one match per cardholder\n    from the top N similar non-cardholders.\n\n    Parameters:\n    - non_transactional (pd.DataFrame): A DataFrame containing non-cardholders.\n    - transactions (pd.DataFrame): A DataFrame containing transactional data.\n    - top_n (int): The number of top similar non-cardholders to consider for matching.\n\n    Returns:\n    - list: A list of tuples with the cardholder and matched non-cardholder client IDs and similarity scores.\n    \"\"\"\n    with_card = non_transactional[non_transactional['card_issued'].notna()]\n    without_card = non_transactional[non_transactional['card_issued'].isna()]\n\n    activity_matrix = prepare_activity_matrix(transactions)\n    \n    with_card_activity = with_card.join(activity_matrix, on='account_id', how='left')\n    without_card_activity = without_card.join(activity_matrix, on='account_id', how='left')\n\n    matched_non_cardholders = set()\n    matches = []\n\n    for idx, cardholder in tqdm(with_card_activity.iterrows(), total=len(with_card_activity), desc='Matching cardholders'):\n        issue_period = cardholder['card_issued'].to_period('M')\n        eligible_cols = [col for col in activity_matrix if col.startswith('active') and pd.Period(col.split('_')[1]) <= issue_period]\n\n        if not eligible_cols:\n            print(f\"No eligible months found for cardholder client_id {cardholder['client_id']}.\")\n            continue\n\n        cardholder_vector = cardholder[eligible_cols].fillna(0).astype(bool).values.reshape(1, -1)\n        non_cardholder__matrix = without_card_activity[eligible_cols].fillna(0).astype(bool).values        \n        assert cardholder_vector.shape[1] == non_cardholder__matrix.shape[1], \"Dimension mismatch between cardholder and applicant activity matrix.\"\n\n        distances = pairwise_distances(cardholder_vector, non_cardholder__matrix, metric='jaccard').flatten()\n        eligible_non_cardholders = [i for i, applicant in without_card_activity.iterrows()\n                                    if check_eligibility_for_matching(applicant, cardholder) and i not in matched_non_cardholders]\n\n        if eligible_non_cardholders:\n            select_non_cardholders(distances, eligible_non_cardholders, matches, matched_non_cardholders, cardholder, without_card_activity, top_n)\n        else:\n            print(f\"No eligible non-cardholders found for cardholder client_id {cardholder['client_id']}.\")\n            \n    return matches\n\ndef select_non_cardholders(distances, eligible_non_cardholders, matches, matched_applicants, cardholder, without_card_activity, top_n):\n    \"\"\"\n    Randomly select a non-cardholder match for a cardholder from the top N eligible candidates.\n\n    Parameters:\n    - distances (np.array): An array of Jaccard distances between a cardholder and non-cardholders.\n    - eligible_non_cardholders (list): A list of indices for non-cardholders who are eligible for matching.\n    - matches (list): A list to which the match will be appended.\n    - matched_applicants (set): A set of indices for non-cardholders who have already been matched.\n    - cardholder (pd.Series): The data series of the current cardholder.\n    - without_card_activity (pd.DataFrame): A DataFrame of non-cardholders without card issuance.\n    - top_n (int): The number of top similar non-cardholders to consider for matching.\n\n    Returns:\n    - None: The matches list is updated in place with the selected match.\n    \"\"\"\n    eligible_distances = distances[eligible_non_cardholders]\n    sorted_indices = np.argsort(eligible_distances)[:top_n]\n\n    if sorted_indices.size > 0:\n        selected_index = np.random.choice(sorted_indices)\n        actual_selected_index = eligible_non_cardholders[selected_index]\n\n        if actual_selected_index not in matched_applicants:\n            matched_applicants.add(actual_selected_index)\n            applicant = without_card_activity.iloc[actual_selected_index]\n            similarity = 1 - eligible_distances[selected_index]\n            \n            matches.append((cardholder['client_id'], applicant['client_id'], similarity))\n\ndef set_artificial_issue_dates(non_transactional_df, matches):\n    \"\"\"\n    Augment the non-transactional DataFrame with artificial card issue dates based on matching results.\n\n    Each matched non-cardholder is assigned a card issue date corresponding to their matched\n    cardholder. The 'has_card' flag for each non-cardholder is updated accordingly.\n\n    Parameters:\n    - non_transactional_df (pd.DataFrame): The DataFrame of non-cardholders to augment.\n    - matches (list): A list of tuples containing the matched cardholder and non-cardholder IDs and similarity scores.\n\n    Returns:\n    - pd.DataFrame: The augmented DataFrame with artificial card issue dates.\n    \"\"\"\n    augmented_df = non_transactional_df.copy()\n    augmented_df['has_card'] = True\n\n    for cardholder_id, non_cardholder_id, _ in matches:\n        card_issue_date = augmented_df.loc[augmented_df['client_id'] == cardholder_id, 'card_issued'].values[0]\n        augmented_df.loc[augmented_df['client_id'] == non_cardholder_id, ['card_issued', 'has_card']] = [card_issue_date, False]\n\n    return augmented_df\n\nmatched_non_card_holders_df = match_cardholders_with_non_cardholders(non_transactional_w_sufficient_history_df, transactions_df)\n\nprint(f\"Percentage of clients with card issued: {non_transactional_w_sufficient_history_df['card_issued'].notna().mean() * 100:.2f}%\")\nmatched_non_card_holders_w_issue_date_df = set_artificial_issue_dates(non_transactional_w_sufficient_history_df, matched_non_card_holders_df)\nprint(f\"Percentage of clients with card issued after matching: {matched_non_card_holders_w_issue_date_df['card_issued'].notna().mean() * 100:.2f}%\")",
   "block_group": "9cb11d7eb2444e7cb534346f0bc3aafa",
   "outputs_reference": "dbtable:cell_outputs/41d1ca67-dee1-4707-8368-651ec5173e82",
   "content_dependencies": {
    "codeHash": "556e5587",
    "usedVariables": [
     "non_cardholder__matrix",
     "match_cardholders_with_non_cardholders",
     "sorted_indices",
     "cardholder",
     "pd",
     "applicant",
     "non_cardholder_id",
     "transactions",
     "card_issue_date",
     "non_transactional_df",
     "non_cardholder",
     "similarity",
     "matched_non_card_holders_w_issue_date_df",
     "check_eligibility_for_matching",
     "activity_matrix",
     "eligible_non_cardholders",
     "prepare_activity_matrix",
     "period_diff",
     "without_card",
     "without_card_activity",
     "matched_non_cardholders",
     "non_transactional_w_sufficient_history_df",
     "transactions_df",
     "matched_applicants",
     "pairwise_distances",
     "select_non_cardholders",
     "np",
     "cardholder_vector",
     "i",
     "non_transactional",
     "matched_non_card_holders_df",
     "set_artificial_issue_dates",
     "with_card",
     "matches",
     "top_n",
     "verbose",
     "col",
     "eligible_distances",
     "actual_selected_index",
     "tqdm",
     "selected_index",
     "issue_period",
     "distances",
     "with_card_activity",
     "cardholder_id",
     "eligible_cols",
     "augmented_df"
    ],
    "importedModules": [
     "pairwise_distances",
     "tqdm"
    ],
    "definedVariables": [
     "match_cardholders_with_non_cardholders",
     "non_cardholder__matrix",
     "sorted_indices",
     "cardholder",
     "applicant",
     "non_cardholder_id",
     "card_issue_date",
     "similarity",
     "matched_non_card_holders_w_issue_date_df",
     "check_eligibility_for_matching",
     "activity_matrix",
     "eligible_non_cardholders",
     "without_card",
     "period_diff",
     "without_card_activity",
     "matched_non_cardholders",
     "select_non_cardholders",
     "cardholder_vector",
     "i",
     "matched_non_card_holders_df",
     "set_artificial_issue_dates",
     "idx",
     "with_card",
     "matches",
     "col",
     "eligible_distances",
     "actual_selected_index",
     "selected_index",
     "_",
     "issue_period",
     "distances",
     "with_card_activity",
     "cardholder_id",
     "eligible_cols",
     "augmented_df"
    ]
   },
   "outputs": [],
   "execution_count": null
  },
  {
   "cell_type": "markdown",
   "metadata": {
    "deepnote_app_block_visible": true,
    "cell_id": "a33b0714c83b4c73b79b9d0e07f1e955",
    "deepnote_cell_type": "markdown"
   },
   "source": "After each non-cardholder got the artifical card issued date assigned we drop the remaining non-cardholders without a match.",
   "block_group": "2eade292495d419a8671f768832763ef"
  },
  {
   "cell_type": "code",
   "metadata": {
    "source_hash": "770994d3",
    "execution_start": 1715615386591,
    "execution_millis": 148,
    "deepnote_to_be_reexecuted": false,
    "deepnote_app_block_visible": true,
    "cell_id": "51664355ba9b428f84325ecf77753071",
    "deepnote_cell_type": "code"
   },
   "source": "before_len = len(matched_non_card_holders_w_issue_date_df)\nprint(-(before_len - len(matched_non_card_holders_w_issue_date_df)))\nmatched_non_card_holders_w_issue_date_df = matched_non_card_holders_w_issue_date_df.dropna(subset=['card_issued'])\ndata_reduction[\"Non-cardholders without match\"] = -(before_len - len(matched_non_card_holders_w_issue_date_df))\ndel before_len",
   "block_group": "47abf017f34d400d9d69e2fbdaa03705",
   "outputs_reference": "dbtable:cell_outputs/dc97e1d2-862f-4496-8af1-e35f8454673a",
   "content_dependencies": {
    "codeHash": "770994d3",
    "usedVariables": [
     "data_reduction",
     "before_len",
     "matched_non_card_holders_w_issue_date_df"
    ],
    "importedModules": [],
    "definedVariables": [
     "before_len",
     "matched_non_card_holders_w_issue_date_df"
    ]
   },
   "outputs": [],
   "execution_count": null
  },
  {
   "cell_type": "markdown",
   "metadata": {
    "deepnote_app_block_visible": true,
    "cell_id": "32051138c7854a3c935140b59feb950e",
    "deepnote_cell_type": "markdown"
   },
   "source": "## Aggregate Transactions on a Monthly Basis\n\nValidating first transactions where the amount equals the balance is essential for the integrity of our aggregated data analysis. This specific assertion underpins the reliability of our subsequent aggregation operations by ensuring each account's financial history starts from a verifiable point.",
   "block_group": "042e0b17ba2d44828227a266182f9386"
  },
  {
   "cell_type": "code",
   "metadata": {
    "source_hash": "cd4d68b9",
    "execution_start": 1715615386600,
    "execution_millis": 140,
    "deepnote_to_be_reexecuted": false,
    "deepnote_app_block_visible": true,
    "deepnote_app_is_code_hidden": false,
    "cell_id": "7c7297dbc84f41039f92767067f83a40",
    "deepnote_cell_type": "code"
   },
   "source": "zero_amount_transactions_df = transactions_df[transactions_df['amount'] == 0]\n\nzero_amount_transactions_info = {\n    'total_zero_amount_transactions': len(zero_amount_transactions_df),\n    'unique_accounts_with_zero_amount': zero_amount_transactions_df['account_id'].nunique(),\n    'transaction_type_distribution': zero_amount_transactions_df['transaction_type'].value_counts(normalize=True),\n    'operation_distribution': zero_amount_transactions_df['operation'].value_counts(normalize=True),\n    'k_symbol_distribution': zero_amount_transactions_df['k_symbol'].value_counts(normalize=True)\n}\n\nzero_amount_transactions_info, len(zero_amount_transactions_info)",
   "block_group": "531d6be4e7e042dd911b568ae6d97e8f",
   "outputs_reference": "dbtable:cell_outputs/47126304-d0f8-48ca-9440-6c415847d0e9",
   "content_dependencies": {
    "codeHash": "cd4d68b9",
    "usedVariables": [
     "zero_amount_transactions_info",
     "zero_amount_transactions_df",
     "transactions_df"
    ],
    "importedModules": [],
    "definedVariables": [
     "zero_amount_transactions_info",
     "zero_amount_transactions_df"
    ]
   },
   "outputs": [],
   "execution_count": null
  },
  {
   "cell_type": "code",
   "metadata": {
    "source_hash": "eb873657",
    "execution_start": 1715615386610,
    "execution_millis": 130,
    "deepnote_to_be_reexecuted": false,
    "deepnote_app_block_visible": true,
    "deepnote_app_is_code_hidden": false,
    "cell_id": "23d19f4f2ddd426fa5a3b526c6ea125a",
    "deepnote_cell_type": "code"
   },
   "source": "accounts_with_zero_amount_transactions = accounts_df[accounts_df['account_id'].isin(zero_amount_transactions_df['account_id'].unique())]\naccounts_with_zero_amount_transactions",
   "block_group": "456b08bd56e34ed4b76ac9eb5bd04fbc",
   "outputs_reference": "s3:deepnote-cell-outputs-production/0e020124-f5c3-47ed-9562-0d0a97e9dfb1",
   "content_dependencies": {
    "codeHash": "eb873657",
    "usedVariables": [
     "accounts_with_zero_amount_transactions",
     "zero_amount_transactions_df",
     "accounts_df"
    ],
    "importedModules": [],
    "definedVariables": [
     "accounts_with_zero_amount_transactions"
    ]
   },
   "outputs": [],
   "execution_count": null
  },
  {
   "cell_type": "code",
   "metadata": {
    "source_hash": "a04d04bd",
    "execution_start": 1715615386628,
    "execution_millis": 252,
    "deepnote_to_be_reexecuted": false,
    "deepnote_app_block_visible": true,
    "cell_id": "7d04fb2db1974d899a246c1e0f8ca90f",
    "deepnote_cell_type": "code"
   },
   "source": "del accounts_with_zero_amount_transactions \ndel zero_amount_transactions_df\ndel zero_amount_transactions_info",
   "block_group": "034a8820b71c46dbbf22b2b11fde7c1d",
   "outputs_reference": null,
   "content_dependencies": {
    "codeHash": "a04d04bd",
    "usedVariables": [],
    "importedModules": [],
    "definedVariables": []
   },
   "outputs": [],
   "execution_count": null
  },
  {
   "cell_type": "code",
   "metadata": {
    "source_hash": "bb89ad2",
    "execution_start": 1715615386679,
    "execution_millis": 224,
    "deepnote_to_be_reexecuted": false,
    "deepnote_app_block_visible": true,
    "deepnote_app_is_code_hidden": false,
    "cell_id": "750594abfe054d33b87f05b9b36292a6",
    "deepnote_cell_type": "code"
   },
   "source": "def validate_first_transactions(transactions):\n    \"\"\"\n    Validates that for each account in the transactions DataFrame, there is at least\n    one transaction where the amount equals the balance on the account's first transaction date.\n\n    Parameters:\n    - transactions (pd.DataFrame): DataFrame containing transaction data with columns\n      'account_id', 'date', 'amount', and 'balance'.\n\n    Raises:\n    - AssertionError: If not every account has a first transaction where the amount equals the balance.\n    \"\"\"\n\n    first_dates = transactions.groupby('account_id')['date'].min().reset_index(name='first_date')\n\n    first_trans = pd.merge(transactions, first_dates, how='left', on=['account_id'])\n\n    first_trans_filtered = first_trans[(first_trans['date'] == first_trans['first_date']) & (first_trans['amount'] == first_trans['balance'])]\n\n    first_trans_filtered = first_trans_filtered.drop_duplicates(subset=['account_id'])\n\n    unique_accounts = transactions['account_id'].nunique()\n    assert unique_accounts == first_trans_filtered['account_id'].nunique(), \"Not every account has a first transaction where the amount equals the balance.\"\n\n    return \"Validation successful: Each account has a first transaction where the amount equals the balance.\"\n\nvalidate_first_transactions(transactions_df)",
   "block_group": "4428e7a361aa4c6e8fd20b7246643d57",
   "outputs_reference": "dbtable:cell_outputs/c9ca2bbf-e84b-48cb-82f5-9c80c90f3be3",
   "content_dependencies": {
    "codeHash": "bb89ad2",
    "usedVariables": [
     "first_trans_filtered",
     "unique_accounts",
     "pd",
     "validate_first_transactions",
     "transactions",
     "transactions_df",
     "first_trans",
     "first_dates"
    ],
    "importedModules": [],
    "definedVariables": [
     "first_trans_filtered",
     "unique_accounts",
     "validate_first_transactions",
     "first_trans",
     "first_dates"
    ]
   },
   "outputs": [],
   "execution_count": null
  },
  {
   "cell_type": "markdown",
   "metadata": {
    "deepnote_app_block_visible": true,
    "cell_id": "099d42267614494c8b171ed44edc766d",
    "deepnote_cell_type": "markdown"
   },
   "source": "We can confirm the truth of the assertions made. It is certain that there is a transaction with an amount equal to the balance in the transaction history of any account on the first date.",
   "block_group": "28e6e191e5ca46bc9f2b7de04805f362"
  },
  {
   "cell_type": "markdown",
   "metadata": {
    "deepnote_app_block_visible": true,
    "cell_id": "dc754d3beb284c2f925251f7bd56743b",
    "deepnote_cell_type": "markdown"
   },
   "source": "The function `aggregate_transactions_monthly` is designed to process and summarize financial transactions on a monthly basis for each account within a dataset. The explanation of its workings, step by step, is as follows:\n\n1. **Sorting Transactions**: Initially, the function sorts the transactions in the provided DataFrame `transactions_df` based on `account_id` and the transaction `date`. This ensures that all transactions for a given account are ordered chronologically, which is crucial for accurate monthly aggregation and cumulative balance calculation.\n\n2. **Monthly Grouping**: Each transaction's date is then converted to a monthly period using `dt.to_period(\"M\")`. This step categorizes each transaction by the month and year it occurred, facilitating the aggregation of transactions on a monthly basis.\n\n3. **Aggregation of Monthly Data**: The function groups the sorted transactions by `account_id` and the newly created `month` column. For each group, it calculates several metrics:\n   - `volume`: The sum of all transactions' amounts for the month, representing the total money flow.\n   - `total_abs_amount`: The sum of the absolute values of the transactions' amounts, indicating the total amount of money moved, disregarding the direction.\n   - `transaction_count`: The count of transactions, providing a sense of activity level.\n   - `positive_transaction_count` and `negative_transaction_count`: The counts of positive (inflows) and negative (outflows) transactions, respectively. This distinction can help identify the balance between income and expenses.\n   - Statistical measures like `average_amount`, `median_amount`, `min_amount`, `max_amount`, and `std_amount` offer insights into the distribution of transaction amounts.\n   - `type_count`, `operation_count`, and `k_symbol_count`: The counts of unique transaction types, operations, and transaction symbols (k_symbol), respectively, indicating the diversity of transaction characteristics.\n\n4. **Cumulative Balance Calculation**: After aggregating the monthly data, the function computes a cumulative balance (`balance`) for each account by cumulatively summing the `volume` (total transaction amount) over time. This step provides insight into how the account balance evolves over the months.\n\n5. **Validation of Aggregated Data**: The `validate_monthly_aggregated_transactions` function is invoked to ensure the integrity and correctness of the aggregated data through several assertions:\n   - The balance should consistently increase or decrease based on whether the total monthly transaction volume is positive or negative, respectively.\n   - For each account, the balance in the first month should equal the total transaction volume of that month.\n   - The sum of positive and negative transaction counts must equal the total transaction count for each month.\n   - The number of unique accounts in the aggregated data should match that in the original dataset.\n   - The final balances of accounts in the aggregated data should closely match their last recorded transactions in the original dataset.",
   "block_group": "65cfb5cab2514c00a34e6696543c71fe"
  },
  {
   "cell_type": "code",
   "metadata": {
    "source_hash": "9062a155",
    "execution_start": 1715615386914,
    "execution_millis": 31749,
    "deepnote_to_be_reexecuted": false,
    "deepnote_app_block_visible": true,
    "deepnote_app_is_code_hidden": false,
    "cell_id": "d82731eba097462db62fffec44277124",
    "deepnote_cell_type": "code"
   },
   "source": "def aggregate_transactions_monthly(df):\n    \"\"\"\n    Aggregate financial transaction data on a monthly basis per account.\n\n    Parameters:\n    - df (pd.DataFrame): DataFrame containing financial transaction data with 'account_id', 'date', and other relevant columns.\n\n    Returns:\n    - pd.DataFrame: Monthly aggregated financial transaction data per account.\n    \"\"\"\n    df_sorted = df.sort_values(by=[\"account_id\", \"date\"])\n    df_sorted[\"month\"] = df_sorted[\"date\"].dt.to_period(\"M\")\n\n    monthly_aggregated_data = (\n            df_sorted.groupby([\"account_id\", \"month\"])\n            .agg(\n                volume=(\"amount\", \"sum\"),\n                total_abs_amount=(\"amount\", lambda x: x.abs().sum()),\n                transaction_count=(\"amount\", \"count\"),\n                positive_transaction_count=(\"amount\", lambda x: (x >= 0).sum()), # TODO: it seems that there are some transactions with 0 amount, how to handle those?\n                negative_transaction_count=(\"amount\", lambda x: (x < 0).sum()),\n                average_amount=(\"amount\", \"mean\"),\n                median_amount=(\"amount\", \"median\"),\n                min_amount=(\"amount\", \"min\"),\n                max_amount=(\"amount\", \"max\"),\n                std_amount=(\"amount\", \"std\"),\n                type_count=(\"transaction_type\", \"nunique\"),\n                operation_count=(\"operation\", \"nunique\"),\n                k_symbol_count=(\"k_symbol\", \"nunique\"),\n            )\n            .reset_index()\n            .sort_values(by=[\"account_id\", \"month\"])\n        )\n\n    monthly_aggregated_data[\"balance\"] = monthly_aggregated_data.groupby(\"account_id\")[\"volume\"].cumsum()\n\n    validate_monthly_aggregated_transactions(monthly_aggregated_data, df)\n\n    return monthly_aggregated_data\n\ndef validate_monthly_aggregated_transactions(aggregated_data, original_df):\n    \"\"\"\n    Validate the integrity and correctness of aggregated monthly financial transactions.\n\n    Parameters:\n    - aggregated_data (pd.DataFrame): Aggregated monthly transaction data.\n    - original_df (pd.DataFrame): Original dataset of financial transactions.\n\n    Raises:\n    - AssertionError: If validation conditions are not met.\n    \"\"\"\n    \n    assert (aggregated_data[\"volume\"] >= 0).all() == (\n        aggregated_data[\"balance\"].diff() >= 0\n    ).all(), \"If the total amount is positive, the balance should go up.\"\n\n    assert (aggregated_data[\"volume\"] < 0).all() == (\n        aggregated_data[\"balance\"].diff() < 0\n    ).all(), \"If the total amount is negative, the balance should go down.\"\n\n    first_month = aggregated_data.groupby(\"account_id\").nth(0)\n    assert (\n        first_month[\"volume\"] == first_month[\"balance\"]\n    ).all(), \"The balance should equal the volume for the first month.\"\n\n    assert (\n        aggregated_data[\"positive_transaction_count\"]\n        + aggregated_data[\"negative_transaction_count\"]\n        == aggregated_data[\"transaction_count\"]\n    ).all(), \"The sum of positive and negative transaction counts should equal the total transaction count.\"\n    \n    assert (\n        aggregated_data[\"account_id\"].nunique() == original_df[\"account_id\"].nunique()\n    ), \"The number of unique account_ids in the aggregated DataFrame should be the same as the original DataFrame.\"\n\n    assert (\n        pd.merge(\n            aggregated_data.groupby(\"account_id\")\n            .last()\n            .reset_index()[[\"account_id\", \"balance\"]],\n            original_df[original_df.groupby(\"account_id\")[\"date\"].transform(\"max\") == original_df[\"date\"]][\n                [\"account_id\", \"balance\"]\n            ],\n            on=\"account_id\",\n            suffixes=(\"_final\", \"_last\"),\n        )\n        .apply(\n            lambda x: np.isclose(x[\"balance_final\"], x[\"balance_last\"], atol=5), axis=1\n        )\n        .any()\n    ), \"Some accounts' final balances do not match their last transactions.\"\n    \n\nagg_transactions_monthly_df = aggregate_transactions_monthly(transactions_df)\nvalidate_monthly_aggregated_transactions(agg_transactions_monthly_df, transactions_df)\nagg_transactions_monthly_df.describe()",
   "block_group": "7cfb36bbac9e488791fb7c7457028a8f",
   "outputs_reference": "s3:deepnote-cell-outputs-production/1e01e409-bd18-48ce-b2b8-167495e52a66",
   "content_dependencies": {
    "codeHash": "9062a155",
    "usedVariables": [
     "df",
     "x",
     "agg_transactions_monthly_df",
     "df_sorted",
     "aggregated_data",
     "pd",
     "monthly_aggregated_data",
     "transactions_df",
     "first_month",
     "original_df",
     "validate_monthly_aggregated_transactions",
     "aggregate_transactions_monthly",
     "np"
    ],
    "importedModules": [],
    "definedVariables": [
     "agg_transactions_monthly_df",
     "df_sorted",
     "monthly_aggregated_data",
     "first_month",
     "aggregate_transactions_monthly",
     "validate_monthly_aggregated_transactions"
    ]
   },
   "outputs": [],
   "execution_count": null
  },
  {
   "cell_type": "markdown",
   "metadata": {
    "deepnote_app_block_visible": true,
    "cell_id": "e54827914ae6498cb0d46e9912e434c1",
    "deepnote_cell_type": "markdown"
   },
   "source": "### Monthly Balance Difference and Volume\n\nThis plot gives a clear picture of how money moves in and out of an account each month and how these movements affect the overall balance. It does this by showing two things:\n\n- **Balance Difference**: This line shows whether the account balance went up or down each month. If the line goes up, it means the account gained money that month. If it goes down, the account lost money.\n- **Volume**: This line shows the total amount of money that moved in the account each month, regardless of whether it was coming in or going out.\n\n**What to Look For**:\n- A direct link between the amount of money moved (volume) and changes in the account balance. High incoming money should lead to an uptick in the balance, and lots of outgoing money should lead to a downturn.\n- This visual check helps to understand how active the account is and whether it’s generally getting fuller or emptier over time.",
   "block_group": "c1fdcc86346a4898b4a066c9eaa0f75b"
  },
  {
   "cell_type": "code",
   "metadata": {
    "source_hash": "93ffd929",
    "execution_start": 1715615418705,
    "execution_millis": 662,
    "deepnote_to_be_reexecuted": false,
    "deepnote_app_block_visible": true,
    "deepnote_app_is_code_hidden": false,
    "cell_id": "debf2d5d53384fc2992122cadad736ce",
    "deepnote_cell_type": "code"
   },
   "source": "def plot_monthly_balance_diff_and_volume(transactions_monthly, account_id, figsize=(12, 8)):\n    account_transactions = transactions_monthly[transactions_monthly['account_id'] == account_id].sort_values(by='month')\n    account_transactions['balance_diff'] = account_transactions['balance'].diff()\n\n    plt.figure(figsize=figsize)\n\n    plt.plot(account_transactions['month'].astype(str), account_transactions['balance_diff'], marker='o', label='Balance Difference')\n    plt.plot(account_transactions['month'].astype(str), account_transactions['volume'], marker='x', linestyle='--', label='Volume')\n\n    plt.title(f'Monthly Balance Difference and Volume for Account {account_id}')\n    plt.xlabel('Month')\n    plt.ylabel('Value')\n    plt.xticks(rotation=45)\n    plt.legend()\n    plt.grid(True)\n    plt.tight_layout()\n    plt.show()\n\nplot_monthly_balance_diff_and_volume(agg_transactions_monthly_df, 2)",
   "block_group": "fa501cc5111747849806dcae193692a3",
   "outputs_reference": "s3:deepnote-cell-outputs-production/1012bb08-a718-40f5-8690-faf7e5f99c28",
   "content_dependencies": {
    "codeHash": "93ffd929",
    "usedVariables": [
     "agg_transactions_monthly_df",
     "account_transactions",
     "plt",
     "account_id",
     "plot_monthly_balance_diff_and_volume",
     "transactions_monthly",
     "figsize"
    ],
    "importedModules": [],
    "definedVariables": [
     "account_transactions",
     "plot_monthly_balance_diff_and_volume"
    ]
   },
   "outputs": [],
   "execution_count": null
  },
  {
   "cell_type": "markdown",
   "metadata": {
    "deepnote_app_block_visible": true,
    "cell_id": "d551ef18dc8049f5a1ea0228e83e556e",
    "deepnote_cell_type": "markdown"
   },
   "source": "### Monthly Transactions, Balance, and Volume Plot Explanation\n\nThis visualization offers a snapshot of an account’s activity over time by comparing money movement each month with the overall account balance. It helps to understand:\n\n- **Volume**: How much money came in or went out of the account each month. Incoming money is shown as up, and outgoing money as down.\n- **Balance**: The total money in the account at the end of each month, showing how it's changed over time due to the monthly transactions.\n\n**What to Look For**:\n- How the monthly money movement impacts the account's growing or shrinking balance. For example, a few months of high income should visibly increase the balance.\n- This simple visual guide helps spot trends, like if the account is steadily growing, holding steady, or facing issues, giving quick insights into financial well-being and further validates the aggregation made in the previous step.",
   "block_group": "3b9da9e607274f0881f009c5dc49b585"
  },
  {
   "cell_type": "code",
   "metadata": {
    "source_hash": "5d6f4cea",
    "execution_start": 1715615419370,
    "execution_millis": 625,
    "deepnote_to_be_reexecuted": false,
    "deepnote_app_block_visible": true,
    "deepnote_app_is_code_hidden": false,
    "cell_id": "617ba292bfb14406971447fdd95afc0d",
    "deepnote_cell_type": "code"
   },
   "source": "def plot_monthly_transactions_balance_and_volume(agg_transactions_monthly, account_id):\n    account_transactions = agg_transactions_monthly[agg_transactions_monthly['account_id'] == account_id]\n\n    plt.figure(figsize=(15, 10))\n\n    plt.plot(account_transactions['month'].astype(str), account_transactions['volume'], marker='o', label='Volume')\n    plt.plot(account_transactions['month'].astype(str), account_transactions['balance'], marker='x', linestyle='--', label='Balance')\n\n    plt.title(f'Monthly Transactions and Balance for Account {account_id}')\n    plt.xlabel('Month')\n    plt.ylabel('Value')\n    plt.xticks(rotation=60)\n    plt.legend()\n    plt.grid(True)\n    plt.tight_layout()\n    plt.show()\n\nplot_monthly_transactions_balance_and_volume(agg_transactions_monthly_df, 2)",
   "block_group": "2d2868d3f3a9443887aef2f733fa89fb",
   "outputs_reference": "s3:deepnote-cell-outputs-production/ab9aa947-425a-4fcd-a209-6a286308f96e",
   "content_dependencies": {
    "codeHash": "5d6f4cea",
    "usedVariables": [
     "account_transactions",
     "plt",
     "account_id",
     "agg_transactions_monthly",
     "agg_transactions_monthly_df",
     "plot_monthly_transactions_balance_and_volume"
    ],
    "importedModules": [],
    "definedVariables": [
     "account_transactions",
     "plot_monthly_transactions_balance_and_volume"
    ]
   },
   "outputs": [],
   "execution_count": null
  },
  {
   "cell_type": "markdown",
   "metadata": {
    "deepnote_app_block_visible": true,
    "cell_id": "13d6ce6a726e409182032ffcab32f34c",
    "deepnote_cell_type": "markdown"
   },
   "source": "### Delieverable: Closer Look at account 14 and 18\n\n#### Account 14 ",
   "block_group": "e36d2fa4508748509e8c38dae0561ca8"
  },
  {
   "cell_type": "code",
   "metadata": {
    "source_hash": "b15ec37",
    "execution_start": 1715615419998,
    "execution_millis": 508,
    "deepnote_to_be_reexecuted": false,
    "deepnote_app_block_visible": true,
    "cell_id": "0cafb1efc04c4c39938366d58412b156",
    "deepnote_cell_type": "code"
   },
   "source": "plot_monthly_transactions_balance_and_volume(agg_transactions_monthly_df, 14)",
   "block_group": "92cbf041cc9d438392182f7d1c18fab3",
   "outputs_reference": "s3:deepnote-cell-outputs-production/a0ccf2c6-64d4-4146-91c4-7f86d61c4098",
   "content_dependencies": {
    "codeHash": "b15ec37",
    "usedVariables": [
     "agg_transactions_monthly_df",
     "plot_monthly_transactions_balance_and_volume"
    ],
    "importedModules": [],
    "definedVariables": []
   },
   "outputs": [],
   "execution_count": null
  },
  {
   "cell_type": "markdown",
   "metadata": {
    "deepnote_app_block_visible": true,
    "cell_id": "c7a3528ad8db4370bfd76b0ad6d7c19c",
    "deepnote_cell_type": "markdown"
   },
   "source": "Account 14 shows a rather conservative transaction history. The spending habits are all withing range of 10k to -10k per month. We can see little volatility, the account shows a slight trend of growing.\n\n#### Account 18",
   "block_group": "d6310371566940dca0cadb81a0aeae05"
  },
  {
   "cell_type": "code",
   "metadata": {
    "source_hash": "f7e5406b",
    "execution_start": 1715615420431,
    "execution_millis": 592,
    "deepnote_to_be_reexecuted": false,
    "deepnote_app_block_visible": true,
    "cell_id": "e72b6dea5dae439c99d3ba2f06acf2b1",
    "deepnote_cell_type": "code"
   },
   "source": "plot_monthly_transactions_balance_and_volume(agg_transactions_monthly_df, 18)",
   "block_group": "5a30271c012a47e3b783e552c2f4297e",
   "outputs_reference": "s3:deepnote-cell-outputs-production/6c1c22f7-339b-4a2a-bd9c-586f266c484f",
   "content_dependencies": {
    "codeHash": "f7e5406b",
    "usedVariables": [
     "agg_transactions_monthly_df",
     "plot_monthly_transactions_balance_and_volume"
    ],
    "importedModules": [],
    "definedVariables": []
   },
   "outputs": [],
   "execution_count": null
  },
  {
   "cell_type": "markdown",
   "metadata": {
    "deepnote_app_block_visible": true,
    "cell_id": "47e390e147804946834869c7287cd423",
    "deepnote_cell_type": "markdown"
   },
   "source": "Account 18 paints a different picture in comparison to account 14. \n\nThe volatility here is a lot higher, indiciating a potential for a business account or high income household. Especially March 1994 to December 1994 show some volatile transaction habits.\n\n##### Analysis\nLooking at the balance and volume per month for the accounts 14 and 18 we can notice some interesting patterns.\n\n###### Account 14:",
   "block_group": "adf49a660e874e268c0670cd1e3a9a8c"
  },
  {
   "cell_type": "markdown",
   "metadata": {
    "deepnote_app_block_visible": true,
    "cell_id": "a01dfa00b5ce471e96d860a30cc50b9f",
    "deepnote_cell_type": "markdown"
   },
   "source": "## Rolling Window Aggregations for Card Holders\n\nWe condense transaction data into a monthly aggregated format. This aggregation serves a multifaceted purpose:\n\n- Monthly aggregation standardizes the time frame across which we analyze transactions, allowing us to compare transactional behaviors consistently across all accounts.\n- Aggregating data on a monthly level illuminates patterns that daily data might obscure. It enables us to discern trends over a broader time scale, capturing cyclical behaviors, seasonal effects, and response to macroeconomic events.\n- Daily transaction data can be \"noisy\" with random fluctuations. By considering monthly totals and averages, we reduce this noise, revealing underlying trends more clearly.\n- Our primary objective is to understand behaviors leading up to the issuance of a card. Aggregating transactions on a monthly basis helps focus on the crucial period preceding card issuance, enabling us to correlate transactional behaviors with the propensity to become a cardholder.",
   "block_group": "88e87e84d5b5479ebbe9a7ad1343c360"
  },
  {
   "cell_type": "code",
   "metadata": {
    "source_hash": "3cc17eaa",
    "execution_start": 1715615421026,
    "execution_millis": 1129,
    "deepnote_to_be_reexecuted": false,
    "deepnote_app_block_visible": true,
    "deepnote_app_is_code_hidden": false,
    "cell_id": "80a069cd9f414ca58fb86765590a29b3",
    "deepnote_cell_type": "code"
   },
   "source": "def pivot_transactions(non_transactional, transactions_monthly, months_before_card_range=(2, 13)):\n    \"\"\"\n    Aggregate monthly transaction data and merge it with non-transactional account data, \n    focusing on the time frame leading up to the card issuance.\n\n    This function merges monthly transaction data with non-transactional data to associate each\n    transaction with the respective account and card issued date. It then filters transactions based\n    on a specified range of months before card issuance and aggregates various transaction metrics.\n\n    Parameters:\n    - non_transactional (pd.DataFrame): A DataFrame containing non-transactional account data.\n    - transactions_monthly (pd.DataFrame): A DataFrame containing monthly transaction data.\n    - months_before_card_range (tuple): A tuple specifying the inclusive range of months before card \n                                        issuance to filter the transactions for aggregation.\n\n    The aggregation includes the sum of volume and transaction counts, as well as the mean and other\n    statistical measures of transaction amounts, for each account within the specified months before \n    card issuance.\n\n    The resulting DataFrame is pivoted to have 'account_id' as rows and the months before card \n    issuance as columns, with aggregated metrics as values. Column names are constructed to \n    describe the month and the metric represented.\n\n    Returns:\n    - pd.DataFrame: The final aggregated and pivoted dataset ready for analysis, with each row \n                    representing an account and each column a specific metric in the months before \n                    card issuance.\n    \"\"\"\n    merged_df = transactions_monthly.merge(non_transactional[['account_id']], on='account_id')\n\n    merged_df['card_issued_date'] = merged_df['account_id'].map(non_transactional.set_index('account_id')['card_issued'])\n    merged_df['months_before_card'] = merged_df.apply(lambda row: (row['card_issued_date'].to_period('M') - row['month']).n, axis=1)\n\n    start_month, end_month = months_before_card_range\n    filtered_df = merged_df.query(f\"{start_month} <= months_before_card <= {end_month}\")\n    \n    aggregated_data = filtered_df.groupby(['account_id', 'months_before_card']).agg({\n        'volume': 'sum',\n        'total_abs_amount': 'sum',\n        'transaction_count': 'sum',\n        'positive_transaction_count': 'sum',\n        'negative_transaction_count': 'sum',\n        'average_amount': 'mean',\n        'median_amount': 'median',\n        'min_amount': 'min',\n        'max_amount': 'max',\n        'std_amount': 'std',\n        'type_count': 'sum',\n        'operation_count': 'sum',\n        'k_symbol_count': 'sum',\n        'balance': 'mean'\n    }).reset_index()\n\n    pivoted_data = aggregated_data.pivot(index='account_id', columns='months_before_card')\n    pivoted_data.columns = ['_'.join(['M', str(col[1]), col[0]]) for col in pivoted_data.columns.values]\n\n    final_dataset = pivoted_data.reset_index()\n    return final_dataset\n\ntransactions_pivoted_df = pivot_transactions(matched_non_card_holders_w_issue_date_df, agg_transactions_monthly_df)\ntransactions_pivoted_df.describe()",
   "block_group": "956fac2c67f54c7fbe6a6c0424821cec",
   "outputs_reference": "s3:deepnote-cell-outputs-production/7aa688b7-fefc-4a7b-9303-0cf3f284b077",
   "content_dependencies": {
    "codeHash": "3cc17eaa",
    "usedVariables": [
     "end_month",
     "months_before_card_range",
     "col",
     "matched_non_card_holders_w_issue_date_df",
     "transactions_pivoted_df",
     "start_month",
     "aggregated_data",
     "row",
     "non_transactional",
     "transactions_monthly",
     "filtered_df",
     "pivot_transactions",
     "merged_df",
     "agg_transactions_monthly_df",
     "final_dataset",
     "pivoted_data"
    ],
    "importedModules": [],
    "definedVariables": [
     "end_month",
     "col",
     "transactions_pivoted_df",
     "start_month",
     "aggregated_data",
     "pivot_transactions",
     "filtered_df",
     "merged_df",
     "final_dataset",
     "pivoted_data"
    ]
   },
   "outputs": [],
   "execution_count": null
  },
  {
   "cell_type": "code",
   "metadata": {
    "source_hash": "eeaf8542",
    "execution_start": 1715615422158,
    "execution_millis": 210,
    "deepnote_to_be_reexecuted": false,
    "deepnote_app_block_visible": true,
    "cell_id": "de41df7aa52f4a618bd3a091f24b6ffb",
    "deepnote_cell_type": "code"
   },
   "source": "matched_non_card_holders_w_issue_date_df",
   "block_group": "9bb8aac935b94d40b88c3facb2b6f25c",
   "outputs_reference": "s3:deepnote-cell-outputs-production/a30371cd-4ed4-47c5-b839-3becd06b6c72",
   "content_dependencies": {
    "codeHash": "eeaf8542",
    "usedVariables": [
     "matched_non_card_holders_w_issue_date_df"
    ],
    "importedModules": [],
    "definedVariables": []
   },
   "outputs": [],
   "execution_count": null
  },
  {
   "cell_type": "code",
   "metadata": {
    "source_hash": "7ceb4322",
    "execution_start": 1715615422261,
    "execution_millis": 2755,
    "deepnote_to_be_reexecuted": false,
    "deepnote_app_block_visible": true,
    "cell_id": "3c4d00aeedac4a308e34c71fe320f3d1",
    "deepnote_cell_type": "code"
   },
   "source": "agg_transactions_monthly_df.to_csv(\"./data/transactions_monthly.csv\")",
   "block_group": "d47f759433654f93bedf2c59ae7076ae",
   "outputs_reference": null,
   "content_dependencies": {
    "codeHash": "7ceb4322",
    "usedVariables": [
     "agg_transactions_monthly_df"
    ],
    "importedModules": [],
    "definedVariables": []
   },
   "outputs": [],
   "execution_count": null
  },
  {
   "cell_type": "markdown",
   "metadata": {
    "deepnote_app_block_visible": true,
    "cell_id": "8accfb85f9d54a79b97d73042ba1192f",
    "deepnote_cell_type": "markdown"
   },
   "source": "# Merge everything together",
   "block_group": "d1fc4c23195a4cf48907e4325d3495e1"
  },
  {
   "cell_type": "code",
   "metadata": {
    "source_hash": "aa3b47c8",
    "execution_start": 1715615425023,
    "execution_millis": 108,
    "deepnote_to_be_reexecuted": false,
    "deepnote_app_block_visible": true,
    "deepnote_app_is_code_hidden": false,
    "cell_id": "6e81bf8ca0c84e83890bd9b93c169ce3",
    "deepnote_cell_type": "code"
   },
   "source": "golden_record_df = matched_non_card_holders_w_issue_date_df.merge(transactions_pivoted_df, on='account_id', how='left')\nassert golden_record_df['client_id'].is_unique, \"Each client_id should appear exactly once in the final DataFrame.\"\nassert golden_record_df['account_id'].is_unique, \"Each account_id should appear exactly once in the final DataFrame.\"",
   "block_group": "6119c8b2f95a4157af4ae280517e2845",
   "outputs_reference": null,
   "content_dependencies": {
    "codeHash": "aa3b47c8",
    "usedVariables": [
     "matched_non_card_holders_w_issue_date_df",
     "golden_record_df",
     "transactions_pivoted_df"
    ],
    "importedModules": [],
    "definedVariables": [
     "golden_record_df"
    ]
   },
   "outputs": [],
   "execution_count": null
  },
  {
   "cell_type": "code",
   "metadata": {
    "source_hash": "de0c5c79",
    "execution_start": 1715615425031,
    "execution_millis": 582,
    "deepnote_to_be_reexecuted": false,
    "deepnote_app_block_visible": true,
    "cell_id": "5847c94b2c99417b87062c28e9cc6b10",
    "deepnote_cell_type": "code"
   },
   "source": "golden_record_df.to_csv(\"data/bronze_record.csv\")",
   "block_group": "fd2224d051b0494bb40f42593aace8c3",
   "outputs_reference": null,
   "content_dependencies": {
    "codeHash": "de0c5c79",
    "usedVariables": [
     "golden_record_df"
    ],
    "importedModules": [],
    "definedVariables": []
   },
   "outputs": [],
   "execution_count": null
  },
  {
   "cell_type": "code",
   "metadata": {
    "source_hash": "41d320c0",
    "execution_start": 1715615425617,
    "execution_millis": 407,
    "deepnote_to_be_reexecuted": false,
    "deepnote_app_block_visible": true,
    "deepnote_app_is_code_hidden": false,
    "cell_id": "3b548df9660242988796c3e2a1f72aac",
    "deepnote_cell_type": "code"
   },
   "source": "golden_record_df.describe()",
   "block_group": "31e47adfa7464d7895fd2e25e85f6301",
   "outputs_reference": "s3:deepnote-cell-outputs-production/e48774ad-a867-40e1-a335-30a12d437e8b",
   "content_dependencies": {
    "codeHash": "41d320c0",
    "usedVariables": [
     "golden_record_df"
    ],
    "importedModules": [],
    "definedVariables": []
   },
   "outputs": [],
   "execution_count": null
  },
  {
   "cell_type": "code",
   "metadata": {
    "source_hash": "6b47979c",
    "execution_start": 1715615426027,
    "execution_millis": 383,
    "deepnote_to_be_reexecuted": false,
    "deepnote_app_block_visible": true,
    "deepnote_app_is_code_hidden": false,
    "cell_id": "e108df3b2d934edf8d37d10741ba4750",
    "deepnote_cell_type": "code"
   },
   "source": "plt.figure(figsize=(10, 6))\nplt.title('Number of Clients by Card Issuance Status')\nsns.countplot(x='has_card', data=golden_record_df)\nplt.xlabel('Card Issued')\nplt.ylabel('Count')\nplt.show()",
   "block_group": "6059e07a02db433d938fe763f624820c",
   "outputs_reference": "s3:deepnote-cell-outputs-production/7404cbe0-0fcb-41d7-8eb5-32be9a3d0bf7",
   "content_dependencies": {
    "codeHash": "6b47979c",
    "usedVariables": [
     "plt",
     "golden_record_df",
     "sns"
    ],
    "importedModules": [],
    "definedVariables": []
   },
   "outputs": [],
   "execution_count": null
  },
  {
   "cell_type": "code",
   "metadata": {
    "source_hash": "d1553a53",
    "execution_start": 1715615426147,
    "execution_millis": 594,
    "deepnote_to_be_reexecuted": false,
    "deepnote_app_block_visible": true,
    "deepnote_app_is_code_hidden": false,
    "cell_id": "834e2363c0804fbf8d42f1c083634cc6",
    "deepnote_cell_type": "code"
   },
   "source": "plt.figure(figsize=(10, 6))\nplt.title('Distribution of Card Issuance Dates')\nsns.histplot(golden_record_df, x='card_issued', hue='has_card', kde=True, bins=30)\nplt.xlabel('Card Issuance Date')\nplt.ylabel('Count')\nplt.show()",
   "block_group": "539fd1d1e6e248da9de685ff661428bf",
   "outputs_reference": "s3:deepnote-cell-outputs-production/9e5a71c2-146e-4f9c-b451-5dc3e0e53a35",
   "content_dependencies": {
    "codeHash": "d1553a53",
    "usedVariables": [
     "plt",
     "golden_record_df",
     "sns"
    ],
    "importedModules": [],
    "definedVariables": []
   },
   "outputs": [],
   "execution_count": null
  },
  {
   "cell_type": "code",
   "metadata": {
    "source_hash": "425ef48b",
    "execution_start": 1715615426744,
    "execution_millis": 370,
    "deepnote_to_be_reexecuted": false,
    "deepnote_app_block_visible": true,
    "cell_id": "10dc65567dfe4e96bbdefe74cdb7b579",
    "deepnote_cell_type": "code"
   },
   "source": "data_reduction",
   "block_group": "2065755e08f6499c8ca76285737154ea",
   "outputs_reference": "dbtable:cell_outputs/96c91179-e7d7-47d8-9110-c9fb37db254d",
   "content_dependencies": {
    "codeHash": "425ef48b",
    "usedVariables": [
     "data_reduction"
    ],
    "importedModules": [],
    "definedVariables": []
   },
   "outputs": [],
   "execution_count": null
  },
  {
   "cell_type": "code",
   "metadata": {
    "source_hash": "e88e244e",
    "execution_start": 1715615426748,
    "execution_millis": 366,
    "deepnote_to_be_reexecuted": false,
    "deepnote_app_block_visible": true,
    "cell_id": "6c0c3f63abe24091a9db7e3e5c775097",
    "deepnote_cell_type": "code"
   },
   "source": "golden_record_df.head()",
   "block_group": "025ac020d3444fa69040f686307374b3",
   "outputs_reference": "s3:deepnote-cell-outputs-production/4ada709e-9d53-4990-a12c-cba58b3067b9",
   "content_dependencies": {
    "codeHash": "e88e244e",
    "usedVariables": [
     "golden_record_df"
    ],
    "importedModules": [],
    "definedVariables": []
   },
   "outputs": [],
   "execution_count": null
  },
  {
   "cell_type": "code",
   "metadata": {
    "source_hash": "658bda4a",
    "execution_start": 1715615659405,
    "execution_millis": 42,
    "deepnote_to_be_reexecuted": false,
    "deepnote_app_block_visible": true,
    "cell_id": "39fd238294a64c8eb93da96522438061",
    "deepnote_cell_type": "code"
   },
   "source": "data_reduction[\"Final Golden Record\"] = len(golden_record_df)\ndata_reduction",
   "block_group": "455ac3c207a441048f8d85a7be90e6ae",
   "outputs_reference": "dbtable:cell_outputs/4b751bc1-f1e6-4afc-9335-b03765b9840d",
   "content_dependencies": {
    "codeHash": "658bda4a",
    "usedVariables": [
     "data_reduction",
     "golden_record_df"
    ],
    "importedModules": [],
    "definedVariables": []
   },
   "outputs": [],
   "execution_count": null
  },
  {
   "cell_type": "code",
   "metadata": {
    "source_hash": "91a9a399",
    "execution_start": 1715616120551,
    "execution_millis": 290,
    "deepnote_to_be_reexecuted": false,
    "deepnote_app_block_visible": true,
    "cell_id": "764720fb1eb347b6a1b2fe4e1a20ff6e",
    "deepnote_cell_type": "code"
   },
   "source": "import plotly.graph_objects as go\n\ndata_reduction_df = pd.DataFrame(list(data_reduction.items()), columns=['Category', 'Amount'])\ncolors = ['skyblue' if amt >= 0 else 'orange' for amt in data_reduction_df['Amount']]\n\nfig = go.Figure(go.Waterfall(\n    name=\"20\", orientation=\"v\",\n    measure=[\"relative\"] * (len(data_reduction_df) - 1) + [\"total\"],\n    x=data_reduction_df['Category'],\n    textposition=\"outside\",\n    text=[f'{amt:,.0f}' for amt in data_reduction_df['Amount']],\n    y=data_reduction_df['Amount'],\n    connector={\"line\":{\"color\":\"black\", \"width\":2}},\n    decreasing={\"marker\":{\"color\":\"orange\"}},\n    increasing={\"marker\":{\"color\":\"skyblue\"}},\n    totals={\"marker\":{\"color\":\"skyblue\"}},\n))\nfig.update_layout(\n    title=\"Enhanced Data Reduction Waterfall Chart\",\n    xaxis=dict(title=\"Category\"),\n    yaxis=dict(title=\"Amount\", range=[0, 5500]),\n    waterfallgap=0.3\n)\nfig.show()",
   "block_group": "9859b82bd02b47f18347451cec118121",
   "outputs_reference": "s3:deepnote-cell-outputs-production/0ab478da-64d7-4e17-a1d6-768f5e70083d",
   "content_dependencies": {
    "codeHash": "85910b38",
    "usedVariables": [
     "data_reduction",
     "fig",
     "go",
     "amt",
     "pd",
     "data_reduction_df"
    ],
    "importedModules": [
     "go"
    ],
    "definedVariables": [
     "colors",
     "fig",
     "amt",
     "data_reduction_df"
    ]
   },
   "outputs": [],
   "execution_count": null
  },
  {
   "cell_type": "markdown",
   "metadata": {
    "collapsed": false,
    "deepnote_app_block_visible": true,
    "cell_id": "b24a489b767844ef836fd1cdfa1b0f01",
    "deepnote_cell_type": "markdown"
   },
   "source": "# Model Construction",
   "block_group": "9e7c7ebe286b4072a4a847cb4b9a3ca3"
  },
  {
   "cell_type": "code",
   "metadata": {
    "source_hash": "f2eafa5f",
    "execution_start": 1715616210556,
    "execution_millis": 126,
    "deepnote_to_be_reexecuted": false,
    "deepnote_app_block_visible": true,
    "cell_id": "25b5a140e43245f49dc6a6249ba284ab",
    "deepnote_cell_type": "code"
   },
   "source": "import pandas as pd\nfrom sklearn.model_selection import cross_validate\nfrom sklearn.metrics import make_scorer, f1_score, roc_auc_score, precision_score, recall_score\nfrom sklearn.preprocessing import StandardScaler, OneHotEncoder\nfrom sklearn.compose import ColumnTransformer\nfrom sklearn.pipeline import Pipeline\nfrom sklearn.impute import SimpleImputer\nfrom sklearn.linear_model import LogisticRegression\n\ndef train_evaluate_model(golden_record_df, feature_columns, model, target_column='has_card', cv=10):\n    \"\"\"\n    Trains and evaluates a given model based on specified feature columns using cross-validation.\n    \n    Parameters:\n    - golden_record_df: DataFrame containing the Golden Record dataset.\n    - feature_columns: List of column names to be used as features.\n    - model: The machine learning model to be trained and evaluated.\n    - target_column: Name of the target column.\n\n    Returns:\n    - metrics_summary: Summary of evaluation metrics including mean and standard deviation for accuracy, F1, AUC-ROC, precision, recall.\n    \"\"\"\n    X = golden_record_df[feature_columns]\n    y = golden_record_df[target_column]\n\n    numerical_features = [col for col in feature_columns if golden_record_df[col].dtype in ['int64', 'float64']]\n    categorical_features = [col for col in feature_columns if golden_record_df[col].dtype == 'object']\n\n    numerical_pipeline = Pipeline([\n        ('imputer', SimpleImputer(strategy='mean')),\n        ('scaler', StandardScaler())\n    ])\n\n    categorical_pipeline = Pipeline([\n        ('imputer', SimpleImputer(strategy='most_frequent')),\n        ('onehot', OneHotEncoder(handle_unknown='ignore'))\n    ])\n\n    preprocessor = ColumnTransformer(\n        transformers=[\n            ('num', numerical_pipeline, numerical_features),\n            ('cat', categorical_pipeline, categorical_features)\n        ])\n\n    pipeline = Pipeline([\n        ('preprocessor', preprocessor),\n        ('model', model)\n    ])\n\n    scoring = {\n        'accuracy': 'accuracy',\n        'f1': make_scorer(f1_score),\n        'roc_auc': 'roc_auc',\n        'precision': make_scorer(precision_score),\n        'recall': make_scorer(recall_score)\n    }\n\n    metrics_summary = cross_validate(pipeline, X, y, scoring=scoring, cv=cv, return_train_score=False)\n\n    metrics_report = {}\n    for metric in scoring.keys():\n        metrics_report[metric] = {\n            'mean': metrics_summary[f'test_{metric}'].mean(),\n            'std': metrics_summary[f'test_{metric}'].std()\n        }\n        print(f\"{metric}: mean = {metrics_report[metric]['mean']:.2f}, std = {metrics_report[metric]['std']:.2f}\")\n\n    return metrics_report",
   "block_group": "7b9210edc3614abfb56d06d2eb0aa10d",
   "outputs_reference": null,
   "content_dependencies": {
    "codeHash": "f2eafa5f",
    "usedVariables": [
     "OneHotEncoder",
     "make_scorer",
     "golden_record_df",
     "StandardScaler",
     "cv",
     "X",
     "feature_columns",
     "precision_score",
     "f1_score",
     "numerical_pipeline",
     "categorical_pipeline",
     "model",
     "y",
     "pipeline",
     "Pipeline",
     "recall_score",
     "target_column",
     "categorical_features",
     "numerical_features",
     "scoring",
     "SimpleImputer",
     "ColumnTransformer",
     "cross_validate",
     "metric",
     "col",
     "metrics_summary",
     "metrics_report",
     "preprocessor"
    ],
    "importedModules": [
     "roc_auc_score",
     "OneHotEncoder",
     "LogisticRegression",
     "SimpleImputer",
     "make_scorer",
     "pd",
     "StandardScaler",
     "ColumnTransformer",
     "recall_score",
     "Pipeline",
     "cross_validate",
     "precision_score",
     "f1_score"
    ],
    "definedVariables": [
     "train_evaluate_model",
     "col",
     "categorical_pipeline",
     "metric",
     "scoring",
     "y",
     "metrics_summary",
     "pipeline",
     "metrics_report",
     "X",
     "categorical_features",
     "preprocessor",
     "numerical_pipeline",
     "numerical_features"
    ]
   },
   "outputs": [],
   "execution_count": null
  },
  {
   "cell_type": "code",
   "metadata": {
    "source_hash": "a8bb20bd",
    "execution_start": 1715616630049,
    "execution_millis": 2132,
    "deepnote_to_be_reexecuted": false,
    "deepnote_app_block_visible": true,
    "cell_id": "e04d0a11fa3d4a23b2b8ea55d86acd07",
    "deepnote_cell_type": "code"
   },
   "source": "from sklearn.linear_model import LogisticRegression\n\nmodel = LogisticRegression(random_state=42, max_iter=1000)\nfeature_columns = [\n    'age',\n    'client_region'\n] + [col for col in golden_record_df.columns if 'M_' in col and ('_balance' in col or '_volume' in col)]\n\ntrain_evaluate_model(golden_record_df, feature_columns, model)",
   "block_group": "0f3c5083d4b24ba3b718654a77040db5",
   "outputs_reference": "dbtable:cell_outputs/42bf9bda-a6c3-4456-83ca-c6b04fe61d5b",
   "content_dependencies": {
    "codeHash": "a8bb20bd",
    "usedVariables": [
     "train_evaluate_model",
     "col",
     "model",
     "LogisticRegression",
     "golden_record_df",
     "feature_columns"
    ],
    "importedModules": [
     "LogisticRegression"
    ],
    "definedVariables": [
     "feature_columns",
     "col",
     "model"
    ]
   },
   "outputs": [],
   "execution_count": null
  },
  {
   "cell_type": "markdown",
   "metadata": {
    "collapsed": false,
    "deepnote_app_block_visible": true,
    "cell_id": "4ba58e15b16d44b0a7c66a47cf498bbf",
    "deepnote_cell_type": "markdown"
   },
   "source": "# Model Engineering",
   "block_group": "9b651bd42a6f4807b1c79965f9bfd495"
  },
  {
   "cell_type": "markdown",
   "metadata": {
    "collapsed": false,
    "deepnote_app_block_visible": true,
    "cell_id": "a203aa44aad04b7ca6e4f774e2cf2c59",
    "deepnote_cell_type": "markdown"
   },
   "source": "# Model Comparison & Selection",
   "block_group": "5eb9a9a5e13045f0bf1f1ae01e99ff81"
  },
  {
   "cell_type": "code",
   "metadata": {
    "source_hash": "51c510b4",
    "execution_start": 1715616656671,
    "execution_millis": 2291,
    "deepnote_to_be_reexecuted": false,
    "deepnote_app_block_visible": true,
    "cell_id": "beb34085eabf46b996e810d05afb7e8b",
    "deepnote_cell_type": "code"
   },
   "source": "from sklearn.ensemble import RandomForestClassifier\n\n\nmodel = RandomForestClassifier(random_state=42)\ntrain_evaluate_model(golden_record_df, feature_columns, model)",
   "block_group": "7b402390f7ce4a11b72762124ccf4513",
   "outputs_reference": "dbtable:cell_outputs/dba13793-5482-4b2b-84bc-7d50fb0e7e00",
   "content_dependencies": {
    "codeHash": "51c510b4",
    "usedVariables": [
     "train_evaluate_model",
     "model",
     "golden_record_df",
     "feature_columns",
     "RandomForestClassifier"
    ],
    "importedModules": [
     "RandomForestClassifier"
    ],
    "definedVariables": [
     "model"
    ]
   },
   "outputs": [],
   "execution_count": null
  },
  {
   "cell_type": "markdown",
   "metadata": {
    "deepnote_app_block_visible": true,
    "cell_id": "2eb5522ce55941058bee1877f3f6348f",
    "deepnote_cell_type": "markdown"
   },
   "source": "# WORKBENCH - remove later",
   "block_group": "25d1c57ff9ad4323a6c5cab047569c2e"
  },
  {
   "cell_type": "markdown",
   "metadata": {
    "deepnote_app_block_visible": true,
    "cell_id": "4e33f271b19141638d6ea6e2703d4ec8",
    "deepnote_cell_type": "markdown"
   },
   "source": "### Some older input\n\nWe need some categorical indicator wheter a transactions is a transactions incoming or outgoing from the perspective of the account holder. This will be important for the feature engineering later on. We will create a column called `transaction_direction` using the amount to engineer this feature.\n\nBalance is the wealth on the account after the transaction.\n\nk_symbol is the purpose of the transaction. This is often use in the context of budgeting in E-Banking applications or just personal finance management. A lot of NA values are present in this column. We will have to deal with this later on and weigh the importance of this column.\n\nTrack the time series of a given account to get a better understanding of the datasets nature.\n\nIt seems that there can be multiple transactions on the same day. We will have to aggregate the transactions on the same day to get a better understanding of the transactions as the timestamp resolution is not high enough to track the transactions on a daily basis.\n\nWe need some handling for this as the ID is not informative as well (Dani). \n\nFor the feature enginnering a per month evaluation of the transactions is sufficient (Dani). \n\nWe need to make sure across the board that for the prediction we only use the data that is available at the time of the prediction. This means that we can only use the data from the past to predict the future. This is important to keep in mind when we engineer the features as some entities do not have any information about the date and therefore we cannot use them for the prediction as we cannot rule out that they are not from the future.\n\nFrequency analysis of the transactions could be interesting as the hypothesis might be that the more frequent the transactions the more likely the account holder is to be interested in a credit card. Fourier transformation could be used to get a better understanding of the frequency of the transactions.",
   "block_group": "d90b72435e31493bbeb38618dccd19c5"
  },
  {
   "cell_type": "markdown",
   "metadata": {
    "deepnote_app_block_visible": true,
    "cell_id": "4e848e8323d948e1b72e86c1a7b02828",
    "deepnote_cell_type": "markdown"
   },
   "source": "### JITT 05.03.24\n- New customers are handled differently\n- Customer without the required history should be ignored otherwise they are treated as irrelevant\n- Lag is ignored like (12 + 1) months\n- Age should be in relation to the time of the event (card issued / reference date for refrence clients)\n- How old are customers with a Junior Card? This should be evaluated based on the data\n    - Example with Junior Card model with Age as most important feature as a negative example\n- Reference clients\n    - They should not be as similar as possible (Twin brother problem)\n    - Same external market conditions\n    - Same environment\n    - See slide 6\n- Owner and disponents cannot be distinguished directly and assumptions are required\n    - MasterCards vs Visa war: as much cards as possible for both client of an account\n    - AGain the Twin brother problem as features are too similar possibly\n\n#### General notes to self\n- Visualise monthly product puchases\n- Viz environment of selected client and reference clients and answer the questions are they from a comparable environment",
   "block_group": "604ffe812ee84bc0bfad9159040419c5"
  },
  {
   "cell_type": "markdown",
   "metadata": {
    "deepnote_app_block_visible": true,
    "cell_id": "1d780d3f5250465281e7cc6370c1cac3",
    "deepnote_cell_type": "markdown"
   },
   "source": "",
   "block_group": "b119353e3b8b4fe885a230370e8f5ca3"
  },
  {
   "cell_type": "markdown",
   "source": "<a style='text-decoration:none;line-height:16px;display:flex;color:#5B5B62;padding:10px;justify-content:end;' href='https://deepnote.com?utm_source=created-in-deepnote-cell&projectId=7d865ccc-7b5c-4f8d-b4e6-4e008791345d' target=\"_blank\">\n<img alt='Created in deepnote.com' style='display:inline;max-height:16px;margin:0px;margin-right:7.5px;' src='data:image/svg+xml;base64,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' > </img>\nCreated in <span style='font-weight:600;margin-left:4px;'>Deepnote</span></a>",
   "metadata": {
    "created_in_deepnote_cell": true,
    "deepnote_cell_type": "markdown"
   }
  }
 ],
 "nbformat": 4,
 "nbformat_minor": 0,
 "metadata": {
  "deepnote_app_layout": "powerful-article",
  "deepnote_app_table_of_contents_enabled": false,
  "deepnote_app_hide_all_code_blocks_enabled": false,
  "deepnote_app_reactivity_enabled": true,
  "deepnote_notebook_id": "2ef3858b0ef64bcd97d256cee39e7aba",
  "deepnote_execution_queue": []
 }
}
