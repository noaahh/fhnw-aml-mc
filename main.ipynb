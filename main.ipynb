{
 "cells": [
  {
   "cell_type": "markdown",
   "metadata": {},
   "source": [
    "# AML Mini-Challenge - Credit Card Affinity Modelling\n",
    "\n",
    "Dominik Filliger & Noah Leuenberger\n",
    "\n",
    "\n",
    "# Task\n",
    "\n",
    "The task can be found [here](https://spaces.technik.fhnw.ch/storage/uploads/spaces/82/exercises/20240218__AML_Trainingscenter_MiniChallenge_Kreditkarten_Aufgabenstellung-1708412668.pdf).\n",
    "\n",
    "# Setup"
   ]
  },
  {
   "cell_type": "code",
   "execution_count": null,
   "metadata": {
    "ExecuteTime": {
     "end_time": "2024-02-23T10:53:25.191755Z",
     "start_time": "2024-02-23T10:53:25.176326Z"
    }
   },
   "outputs": [],
   "source": [
    "import pandas as pd\n",
    "from datetime import datetime\n",
    "\n",
    "import numpy as np\n",
    "\n",
    "import matplotlib.pyplot as plt\n",
    "import seaborn as sns\n",
    "sns.set_theme()"
   ]
  },
  {
   "cell_type": "markdown",
   "metadata": {
    "collapsed": false
   },
   "source": [
    "# Data Import & Preprocessing\n",
    "\n",
    "## Accounts"
   ]
  },
  {
   "cell_type": "code",
   "execution_count": null,
   "metadata": {
    "ExecuteTime": {
     "end_time": "2024-02-23T12:20:16.887117Z",
     "start_time": "2024-02-23T12:20:16.877124Z"
    },
    "collapsed": false
   },
   "outputs": [],
   "source": [
    "accounts = pd.read_csv(\"data/account.csv\", sep=\";\")\n",
    "accounts['frequency'] = accounts['frequency'].map({\n",
    "    \"POPLATEK MESICNE\": \"MONTHLY ISSUANCE\",\n",
    "    \"POPLATEK TYDNE\": \"WEEKLY ISSUANCE\",\n",
    "    \"POPLATEK PO OBRATU\": \"ISSUANCE AFTER TRANSACTION\"\n",
    "})\n",
    "accounts['date'] = pd.to_datetime(accounts['date'], format='%y%m%d')\n",
    "accounts['frequency'] = accounts['frequency'].astype('category')\n",
    "\n",
    "accounts.rename(columns={'date': 'account_created', \n",
    "                         'frequency': 'account_frequency'}, inplace=True)\n",
    "\n",
    "display(accounts.head(), accounts.info())"
   ]
  },
  {
   "cell_type": "markdown",
   "metadata": {
    "collapsed": false
   },
   "source": [
    "## Clients"
   ]
  },
  {
   "cell_type": "code",
   "execution_count": null,
   "metadata": {
    "ExecuteTime": {
     "end_time": "2024-02-23T10:53:25.352369Z",
     "start_time": "2024-02-23T10:53:25.205916Z"
    },
    "collapsed": false
   },
   "outputs": [],
   "source": [
    "clients = pd.read_csv(\"data/client.csv\", sep=\";\")\n",
    "\n",
    "def parse_birth_number(birth_number):\n",
    "    birth_number_str = str(birth_number)\n",
    "    \n",
    "    # Extract year, month, and day from birth number from string\n",
    "    # according to https://sorry.vse.cz/~berka/challenge/PAST/index.html\n",
    "    year = int(birth_number_str[:2])\n",
    "    month = int(birth_number_str[2:4])\n",
    "    day = int(birth_number_str[4:6])\n",
    "\n",
    "    # Determine sex based on month and adjust month for female clients\n",
    "    # according to https://sorry.vse.cz/~berka/challenge/PAST/index.html\n",
    "    if month > 50:\n",
    "        sex = \"Female\"\n",
    "        month -= 50\n",
    "    else:\n",
    "        sex = \"Male\"\n",
    "\n",
    "    # Validate date\n",
    "    assert 1 <= month <= 12\n",
    "    assert 1 <= day <= 31\n",
    "    assert 0 <= year <= 99\n",
    "    \n",
    "    if month in [4, 6, 9, 11]:\n",
    "        assert 1 <= day <= 30\n",
    "    elif month == 2:\n",
    "        assert 1 <= day <= 29\n",
    "    else:\n",
    "        assert 1 <= day <= 31\n",
    "\n",
    "    # Assuming all dates are in the 1900s\n",
    "    birth_date = datetime(1900 + year, month, day)\n",
    "    return pd.Series([sex, birth_date])\n",
    "\n",
    "clients[['client_sex', 'birth_date']] = clients['birth_number'].apply(parse_birth_number)\n",
    "\n",
    "# Calculate 'age' assuming the reference year is 1999\n",
    "clients['age'] = clients['birth_date'].apply(lambda x: 1999 - x.year)\n",
    "\n",
    "# Drop 'birth_number' column as it is no longer needed\n",
    "clients = clients.drop(columns=['birth_number'])\n",
    "\n",
    "clients.head()"
   ]
  },
  {
   "cell_type": "markdown",
   "metadata": {
    "collapsed": false
   },
   "source": [
    "## Dispositions"
   ]
  },
  {
   "cell_type": "code",
   "execution_count": null,
   "metadata": {
    "ExecuteTime": {
     "end_time": "2024-02-23T10:53:25.358130Z",
     "start_time": "2024-02-23T10:53:25.348879Z"
    },
    "collapsed": false
   },
   "outputs": [],
   "source": [
    "dispositions = pd.read_csv(\"data/disp.csv\", sep=\";\")\n",
    "dispositions['type'] = dispositions['type'].astype('category')\n",
    "\n",
    "before = len(dispositions)\n",
    "dispositions = dispositions[dispositions['type'] == \"OWNER\"]\n",
    "after = len(dispositions)\n",
    "print(f\"Dropped {before - after} dispositions that are not of type 'OWNER'.\")\n",
    "\n",
    "if len(dispositions['type'].unique()) == 1:\n",
    "    dispositions = dispositions.drop(columns=['type'])\n",
    "    \n",
    "dispositions.head()"
   ]
  },
  {
   "cell_type": "markdown",
   "metadata": {
    "collapsed": false
   },
   "source": [
    "## Orders"
   ]
  },
  {
   "cell_type": "code",
   "execution_count": null,
   "metadata": {
    "ExecuteTime": {
     "end_time": "2024-02-23T10:53:25.369756Z",
     "start_time": "2024-02-23T10:53:25.357250Z"
    },
    "collapsed": false
   },
   "outputs": [],
   "source": [
    "orders = pd.read_csv(\"data/order.csv\", sep=\";\")\n",
    "\n",
    "# Translated from Czech to English\n",
    "# according to https://sorry.vse.cz/~berka/challenge/PAST/index.html\n",
    "orders['k_symbol'] = orders['k_symbol'].map({\n",
    "    \"POJISTNE\": \"Insurance_Payment\",\n",
    "    \"SIPO\": \"Household\",\n",
    "    \"LEASING\": \"Leasing\",\n",
    "    \"UVER\": \"Loan_Payment\"\n",
    "})\n",
    "\n",
    "orders['k_symbol'] = orders['k_symbol'].astype('category')\n",
    "orders['bank_to'] = orders['bank_to'].astype('category')\n",
    "\n",
    "orders = orders.rename(columns={'amount': 'debited_amount'})\n",
    "\n",
    "orders.head()"
   ]
  },
  {
   "cell_type": "markdown",
   "metadata": {
    "collapsed": false
   },
   "source": [
    "## Transactions"
   ]
  },
  {
   "cell_type": "code",
   "execution_count": null,
   "metadata": {
    "ExecuteTime": {
     "end_time": "2024-02-23T10:53:26.139445Z",
     "start_time": "2024-02-23T10:53:25.367823Z"
    },
    "collapsed": false
   },
   "outputs": [],
   "source": [
    "# column 8 is the 'bank' column which contains NaNs and must be read as string\n",
    "transactions = pd.read_csv(\"data/trans.csv\", sep=\";\", dtype={8: str})\n",
    "\n",
    "transactions['date'] = pd.to_datetime(transactions['date'], format='%y%m%d')\n",
    "\n",
    "# Translated type from Czech to English\n",
    "# according to https://sorry.vse.cz/~berka/challenge/PAST/index.html\n",
    "transactions['type'] = transactions['type'].map({\n",
    "    \"VYBER\": \"VYDAJ\",\n",
    "    \"PRIJEM\": \"Credit\",\n",
    "    \"VYDAJ\": \"Withdrawal\"\n",
    "})\n",
    "\n",
    "# Translated operations from Czech to English\n",
    "# according to https://sorry.vse.cz/~berka/challenge/PAST/index.html\n",
    "transactions['operation'] = transactions['operation'].map({\n",
    "    \"VYBER KARTOU\": \"Credit Card Withdrawal\",\n",
    "    \"VKLAD\": \"Credit in Cash\",\n",
    "    \"PREVOD Z UCTU\": \"Collection from Another Bank\",\n",
    "    \"VYBER\": \"Withdrawal in Cash\",\n",
    "    \"PREVOD NA UCET\": \"Remittance to Another Bank\"\n",
    "})\n",
    "\n",
    "# Translated characteristics from Czech to English\n",
    "# according to https://sorry.vse.cz/~berka/challenge/PAST/index.html\n",
    "transactions['k_symbol'] = transactions['k_symbol'].map({\n",
    "    \"POJISTNE\": \"Insurance Payment\",\n",
    "    \"SLUZBY\": \"Payment on Statement\",\n",
    "    \"UROK\": \"Interest Credited\",\n",
    "    \"SANKC. UROK\": \"Sanction Interest\",\n",
    "    \"SIPO\": \"Household\",\n",
    "    \"DUCHOD\": \"Old-age Pension\",\n",
    "    \"UVER\": \"Loan Payment\"\n",
    "})\n",
    "\n",
    "transactions['bank'] = transactions['bank'].replace('', np.nan)\n",
    "\n",
    "transactions['amount'] = np.where(transactions['type'] == \"Credit\", transactions['amount'], -transactions['amount'])\n",
    "transactions.rename(columns={'type': 'transaction_type'}, inplace=True)\n",
    "\n",
    "transactions.head(500)"
   ]
  },
  {
   "cell_type": "markdown",
   "metadata": {
    "collapsed": false
   },
   "source": [
    "## Loans"
   ]
  },
  {
   "cell_type": "code",
   "execution_count": null,
   "metadata": {
    "ExecuteTime": {
     "end_time": "2024-02-23T10:53:26.148743Z",
     "start_time": "2024-02-23T10:53:26.140684Z"
    },
    "collapsed": false
   },
   "outputs": [],
   "source": [
    "loans = pd.read_csv(\"data/loan.csv\", sep=\";\")\n",
    "\n",
    "loans['date'] = pd.to_datetime(loans['date'], format='%y%m%d')\n",
    "\n",
    "loans['status'] = loans['status'].map({\n",
    "    \"A\": \"Contract finished, no problems\",\n",
    "    \"B\": \"Contract finished, loan not payed\",\n",
    "    \"C\": \"Contract running, OK thus-far\",\n",
    "    \"D\": \"Contract running, client in debt\"\n",
    "})\n",
    "\n",
    "# Rename columns\n",
    "# according to https://sorry.vse.cz/~berka/challenge/PAST/index.html\n",
    "loans.rename(columns={\n",
    "    'date': 'loan_granted_date',\n",
    "    'amount': 'loan_amount',\n",
    "    'duration': 'loan_duration',\n",
    "    'payments': 'loan_monthly_payments',\n",
    "    'status': 'loan_status'\n",
    "}, inplace=True)\n",
    "\n",
    "loans.head()"
   ]
  },
  {
   "cell_type": "markdown",
   "metadata": {
    "collapsed": false
   },
   "source": [
    "## Credit Cards"
   ]
  },
  {
   "cell_type": "code",
   "execution_count": null,
   "metadata": {
    "ExecuteTime": {
     "end_time": "2024-02-23T10:53:26.157378Z",
     "start_time": "2024-02-23T10:53:26.148711Z"
    },
    "collapsed": false
   },
   "outputs": [],
   "source": [
    "cards = pd.read_csv(\"data/card.csv\", sep=\";\")\n",
    "cards['type'] = cards['type'].astype('category')\n",
    "\n",
    "cards['issued'] = pd.to_datetime(cards['issued'], format='%y%m%d %H:%M:%S').dt.date\n",
    "cards.rename(columns={'type': 'card_type', \n",
    "                      'issued': 'card_issued'}, inplace=True)\n",
    "\n",
    "cards.head()"
   ]
  },
  {
   "cell_type": "markdown",
   "metadata": {
    "collapsed": false
   },
   "source": [
    "## Demographic data"
   ]
  },
  {
   "cell_type": "code",
   "execution_count": null,
   "metadata": {
    "ExecuteTime": {
     "end_time": "2024-02-23T11:04:45.623758Z",
     "start_time": "2024-02-23T11:04:45.614224Z"
    },
    "collapsed": false
   },
   "outputs": [],
   "source": [
    "districts = pd.read_csv(\"data/district.csv\", sep=\";\")\n",
    "\n",
    "# Rename columns\n",
    "# according to https://sorry.vse.cz/~berka/challenge/PAST/index.html\n",
    "districts.rename(columns={\n",
    "    'A1': 'district_id',\n",
    "    'A2': 'district_name',\n",
    "    'A3': 'region',\n",
    "    'A4': 'inhabitants',\n",
    "    'A5': 'small_municipalities',\n",
    "    'A6': 'medium_municipalities',\n",
    "    'A7': 'large_municipalities',\n",
    "    'A8': 'huge_municipalities',\n",
    "    'A9': 'cities',\n",
    "    'A10': 'ratio_urban_inhabitants',\n",
    "    'A11': 'average_salary',\n",
    "    'A12': 'unemployment_rate_1995',\n",
    "    'A13': 'unemployment_rate_1996',\n",
    "    'A14': 'entrepreneurs_per_1000_inhabitants',\n",
    "    'A15': 'crimes_committed_1995',\n",
    "    'A16': 'crimes_committed_1996'\n",
    "}, inplace=True)\n",
    "\n",
    "for col in ['unemployment_rate_1995', 'unemployment_rate_1996', 'crimes_committed_1995', 'crimes_committed_1996']:\n",
    "    districts[col] = pd.to_numeric(districts[col], errors='coerce')\n",
    "\n",
    "districts = districts.astype({'region': 'category', \n",
    "                              'district_name': 'category'})\n",
    "districts.head(), districts.dtypes"
   ]
  },
  {
   "cell_type": "markdown",
   "metadata": {
    "collapsed": false
   },
   "source": [
    "## Merge Data"
   ]
  },
  {
   "cell_type": "code",
   "execution_count": null,
   "metadata": {
    "collapsed": false
   },
   "outputs": [],
   "source": []
  },
  {
   "cell_type": "markdown",
   "metadata": {
    "collapsed": false
   },
   "source": [
    "# Model Construction"
   ]
  },
  {
   "cell_type": "markdown",
   "metadata": {
    "collapsed": false
   },
   "source": [
    "# Feature Engineering"
   ]
  },
  {
   "cell_type": "markdown",
   "metadata": {
    "collapsed": false
   },
   "source": [
    "# Model Engineering"
   ]
  },
  {
   "cell_type": "markdown",
   "metadata": {
    "collapsed": false
   },
   "source": [
    "# Model Comparison & Selection"
   ]
  }
 ],
 "metadata": {
  "kernelspec": {
   "display_name": "Python 3 (ipykernel)",
   "language": "python",
   "name": "python3"
  },
  "language_info": {
   "name": "python"
  }
 },
 "nbformat": 4,
 "nbformat_minor": 2
}
