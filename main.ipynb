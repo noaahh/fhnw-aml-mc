{
 "cells": [
  {
   "cell_type": "markdown",
   "metadata": {
    "deepnote_app_block_visible": true,
    "cell_id": "4366d59ebb934e458257bbcf3850ed3a",
    "deepnote_cell_type": "markdown"
   },
   "source": "# AML Mini-Challenge - Credit Card Affinity Modelling\n\n> Dominik Filliger & Noah Leuenberger\n\nThe task can be found [here](https://spaces.technik.fhnw.ch/storage/uploads/spaces/82/exercises/20240218__AML_Trainingscenter_MiniChallenge_Kreditkarten_Aufgabenstellung-1708412668.pdf).\n\n# Setup",
   "block_group": "d474c6c491654df981433d9dc4ae30be"
  },
  {
   "cell_type": "code",
   "metadata": {
    "source_hash": "be6fb00d",
    "execution_start": 1709987469222,
    "execution_millis": 663,
    "deepnote_to_be_reexecuted": false,
    "deepnote_app_block_visible": true,
    "cell_id": "98f93ebef36340a5a19848233cace7b6",
    "deepnote_cell_type": "code"
   },
   "source": "import pandas as pd\nfrom datetime import datetime\n\nimport numpy as np\n\nimport matplotlib.pyplot as plt\nimport seaborn as sns\n\nsns.set_theme()\n#plt.style.use('seaborn-white')\n#plt.style.use('ggplot')",
   "block_group": "3e914c775f754cca9e7fe86f53342ef9",
   "execution_count": null,
   "outputs": [],
   "outputs_reference": null
  },
  {
   "cell_type": "markdown",
   "metadata": {
    "collapsed": false,
    "deepnote_app_block_visible": true,
    "cell_id": "da801b505a294c35b5f4b6a4561fada5",
    "deepnote_cell_type": "markdown"
   },
   "source": "# Data Import & Wrangling",
   "block_group": "9caae79034d3421f82f2e26b877f4c41"
  },
  {
   "cell_type": "code",
   "metadata": {
    "source_hash": "faa49b63",
    "execution_start": 1709987469902,
    "execution_millis": 69,
    "deepnote_to_be_reexecuted": false,
    "deepnote_app_block_visible": true,
    "cell_id": "8ac4d34fead643d0bb8e8f201ceb0a3f",
    "deepnote_cell_type": "code"
   },
   "source": "def remap_values(df, column, mapping):\n    # assert that all values in the column are in the mapping except for NaN\n    assert df[column].dropna().isin(mapping.keys()).all()\n    \n    df[column] = df[column].map(mapping, na_action='ignore')\n    return df\n\ndef map_empty_to_nan(df, column):\n    if df[column].dtype != 'object':\n        return df\n\n    df[column] = df[column].replace(r'^\\s*$', np.nan, regex=True)\n    return df\n\ndef read_csv(file_path, sep=\";\", dtypes=None):\n    df = pd.read_csv(file_path, sep=sep, dtype=dtypes)\n    \n    for col in df.columns:\n        df = map_empty_to_nan(df, col)\n        \n    return df",
   "block_group": "f2b8067cb5c44dcc83df5e52dd8c9fe4",
   "execution_count": null,
   "outputs": [],
   "outputs_reference": null
  },
  {
   "cell_type": "markdown",
   "metadata": {
    "deepnote_app_block_visible": true,
    "cell_id": "3fc2df2468ef4c078e7855fae9fcb602",
    "deepnote_cell_type": "markdown"
   },
   "source": "## Accounts",
   "block_group": "cf103852a9bf4daaacc5e6b4b30ae1ce"
  },
  {
   "cell_type": "code",
   "metadata": {
    "collapsed": false,
    "source_hash": "566e89e2",
    "execution_start": 1709987469903,
    "execution_millis": 202,
    "deepnote_to_be_reexecuted": false,
    "deepnote_app_block_visible": true,
    "cell_id": "f2f3f75877994b69b6503bf1cb1a6d5d",
    "deepnote_cell_type": "code"
   },
   "source": "accounts = read_csv(\"data/account.csv\")\n\n# Translated frequency from Czech to English\n# according to https://sorry.vse.cz/~berka/challenge/PAST/index.html\naccounts = remap_values(accounts, 'frequency', {\n    \"POPLATEK MESICNE\": \"MONTHLY_ISSUANCE\",\n    \"POPLATEK TYDNE\": \"WEEKLY_ISSUANCE\",\n    \"POPLATEK PO OBRATU\": \"ISSUANCE_AFTER_TRANSACTION\"\n})\n\naccounts['date'] = pd.to_datetime(accounts['date'], format='%y%m%d')\n\naccounts.rename(columns={'date': 'account_created',\n                         'frequency': 'account_frequency'}, inplace=True)\n\naccounts.info()",
   "block_group": "d6806e17a7e64f1cbb9f857513ebccbc",
   "execution_count": null,
   "outputs": [],
   "outputs_reference": "dbtable:cell_outputs/88eadd83-e9ee-4b22-af8f-521c952891df"
  },
  {
   "cell_type": "markdown",
   "metadata": {
    "collapsed": false,
    "deepnote_app_block_visible": true,
    "cell_id": "08b5fe0377884855a1f5b4fb87253162",
    "deepnote_cell_type": "markdown"
   },
   "source": "## Clients",
   "block_group": "4d8c065d11fc4a87acf308c139fad228"
  },
  {
   "cell_type": "code",
   "metadata": {
    "collapsed": false,
    "source_hash": "99d60853",
    "execution_start": 1709987470112,
    "execution_millis": 507,
    "deepnote_to_be_reexecuted": false,
    "deepnote_app_block_visible": true,
    "cell_id": "1631f732c36447238e6c5b296cc0edeb",
    "deepnote_cell_type": "code"
   },
   "source": "clients = read_csv(\"data/client.csv\")\n\ndef parse_birth_number(birth_number):\n    birth_number_str = str(birth_number)\n\n    # Extract year, month, and day from birth number from string\n    # according to https://sorry.vse.cz/~berka/challenge/PAST/index.html\n    year = int(birth_number_str[:2])\n    month = int(birth_number_str[2:4])\n    day = int(birth_number_str[4:6])\n\n    # Determine sex based on month and adjust month for female clients\n    # according to https://sorry.vse.cz/~berka/challenge/PAST/index.html\n    if month > 50:\n        sex = \"Female\"\n        month -= 50\n    else:\n        sex = \"Male\"\n\n    # Validate date\n    assert 1 <= month <= 12\n    assert 1 <= day <= 31\n    assert 0 <= year <= 99\n\n    if month in [4, 6, 9, 11]:\n        assert 1 <= day <= 30\n    elif month == 2:\n        assert 1 <= day <= 29\n    else:\n        assert 1 <= day <= 31\n\n    # Assuming all dates are in the 1900s\n    birth_date = datetime(1900 + year, month, day)\n    return pd.Series([sex, birth_date])\n\n\nclients[['sex', 'birth_date']] = clients['birth_number'].apply(parse_birth_number)\n\n# Calculate 'age' assuming the reference year is 1999\nclients['age'] = clients['birth_date'].apply(lambda x: 1999 - x.year)\n\n# Drop 'birth_number' column as it is no longer needed\nclients = clients.drop(columns=['birth_number'])\n\nclients.info()",
   "block_group": "4a97366105df45ff99659c8e668a28ab",
   "execution_count": null,
   "outputs": [],
   "outputs_reference": "dbtable:cell_outputs/a01bfc0e-1c61-4137-8481-31922296e3c8"
  },
  {
   "cell_type": "markdown",
   "metadata": {
    "collapsed": false,
    "deepnote_app_block_visible": true,
    "cell_id": "95aa59e5572d497a8f7d9e75096c7f9a",
    "deepnote_cell_type": "markdown"
   },
   "source": "## Dispositions",
   "block_group": "a4776d34093a4842a18d4e2fafa5e65d"
  },
  {
   "cell_type": "code",
   "metadata": {
    "collapsed": false,
    "source_hash": "9dcd5429",
    "execution_start": 1709987470623,
    "execution_millis": 157,
    "deepnote_to_be_reexecuted": false,
    "deepnote_app_block_visible": true,
    "cell_id": "07f209dcbf7545c6a713868f1edf879e",
    "deepnote_cell_type": "code"
   },
   "source": "dispositions = read_csv(\"data/disp.csv\")\n\n#dispositions = dispositions[dispositions['type'] == 'OWNER']\n\ndispositions.info()",
   "block_group": "ef1adbef649d427da9c26f23ca9ac0d5",
   "execution_count": null,
   "outputs": [],
   "outputs_reference": "dbtable:cell_outputs/11b5e42c-18a8-48ff-968c-c384957c0b51"
  },
  {
   "cell_type": "markdown",
   "metadata": {
    "collapsed": false,
    "deepnote_app_block_visible": true,
    "cell_id": "35f4e99c49514d57964102d8b9de0971",
    "deepnote_cell_type": "markdown"
   },
   "source": "## Orders",
   "block_group": "77c0539eae844cbb84819a94ce4f02fc"
  },
  {
   "cell_type": "code",
   "metadata": {
    "collapsed": false,
    "source_hash": "62c19aa",
    "execution_start": 1709987470782,
    "execution_millis": 219,
    "deepnote_to_be_reexecuted": false,
    "deepnote_app_block_visible": true,
    "cell_id": "cf3840f41bf640889cc4b3b1e72a371a",
    "deepnote_cell_type": "code"
   },
   "source": "orders = read_csv(\"data/order.csv\")\n\n# Translated from Czech to English\n# according to https://sorry.vse.cz/~berka/challenge/PAST/index.html\norders = remap_values(orders, 'k_symbol', {\n    \"POJISTNE\": \"Insurance_Payment\",\n    \"SIPO\": \"Household\",\n    \"LEASING\": \"Leasing\",\n    \"UVER\": \"Loan_Payment\"\n})\n\norders['account_to'] = orders['account_to'].astype('category')\n\norders = orders.rename(columns={'amount': 'debited_amount'})\n\norders.info()",
   "block_group": "b750a4beb1d345b18a88eb7aff3548fb",
   "execution_count": null,
   "outputs": [],
   "outputs_reference": "dbtable:cell_outputs/e291403c-9c5f-43d8-b251-226e826a8271"
  },
  {
   "cell_type": "markdown",
   "metadata": {
    "collapsed": false,
    "deepnote_app_block_visible": true,
    "cell_id": "ff3b67ccf93a4423912430854458476a",
    "deepnote_cell_type": "markdown"
   },
   "source": "## Transactions",
   "block_group": "0a0d5efe640543f6b9acaa696298c8b5"
  },
  {
   "cell_type": "code",
   "metadata": {
    "collapsed": false,
    "source_hash": "b309fc30",
    "execution_start": 1709987471008,
    "execution_millis": 2364,
    "deepnote_table_state": {
     "sortBy": [],
     "filters": [],
     "pageSize": 100,
     "pageIndex": 0
    },
    "deepnote_table_loading": false,
    "deepnote_to_be_reexecuted": false,
    "deepnote_app_block_visible": true,
    "cell_id": "82fccbdb6e864bffb187217ea812845e",
    "deepnote_cell_type": "code"
   },
   "source": "# column 8 is the 'bank' column which contains NaNs and must be read as string\ntransactions = read_csv(\"data/trans.csv\", dtypes={8: str})\n\ntransactions['date'] = pd.to_datetime(transactions['date'], format='%y%m%d')\n\n# Translated type, operations and characteristics from Czech to English\n# according to https://sorry.vse.cz/~berka/challenge/PAST/index.html\ntransactions = remap_values(transactions, 'type', {\n    \"VYBER\": \"Withdrawal\", # Also withdrawal as it is against the documentation present in the dataset\n    \"PRIJEM\": \"Credit\",\n    \"VYDAJ\": \"Withdrawal\"\n})\n\ntransactions = remap_values(transactions, 'operation', {\n    \"VYBER KARTOU\": \"Credit Card Withdrawal\",\n    \"VKLAD\": \"Credit in Cash\",\n    \"PREVOD Z UCTU\": \"Collection from Another Bank\",\n    \"VYBER\": \"Withdrawal in Cash\",\n    \"PREVOD NA UCET\": \"Remittance to Another Bank\"\n})\n\ntransactions = remap_values(transactions, 'k_symbol', {\n    \"POJISTNE\": \"Insurance Payment\",\n    \"SLUZBY\": \"Payment on Statement\",\n    \"UROK\": \"Interest Credited\",\n    \"SANKC. UROK\": \"Sanction Interest\",\n    \"SIPO\": \"Household\",\n    \"DUCHOD\": \"Old-age Pension\",\n    \"UVER\": \"Loan Payment\"\n})\n\n# Set the amount to negative for withdrawals and positive for credits\ntransactions['amount'] = np.where(transactions['type'] == \"Credit\", transactions['amount'], -transactions['amount'])\n\ntransactions.rename(columns={'type': 'transaction_type'}, inplace=True)\n\ntransactions.info()",
   "block_group": "6b00d5a1f3de4cdba8341a4448ff1d6d",
   "execution_count": null,
   "outputs": [],
   "outputs_reference": "dbtable:cell_outputs/6b459f8e-4fd0-48e7-b385-0c418528bb9d"
  },
  {
   "cell_type": "markdown",
   "metadata": {
    "deepnote_app_block_visible": true,
    "cell_id": "9bbc87001891404a83b7f05b2f9adafa",
    "deepnote_cell_type": "markdown"
   },
   "source": "We need some categorical indicator wheter a transactions is a transactions incoming or outgoing from the perspective of the account holder. This will be important for the feature engineering later on. We will create a column called `transaction_direction` using the amount to engineer this feature.\n\nBalance is the wealth on the account after the transaction.\n\nk_symbol is the purpose of the transaction. This is often use in the context of budgeting in E-Banking applications or just personal finance management. A lot of NA values are present in this column. We will have to deal with this later on and weigh the importance of this column.\n\n",
   "block_group": "62deb370cbcc4850a2e6a19a02fb4097"
  },
  {
   "cell_type": "markdown",
   "metadata": {
    "deepnote_app_block_visible": true,
    "cell_id": "96e3ad221beb43c686dbc2b7c5dba318",
    "deepnote_cell_type": "markdown"
   },
   "source": "Track the time series of a given account to get a better understanding of the datasets nature.",
   "block_group": "fcbb4f485a784b048900d082526a2ef4"
  },
  {
   "cell_type": "code",
   "metadata": {
    "source_hash": "b623e53d",
    "execution_start": 1709987473375,
    "execution_millis": 20,
    "deepnote_to_be_reexecuted": false,
    "deepnote_app_block_visible": true,
    "cell_id": "8787a3699d654ad8a95935ef68f2bae5",
    "deepnote_cell_type": "code"
   },
   "source": "",
   "block_group": "592b413e318f470a91cfad8d94e1dcbd",
   "execution_count": null,
   "outputs": [],
   "outputs_reference": null
  },
  {
   "cell_type": "markdown",
   "metadata": {
    "deepnote_app_block_visible": true,
    "cell_id": "3378d8bb03214d16b13f91f846c8c6e4",
    "deepnote_cell_type": "markdown"
   },
   "source": "It seems that there can be multiple transactions on the same day. We will have to aggregate the transactions on the same day to get a better understanding of the transactions as the timestamp resolution is not high enough to track the transactions on a daily basis.\n\nWe need some handling for this as the ID is not informative as well (Dani). \n\nFor the feature enginnering a per month evaluation of the transactions is sufficient (Dani). \n\nWe need to make sure across the board that for the prediction we only use the data that is available at the time of the prediction. This means that we can only use the data from the past to predict the future. This is important to keep in mind when we engineer the features as some entities do not have any information about the date and therefore we cannot use them for the prediction as we cannot rule out that they are not from the future.\n\nFrequency analysis of the transactions could be interesting as the hypothesis might be that the more frequent the transactions the more likely the account holder is to be interested in a credit card. Fourier transformation could be used to get a better understanding of the frequency of the transactions.",
   "block_group": "879e3ba7a4074b3abea097d063a411bb"
  },
  {
   "cell_type": "markdown",
   "metadata": {
    "collapsed": false,
    "deepnote_app_block_visible": true,
    "cell_id": "b02413e62715494cafd0689ecc411ce9",
    "deepnote_cell_type": "markdown"
   },
   "source": "## Loans",
   "block_group": "0bb5cbc99039482dbde9eab3865b3ea9"
  },
  {
   "cell_type": "code",
   "metadata": {
    "collapsed": false,
    "source_hash": "c09f61a9",
    "execution_start": 1709987473377,
    "execution_millis": 169,
    "deepnote_table_state": {
     "sortBy": [],
     "filters": [],
     "pageSize": 10,
     "pageIndex": 0
    },
    "deepnote_table_loading": false,
    "deepnote_to_be_reexecuted": false,
    "deepnote_app_block_visible": true,
    "cell_id": "10ad619ad8cb433e9b6de19fbb51f76e",
    "deepnote_cell_type": "code"
   },
   "source": "loans = read_csv(\"data/loan.csv\")\n\nloans['date'] = pd.to_datetime(loans['date'], format='%y%m%d')\n\nloans['status'] = loans['status'].map({\n    \"A\": \"Contract finished, no problems\",\n    \"B\": \"Contract finished, loan not payed\",\n    \"C\": \"Contract running, OK thus-far\",\n    \"D\": \"Contract running, client in debt\"\n})\n\nloans.rename(columns={\n    'date': 'granted_date',\n    'amount': 'amount',\n    'duration': 'duration',\n    'payments': 'monthly_payments',\n    'status': 'status'\n}, inplace=True)\n\nloans.info()",
   "block_group": "e35d47ae622a41f08e467ed9b43a71d2",
   "execution_count": null,
   "outputs": [],
   "outputs_reference": "dbtable:cell_outputs/d9454066-52b1-43fe-adc6-e6c3e8416a40"
  },
  {
   "cell_type": "markdown",
   "metadata": {
    "collapsed": false,
    "deepnote_app_block_visible": true,
    "cell_id": "49e554a625e741c5940cd3bfa94c6209",
    "deepnote_cell_type": "markdown"
   },
   "source": "## Credit Cards",
   "block_group": "b6ed8cd221234bd081e5c3ac9af260dc"
  },
  {
   "cell_type": "code",
   "metadata": {
    "collapsed": false,
    "source_hash": "41b66997",
    "execution_start": 1709987473594,
    "execution_millis": 125,
    "deepnote_to_be_reexecuted": false,
    "deepnote_app_block_visible": true,
    "cell_id": "9174c131aa4e4e34a7f8d8ae4cdf957c",
    "deepnote_cell_type": "code"
   },
   "source": "cards = read_csv(\"data/card.csv\")\n\ncards['issued'] = pd.to_datetime(cards['issued'], format='%y%m%d %H:%M:%S').dt.date\n\ncards.info()",
   "block_group": "328f92b25e3244cd9674cad84bc1ffe0",
   "execution_count": null,
   "outputs": [],
   "outputs_reference": "dbtable:cell_outputs/6d038927-f726-4a88-9092-e119bf635925"
  },
  {
   "cell_type": "markdown",
   "metadata": {
    "collapsed": false,
    "deepnote_app_block_visible": true,
    "cell_id": "c3a8dc8e699f4087abb6f949e6554d36",
    "deepnote_cell_type": "markdown"
   },
   "source": "## Demographic data",
   "block_group": "2646bd0674b545378508a71d5fcc4aae"
  },
  {
   "cell_type": "code",
   "metadata": {
    "source_hash": "c7b577fa",
    "execution_start": 1709987473723,
    "execution_millis": 214,
    "deepnote_to_be_reexecuted": false,
    "deepnote_app_block_visible": true,
    "cell_id": "02d60090c0744453838cd52071a95438",
    "deepnote_cell_type": "code"
   },
   "source": "districts = read_csv(\"data/district.csv\")\n\n# Rename columns\n# according to https://sorry.vse.cz/~berka/challenge/PAST/index.html\ndistricts.rename(columns={\n    'A1': 'district_id',\n    'A2': 'district_name',\n    'A3': 'region',\n    'A4': 'inhabitants',\n    'A5': 'small_municipalities',\n    'A6': 'medium_municipalities',\n    'A7': 'large_municipalities',\n    'A8': 'huge_municipalities',\n    'A9': 'cities',\n    'A10': 'ratio_urban_inhabitants',\n    'A11': 'average_salary',\n    'A12': 'unemployment_rate_1995',\n    'A13': 'unemployment_rate_1996',\n    'A14': 'entrepreneurs_per_1000_inhabitants',\n    'A15': 'crimes_committed_1995',\n    'A16': 'crimes_committed_1996'\n}, inplace=True)\n\nfor col in ['unemployment_rate_1995', 'unemployment_rate_1996', 'crimes_committed_1995', 'crimes_committed_1996']:\n    districts[col] = pd.to_numeric(districts[col], errors='coerce')\n\ndistricts.info()",
   "block_group": "ebd0a5a77b0c42669de71f0de0bf1e04",
   "execution_count": null,
   "outputs": [],
   "outputs_reference": "s3:deepnote-cell-outputs-production/f0408ab6-29dc-4d13-8da9-97843ecb4407"
  },
  {
   "cell_type": "markdown",
   "metadata": {
    "deepnote_app_block_visible": true,
    "cell_id": "d07d744b2d424164a3d8b4029aef69e5",
    "deepnote_cell_type": "markdown"
   },
   "source": "We need to differentiate between the domicile of the client and account, as they can be different.\n",
   "block_group": "d1121d6f731441d8ace5d0956a4c9c81"
  },
  {
   "cell_type": "markdown",
   "metadata": {
    "formattedRanges": [],
    "deepnote_app_block_visible": true,
    "cell_id": "c1b85f0a04b0436cbab5f5ba8a528851",
    "deepnote_cell_type": "text-cell-h1"
   },
   "source": "# EDA",
   "block_group": "151956918f7d45b2a48807b44e7d3023"
  },
  {
   "cell_type": "code",
   "metadata": {
    "source_hash": "33e6c551",
    "execution_start": 1709987473926,
    "execution_millis": 166,
    "deepnote_to_be_reexecuted": false,
    "deepnote_app_block_visible": true,
    "cell_id": "6b58c4e6d6dc456da8a88d276f698539",
    "deepnote_cell_type": "code"
   },
   "source": "def plot_categorical_variables(df, categorical_columns, fill_na_value='NA'):\n    \"\"\"\n    Plots count plots for categorical variables in a DataFrame, filling NA values with a specified string.\n    \n    Parameters:\n    - df: pandas.DataFrame containing the data.\n    - categorical_vars: list of strings, names of the categorical variables in df to plot.\n    - fill_na_value: string, the value to use for filling NA values in the categorical variables.\n    \"\"\"\n    # Fill NA values in the specified categorical variables\n    for var in categorical_columns:\n        if df[var].isna().any():\n            df[var] = df[var].fillna(fill_na_value)\n\n    total = float(len(df))\n    fig, axes = plt.subplots(nrows=len(categorical_columns), figsize=(14, len(categorical_columns) * 4.5))\n\n    if len(categorical_columns) == 1:  # If there's only one categorical variable, wrap axes in a list\n        axes = [axes]\n\n    for i, var in enumerate(categorical_columns):\n        ax = sns.countplot(x=var, data=df, ax=axes[i], order=df[var].value_counts().index)\n\n        axes[i].set_title(f'Distribution of {var}')\n        axes[i].set_ylabel('Count')\n        axes[i].set_xlabel(var)\n\n        for p in ax.patches:\n            height = p.get_height()\n            ax.text(p.get_x() + p.get_width() / 2.,\n                    height + 3,\n                    '{:1.2f}%'.format((height / total) * 100),\n                    ha=\"center\")\n\n    plt.tight_layout()\n    plt.show()\n\ndef plot_numerical_distributions(df, numerical_columns, kde=True, bins=30):\n    \"\"\"\n    Plots the distribution of all numerical variables in a DataFrame.\n    \n    Parameters:\n    - df: pandas.DataFrame containing the data.\n    \"\"\"\n\n    # Determine the number of rows needed for subplots based on the number of numerical variables\n    nrows = len(numerical_columns)\n\n    # Create subplots\n    fig, axes = plt.subplots(nrows=nrows, ncols=1, figsize=(8, 5 * nrows))\n\n    if nrows == 1:  # If there's only one numerical variable, wrap axes in a list\n        axes = [axes]\n\n    for i, var in enumerate(numerical_columns):\n        sns.histplot(df[var], ax=axes[i], kde=kde, bins=bins)\n        axes[i].set_title(f'Distribution of {var}')\n        axes[i].set_xlabel(var)\n        axes[i].set_ylabel('Frequency')\n\n    plt.tight_layout()\n    plt.show()\n\ndef plot_date_monthly_counts(df, date_column, title):\n    \"\"\"\n    Plots the monthly counts of a date column in a DataFrame.\n    \n    Parameters:\n    - df: pandas.DataFrame containing the data.\n    - date_column: string, name of the date column in df to plot.\n    - title: string, title of the plot.\n    \"\"\"\n    df[date_column] = pd.to_datetime(df[date_column])\n    df['month'] = df[date_column].dt.to_period('M')\n\n    monthly_counts = df['month'].value_counts().sort_index()\n    monthly_counts.plot(kind='bar', figsize=(14, 6))\n    plt.title(title)\n    plt.xlabel('Month')\n    plt.ylabel('Count')\n    plt.show()",
   "block_group": "f3df9c78b76b400389ca06502062c133",
   "execution_count": null,
   "outputs": [],
   "outputs_reference": null
  },
  {
   "cell_type": "markdown",
   "metadata": {
    "deepnote_app_block_visible": true,
    "cell_id": "430fc945cb124a748b3dc12de21dc876",
    "deepnote_cell_type": "markdown"
   },
   "source": "## Transactions\n",
   "block_group": "12b1e81dd2444e4ea9c6f80a3c97ebda"
  },
  {
   "cell_type": "code",
   "metadata": {
    "source_hash": "d7e72cf4",
    "execution_start": 1709987473927,
    "execution_millis": 2678,
    "deepnote_to_be_reexecuted": false,
    "deepnote_app_block_visible": true,
    "cell_id": "4b79e06fa3014569901ac7c70d716b65",
    "deepnote_cell_type": "code"
   },
   "source": "plot_categorical_variables(transactions, ['transaction_type', 'operation', 'k_symbol'])",
   "block_group": "e635f29000b549ccb172c00a2b3cc826",
   "execution_count": null,
   "outputs": [],
   "outputs_reference": "s3:deepnote-cell-outputs-production/cb9b24bd-9458-4d1f-bb91-f58699273acd"
  },
  {
   "cell_type": "code",
   "metadata": {
    "source_hash": "fbea8377",
    "execution_start": 1709987476609,
    "execution_millis": 2195,
    "deepnote_to_be_reexecuted": false,
    "deepnote_app_block_visible": true,
    "cell_id": "4795ac6a7f954deeb31b1ea4fe033116",
    "deepnote_cell_type": "code"
   },
   "source": "# Getting a list of unique years from the dataset\ntransactions['year'] = transactions['date'].dt.year\ntransactions['month'] = transactions['date'].dt.month\n\nmonths = ['Jan', 'Feb', 'Mar', 'Apr', 'May', 'Jun', 'Jul', 'Aug', 'Sep', 'Oct', 'Nov', 'Dec']\n\n\nyears = sorted(transactions['year'].unique())\n\n# Creating a figure with subplots for each year: one row for each year with two plots (box plot and bar chart)\nfig, axs = plt.subplots(len(years) * 2, 1, figsize=(15, 6 * len(years)), sharex=True, gridspec_kw={'height_ratios': [3, 1] * len(years)})\n\nfor i, year in enumerate(years):\n    # Filter transactions for the current year\n    yearly_transactions = transactions[transactions['year'] == year]\n\n    # Preparing data for the box plot: a list of amounts for each month for the current year\n    amounts_per_month_yearly = [yearly_transactions[yearly_transactions['month'] == month]['amount'] for month in range(1, 13)]\n\n    # Preparing data for the bar chart for the current year\n    monthly_summary_yearly = yearly_transactions.groupby('month').agg(TotalAmount=('amount', 'sum'), TransactionCount=('amount', 'count')).reset_index()\n\n    # Box plot for transaction amounts by month for the current year\n    axs[i*2].boxplot(amounts_per_month_yearly, patch_artist=True)\n    # now with seaborn\n    # sns.boxplot(data=yearly_transactions, x='month', y='amount', ax=axs[i*2])\n    axs[i*2].set_title(f'Transaction Amounts Per Month in {year} (Box Plot)')\n    axs[i*2].set_yscale('symlog')\n    axs[i*2].set_ylabel('Transaction Amounts (log scale)')\n    axs[i*2].grid(True, which='both')\n\n    # Bar chart for transaction count by month for the current year\n    axs[i*2 + 1].bar(monthly_summary_yearly['month'], monthly_summary_yearly['TransactionCount'], color='tab:red', alpha=0.6)\n    axs[i*2 + 1].set_ylabel('Transaction Count')\n    axs[i*2 + 1].grid(True, which='both')\n\n# Setting x-ticks and labels for the last bar chart (shared x-axis for all)\naxs[-1].set_xticks(range(1, 13))\naxs[-1].set_xticklabels(months)\naxs[-1].set_xlabel('Month')\n\nplt.tight_layout()\nplt.show()\n\n",
   "block_group": "19f69164279646e2a42a1fb5366a18d2",
   "execution_count": null,
   "outputs": [],
   "outputs_reference": "s3:deepnote-cell-outputs-production/1dad5759-2ea9-492e-afbd-5f16c333ea08"
  },
  {
   "cell_type": "code",
   "metadata": {
    "source_hash": "b623e53d",
    "execution_start": 1709987478807,
    "execution_millis": 156,
    "deepnote_to_be_reexecuted": false,
    "deepnote_app_block_visible": true,
    "cell_id": "7c7297dbc84f41039f92767067f83a40",
    "deepnote_cell_type": "code"
   },
   "source": "",
   "block_group": "531d6be4e7e042dd911b568ae6d97e8f",
   "execution_count": null,
   "outputs": [],
   "outputs_reference": null
  },
  {
   "cell_type": "markdown",
   "metadata": {
    "formattedRanges": [
     {
      "url": "https://sorry.vse.cz/~berka/challenge/PAST/index.html",
      "type": "link",
      "ranges": [],
      "toCodePoint": 157,
      "fromCodePoint": 104
     }
    ],
    "deepnote_app_block_visible": true,
    "cell_id": "f517abff36734db2bb6bfb38272f1590",
    "deepnote_cell_type": "text-cell-p"
   },
   "source": "Following the documentation of the dataset, there are multiple relationships that need to be validated. https://sorry.vse.cz/~berka/challenge/PAST/index.html",
   "block_group": "6c75031b24aa4bc4a7de486e50d06abb"
  },
  {
   "cell_type": "markdown",
   "metadata": {
    "deepnote_app_block_visible": true,
    "cell_id": "468d1d3b0e064df8a888d2104c858484",
    "deepnote_cell_type": "markdown"
   },
   "source": "## Relationships\n\nFollowing the documentation of the dataset, there are multiple relationships that need to be validated. https://sorry.vse.cz/~berka/challenge/PAST/index.html",
   "block_group": "e948772ea9944a89aa670651254d808e"
  },
  {
   "cell_type": "markdown",
   "metadata": {
    "formattedRanges": [
     {
      "url": "https://sorry.vse.cz/~berka/challenge/PAST/index.html",
      "type": "link",
      "ranges": [],
      "toCodePoint": 94,
      "fromCodePoint": 41
     }
    ],
    "deepnote_app_block_visible": true,
    "cell_id": "2716bd17de7b423589b9e972508de583",
    "deepnote_cell_type": "text-cell-p"
   },
   "source": "The ERD according to the descriptions on https://sorry.vse.cz/~berka/challenge/PAST/index.html",
   "block_group": "3e59214b382b4e0f8d80608687d6c65c"
  },
  {
   "cell_type": "markdown",
   "metadata": {
    "deepnote_app_block_visible": true,
    "cell_id": "347783bec7fb411683dc02c3c86a3f14",
    "deepnote_cell_type": "markdown"
   },
   "source": "[![](https://mermaid.ink/img/pako:eNqtV1Fv4jgQ_itWXu6l7SZ0gQatTsqGdhddCxVQrXSqFJnEgLWJnbOd7bGl__3GTgA3JGyvWh7ajPPNZ898nrHz7MQ8Ic7AIWJI8Urg7JEh-AVhOHkYz9FzaeqfVIKyFcJxzAumIpqg-7_QoxOUNhoNH50jcEL1Q2zQNxo9rAZq8AQrUv45EIaCYEU5Q0MYb-BeCvJPQVi8AZ-RlAVmMUE3u8Gdw0v5L7wdXTeGE6eUWNGExmxa3YIKtY5YkS2IAOBnbbYt7S1hVwsbjmb3k9loPpqMG1YHRPl-bUCSc0lNThqzfYjlpjWWYxVvfqmi2uRamMkTI-LDgySiFsNkOryeNqyei4SI_fIn2voNq1lg9j1SHGBTEtPcxPgZxk7w1tAVve2wTDlWCGdmWkg1WVBFEhRkdWDF_D2Sm2zBU8De402mWcM1FjhWRNCfZt_WkjSfBuNZELYIrQRmcp-qubaAq1XptyXMriqbsmXXVjJD3SVUffhG1ToR-AmnDVCeE1EW52vmO2gmJ9JqQ49TW4IXODWVDCVWPQVLSCqyfE_rYU_SpkltOxkVhYLt_YudZAFrm6hS-XYSNMkLkbG9urdg_C5ZDdcXiFjv1rqutewb7HHaKbxMir2cBjWs7GO2vNztEpB3nKl1ukFVAciGgKTCqpA71pmx6p05mA6b-jIWyaErg9F6wOR2lz3dIHc7XNPN4fkoqxTOEUjkbsbSstN66Nrz6SicN7fsfe-_P3HkVXCGM2KDxmA3wARZlfJMzUNdP8YjvowoW2PoW7iUZ8wvEF-i0WGw2SsrGIXOiFNIHJHRE9S9zRSlKuq6rtb7FRB9QjD8PkpwhJ4ceb7vH_PCy3P95n3UHbfk9hu59dtz_93kKxV5wNCQjD_NeDNrXEL2ioTGPi4tU3LaoRAL3S5eqfmgx2wx0VTDG8r9B7TmFYkkdE-h70ZBOYBmZuDYoWAky1NuajiCNZDI7-oJrWE9F0F_-N03efdavHvN6QGEILkgjBRCRnCwmBzXwr-2QQhAyGvPN88yqqAhRrGgGeho4gnNcz2IU14926tndYBaD9huz8_58_7KPDDtLsa6I4_2lVpHVxfSgSlpSROY5ADeUVVY-46oHQIpeUzNBPqU3nlVlP_PyYZpz-227Mja5SuWLSsqb3wa8wUk0bK3Ie1rTxlsDNfCZvS2PD4Hpv8y9BW2ssY5Z05GRIZpAt8ppuE-OmpNdJ_U0IQscZGaI-0FoLhQfLZhsTNQoiBnTpHrzl593DiDJU4ljOaY_c15tgPpGw8Xd-WnkPkiMhBn8Oz86wyuOhf9bsf96Lndvuu5ff_M2TgDz-1ddK763qXvel237131X86cn4bUvbi67PU6Xt_z3Y--e9ntv_wHEyE3kA?type=png)](https://mermaid.live/edit#pako:eNqtV1Fv4jgQ_itWXu6l7SZ0gQatTsqGdhddCxVQrXSqFJnEgLWJnbOd7bGl__3GTgA3JGyvWh7ajPPNZ898nrHz7MQ8Ic7AIWJI8Urg7JEh-AVhOHkYz9FzaeqfVIKyFcJxzAumIpqg-7_QoxOUNhoNH50jcEL1Q2zQNxo9rAZq8AQrUv45EIaCYEU5Q0MYb-BeCvJPQVi8AZ-RlAVmMUE3u8Gdw0v5L7wdXTeGE6eUWNGExmxa3YIKtY5YkS2IAOBnbbYt7S1hVwsbjmb3k9loPpqMG1YHRPl-bUCSc0lNThqzfYjlpjWWYxVvfqmi2uRamMkTI-LDgySiFsNkOryeNqyei4SI_fIn2voNq1lg9j1SHGBTEtPcxPgZxk7w1tAVve2wTDlWCGdmWkg1WVBFEhRkdWDF_D2Sm2zBU8De402mWcM1FjhWRNCfZt_WkjSfBuNZELYIrQRmcp-qubaAq1XptyXMriqbsmXXVjJD3SVUffhG1ToR-AmnDVCeE1EW52vmO2gmJ9JqQ49TW4IXODWVDCVWPQVLSCqyfE_rYU_SpkltOxkVhYLt_YudZAFrm6hS-XYSNMkLkbG9urdg_C5ZDdcXiFjv1rqutewb7HHaKbxMir2cBjWs7GO2vNztEpB3nKl1ukFVAciGgKTCqpA71pmx6p05mA6b-jIWyaErg9F6wOR2lz3dIHc7XNPN4fkoqxTOEUjkbsbSstN66Nrz6SicN7fsfe-_P3HkVXCGM2KDxmA3wARZlfJMzUNdP8YjvowoW2PoW7iUZ8wvEF-i0WGw2SsrGIXOiFNIHJHRE9S9zRSlKuq6rtb7FRB9QjD8PkpwhJ4ceb7vH_PCy3P95n3UHbfk9hu59dtz_93kKxV5wNCQjD_NeDNrXEL2ioTGPi4tU3LaoRAL3S5eqfmgx2wx0VTDG8r9B7TmFYkkdE-h70ZBOYBmZuDYoWAky1NuajiCNZDI7-oJrWE9F0F_-N03efdavHvN6QGEILkgjBRCRnCwmBzXwr-2QQhAyGvPN88yqqAhRrGgGeho4gnNcz2IU14926tndYBaD9huz8_58_7KPDDtLsa6I4_2lVpHVxfSgSlpSROY5ADeUVVY-46oHQIpeUzNBPqU3nlVlP_PyYZpz-227Mja5SuWLSsqb3wa8wUk0bK3Ie1rTxlsDNfCZvS2PD4Hpv8y9BW2ssY5Z05GRIZpAt8ppuE-OmpNdJ_U0IQscZGaI-0FoLhQfLZhsTNQoiBnTpHrzl593DiDJU4ljOaY_c15tgPpGw8Xd-WnkPkiMhBn8Oz86wyuOhf9bsf96Lndvuu5ff_M2TgDz-1ddK763qXvel237131X86cn4bUvbi67PU6Xt_z3Y--e9ntv_wHEyE3kA)",
   "block_group": "2941a64a0b77434b9f5482974b6a981c"
  },
  {
   "cell_type": "markdown",
   "metadata": {
    "deepnote_app_block_visible": true,
    "cell_id": "cf930270c05c427f8b7f22028578ad59",
    "deepnote_cell_type": "markdown"
   },
   "source": "This ERD shows how the data appears in the dataset:\n\n[![](https://mermaid.ink/img/pako:eNqtV99P2zAQ_lesvOyFbjCJSq2mSSHlRzRoUVq0F6TITdzWIrEz2xnqgP99ZydNTeIUhOgD5JzvPvvufJ-dJy_hKfHGHhETitcC5_cMwc8PgtnddIGeKlP_pBKUrRFOEl4yFdMU3f5C955f2Sic3HsdcEr1Q2LQFxo9qQda8BQrUv3ZEwaCYEU5QxMYd3CvBPlTEpZswSeUssQsIehiN7hzeKn-BdfhuTOcJKPEiiYwpmt1SyrUJmZlviQCgGfa7Fvae8KuFzYJ57ezebgIZ1PH6oCoaNYGJAWX1OTEme19LBe9sXSrePFmFdW20IWZPTIivt1JIloxzKLJeeRYPRcpEc3yZ9r6hNUsMXuIFQdYRBJamBjPYOwAbwtd09sOq4xjhXBupoVUkyVVJEV-3gbWzA-x3OZLngH2Fm9zzRpssMCJIoL-M_u2laRF5E_nftBTaCUwk02qFtoCrt5Kvy9hdlfZlD27ti4z9F1K1bffVG1SgR9x5oDygoiqOV8z34CYHEirDe2mtgIvcWY6GVqsfvJXkFRk-R6uhz1JX01a28lUUSjY3m_sJAvY2kR1la9nvqu8EBlrqnsNxmeV1XBdQsR6t7br2sq-wXbTTuFlWjblNKhJbXfZimq3S0DecKY22RbVDSAdAUmFVSl3rHNjtZXZjyYuXcYi3asyGL0HTGGr7GGB3O1wTbeA505WKZwjkMjdjJVlp3Wv2osoDBZuyW60__bAkVfDGc6JDZqC7YAJsq7KE5mHdv0Yj_kqpmyDQbdwVZ4p_4r4CoX7QbdXXjIKyogzSByR8SP0vc0UZyo-PT7W9X4FRD8QDH-MEhxBk-OT0WjU5YWXA_3mY9TfjyvukZNbvx2MPky-VvEJMDiS8dOMu1mTCtJUJDB2t7VMy2mHUiy1XLyq5p0es4uJIg13tPtfkOY1iSWop9B3I78aQHMz0HUoGcmLjJsejmENJB6d6gmtYT0XQV9Gp-_yHvZ4D93pAYQghSCMlELGcLCYHLfCP7dBCEDopD_fPM-pAkGME0FzqKOJJzDP7SAOeQ1tr6GlAC0NeH4eDPhTc2UeG7lLsFbksOnUNrq-kI5NS0uawiR78I6qxtp3RO3gS8kTaibQp_TOq6bUTs_P73WyYbWnUWTtcoVlz4qqG5_GXEJJdNn7kPa1pwo2gWuhEw1Tm-NzbPSXoSvYyhrnHXk5ETmmKXynGMG999SGaJ3U0JSscJmZI-0FoLhUfL5liTdWoiRHXlloZa8_brzxCmcSRvUVh4ub6tsn4WxF197LfwBRISI?type=png)](https://mermaid.live/edit#pako:eNqtV99P2zAQ_lesvOyFbjCJSq2mSSHlRzRoUVq0F6TITdzWIrEz2xnqgP99ZydNTeIUhOgD5JzvPvvufJ-dJy_hKfHGHhETitcC5_cMwc8PgtnddIGeKlP_pBKUrRFOEl4yFdMU3f5C955f2Sic3HsdcEr1Q2LQFxo9qQda8BQrUv3ZEwaCYEU5QxMYd3CvBPlTEpZswSeUssQsIehiN7hzeKn-BdfhuTOcJKPEiiYwpmt1SyrUJmZlviQCgGfa7Fvae8KuFzYJ57ezebgIZ1PH6oCoaNYGJAWX1OTEme19LBe9sXSrePFmFdW20IWZPTIivt1JIloxzKLJeeRYPRcpEc3yZ9r6hNUsMXuIFQdYRBJamBjPYOwAbwtd09sOq4xjhXBupoVUkyVVJEV-3gbWzA-x3OZLngH2Fm9zzRpssMCJIoL-M_u2laRF5E_nftBTaCUwk02qFtoCrt5Kvy9hdlfZlD27ti4z9F1K1bffVG1SgR9x5oDygoiqOV8z34CYHEirDe2mtgIvcWY6GVqsfvJXkFRk-R6uhz1JX01a28lUUSjY3m_sJAvY2kR1la9nvqu8EBlrqnsNxmeV1XBdQsR6t7br2sq-wXbTTuFlWjblNKhJbXfZimq3S0DecKY22RbVDSAdAUmFVSl3rHNjtZXZjyYuXcYi3asyGL0HTGGr7GGB3O1wTbeA505WKZwjkMjdjJVlp3Wv2osoDBZuyW60__bAkVfDGc6JDZqC7YAJsq7KE5mHdv0Yj_kqpmyDQbdwVZ4p_4r4CoX7QbdXXjIKyogzSByR8SP0vc0UZyo-PT7W9X4FRD8QDH-MEhxBk-OT0WjU5YWXA_3mY9TfjyvukZNbvx2MPky-VvEJMDiS8dOMu1mTCtJUJDB2t7VMy2mHUiy1XLyq5p0es4uJIg13tPtfkOY1iSWop9B3I78aQHMz0HUoGcmLjJsejmENJB6d6gmtYT0XQV9Gp-_yHvZ4D93pAYQghSCMlELGcLCYHLfCP7dBCEDopD_fPM-pAkGME0FzqKOJJzDP7SAOeQ1tr6GlAC0NeH4eDPhTc2UeG7lLsFbksOnUNrq-kI5NS0uawiR78I6qxtp3RO3gS8kTaibQp_TOq6bUTs_P73WyYbWnUWTtcoVlz4qqG5_GXEJJdNn7kPa1pwo2gWuhEw1Tm-NzbPSXoSvYyhrnHXk5ETmmKXynGMG999SGaJ3U0JSscJmZI-0FoLhUfL5liTdWoiRHXlloZa8_brzxCmcSRvUVh4ub6tsn4WxF197LfwBRISI)",
   "block_group": "344d76c020d84e2b84eb21427993130e"
  },
  {
   "cell_type": "code",
   "metadata": {
    "source_hash": "ebc69310",
    "execution_start": 1709987513370,
    "execution_millis": 210,
    "deepnote_to_be_reexecuted": false,
    "deepnote_app_block_visible": true,
    "cell_id": "6399035fa44e439ea7eff922e5dc2ad1",
    "deepnote_cell_type": "code"
   },
   "source": "# Verify 1:1 relationships between CLIENT, LOAN and DISPOSITION\nassert dispositions['client_id'].is_unique, \"Each client_id should appear exactly once in the DISPOSITION DataFrame.\"\nassert loans['account_id'].is_unique, \"Each account_id should appear exactly once in the LOAN DataFrame.\"\n\n# Verify 1:M relationships between ACCOUNT and DISPOSITION\nassert dispositions['account_id'].is_unique == False, \"An account_id should appear more than once in the DISPOSITION DataFrame.\"\n\n# Verify each district_id in ACCOUNT and CLIENT exists in DISTRICT\nassert set(accounts['district_id']).issubset(\n    set(districts['district_id'])), \"All district_ids in ACCOUNT should exist in DISTRICT.\"\nassert set(clients['district_id']).issubset(\n    set(districts['district_id'])), \"All district_ids in CLIENT should exist in DISTRICT.\"\n\n# Verify each account_id in DISPOSITION, ORDER, TRANSACTION, and LOAN exists in ACCOUNT\nassert set(dispositions['account_id']).issubset(\n    set(accounts['account_id'])), \"All account_ids in DISPOSITION should exist in ACCOUNT.\"\nassert set(orders['account_id']).issubset(\n    set(accounts['account_id'])), \"All account_ids in ORDER should exist in ACCOUNT.\"\nassert set(transactions['account_id']).issubset(\n    set(accounts['account_id'])), \"All account_ids in TRANSACTION should exist in ACCOUNT.\"\nassert set(loans['account_id']).issubset(\n    set(accounts['account_id'])), \"All account_ids in LOAN should exist in ACCOUNT.\"\n\n# Verify each client_id in DISPOSITION exists in CLIENT\nassert set(dispositions['client_id']).issubset(\n    set(clients['client_id'])), \"All client_ids in DISPOSITION should exist in CLIENT.\"\n\n# Verify each disp_id in CARD exists in DISPOSITION\nassert set(cards['disp_id']).issubset(set(dispositions['disp_id'])), \"All disp_ids in CARD should exist in DISPOSITION.\"",
   "block_group": "55c1e131594c49ecaec4fa61dc4d5948",
   "execution_count": null,
   "outputs": [],
   "outputs_reference": null
  },
  {
   "cell_type": "code",
   "metadata": {
    "source_hash": "505d26b4",
    "execution_start": 1709987513401,
    "execution_millis": 359,
    "deepnote_to_be_reexecuted": false,
    "deepnote_app_block_visible": true,
    "cell_id": "fa6d0d4a4cea46e1b4fe10e39ae7b5b3",
    "deepnote_cell_type": "code"
   },
   "source": "dispositions[dispositions[\"account_id\"] == 3980]",
   "block_group": "4a30c65037704fdcbe5aa39674ab139f",
   "execution_count": null,
   "outputs": [],
   "outputs_reference": "s3:deepnote-cell-outputs-production/e3f364b6-c8ff-4fa6-8f12-e3107e799d82"
  },
  {
   "cell_type": "code",
   "metadata": {
    "source_hash": "1674503a",
    "execution_start": 1709987513423,
    "execution_millis": 337,
    "deepnote_to_be_reexecuted": false,
    "deepnote_app_block_visible": true,
    "cell_id": "f32ec84a55024ef8b881b7e682a98d7e",
    "deepnote_cell_type": "code"
   },
   "source": "# are there any cards issued to dispositions that are not of type 'OWNER'?\ncards[~cards['disp_id'].isin(dispositions[dispositions['type'] == \"OWNER\"]['disp_id'])]",
   "block_group": "2264b01107c243fdae9128f9802c99f2",
   "execution_count": null,
   "outputs": [],
   "outputs_reference": "s3:deepnote-cell-outputs-production/98ede107-b91c-46a6-bd97-beac420da233"
  },
  {
   "cell_type": "code",
   "metadata": {
    "source_hash": "c8825c0b",
    "execution_start": 1709987513432,
    "execution_millis": 328,
    "deepnote_to_be_reexecuted": false,
    "deepnote_app_block_visible": true,
    "cell_id": "fd5cecb3e67742ec8506e63ce431b440",
    "deepnote_cell_type": "code"
   },
   "source": "dispositions[dispositions['type'] != \"OWNER\"].head()",
   "block_group": "b2506272b80c4b16af5ae29f88dde974",
   "execution_count": null,
   "outputs": [],
   "outputs_reference": "s3:deepnote-cell-outputs-production/d93eaeea-22c5-43a7-a692-eeb7aae02775"
  },
  {
   "cell_type": "code",
   "metadata": {
    "source_hash": "124d9c3b",
    "execution_start": 1709987513441,
    "execution_millis": 320,
    "deepnote_to_be_reexecuted": false,
    "deepnote_app_block_visible": true,
    "cell_id": "e92b6f8e1fa14575a7de3e94a872d596",
    "deepnote_cell_type": "code"
   },
   "source": "# get all clients associated with account 3980\nclients[clients['client_id'].isin(dispositions[dispositions['account_id'] == 3980]['client_id'])]",
   "block_group": "9be62034e44d490b87e82dee37131050",
   "execution_count": null,
   "outputs": [],
   "outputs_reference": "s3:deepnote-cell-outputs-production/feba9e91-6235-40b9-865b-f0d9c61425cd"
  },
  {
   "cell_type": "markdown",
   "metadata": {
    "collapsed": false,
    "deepnote_app_block_visible": true,
    "cell_id": "62014f1301114fc5876f68eca21069d3",
    "deepnote_cell_type": "markdown"
   },
   "source": "# Merge non-transactional data",
   "block_group": "772f4a5e81bb44d99cbd9c72a3869eca"
  },
  {
   "cell_type": "code",
   "metadata": {
    "source_hash": "76e9a29e",
    "execution_start": 1709987513454,
    "execution_millis": 307,
    "deepnote_to_be_reexecuted": false,
    "deepnote_app_block_visible": true,
    "cell_id": "83bbc5f955a34e6aa3808aa24d050472",
    "deepnote_cell_type": "code"
   },
   "source": "orders_pivot = orders.pivot_table(index='account_id', \n                                 columns='k_symbol', \n                                 values='debited_amount',\n                                 aggfunc='sum', \n                                 fill_value=0)\n\norders_pivot.columns = [f'k_symbol_debited_sum_{col.lower()}' for col in orders_pivot.columns]\n\n# TODO: find something better than this\norders_pivot = orders_pivot.reset_index() # Use created index as account_id\norders_pivot.head()",
   "block_group": "f6daf5141ccf4f94b74fea9211c7a2d5",
   "execution_count": null,
   "outputs": [],
   "outputs_reference": "s3:deepnote-cell-outputs-production/061fde33-d5a0-4ae5-87d4-16fc6a8a3ced"
  },
  {
   "cell_type": "code",
   "metadata": {
    "collapsed": false,
    "source_hash": "2764b031",
    "execution_start": 1709987513475,
    "execution_millis": 286,
    "deepnote_to_be_reexecuted": false,
    "deepnote_app_block_visible": true,
    "cell_id": "7985d15a3bc24f99a08f21f232012173",
    "deepnote_cell_type": "code"
   },
   "source": "def merge_non_transactional_data(clients, districts, dispositions, accounts, orders, loans, cards):\n    # Rename district_id for clarity in clients and accounts DataFrames\n    clients = clients.rename(columns={'district_id': 'client_district_id'})\n    accounts = accounts.rename(columns={'district_id': 'account_district_id'})\n    \n    # Prepare districts dataframe for merge with prefix for clients and accounts\n    districts_client_prefixed = districts.add_prefix('client_')\n    districts_account_prefixed = districts.add_prefix('account_')\n    \n    # Merge district information for clients and accounts with prefixed columns\n    clients_with_districts = pd.merge(clients, districts_client_prefixed, left_on='client_district_id', right_on='client_district_id', how='left')\n    accounts_with_districts = pd.merge(accounts, districts_account_prefixed, left_on='account_district_id', right_on='account_district_id', how='left')\n\n    # Merge cards with dispositions and prefix card-related columns to avoid confusion\n    cards_prefixed = cards.add_prefix('card_')\n    dispositions_with_cards = pd.merge(dispositions, cards_prefixed, left_on='disp_id', right_on='card_disp_id', how='left')\n    \n    # Merge clients (with district info) with dispositions and cards\n    # Assuming dispositions might have columns that overlap with clients, prefix those if necessary\n    clients_dispositions_cards = pd.merge(dispositions_with_cards, clients_with_districts, on='client_id', how='left')\n    \n    # Merge the above with accounts (with district info) on account_id\n    accounts_clients_cards = pd.merge(accounts_with_districts, clients_dispositions_cards, on='account_id', how='left')\n    \n    # Merge orders DataFrame, assuming orders might contain columns that could overlap, prefix as needed\n    orders_prefixed = orders.add_prefix('order_')\n    comprehensive_df_with_orders = pd.merge(accounts_clients_cards, orders_prefixed, left_on='account_id', right_on='order_account_id', how='left')\n    \n    # Merge loans with the comprehensive dataframe (now including orders) on account_id\n    # Prefix loan-related columns to maintain clarity\n    loans_prefixed = loans.add_prefix('loan_')\n    final_df = pd.merge(comprehensive_df_with_orders, loans_prefixed, left_on='account_id', right_on='loan_account_id', how='left')\n    \n    return final_df\n\nnon_transactional_df = merge_non_transactional_data(clients, districts, dispositions, accounts, orders_pivot, loans, cards)\nnon_transactional_df.info()",
   "block_group": "1f59f4a36ed44cf4a763aa1f2da24d27",
   "execution_count": null,
   "outputs": [],
   "outputs_reference": "s3:deepnote-cell-outputs-production/4b4ae8bc-a45d-4d97-adba-d6c32b73657e"
  },
  {
   "cell_type": "markdown",
   "metadata": {
    "deepnote_app_block_visible": true,
    "cell_id": "8e7c9ee191ae47aa984f68cffe4d956d",
    "deepnote_cell_type": "markdown"
   },
   "source": "# Transactional Data",
   "block_group": "073f38f52257471aad640586f2c278e1"
  },
  {
   "cell_type": "markdown",
   "metadata": {
    "collapsed": false,
    "deepnote_app_block_visible": true,
    "cell_id": "b24a489b767844ef836fd1cdfa1b0f01",
    "deepnote_cell_type": "markdown"
   },
   "source": "# Model Construction",
   "block_group": "9e7c7ebe286b4072a4a847cb4b9a3ca3"
  },
  {
   "cell_type": "markdown",
   "metadata": {
    "collapsed": false,
    "deepnote_app_block_visible": true,
    "cell_id": "e17f12d4fb6c4d229254c6643a32b03f",
    "deepnote_cell_type": "markdown"
   },
   "source": "# Feature Engineering",
   "block_group": "e374362f5e424ba2960cc73e371c80fb"
  },
  {
   "cell_type": "markdown",
   "metadata": {
    "collapsed": false,
    "deepnote_app_block_visible": true,
    "cell_id": "4ba58e15b16d44b0a7c66a47cf498bbf",
    "deepnote_cell_type": "markdown"
   },
   "source": "# Model Engineering",
   "block_group": "9b651bd42a6f4807b1c79965f9bfd495"
  },
  {
   "cell_type": "markdown",
   "metadata": {
    "collapsed": false,
    "deepnote_app_block_visible": true,
    "cell_id": "a203aa44aad04b7ca6e4f774e2cf2c59",
    "deepnote_cell_type": "markdown"
   },
   "source": "# Model Comparison & Selection",
   "block_group": "5eb9a9a5e13045f0bf1f1ae01e99ff81"
  },
  {
   "cell_type": "markdown",
   "metadata": {
    "deepnote_app_block_visible": true,
    "cell_id": "4e848e8323d948e1b72e86c1a7b02828",
    "deepnote_cell_type": "markdown"
   },
   "source": "### JITT 05.03.24\n- New customers are handled differently\n- Customer without the required history should be ignored otherwise they are treated as irrelevant\n- Lag is ignored like (12 + 1) months\n- Age should be in relation to the time of the event (card issued / reference date for refrence clients)\n- How old are customers with a Junior Card? This should be evaluated based on the data\n    - Example with Junior Card model with Age as most important feature as a negative example\n- Reference clients\n    - They should not be as similar as possible (Twin brother problem)\n    - Same external market conditions\n    - Same environment\n    - See slide 6\n- Owner and disponents cannot be distinguished directly and assumptions are required\n    - MasterCards vs Visa war: as much cards as possible for both client of an account\n    - AGain the Twin brother problem as features are too similar possibly\n\n#### General notes to self\n- Visualise monthly product puchases\n- Viz environment of selected client and reference clients and answer the questions are they from a comparable environment",
   "block_group": "604ffe812ee84bc0bfad9159040419c5"
  },
  {
   "cell_type": "markdown",
   "source": "<a style='text-decoration:none;line-height:16px;display:flex;color:#5B5B62;padding:10px;justify-content:end;' href='https://deepnote.com?utm_source=created-in-deepnote-cell&projectId=7d865ccc-7b5c-4f8d-b4e6-4e008791345d' target=\"_blank\">\n<img alt='Created in deepnote.com' style='display:inline;max-height:16px;margin:0px;margin-right:7.5px;' src='data:image/svg+xml;base64,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' > </img>\nCreated in <span style='font-weight:600;margin-left:4px;'>Deepnote</span></a>",
   "metadata": {
    "created_in_deepnote_cell": true,
    "deepnote_cell_type": "markdown"
   }
  }
 ],
 "nbformat": 4,
 "nbformat_minor": 0,
 "metadata": {
  "deepnote_app_layout": "powerful-article",
  "deepnote_app_reactivity_enabled": true,
  "deepnote_notebook_id": "2ef3858b0ef64bcd97d256cee39e7aba",
  "deepnote_execution_queue": [],
  "kernelspec": {
   "name": "python3",
   "language": "python",
   "display_name": "Python 3 (ipykernel)"
  }
 }
}
